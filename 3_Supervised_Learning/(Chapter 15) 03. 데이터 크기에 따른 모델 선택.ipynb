{
 "cells": [
  {
   "cell_type": "code",
   "execution_count": 1,
   "metadata": {},
   "outputs": [],
   "source": [
    "# 데이터 경로 설정 및 데이터 불러오기\n",
    "import os\n",
    "os.chdir(r\"C:\\Users\\Gilseung\\Google 드라이브\\작업\\온라인 강의 머신러닝 성능 향상을 위한 데이터 탐색과 전처리 심화\\데이터\\실습 데이터 - #3 ~ #5\")\n",
    "\n",
    "import pandas as pd"
   ]
  },
  {
   "cell_type": "markdown",
   "metadata": {},
   "source": [
    "#### 데이터 크기에 따른 모델 선택: 특징 개수가 매우 적은 경우"
   ]
  },
  {
   "cell_type": "code",
   "execution_count": 2,
   "metadata": {},
   "outputs": [
    {
     "data": {
      "text/plain": [
       "(9568, 5)"
      ]
     },
     "execution_count": 2,
     "metadata": {},
     "output_type": "execute_result"
    }
   ],
   "source": [
    "# 데이터 불러오기\n",
    "import numpy as np\n",
    "df = pd.read_csv(\"Combined_Cycle_Power_Plant.csv\")\n",
    "df.shape"
   ]
  },
  {
   "cell_type": "code",
   "execution_count": 3,
   "metadata": {},
   "outputs": [],
   "source": [
    "# 특징과 라벨 분리\n",
    "X = df.drop('EP', axis = 1)\n",
    "Y = df['EP']"
   ]
  },
  {
   "cell_type": "code",
   "execution_count": 4,
   "metadata": {},
   "outputs": [],
   "source": [
    "# 모델 리스트 정의\n",
    "from sklearn.svm import SVR\n",
    "from sklearn.neural_network import MLPRegressor as MLP\n",
    "from sklearn.linear_model import LinearRegression as LR\n",
    "from sklearn.tree import DecisionTreeRegressor as DTR\n",
    "from sklearn.ensemble import RandomForestRegressor as RFR\n",
    "from sklearn.neighbors import KNeighborsRegressor as KNR\n",
    "\n",
    "# 공정한 비교를 위해 전부 default 값을 사용\n",
    "# random_state가 있는 모델은 모두 같은 값으로 설정\n",
    "\n",
    "SVR_model = SVR()\n",
    "MLP_model = MLP(random_state = 100)\n",
    "LR_model = LR()\n",
    "DTR_model = DTR(random_state = 100)\n",
    "RFR_model = RFR(random_state = 100)\n",
    "KNR_model = KNR()\n",
    "\n",
    "model_list = [SVR_model, MLP_model, LR_model, DTR_model, RFR_model, KNR_model]\n",
    "model_name_list = ['SVR', 'MLP', 'LR', 'DTR', 'RFR', 'KNR']"
   ]
  },
  {
   "cell_type": "code",
   "execution_count": 5,
   "metadata": {},
   "outputs": [
    {
     "name": "stdout",
     "output_type": "stream",
     "text": [
      "SVR 11.15624063928403\n",
      "MLP 3.9421874629947724\n",
      "LR 3.6282513807290444\n",
      "DTR 3.0464405292720267\n",
      "RFR 2.365834244467129\n",
      "KNR 2.9176435395285303\n"
     ]
    }
   ],
   "source": [
    "# 모델별 k겹 교차 검증 기반(k = 5)의 MAE값 계산\n",
    "from sklearn.model_selection import cross_val_score\n",
    "for (model, model_name) in zip(model_list, model_name_list):\n",
    "    score = -cross_val_score(model, X, Y, cv = 5, scoring = 'neg_mean_absolute_error').mean() # -MAE이므로 다시 -를 붙인 것\n",
    "    print(model_name, score)"
   ]
  },
  {
   "cell_type": "markdown",
   "metadata": {},
   "source": [
    "#### 샘플이 매우 적고, 특징이 상대적으로 많은 경우"
   ]
  },
  {
   "cell_type": "code",
   "execution_count": 4,
   "metadata": {},
   "outputs": [],
   "source": [
    "# 데이터 불러오기\n",
    "import pandas as pd\n",
    "df = pd.read_csv(\"baseball.csv\")"
   ]
  },
  {
   "cell_type": "code",
   "execution_count": 5,
   "metadata": {},
   "outputs": [
    {
     "data": {
      "text/plain": [
       "(337, 17)"
      ]
     },
     "execution_count": 5,
     "metadata": {},
     "output_type": "execute_result"
    }
   ],
   "source": [
    "df.shape"
   ]
  },
  {
   "cell_type": "code",
   "execution_count": 7,
   "metadata": {},
   "outputs": [],
   "source": [
    "# 특징과 라벨 분리\n",
    "X = df.drop('Salary', axis = 1)\n",
    "Y = df['Salary']"
   ]
  },
  {
   "cell_type": "code",
   "execution_count": 8,
   "metadata": {},
   "outputs": [],
   "source": [
    "# 모델 리스트 정의\n",
    "from sklearn.svm import SVR\n",
    "from sklearn.neural_network import MLPRegressor as MLP\n",
    "from sklearn.linear_model import LinearRegression as LR\n",
    "from sklearn.tree import DecisionTreeRegressor as DTR\n",
    "from sklearn.ensemble import RandomForestRegressor as RFR\n",
    "from sklearn.neighbors import KNeighborsRegressor as KNR\n",
    "\n",
    "# 공정한 비교를 위해 전부 default 값을 사용\n",
    "# random_state가 있는 모델은 모두 같은 값으로 설정\n",
    "\n",
    "SVR_model = SVR()\n",
    "MLP_model = MLP(random_state = 100)\n",
    "LR_model = LR()\n",
    "DTR_model = DTR(random_state = 100)\n",
    "RFR_model = RFR(random_state = 100)\n",
    "KNR_model = KNR()\n",
    "\n",
    "model_list = [SVR_model, MLP_model, LR_model, DTR_model, RFR_model, KNR_model]\n",
    "model_name_list = ['SVR', 'MLP', 'LR', 'DTR', 'RFR', 'KNR']"
   ]
  },
  {
   "cell_type": "code",
   "execution_count": 9,
   "metadata": {},
   "outputs": [
    {
     "name": "stdout",
     "output_type": "stream",
     "text": [
      "SVR 940.1650397834104\n"
     ]
    },
    {
     "name": "stderr",
     "output_type": "stream",
     "text": [
      "C:\\Users\\GilseungAhn\\AppData\\Roaming\\Python\\Python36\\site-packages\\sklearn\\neural_network\\_multilayer_perceptron.py:585: ConvergenceWarning: Stochastic Optimizer: Maximum iterations (200) reached and the optimization hasn't converged yet.\n",
      "  % self.max_iter, ConvergenceWarning)\n",
      "C:\\Users\\GilseungAhn\\AppData\\Roaming\\Python\\Python36\\site-packages\\sklearn\\neural_network\\_multilayer_perceptron.py:585: ConvergenceWarning: Stochastic Optimizer: Maximum iterations (200) reached and the optimization hasn't converged yet.\n",
      "  % self.max_iter, ConvergenceWarning)\n",
      "C:\\Users\\GilseungAhn\\AppData\\Roaming\\Python\\Python36\\site-packages\\sklearn\\neural_network\\_multilayer_perceptron.py:585: ConvergenceWarning: Stochastic Optimizer: Maximum iterations (200) reached and the optimization hasn't converged yet.\n",
      "  % self.max_iter, ConvergenceWarning)\n",
      "C:\\Users\\GilseungAhn\\AppData\\Roaming\\Python\\Python36\\site-packages\\sklearn\\neural_network\\_multilayer_perceptron.py:585: ConvergenceWarning: Stochastic Optimizer: Maximum iterations (200) reached and the optimization hasn't converged yet.\n",
      "  % self.max_iter, ConvergenceWarning)\n",
      "C:\\Users\\GilseungAhn\\AppData\\Roaming\\Python\\Python36\\site-packages\\sklearn\\neural_network\\_multilayer_perceptron.py:585: ConvergenceWarning: Stochastic Optimizer: Maximum iterations (200) reached and the optimization hasn't converged yet.\n",
      "  % self.max_iter, ConvergenceWarning)\n"
     ]
    },
    {
     "name": "stdout",
     "output_type": "stream",
     "text": [
      "MLP 710.1436141313578\n",
      "LR 539.567114538396\n",
      "DTR 573.3383230904303\n",
      "RFR 467.4962985074626\n",
      "KNR 651.0923792800702\n"
     ]
    }
   ],
   "source": [
    "# 모델별 k겹 교차 검증 기반(k = 5)의 MAE값 계산\n",
    "# SVR의 성능이 최악\n",
    "# MLP에서 max_iter 이슈 발생\n",
    "from sklearn.model_selection import cross_val_score\n",
    "for (model, model_name) in zip(model_list, model_name_list):\n",
    "    score = - cross_val_score(model, X, Y, cv = 5, scoring = 'neg_mean_absolute_error').mean() # -MAE이므로 다시 -를 붙인 것\n",
    "    print(model_name, score)"
   ]
  }
 ],
 "metadata": {
  "kernelspec": {
   "display_name": "Python 3",
   "language": "python",
   "name": "python3"
  },
  "language_info": {
   "codemirror_mode": {
    "name": "ipython",
    "version": 3
   },
   "file_extension": ".py",
   "mimetype": "text/x-python",
   "name": "python",
   "nbconvert_exporter": "python",
   "pygments_lexer": "ipython3",
   "version": "3.6.4"
  }
 },
 "nbformat": 4,
 "nbformat_minor": 2
}

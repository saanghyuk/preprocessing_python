{
 "cells": [
  {
   "cell_type": "markdown",
   "metadata": {},
   "source": [
    "#### ParameterGrid 기초"
   ]
  },
  {
   "cell_type": "code",
   "execution_count": 2,
   "metadata": {},
   "outputs": [
    {
     "data": {
      "text/plain": [
       "[{'metric': 'Manhattan', 'n_neighbors': 3},\n",
       " {'metric': 'Manhattan', 'n_neighbors': 5},\n",
       " {'metric': 'Manhattan', 'n_neighbors': 7},\n",
       " {'metric': 'Euclidean', 'n_neighbors': 3},\n",
       " {'metric': 'Euclidean', 'n_neighbors': 5},\n",
       " {'metric': 'Euclidean', 'n_neighbors': 7}]"
      ]
     },
     "execution_count": 2,
     "metadata": {},
     "output_type": "execute_result"
    }
   ],
   "source": [
    "from sklearn.model_selection import ParameterGrid\n",
    "\n",
    "grid = {\"n_neighbors\": [3, 5, 7],\n",
    "        \"metric\": [\"Manhattan\", \"Euclidean\"]}\n",
    "\n",
    "#ParameterGrid(grid)\n",
    "list(ParameterGrid(grid))"
   ]
  },
  {
   "cell_type": "markdown",
   "metadata": {},
   "source": [
    "#### 함수의 입력으로 사전을 입력받기: **의 사용"
   ]
  },
  {
   "cell_type": "code",
   "execution_count": 3,
   "metadata": {},
   "outputs": [
    {
     "data": {
      "text/plain": [
       "3"
      ]
     },
     "execution_count": 3,
     "metadata": {},
     "output_type": "execute_result"
    }
   ],
   "source": [
    "def f(a, b):\n",
    "    return a + b\n",
    "\n",
    "input_f = {\"a\": 1, \"b\": 2}\n",
    "#input_f = {\"b\": 2, \"a\": 1}\n",
    "f(**input_f)"
   ]
  },
  {
   "cell_type": "markdown",
   "metadata": {},
   "source": [
    "#### 최대값 찾기 알고리즘 예시"
   ]
  },
  {
   "cell_type": "code",
   "execution_count": 7,
   "metadata": {},
   "outputs": [
    {
     "name": "stdout",
     "output_type": "stream",
     "text": [
      "10 -999999\n",
      "20 10\n",
      "30 20\n",
      "10 30\n",
      "20 30\n",
      "30\n"
     ]
    }
   ],
   "source": [
    "L = [10, 20, 30, 10, 20]\n",
    "max_value = -999999  # 매우 작은 값으로 설정\n",
    "for value in L:    # Value_list를 순서대로 탐색\n",
    "    print(value, max_value)\n",
    "    if max_value < value:\n",
    "        max_value = value # 탐색한 값이 현재 최대 값보다 크면 업데이트\n",
    "\n",
    "print(max_value)"
   ]
  },
  {
   "cell_type": "markdown",
   "metadata": {},
   "source": [
    "#### 최소값 찾기 알고리즘 예시"
   ]
  },
  {
   "cell_type": "code",
   "execution_count": 8,
   "metadata": {},
   "outputs": [
    {
     "name": "stdout",
     "output_type": "stream",
     "text": [
      "10\n"
     ]
    }
   ],
   "source": [
    "L = [10, 20, 30, 10, 20]\n",
    "min_value = 999999  # 매우 큰 값으로 설정\n",
    "for value in L:    # Value_list를 순서대로 탐색\n",
    "\tif min_value > value:\n",
    "\t\tmin_value = value # 탐색한 값이 현재 최소 값보다 작으면 업데이트\n",
    "\n",
    "print(min_value)"
   ]
  },
  {
   "cell_type": "markdown",
   "metadata": {},
   "source": [
    "#### 그리드 서치 실습 예제\n",
    "- 사용 데이터: iris dataset (sklearn 제공 데이터)<br><br>\n",
    "- 사용 모델: (1) k-최근접 이웃\n",
    "    - n_neighbors (3, 5, 7)\n",
    "    - metric (euclidean, manhattan)<br><br>\n",
    "- 사용 모델: (2) 서포트 벡터 머신\n",
    "    - kernel: rbf, linear\n",
    "    - C: 0.1, 1, 10\n",
    "<br><br>\n",
    "- 평가 척도: F1 score"
   ]
  },
  {
   "cell_type": "code",
   "execution_count": 9,
   "metadata": {},
   "outputs": [],
   "source": [
    "# 예제 데이터 불러오기\n",
    "from sklearn.datasets import load_iris\n",
    "X = load_iris()['data'] # feature\n",
    "Y = load_iris()['target'] # label"
   ]
  },
  {
   "cell_type": "code",
   "execution_count": 10,
   "metadata": {},
   "outputs": [],
   "source": [
    "# 학습 데이터와 평가 데이터 분할\n",
    "from sklearn.model_selection import train_test_split\n",
    "Train_X, Test_X, Train_Y, Test_Y = train_test_split(X, Y)"
   ]
  },
  {
   "cell_type": "code",
   "execution_count": 11,
   "metadata": {},
   "outputs": [
    {
     "data": {
      "text/plain": [
       "(112, 4)"
      ]
     },
     "execution_count": 11,
     "metadata": {},
     "output_type": "execute_result"
    }
   ],
   "source": [
    "Train_X.shape"
   ]
  },
  {
   "cell_type": "code",
   "execution_count": 12,
   "metadata": {},
   "outputs": [
    {
     "data": {
      "text/plain": [
       "(38, 4)"
      ]
     },
     "execution_count": 12,
     "metadata": {},
     "output_type": "execute_result"
    }
   ],
   "source": [
    "Test_X.shape"
   ]
  },
  {
   "cell_type": "code",
   "execution_count": 7,
   "metadata": {},
   "outputs": [],
   "source": [
    "# 모델 불러오기\n",
    "from sklearn.neighbors import KNeighborsClassifier as KNN\n",
    "from sklearn.svm import SVC"
   ]
  },
  {
   "cell_type": "code",
   "execution_count": 8,
   "metadata": {},
   "outputs": [],
   "source": [
    "# 파라미터 그리드 생성\n",
    "param_grid = dict() \n",
    "# 입력: 모델 함수, 출력: 모델의 하이퍼 파라미터 그리드\n",
    "\n",
    "# 모델별 파라미터 그리드 생성\n",
    "param_grid_for_knn = ParameterGrid({\"n_neighbors\": [3, 5, 7],\n",
    "                           \"metric\":['euclidean', 'manhattan']})\n",
    "\n",
    "param_grid_for_svm = ParameterGrid({\"C\": [0.1, 1, 10],\n",
    "                           \"kernel\":['rbf', 'linear']})\n",
    "\n",
    "# 모델 - 하이퍼 파라미터 그리드를 param_grid에 추가\n",
    "param_grid[KNN] = param_grid_for_knn\n",
    "param_grid[SVC] = param_grid_for_svm"
   ]
  },
  {
   "cell_type": "code",
   "execution_count": 9,
   "metadata": {},
   "outputs": [],
   "source": [
    "# 하이퍼 파라미터 튜닝 \n",
    "best_score = -1 # 현재까지 찾은 가장 높은 f1_score (f1 score는 절대 0보다 작을수 없기에, -1로 설정해도 무방)\n",
    "\n",
    "from sklearn.metrics import f1_score\n",
    "\n",
    "for model_func in [KNN, SVC]:\n",
    "    for param in param_grid[model_func]:\n",
    "        model = model_func(**param).fit(Train_X, Train_Y)\n",
    "        pred_Y = model.predict(Test_X)        \n",
    "        score = f1_score(Test_Y, pred_Y, average = 'micro')\n",
    "        \n",
    "        if score > best_score: \n",
    "            # 현재 점수가 지금까지 찾은 최고 점수보다 좋으면, 최고 모델, 파라미터, 점수 업데이트\n",
    "            best_model_func = model_func\n",
    "            best_score = score\n",
    "            best_param = param\n",
    "            \n",
    "            # best_model = model"
   ]
  },
  {
   "cell_type": "code",
   "execution_count": 10,
   "metadata": {},
   "outputs": [
    {
     "name": "stdout",
     "output_type": "stream",
     "text": [
      "모델: <class 'sklearn.svm._classes.SVC'>\n",
      "점수: 0.9736842105263158\n",
      "파라미터: {'C': 1, 'kernel': 'rbf'}\n"
     ]
    }
   ],
   "source": [
    "print(\"모델:\", best_model_func)\n",
    "print(\"점수:\", best_score)\n",
    "print(\"파라미터:\", best_param)"
   ]
  },
  {
   "cell_type": "code",
   "execution_count": 11,
   "metadata": {},
   "outputs": [],
   "source": [
    "# 최종 모델 학습: 전체 X와 전체 Y에 대해.\n",
    "final_model = best_model_func(**best_param).fit(X, Y)"
   ]
  }
 ],
 "metadata": {
  "kernelspec": {
   "display_name": "Python 3",
   "language": "python",
   "name": "python3"
  },
  "language_info": {
   "codemirror_mode": {
    "name": "ipython",
    "version": 3
   },
   "file_extension": ".py",
   "mimetype": "text/x-python",
   "name": "python",
   "nbconvert_exporter": "python",
   "pygments_lexer": "ipython3",
   "version": "3.6.4"
  }
 },
 "nbformat": 4,
 "nbformat_minor": 2
}

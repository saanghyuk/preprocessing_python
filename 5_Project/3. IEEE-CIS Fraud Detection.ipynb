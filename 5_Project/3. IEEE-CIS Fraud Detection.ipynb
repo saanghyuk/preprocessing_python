{
 "cells": [
  {
   "cell_type": "markdown",
   "metadata": {},
   "source": [
    "## 1. 데이터 불러오기 및 기본 설정"
   ]
  },
  {
   "cell_type": "code",
   "execution_count": 89,
   "metadata": {},
   "outputs": [],
   "source": [
    "import os\n",
    "import pandas as pd\n",
    "import numpy as np\n",
    "os.chdir(r\"/Users/sanghyuk/Documents/preprocessing_python/lecture_source/6.-실전-머신러닝-프로젝트/6. 실전 머신러닝 프로젝트/25. IEEE-CIS Fraud Detection/데이터\")\n",
    "\n",
    "%matplotlib inline\n",
    "import matplotlib.pyplot as plt\n",
    "plt.rcParams[\"font.family\"] = 'Malgun Gothic'\n",
    "plt.rcParams[\"font.size\"] = 15\n",
    "plt.rcParams[\"figure.figsize\"] = (20, 5)\n",
    "\n",
    "import warnings\n",
    "warnings.filterwarnings(\"ignore\")"
   ]
  },
  {
   "cell_type": "markdown",
   "metadata": {},
   "source": [
    "#### 1.1 데이터 불러오기 및 불필요한 변수 삭제"
   ]
  },
  {
   "cell_type": "code",
   "execution_count": 90,
   "metadata": {},
   "outputs": [],
   "source": [
    "df = pd.read_csv(\"sampled_train_transaction.csv\")"
   ]
  },
  {
   "cell_type": "code",
   "execution_count": 91,
   "metadata": {},
   "outputs": [
    {
     "data": {
      "text/html": [
       "<div>\n",
       "<style scoped>\n",
       "    .dataframe tbody tr th:only-of-type {\n",
       "        vertical-align: middle;\n",
       "    }\n",
       "\n",
       "    .dataframe tbody tr th {\n",
       "        vertical-align: top;\n",
       "    }\n",
       "\n",
       "    .dataframe thead th {\n",
       "        text-align: right;\n",
       "    }\n",
       "</style>\n",
       "<table border=\"1\" class=\"dataframe\">\n",
       "  <thead>\n",
       "    <tr style=\"text-align: right;\">\n",
       "      <th></th>\n",
       "      <th>TransactionID</th>\n",
       "      <th>isFraud</th>\n",
       "      <th>TransactionDT</th>\n",
       "      <th>TransactionAmt</th>\n",
       "      <th>ProductCD</th>\n",
       "      <th>card1</th>\n",
       "      <th>card2</th>\n",
       "      <th>card3</th>\n",
       "      <th>card4</th>\n",
       "      <th>card5</th>\n",
       "      <th>...</th>\n",
       "      <th>C14</th>\n",
       "      <th>M1</th>\n",
       "      <th>M2</th>\n",
       "      <th>M3</th>\n",
       "      <th>M4</th>\n",
       "      <th>M5</th>\n",
       "      <th>M6</th>\n",
       "      <th>M7</th>\n",
       "      <th>M8</th>\n",
       "      <th>M9</th>\n",
       "    </tr>\n",
       "  </thead>\n",
       "  <tbody>\n",
       "    <tr>\n",
       "      <th>0</th>\n",
       "      <td>2987000</td>\n",
       "      <td>0</td>\n",
       "      <td>86400</td>\n",
       "      <td>68.5</td>\n",
       "      <td>W</td>\n",
       "      <td>13926</td>\n",
       "      <td>NaN</td>\n",
       "      <td>150.0</td>\n",
       "      <td>discover</td>\n",
       "      <td>142.0</td>\n",
       "      <td>...</td>\n",
       "      <td>1.0</td>\n",
       "      <td>T</td>\n",
       "      <td>T</td>\n",
       "      <td>T</td>\n",
       "      <td>M2</td>\n",
       "      <td>F</td>\n",
       "      <td>T</td>\n",
       "      <td>NaN</td>\n",
       "      <td>NaN</td>\n",
       "      <td>NaN</td>\n",
       "    </tr>\n",
       "    <tr>\n",
       "      <th>1</th>\n",
       "      <td>2987001</td>\n",
       "      <td>0</td>\n",
       "      <td>86401</td>\n",
       "      <td>29.0</td>\n",
       "      <td>W</td>\n",
       "      <td>2755</td>\n",
       "      <td>404.0</td>\n",
       "      <td>150.0</td>\n",
       "      <td>mastercard</td>\n",
       "      <td>102.0</td>\n",
       "      <td>...</td>\n",
       "      <td>1.0</td>\n",
       "      <td>NaN</td>\n",
       "      <td>NaN</td>\n",
       "      <td>NaN</td>\n",
       "      <td>M0</td>\n",
       "      <td>T</td>\n",
       "      <td>T</td>\n",
       "      <td>NaN</td>\n",
       "      <td>NaN</td>\n",
       "      <td>NaN</td>\n",
       "    </tr>\n",
       "    <tr>\n",
       "      <th>2</th>\n",
       "      <td>2987002</td>\n",
       "      <td>0</td>\n",
       "      <td>86469</td>\n",
       "      <td>59.0</td>\n",
       "      <td>W</td>\n",
       "      <td>4663</td>\n",
       "      <td>490.0</td>\n",
       "      <td>150.0</td>\n",
       "      <td>visa</td>\n",
       "      <td>166.0</td>\n",
       "      <td>...</td>\n",
       "      <td>1.0</td>\n",
       "      <td>T</td>\n",
       "      <td>T</td>\n",
       "      <td>T</td>\n",
       "      <td>M0</td>\n",
       "      <td>F</td>\n",
       "      <td>F</td>\n",
       "      <td>F</td>\n",
       "      <td>F</td>\n",
       "      <td>F</td>\n",
       "    </tr>\n",
       "    <tr>\n",
       "      <th>3</th>\n",
       "      <td>2987003</td>\n",
       "      <td>0</td>\n",
       "      <td>86499</td>\n",
       "      <td>50.0</td>\n",
       "      <td>W</td>\n",
       "      <td>18132</td>\n",
       "      <td>567.0</td>\n",
       "      <td>150.0</td>\n",
       "      <td>mastercard</td>\n",
       "      <td>117.0</td>\n",
       "      <td>...</td>\n",
       "      <td>1.0</td>\n",
       "      <td>NaN</td>\n",
       "      <td>NaN</td>\n",
       "      <td>NaN</td>\n",
       "      <td>M0</td>\n",
       "      <td>T</td>\n",
       "      <td>F</td>\n",
       "      <td>NaN</td>\n",
       "      <td>NaN</td>\n",
       "      <td>NaN</td>\n",
       "    </tr>\n",
       "    <tr>\n",
       "      <th>4</th>\n",
       "      <td>2987004</td>\n",
       "      <td>0</td>\n",
       "      <td>86506</td>\n",
       "      <td>50.0</td>\n",
       "      <td>H</td>\n",
       "      <td>4497</td>\n",
       "      <td>514.0</td>\n",
       "      <td>150.0</td>\n",
       "      <td>mastercard</td>\n",
       "      <td>102.0</td>\n",
       "      <td>...</td>\n",
       "      <td>1.0</td>\n",
       "      <td>NaN</td>\n",
       "      <td>NaN</td>\n",
       "      <td>NaN</td>\n",
       "      <td>NaN</td>\n",
       "      <td>NaN</td>\n",
       "      <td>NaN</td>\n",
       "      <td>NaN</td>\n",
       "      <td>NaN</td>\n",
       "      <td>NaN</td>\n",
       "    </tr>\n",
       "  </tbody>\n",
       "</table>\n",
       "<p>5 rows × 36 columns</p>\n",
       "</div>"
      ],
      "text/plain": [
       "   TransactionID  isFraud  TransactionDT  TransactionAmt ProductCD  card1  \\\n",
       "0        2987000        0          86400            68.5         W  13926   \n",
       "1        2987001        0          86401            29.0         W   2755   \n",
       "2        2987002        0          86469            59.0         W   4663   \n",
       "3        2987003        0          86499            50.0         W  18132   \n",
       "4        2987004        0          86506            50.0         H   4497   \n",
       "\n",
       "   card2  card3       card4  card5  ...  C14   M1   M2   M3   M4   M5   M6  \\\n",
       "0    NaN  150.0    discover  142.0  ...  1.0    T    T    T   M2    F    T   \n",
       "1  404.0  150.0  mastercard  102.0  ...  1.0  NaN  NaN  NaN   M0    T    T   \n",
       "2  490.0  150.0        visa  166.0  ...  1.0    T    T    T   M0    F    F   \n",
       "3  567.0  150.0  mastercard  117.0  ...  1.0  NaN  NaN  NaN   M0    T    F   \n",
       "4  514.0  150.0  mastercard  102.0  ...  1.0  NaN  NaN  NaN  NaN  NaN  NaN   \n",
       "\n",
       "    M7   M8   M9  \n",
       "0  NaN  NaN  NaN  \n",
       "1  NaN  NaN  NaN  \n",
       "2    F    F    F  \n",
       "3  NaN  NaN  NaN  \n",
       "4  NaN  NaN  NaN  \n",
       "\n",
       "[5 rows x 36 columns]"
      ]
     },
     "execution_count": 91,
     "metadata": {},
     "output_type": "execute_result"
    }
   ],
   "source": [
    "df.head()"
   ]
  },
  {
   "cell_type": "code",
   "execution_count": 92,
   "metadata": {},
   "outputs": [],
   "source": [
    "df.drop(['TransactionID', 'TransactionDT'], axis = 1, inplace = True) # 도메인 지식하에, 불필요한 변수라 판단하여 삭제"
   ]
  },
  {
   "cell_type": "markdown",
   "metadata": {},
   "source": [
    "#### 1.2 데이터 분리"
   ]
  },
  {
   "cell_type": "code",
   "execution_count": 93,
   "metadata": {},
   "outputs": [],
   "source": [
    "X = df.drop(['isFraud'], axis = 1)\n",
    "Y = df['isFraud']\n",
    "\n",
    "from sklearn.model_selection import train_test_split\n",
    "Train_X, Test_X, Train_Y, Test_Y = train_test_split(X, Y)"
   ]
  },
  {
   "cell_type": "markdown",
   "metadata": {},
   "source": [
    "## 2. 변수 탐색"
   ]
  },
  {
   "cell_type": "markdown",
   "metadata": {},
   "source": [
    "#### 2.1 라벨 확인\n",
    "- 사기 거래가 아닌 거래가 전체 거래의 97.4%를 차지\n",
    "- 클래스 불균형 문제가 발생할 확률이 매우 높아보임"
   ]
  },
  {
   "cell_type": "code",
   "execution_count": 11,
   "metadata": {
    "scrolled": true
   },
   "outputs": [
    {
     "data": {
      "text/plain": [
       "0    0.974733\n",
       "1    0.025267\n",
       "Name: isFraud, dtype: float64"
      ]
     },
     "execution_count": 11,
     "metadata": {},
     "output_type": "execute_result"
    }
   ],
   "source": [
    "Train_Y.value_counts(normalize = True)"
   ]
  },
  {
   "cell_type": "code",
   "execution_count": 12,
   "metadata": {},
   "outputs": [
    {
     "data": {
      "text/plain": [
       "0    73105\n",
       "1     1895\n",
       "Name: isFraud, dtype: int64"
      ]
     },
     "execution_count": 12,
     "metadata": {},
     "output_type": "execute_result"
    }
   ],
   "source": [
    "Train_Y.value_counts(normalize = False)"
   ]
  },
  {
   "cell_type": "markdown",
   "metadata": {},
   "source": [
    "#### 2.2 변수별 상태 공간 확인: 컬럼별 유니크한 값 일부 확인\n",
    "\n",
    "탐색 내용 <br>\n",
    "- TransactionAmt는 연속형 변수임이 확실해보임 (히스토그램 등으로 확인)\n",
    "- ProductCD, card4, card6은 범주형 변수임이 확실해보임 (결측 포함)\n",
    "- P_emaildomain, R_emaildomain은 구매자의 이메일 도메인으로 보임. 직관적으로 봤을 때, 유의한 의미가 있을지 의심되며, 둘은 관계가 있을 것으로 보임\n",
    "- card1, card2, card3, card5은 연속형 변수임이 확실해보임 (히스토그램 등으로 확인)\n",
    "- 많은 변수에서 결측이 포함되어 있음\n",
    "- C3를 제외한 C1 ~ C14는 모두 연속형 변수인 것으로 보임. 비식별화되어 있어 대략적인 의미라도 추측을 해야 함\n",
    "- 결측이 매우 많아, 곧바로 대체하기에는 부담이 있어, 결측 분포 확인 필요\n",
    "- M1 ~ M9는 매칭 정보이며, 전부 범주형 변수임이 확실함. T는 매칭됨, F는 매칭되지 않음을 나타내는 것으로 보이며, 모두 결측이 포함"
   ]
  },
  {
   "cell_type": "code",
   "execution_count": 17,
   "metadata": {},
   "outputs": [
    {
     "name": "stdout",
     "output_type": "stream",
     "text": [
      "변수: TransactionAmt, 타입: float64, 결측 개수: 0, 상태공간 크기: 5424, 상태공간 일부: [226.     59.      5.947  44.541  39.   ]\n",
      "변수: ProductCD, 타입: object, 결측 개수: 0, 상태공간 크기: 5, 상태공간 일부: ['W' 'C' 'H' 'S' 'R']\n",
      "변수: card1, 타입: int64, 결측 개수: 0, 상태공간 크기: 6853, 상태공간 일부: [ 9749 12544 15885  8007 10616]\n",
      "변수: card2, 타입: float64, 결측 개수: 1003, 상태공간 크기: 499, 상태공간 일부: [528. 321. 545. 555. 583.]\n",
      "변수: card3, 타입: float64, 결측 개수: 2, 상태공간 크기: 73, 상태공간 일부: [150. 185. 144. 117. 100.]\n",
      "변수: card4, 타입: object, 결측 개수: 5, 상태공간 크기: 5, 상태공간 일부: ['visa' 'mastercard' 'american express' 'discover' nan]\n",
      "변수: card5, 타입: float64, 결측 개수: 387, 상태공간 크기: 86, 상태공간 일부: [226. 138. 224. 195. 129.]\n",
      "변수: card6, 타입: object, 결측 개수: 3, 상태공간 크기: 5, 상태공간 일부: ['credit' 'debit' 'debit or credit' 'charge card' nan]\n",
      "변수: P_emaildomain, 타입: object, 결측 개수: 11631, 상태공간 크기: 60, 상태공간 일부: [nan 'gmail.com' 'outlook.com' 'hotmail.com' 'yahoo.com']\n",
      "변수: R_emaildomain, 타입: object, 결측 개수: 48982, 상태공간 크기: 61, 상태공간 일부: [nan 'outlook.com' 'hotmail.com' 'anonymous.com' 'yahoo.com']\n",
      "변수: C1, 타입: float64, 결측 개수: 0, 상태공간 크기: 1232, 상태공간 일부: [8.000e+00 5.000e+00 3.729e+03 1.000e+00 2.000e+00]\n",
      "변수: C2, 타입: float64, 결측 개수: 0, 상태공간 크기: 814, 상태공간 일부: [2.000e+00 5.000e+00 4.089e+03 1.000e+00 3.000e+00]\n",
      "변수: C3, 타입: float64, 결측 개수: 0, 상태공간 크기: 6, 상태공간 일부: [0. 1. 2. 3. 9.]\n",
      "변수: C4, 타입: float64, 결측 개수: 0, 상태공간 크기: 957, 상태공간 일부: [0.000e+00 1.808e+03 1.000e+00 5.000e+00 2.000e+00]\n",
      "변수: C5, 타입: float64, 결측 개수: 0, 상태공간 크기: 243, 상태공간 일부: [ 1.  0.  2.  3. 68.]\n",
      "변수: C6, 타입: float64, 결측 개수: 0, 상태공간 크기: 1056, 상태공간 일부: [3.000e+00 4.000e+00 1.808e+03 1.000e+00 0.000e+00]\n",
      "변수: C7, 타입: float64, 결측 개수: 0, 상태공간 크기: 848, 상태공간 일부: [0.000e+00 1.809e+03 1.000e+00 1.522e+03 9.570e+02]\n",
      "변수: C8, 타입: float64, 결측 개수: 0, 상태공간 크기: 921, 상태공간 일부: [0.000e+00 2.793e+03 1.000e+00 1.700e+01 5.000e+00]\n",
      "변수: C9, 타입: float64, 결측 개수: 0, 상태공간 크기: 161, 상태공간 일부: [4. 5. 0. 2. 1.]\n",
      "변수: C10, 타입: float64, 결측 개수: 0, 상태공간 크기: 890, 상태공간 일부: [0.000e+00 2.716e+03 1.000e+00 1.070e+02 4.000e+00]\n",
      "변수: C11, 타입: float64, 결측 개수: 0, 상태공간 크기: 1130, 상태공간 일부: [3.000e+00 5.000e+00 2.534e+03 1.000e+00 6.000e+00]\n",
      "변수: C12, 타입: float64, 결측 개수: 0, 상태공간 크기: 882, 상태공간 일부: [0.000e+00 2.534e+03 1.000e+00 2.186e+03 2.000e+00]\n",
      "변수: C13, 타입: float64, 결측 개수: 0, 상태공간 크기: 1309, 상태공간 일부: [1.400e+01 8.000e+00 2.411e+03 1.000e+00 2.000e+00]\n",
      "변수: C14, 타입: float64, 결측 개수: 0, 상태공간 크기: 928, 상태공간 일부: [6.000e+00 5.000e+00 1.178e+03 1.000e+00 2.000e+00]\n",
      "변수: M1, 타입: object, 결측 개수: 51388, 상태공간 크기: 2, 상태공간 일부: ['T' nan]\n",
      "변수: M2, 타입: object, 결측 개수: 51388, 상태공간 크기: 3, 상태공간 일부: ['F' 'T' nan]\n",
      "변수: M3, 타입: object, 결측 개수: 51388, 상태공간 크기: 3, 상태공간 일부: ['F' 'T' nan]\n",
      "변수: M4, 타입: object, 결측 개수: 43178, 상태공간 크기: 4, 상태공간 일부: ['M0' 'M2' nan 'M1']\n",
      "변수: M5, 타입: object, 결측 개수: 51645, 상태공간 크기: 3, 상태공간 일부: ['F' 'T' nan]\n",
      "변수: M6, 타입: object, 결측 개수: 34310, 상태공간 크기: 3, 상태공간 일부: ['F' nan 'T']\n",
      "변수: M7, 타입: object, 결측 개수: 62961, 상태공간 크기: 3, 상태공간 일부: ['F' nan 'T']\n",
      "변수: M8, 타입: object, 결측 개수: 62961, 상태공간 크기: 3, 상태공간 일부: ['F' 'T' nan]\n",
      "변수: M9, 타입: object, 결측 개수: 62961, 상태공간 크기: 3, 상태공간 일부: ['F' 'T' nan]\n"
     ]
    }
   ],
   "source": [
    "for col in Train_X.columns:\n",
    "    print(\"변수: {}, 타입: {}, 결측 개수: {}, 상태공간 크기: {}, 상태공간 일부: {}\".format(col, Train_X[col].dtype, Train_X[col].isnull().sum(), len(Train_X[col].unique()), Train_X[col].unique()[:5]))\n",
    "    "
   ]
  },
  {
   "cell_type": "markdown",
   "metadata": {},
   "source": [
    "#### 2.3 탐색을 위한 데이터 준비: 특징과 라벨 데이터 병합"
   ]
  },
  {
   "cell_type": "code",
   "execution_count": 18,
   "metadata": {
    "scrolled": true
   },
   "outputs": [
    {
     "data": {
      "text/html": [
       "<div>\n",
       "<style scoped>\n",
       "    .dataframe tbody tr th:only-of-type {\n",
       "        vertical-align: middle;\n",
       "    }\n",
       "\n",
       "    .dataframe tbody tr th {\n",
       "        vertical-align: top;\n",
       "    }\n",
       "\n",
       "    .dataframe thead th {\n",
       "        text-align: right;\n",
       "    }\n",
       "</style>\n",
       "<table border=\"1\" class=\"dataframe\">\n",
       "  <thead>\n",
       "    <tr style=\"text-align: right;\">\n",
       "      <th></th>\n",
       "      <th>TransactionAmt</th>\n",
       "      <th>ProductCD</th>\n",
       "      <th>card1</th>\n",
       "      <th>card2</th>\n",
       "      <th>card3</th>\n",
       "      <th>card4</th>\n",
       "      <th>card5</th>\n",
       "      <th>card6</th>\n",
       "      <th>P_emaildomain</th>\n",
       "      <th>R_emaildomain</th>\n",
       "      <th>...</th>\n",
       "      <th>M1</th>\n",
       "      <th>M2</th>\n",
       "      <th>M3</th>\n",
       "      <th>M4</th>\n",
       "      <th>M5</th>\n",
       "      <th>M6</th>\n",
       "      <th>M7</th>\n",
       "      <th>M8</th>\n",
       "      <th>M9</th>\n",
       "      <th>isFraud</th>\n",
       "    </tr>\n",
       "  </thead>\n",
       "  <tbody>\n",
       "    <tr>\n",
       "      <th>82048</th>\n",
       "      <td>226.000</td>\n",
       "      <td>W</td>\n",
       "      <td>9749</td>\n",
       "      <td>528.0</td>\n",
       "      <td>150.0</td>\n",
       "      <td>visa</td>\n",
       "      <td>226.0</td>\n",
       "      <td>credit</td>\n",
       "      <td>NaN</td>\n",
       "      <td>NaN</td>\n",
       "      <td>...</td>\n",
       "      <td>T</td>\n",
       "      <td>F</td>\n",
       "      <td>F</td>\n",
       "      <td>M0</td>\n",
       "      <td>F</td>\n",
       "      <td>F</td>\n",
       "      <td>F</td>\n",
       "      <td>F</td>\n",
       "      <td>F</td>\n",
       "      <td>0</td>\n",
       "    </tr>\n",
       "    <tr>\n",
       "      <th>53469</th>\n",
       "      <td>59.000</td>\n",
       "      <td>W</td>\n",
       "      <td>12544</td>\n",
       "      <td>321.0</td>\n",
       "      <td>150.0</td>\n",
       "      <td>visa</td>\n",
       "      <td>226.0</td>\n",
       "      <td>debit</td>\n",
       "      <td>gmail.com</td>\n",
       "      <td>NaN</td>\n",
       "      <td>...</td>\n",
       "      <td>T</td>\n",
       "      <td>T</td>\n",
       "      <td>T</td>\n",
       "      <td>M0</td>\n",
       "      <td>T</td>\n",
       "      <td>F</td>\n",
       "      <td>F</td>\n",
       "      <td>T</td>\n",
       "      <td>T</td>\n",
       "      <td>0</td>\n",
       "    </tr>\n",
       "    <tr>\n",
       "      <th>53246</th>\n",
       "      <td>5.947</td>\n",
       "      <td>C</td>\n",
       "      <td>15885</td>\n",
       "      <td>545.0</td>\n",
       "      <td>185.0</td>\n",
       "      <td>visa</td>\n",
       "      <td>138.0</td>\n",
       "      <td>debit</td>\n",
       "      <td>outlook.com</td>\n",
       "      <td>outlook.com</td>\n",
       "      <td>...</td>\n",
       "      <td>NaN</td>\n",
       "      <td>NaN</td>\n",
       "      <td>NaN</td>\n",
       "      <td>M2</td>\n",
       "      <td>NaN</td>\n",
       "      <td>NaN</td>\n",
       "      <td>NaN</td>\n",
       "      <td>NaN</td>\n",
       "      <td>NaN</td>\n",
       "      <td>0</td>\n",
       "    </tr>\n",
       "    <tr>\n",
       "      <th>31590</th>\n",
       "      <td>44.541</td>\n",
       "      <td>C</td>\n",
       "      <td>15885</td>\n",
       "      <td>545.0</td>\n",
       "      <td>185.0</td>\n",
       "      <td>visa</td>\n",
       "      <td>138.0</td>\n",
       "      <td>debit</td>\n",
       "      <td>hotmail.com</td>\n",
       "      <td>hotmail.com</td>\n",
       "      <td>...</td>\n",
       "      <td>NaN</td>\n",
       "      <td>NaN</td>\n",
       "      <td>NaN</td>\n",
       "      <td>M2</td>\n",
       "      <td>NaN</td>\n",
       "      <td>NaN</td>\n",
       "      <td>NaN</td>\n",
       "      <td>NaN</td>\n",
       "      <td>NaN</td>\n",
       "      <td>0</td>\n",
       "    </tr>\n",
       "    <tr>\n",
       "      <th>29882</th>\n",
       "      <td>39.000</td>\n",
       "      <td>W</td>\n",
       "      <td>8007</td>\n",
       "      <td>555.0</td>\n",
       "      <td>150.0</td>\n",
       "      <td>visa</td>\n",
       "      <td>226.0</td>\n",
       "      <td>debit</td>\n",
       "      <td>NaN</td>\n",
       "      <td>NaN</td>\n",
       "      <td>...</td>\n",
       "      <td>T</td>\n",
       "      <td>T</td>\n",
       "      <td>T</td>\n",
       "      <td>M0</td>\n",
       "      <td>T</td>\n",
       "      <td>F</td>\n",
       "      <td>F</td>\n",
       "      <td>F</td>\n",
       "      <td>T</td>\n",
       "      <td>0</td>\n",
       "    </tr>\n",
       "  </tbody>\n",
       "</table>\n",
       "<p>5 rows × 34 columns</p>\n",
       "</div>"
      ],
      "text/plain": [
       "       TransactionAmt ProductCD  card1  card2  card3 card4  card5   card6  \\\n",
       "82048         226.000         W   9749  528.0  150.0  visa  226.0  credit   \n",
       "53469          59.000         W  12544  321.0  150.0  visa  226.0   debit   \n",
       "53246           5.947         C  15885  545.0  185.0  visa  138.0   debit   \n",
       "31590          44.541         C  15885  545.0  185.0  visa  138.0   debit   \n",
       "29882          39.000         W   8007  555.0  150.0  visa  226.0   debit   \n",
       "\n",
       "      P_emaildomain R_emaildomain  ...   M1   M2   M3  M4   M5   M6   M7   M8  \\\n",
       "82048           NaN           NaN  ...    T    F    F  M0    F    F    F    F   \n",
       "53469     gmail.com           NaN  ...    T    T    T  M0    T    F    F    T   \n",
       "53246   outlook.com   outlook.com  ...  NaN  NaN  NaN  M2  NaN  NaN  NaN  NaN   \n",
       "31590   hotmail.com   hotmail.com  ...  NaN  NaN  NaN  M2  NaN  NaN  NaN  NaN   \n",
       "29882           NaN           NaN  ...    T    T    T  M0    T    F    F    F   \n",
       "\n",
       "        M9  isFraud  \n",
       "82048    F        0  \n",
       "53469    T        0  \n",
       "53246  NaN        0  \n",
       "31590  NaN        0  \n",
       "29882    T        0  \n",
       "\n",
       "[5 rows x 34 columns]"
      ]
     },
     "execution_count": 18,
     "metadata": {},
     "output_type": "execute_result"
    }
   ],
   "source": [
    "Train_df = pd.concat([Train_X, Train_Y], axis = 1)\n",
    "Train_df.head()"
   ]
  },
  {
   "cell_type": "markdown",
   "metadata": {},
   "source": [
    "#### 2.4 범주형 변수 탐색\n",
    "(1) 결측을 문자로 변환 (탐색을 위해 임시 변환) <br>\n",
    "(2) 변수별 분포 확인 (bar plot) <br>\n",
    "(3) 변수와 특징 간 관계 확인 (groupby)"
   ]
  },
  {
   "cell_type": "markdown",
   "metadata": {},
   "source": [
    "2.4.1 ProductCD"
   ]
  },
  {
   "cell_type": "code",
   "execution_count": 19,
   "metadata": {
    "scrolled": true
   },
   "outputs": [
    {
     "data": {
      "text/plain": [
       "0"
      ]
     },
     "execution_count": 19,
     "metadata": {},
     "output_type": "execute_result"
    }
   ],
   "source": [
    "Train_df['ProductCD'].isnull().sum() # 결측이 전혀없어서, 결측을 문자로 변환할 필요 없음"
   ]
  },
  {
   "cell_type": "code",
   "execution_count": 20,
   "metadata": {},
   "outputs": [
    {
     "data": {
      "text/plain": [
       "<AxesSubplot:>"
      ]
     },
     "execution_count": 20,
     "metadata": {},
     "output_type": "execute_result"
    },
    {
     "data": {
      "image/png": "[encoded data removed]",
      "text/plain": [
       "<Figure size 1440x360 with 1 Axes>"
      ]
     },
     "metadata": {
      "image/png": {
       "height": 306,
       "width": 1157
      },
      "needs_background": "light"
     },
     "output_type": "display_data"
    }
   ],
   "source": [
    "Train_df['ProductCD'].value_counts(normalize = True).plot(kind = 'bar') # value_counts에 대한 bar plot 생성\n",
    "# ProdudctCD가 W가 매우 높은 비율을 차지하며, S는 1% 가량됨을 확인"
   ]
  },
  {
   "cell_type": "code",
   "execution_count": 21,
   "metadata": {},
   "outputs": [
    {
     "data": {
      "text/plain": [
       "ProductCD\n",
       "C    0.085744\n",
       "H    0.018800\n",
       "R    0.010832\n",
       "S    0.022305\n",
       "W    0.018549\n",
       "Name: isFraud, dtype: float64"
      ]
     },
     "execution_count": 21,
     "metadata": {},
     "output_type": "execute_result"
    }
   ],
   "source": [
    "# 상품별로 차이가 존재함을 확인 (다만, H와 W는 거의 유사하다고 판단됨)\n",
    "# 상태 공간의 크기가 그리 크지 않으니, 굳이 변수 값의 군집화는 수행하지 않고 더미화를 하기로 결정\n",
    "Train_df.groupby('ProductCD')['isFraud'].mean()"
   ]
  },
  {
   "cell_type": "markdown",
   "metadata": {},
   "source": [
    "2.4.2 card4"
   ]
  },
  {
   "cell_type": "code",
   "execution_count": 22,
   "metadata": {
    "scrolled": true
   },
   "outputs": [
    {
     "data": {
      "text/plain": [
       "5"
      ]
     },
     "execution_count": 22,
     "metadata": {},
     "output_type": "execute_result"
    }
   ],
   "source": [
    "Train_df['card4'].isnull().sum() # 결측이 6개밖에 되지 않음 ==> 전부 최빈값으로 대체"
   ]
  },
  {
   "cell_type": "code",
   "execution_count": 23,
   "metadata": {},
   "outputs": [
    {
     "data": {
      "text/plain": [
       "<AxesSubplot:>"
      ]
     },
     "execution_count": 23,
     "metadata": {},
     "output_type": "execute_result"
    },
    {
     "data": {
      "image/png": "[encoded data removed]",
      "text/plain": [
       "<Figure size 1440x360 with 1 Axes>"
      ]
     },
     "metadata": {
      "image/png": {
       "height": 393,
       "width": 1157
      },
      "needs_background": "light"
     },
     "output_type": "display_data"
    }
   ],
   "source": [
    "Train_df['card4'].value_counts(normalize = True).plot(kind = 'bar') # value_counts에 대한 bar plot 생성\n",
    "# visa와 master card가 매우 높은 비율을 차지하며, discover는 거의 발생하지 않음"
   ]
  },
  {
   "cell_type": "code",
   "execution_count": 24,
   "metadata": {},
   "outputs": [
    {
     "data": {
      "text/plain": [
       "card4\n",
       "american express    0.011933\n",
       "discover            0.027397\n",
       "mastercard          0.028824\n",
       "visa                0.024267\n",
       "Name: isFraud, dtype: float64"
      ]
     },
     "execution_count": 24,
     "metadata": {},
     "output_type": "execute_result"
    }
   ],
   "source": [
    "# 거래의 대다수를 차지하는 visa와 mastercard의 값이 유사\n",
    "# american express만 유독 값이 작으며 해당 값의 빈도가 높지 않음 => 해당 변수를 american express란 변수로 이진화\n",
    "# 따라서 결측을 특별히 제거할 필요가 없음\n",
    "Train_df.groupby('card4')['isFraud'].mean()"
   ]
  },
  {
   "cell_type": "markdown",
   "metadata": {},
   "source": [
    "2.4.3 card6"
   ]
  },
  {
   "cell_type": "code",
   "execution_count": 25,
   "metadata": {
    "scrolled": true
   },
   "outputs": [
    {
     "data": {
      "text/plain": [
       "3"
      ]
     },
     "execution_count": 25,
     "metadata": {},
     "output_type": "execute_result"
    }
   ],
   "source": [
    "Train_df['card6'].isnull().sum() # 결측이 4개밖에 되지 않음 ==> 전부 최빈값으로 대체"
   ]
  },
  {
   "cell_type": "code",
   "execution_count": 26,
   "metadata": {},
   "outputs": [
    {
     "data": {
      "text/plain": [
       "<AxesSubplot:>"
      ]
     },
     "execution_count": 26,
     "metadata": {},
     "output_type": "execute_result"
    },
    {
     "data": {
      "image/png": "[encoded data removed]",
      "text/plain": [
       "<Figure size 1440x360 with 1 Axes>"
      ]
     },
     "metadata": {
      "image/png": {
       "height": 373,
       "width": 1157
      },
      "needs_background": "light"
     },
     "output_type": "display_data"
    }
   ],
   "source": [
    "Train_df['card6'].value_counts(normalize = True).plot(kind = 'bar') # value_counts에 대한 bar plot 생성\n",
    "# debit과 credit이 대다수를 차지. 다른 값들은 육안으로 확인이 불가능한 수준"
   ]
  },
  {
   "cell_type": "code",
   "execution_count": 27,
   "metadata": {},
   "outputs": [
    {
     "data": {
      "text/plain": [
       "debit              48705\n",
       "credit             26285\n",
       "debit or credit        4\n",
       "charge card            3\n",
       "Name: card6, dtype: int64"
      ]
     },
     "execution_count": 27,
     "metadata": {},
     "output_type": "execute_result"
    }
   ],
   "source": [
    "Train_df['card6'].value_counts(normalize = False) # debit or credit, charge card는 빈도가 매우 적음"
   ]
  },
  {
   "cell_type": "code",
   "execution_count": 28,
   "metadata": {},
   "outputs": [
    {
     "data": {
      "text/plain": [
       "card6\n",
       "charge card        0.000000\n",
       "credit             0.035229\n",
       "debit              0.019854\n",
       "debit or credit    0.000000\n",
       "Name: isFraud, dtype: float64"
      ]
     },
     "execution_count": 28,
     "metadata": {},
     "output_type": "execute_result"
    }
   ],
   "source": [
    "# credit과 debit의 차이가 존재\n",
    "# charge card, debit or credit은 전부 0임을 확인 ==> 그러나 빈도 자체가 매우 적어서 그런 것이라 예상됨\n",
    "# 따라서 credit인지 나타내는 변수로만 변환\n",
    "Train_df.groupby('card6')['isFraud'].mean()"
   ]
  },
  {
   "cell_type": "markdown",
   "metadata": {},
   "source": [
    "2.4.4 P_emaildomain과 R_emaildomain\n",
    "\n",
    "- 이전 탐색에서 각각의 상태 공간 크기가 60, 61임을 확인 (대다수가 gmail 혹은 yahoo 메일임)\n",
    "- 또한, 결측이 매우 많았는데, email이 결측이라는 것이 어떤 의미가 있을것이라 의심됨\n",
    "- 샘플의 개수를 고려하더라도 그 크기가 큰 범주형 변수라고 판단 가능\n",
    "- 두 변수간 관계가 있으리라 쉽게 판단 가능\n",
    "- 또한, .를 기준으로 앞쪽에는 실제 도메인이, 뒤쪽에는 com, net 등이 포함되어 있어 분할 필요"
   ]
  },
  {
   "cell_type": "code",
   "execution_count": 29,
   "metadata": {},
   "outputs": [
    {
     "data": {
      "text/plain": [
       "gmail.com           27212\n",
       "yahoo.com           11830\n",
       "anonymous.com        6525\n",
       "hotmail.com          6077\n",
       "aol.com              3601\n",
       "comcast.net          1394\n",
       "icloud.com            674\n",
       "msn.com               631\n",
       "outlook.com           577\n",
       "att.net               534\n",
       "sbcglobal.net         485\n",
       "verizon.net           479\n",
       "live.com              380\n",
       "bellsouth.net         341\n",
       "me.com                280\n",
       "cox.net               278\n",
       "ymail.com             276\n",
       "yahoo.com.mx          226\n",
       "charter.net           173\n",
       "optonline.net         167\n",
       "live.com.mx            95\n",
       "mac.com                90\n",
       "rocketmail.com         83\n",
       "earthlink.net          79\n",
       "juno.com               57\n",
       "mail.com               55\n",
       "roadrunner.com         52\n",
       "embarqmail.com         49\n",
       "outlook.es             46\n",
       "gmail                  45\n",
       "windstream.net         41\n",
       "twc.com                40\n",
       "hotmail.es             34\n",
       "frontier.com           34\n",
       "frontiernet.net        33\n",
       "netzero.com            31\n",
       "q.com                  30\n",
       "web.de                 30\n",
       "cfl.rr.com             28\n",
       "aim.com                27\n",
       "prodigy.net.mx         27\n",
       "hotmail.fr             25\n",
       "suddenlink.net         21\n",
       "netzero.net            21\n",
       "cableone.net           20\n",
       "yahoo.fr               18\n",
       "gmx.de                 18\n",
       "centurylink.net        17\n",
       "ptd.net                14\n",
       "sc.rr.com              14\n",
       "yahoo.co.uk            12\n",
       "yahoo.es               12\n",
       "protonmail.com          8\n",
       "hotmail.co.uk           7\n",
       "yahoo.de                6\n",
       "servicios-ta.com        5\n",
       "hotmail.de              2\n",
       "live.fr                 2\n",
       "yahoo.co.jp             1\n",
       "Name: P_emaildomain, dtype: int64"
      ]
     },
     "execution_count": 29,
     "metadata": {},
     "output_type": "execute_result"
    }
   ],
   "source": [
    "Train_df['P_emaildomain'].value_counts()"
   ]
  },
  {
   "cell_type": "code",
   "execution_count": 21,
   "metadata": {},
   "outputs": [
    {
     "data": {
      "text/plain": [
       "gmail.com           9873\n",
       "anonymous.com       5227\n",
       "hotmail.com         4080\n",
       "yahoo.com           2419\n",
       "aol.com              955\n",
       "comcast.net          595\n",
       "outlook.com          326\n",
       "icloud.com           237\n",
       "msn.com              226\n",
       "yahoo.com.mx         222\n",
       "verizon.net          189\n",
       "sbcglobal.net        182\n",
       "cox.net              158\n",
       "bellsouth.net        141\n",
       "me.com               128\n",
       "live.com             128\n",
       "att.net              117\n",
       "live.com.mx           93\n",
       "ymail.com             67\n",
       "mac.com               50\n",
       "optonline.net         48\n",
       "outlook.es            39\n",
       "hotmail.es            38\n",
       "mail.com              31\n",
       "charter.net           28\n",
       "web.de                28\n",
       "prodigy.net.mx        27\n",
       "hotmail.fr            27\n",
       "embarqmail.com        26\n",
       "earthlink.net         24\n",
       "juno.com              21\n",
       "frontier.com          20\n",
       "yahoo.fr              17\n",
       "windstream.net        16\n",
       "cfl.rr.com            15\n",
       "gmx.de                15\n",
       "roadrunner.com        14\n",
       "rocketmail.com        13\n",
       "twc.com               11\n",
       "q.com                 10\n",
       "frontiernet.net        9\n",
       "yahoo.es               9\n",
       "gmail                  9\n",
       "ptd.net                8\n",
       "suddenlink.net         8\n",
       "servicios-ta.com       7\n",
       "yahoo.co.uk            7\n",
       "hotmail.co.uk          6\n",
       "yahoo.de               6\n",
       "aim.com                6\n",
       "netzero.net            4\n",
       "cableone.net           4\n",
       "scranton.edu           4\n",
       "netzero.com            3\n",
       "centurylink.net        3\n",
       "protonmail.com         2\n",
       "sc.rr.com              2\n",
       "live.fr                1\n",
       "hotmail.de             1\n",
       "yahoo.co.jp            1\n",
       "Name: R_emaildomain, dtype: int64"
      ]
     },
     "execution_count": 21,
     "metadata": {},
     "output_type": "execute_result"
    }
   ],
   "source": [
    "Train_df['R_emaildomain'].value_counts()"
   ]
  },
  {
   "cell_type": "code",
   "execution_count": 30,
   "metadata": {},
   "outputs": [],
   "source": [
    "# 결측이 의미가 있는지 확인 (두 변수 모두 결측이 많다는 것은 위에서 확인함)\n",
    "# 결측을 나타내는 변수 생성\n",
    "Train_df['NA_P_emaildomain'] = Train_df['P_emaildomain'].isnull().astype(int)\n",
    "Train_df['NA_R_emaildomain'] = Train_df['R_emaildomain'].isnull().astype(int)"
   ]
  },
  {
   "cell_type": "code",
   "execution_count": 33,
   "metadata": {},
   "outputs": [
    {
     "data": {
      "text/html": [
       "<div>\n",
       "<style scoped>\n",
       "    .dataframe tbody tr th:only-of-type {\n",
       "        vertical-align: middle;\n",
       "    }\n",
       "\n",
       "    .dataframe tbody tr th {\n",
       "        vertical-align: top;\n",
       "    }\n",
       "\n",
       "    .dataframe thead th {\n",
       "        text-align: right;\n",
       "    }\n",
       "</style>\n",
       "<table border=\"1\" class=\"dataframe\">\n",
       "  <thead>\n",
       "    <tr style=\"text-align: right;\">\n",
       "      <th></th>\n",
       "      <th>TransactionAmt</th>\n",
       "      <th>ProductCD</th>\n",
       "      <th>card1</th>\n",
       "      <th>card2</th>\n",
       "      <th>card3</th>\n",
       "      <th>card4</th>\n",
       "      <th>card5</th>\n",
       "      <th>card6</th>\n",
       "      <th>P_emaildomain</th>\n",
       "      <th>R_emaildomain</th>\n",
       "      <th>...</th>\n",
       "      <th>M3</th>\n",
       "      <th>M4</th>\n",
       "      <th>M5</th>\n",
       "      <th>M6</th>\n",
       "      <th>M7</th>\n",
       "      <th>M8</th>\n",
       "      <th>M9</th>\n",
       "      <th>isFraud</th>\n",
       "      <th>NA_P_emaildomain</th>\n",
       "      <th>NA_R_emaildomain</th>\n",
       "    </tr>\n",
       "  </thead>\n",
       "  <tbody>\n",
       "    <tr>\n",
       "      <th>82048</th>\n",
       "      <td>226.000</td>\n",
       "      <td>W</td>\n",
       "      <td>9749</td>\n",
       "      <td>528.0</td>\n",
       "      <td>150.0</td>\n",
       "      <td>visa</td>\n",
       "      <td>226.0</td>\n",
       "      <td>credit</td>\n",
       "      <td>NaN</td>\n",
       "      <td>NaN</td>\n",
       "      <td>...</td>\n",
       "      <td>F</td>\n",
       "      <td>M0</td>\n",
       "      <td>F</td>\n",
       "      <td>F</td>\n",
       "      <td>F</td>\n",
       "      <td>F</td>\n",
       "      <td>F</td>\n",
       "      <td>0</td>\n",
       "      <td>1</td>\n",
       "      <td>1</td>\n",
       "    </tr>\n",
       "    <tr>\n",
       "      <th>53469</th>\n",
       "      <td>59.000</td>\n",
       "      <td>W</td>\n",
       "      <td>12544</td>\n",
       "      <td>321.0</td>\n",
       "      <td>150.0</td>\n",
       "      <td>visa</td>\n",
       "      <td>226.0</td>\n",
       "      <td>debit</td>\n",
       "      <td>gmail.com</td>\n",
       "      <td>NaN</td>\n",
       "      <td>...</td>\n",
       "      <td>T</td>\n",
       "      <td>M0</td>\n",
       "      <td>T</td>\n",
       "      <td>F</td>\n",
       "      <td>F</td>\n",
       "      <td>T</td>\n",
       "      <td>T</td>\n",
       "      <td>0</td>\n",
       "      <td>0</td>\n",
       "      <td>1</td>\n",
       "    </tr>\n",
       "    <tr>\n",
       "      <th>53246</th>\n",
       "      <td>5.947</td>\n",
       "      <td>C</td>\n",
       "      <td>15885</td>\n",
       "      <td>545.0</td>\n",
       "      <td>185.0</td>\n",
       "      <td>visa</td>\n",
       "      <td>138.0</td>\n",
       "      <td>debit</td>\n",
       "      <td>outlook.com</td>\n",
       "      <td>outlook.com</td>\n",
       "      <td>...</td>\n",
       "      <td>NaN</td>\n",
       "      <td>M2</td>\n",
       "      <td>NaN</td>\n",
       "      <td>NaN</td>\n",
       "      <td>NaN</td>\n",
       "      <td>NaN</td>\n",
       "      <td>NaN</td>\n",
       "      <td>0</td>\n",
       "      <td>0</td>\n",
       "      <td>0</td>\n",
       "    </tr>\n",
       "  </tbody>\n",
       "</table>\n",
       "<p>3 rows × 36 columns</p>\n",
       "</div>"
      ],
      "text/plain": [
       "       TransactionAmt ProductCD  card1  card2  card3 card4  card5   card6  \\\n",
       "82048         226.000         W   9749  528.0  150.0  visa  226.0  credit   \n",
       "53469          59.000         W  12544  321.0  150.0  visa  226.0   debit   \n",
       "53246           5.947         C  15885  545.0  185.0  visa  138.0   debit   \n",
       "\n",
       "      P_emaildomain R_emaildomain  ...   M3  M4   M5   M6   M7   M8   M9  \\\n",
       "82048           NaN           NaN  ...    F  M0    F    F    F    F    F   \n",
       "53469     gmail.com           NaN  ...    T  M0    T    F    F    T    T   \n",
       "53246   outlook.com   outlook.com  ...  NaN  M2  NaN  NaN  NaN  NaN  NaN   \n",
       "\n",
       "       isFraud  NA_P_emaildomain  NA_R_emaildomain  \n",
       "82048        0                 1                 1  \n",
       "53469        0                 0                 1  \n",
       "53246        0                 0                 0  \n",
       "\n",
       "[3 rows x 36 columns]"
      ]
     },
     "execution_count": 33,
     "metadata": {},
     "output_type": "execute_result"
    }
   ],
   "source": [
    "Train_df.head(3)"
   ]
  },
  {
   "cell_type": "code",
   "execution_count": 34,
   "metadata": {},
   "outputs": [
    {
     "data": {
      "text/plain": [
       "NA_P_emaildomain\n",
       "0    0.025785\n",
       "1    0.022440\n",
       "Name: isFraud, dtype: float64"
      ]
     },
     "execution_count": 34,
     "metadata": {},
     "output_type": "execute_result"
    }
   ],
   "source": [
    "# P_emaildomain은 크게 문제 없어보임\n",
    "Train_df.groupby('NA_P_emaildomain')['isFraud'].mean()"
   ]
  },
  {
   "cell_type": "code",
   "execution_count": 35,
   "metadata": {},
   "outputs": [
    {
     "data": {
      "text/plain": [
       "NA_R_emaildomain\n",
       "0    0.040241\n",
       "1    0.017312\n",
       "Name: isFraud, dtype: float64"
      ]
     },
     "execution_count": 35,
     "metadata": {},
     "output_type": "execute_result"
    }
   ],
   "source": [
    "# R_emaildomain은 오히려 결측이 발생하지 않았을 때 사기인 경우가 더 많음을 확인 ==> 변수로 활용\n",
    "Train_df.groupby('NA_R_emaildomain')['isFraud'].mean()"
   ]
  },
  {
   "cell_type": "code",
   "execution_count": 36,
   "metadata": {},
   "outputs": [],
   "source": [
    "# 유의한 도메인만 가져와서 추가 탐색 수행\n",
    "Train_df['P_emaildomain'] = Train_df['P_emaildomain'].str.split('.', expand = True).iloc[:, 0]\n",
    "Train_df['R_emaildomain'] = Train_df['R_emaildomain'].str.split('.', expand = True).iloc[:, 0]"
   ]
  },
  {
   "cell_type": "code",
   "execution_count": 39,
   "metadata": {},
   "outputs": [
    {
     "data": {
      "text/plain": [
       "P_emaildomain\n",
       "aim             0.037037\n",
       "anonymous       0.010115\n",
       "aol             0.012774\n",
       "att             0.007491\n",
       "bellsouth       0.002933\n",
       "cableone        0.000000\n",
       "centurylink     0.000000\n",
       "cfl             0.000000\n",
       "charter         0.005780\n",
       "comcast         0.007891\n",
       "cox             0.003597\n",
       "earthlink       0.000000\n",
       "embarqmail      0.000000\n",
       "frontier        0.000000\n",
       "frontiernet     0.090909\n",
       "gmail           0.035184\n",
       "gmx             0.000000\n",
       "hotmail         0.045891\n",
       "icloud          0.035608\n",
       "juno            0.000000\n",
       "live            0.016771\n",
       "mac             0.000000\n",
       "mail            0.127273\n",
       "me              0.021429\n",
       "msn             0.014263\n",
       "netzero         0.000000\n",
       "optonline       0.000000\n",
       "outlook         0.060995\n",
       "prodigy         0.000000\n",
       "protonmail      0.125000\n",
       "ptd             0.000000\n",
       "q               0.000000\n",
       "roadrunner      0.000000\n",
       "rocketmail      0.000000\n",
       "sbcglobal       0.000000\n",
       "sc              0.000000\n",
       "servicios-ta    0.000000\n",
       "suddenlink      0.000000\n",
       "twc             0.000000\n",
       "verizon         0.002088\n",
       "web             0.000000\n",
       "windstream      0.000000\n",
       "yahoo           0.013052\n",
       "ymail           0.025362\n",
       "Name: isFraud, dtype: float64"
      ]
     },
     "execution_count": 39,
     "metadata": {},
     "output_type": "execute_result"
    }
   ],
   "source": [
    "# P_emaildomain에 따른 isFraud의 평균 차이가 존재함\n",
    "# 다만, aim.com, cableone.net 등은 그 빈도가 매우 적어서 이 차이가 유의한 것인지 판단이 불가\n",
    "Train_df.groupby('P_emaildomain')['isFraud'].mean()"
   ]
  },
  {
   "cell_type": "code",
   "execution_count": 40,
   "metadata": {},
   "outputs": [
    {
     "data": {
      "text/plain": [
       "R_emaildomain\n",
       "aim             0.142857\n",
       "anonymous       0.007818\n",
       "aol             0.009278\n",
       "att             0.000000\n",
       "bellsouth       0.000000\n",
       "cableone        0.000000\n",
       "centurylink     0.000000\n",
       "cfl             0.000000\n",
       "charter         0.000000\n",
       "comcast         0.011765\n",
       "cox             0.006329\n",
       "earthlink       0.000000\n",
       "embarqmail      0.000000\n",
       "frontier        0.000000\n",
       "frontiernet     0.000000\n",
       "gmail           0.061994\n",
       "gmx             0.000000\n",
       "hotmail         0.062197\n",
       "icloud          0.037500\n",
       "juno            0.000000\n",
       "live            0.004255\n",
       "mac             0.000000\n",
       "mail            0.100000\n",
       "me              0.000000\n",
       "msn             0.004367\n",
       "netzero         0.000000\n",
       "optonline       0.000000\n",
       "outlook         0.084239\n",
       "prodigy         0.000000\n",
       "protonmail      1.000000\n",
       "ptd             0.000000\n",
       "q               0.000000\n",
       "roadrunner      0.000000\n",
       "rocketmail      0.000000\n",
       "sbcglobal       0.000000\n",
       "sc              0.000000\n",
       "scranton        0.000000\n",
       "servicios-ta    0.000000\n",
       "suddenlink      0.000000\n",
       "twc             0.000000\n",
       "verizon         0.000000\n",
       "web             0.000000\n",
       "windstream      0.000000\n",
       "yahoo           0.024581\n",
       "ymail           0.120690\n",
       "Name: isFraud, dtype: float64"
      ]
     },
     "execution_count": 40,
     "metadata": {},
     "output_type": "execute_result"
    }
   ],
   "source": [
    "# P_emaildomain에 따른 isFraud의 평균 차이가 존재함\n",
    "# 다만, 대다수 값이 그 빈도가 매우 적어서 이 차이가 유의한 것인지 판단이 불가\n",
    "Train_df.groupby('R_emaildomain')['isFraud'].mean()"
   ]
  },
  {
   "cell_type": "code",
   "execution_count": 41,
   "metadata": {},
   "outputs": [
    {
     "name": "stdout",
     "output_type": "stream",
     "text": [
      "0    56047\n",
      "1    18953\n",
      "Name: same_emaildomain, dtype: int64\n",
      "\n",
      "\n",
      "same_emaildomain\n",
      "0    0.016682\n",
      "1    0.050652\n",
      "Name: isFraud, dtype: float64\n"
     ]
    }
   ],
   "source": [
    "# 같은 거래라면 P_emaildomain과 R_emaildomain이 특정 관계가 있지 않을까?\n",
    "# 파생 변수 추가 및 확인: 실제 라벨의 분포를 고려했을 때, 1%와 5%의 차이는 꽤 큰 것이라 예상됨 ==> 해당 변수 사용\n",
    "Train_df['same_emaildomain'] = (Train_df['P_emaildomain'] == Train_df['R_emaildomain']).astype(int)\n",
    "print(Train_df['same_emaildomain'].value_counts())\n",
    "print('\\n')\n",
    "print(Train_df.groupby('same_emaildomain')['isFraud'].mean())"
   ]
  },
  {
   "cell_type": "markdown",
   "metadata": {},
   "source": [
    "2.4.5 C3"
   ]
  },
  {
   "cell_type": "code",
   "execution_count": 47,
   "metadata": {},
   "outputs": [
    {
     "data": {
      "text/plain": [
       "82048    0.0\n",
       "53469    0.0\n",
       "53246    0.0\n",
       "31590    0.0\n",
       "29882    0.0\n",
       "        ... \n",
       "76828    0.0\n",
       "91584    0.0\n",
       "64687    0.0\n",
       "37391    0.0\n",
       "6385     0.0\n",
       "Name: C3, Length: 75000, dtype: float64"
      ]
     },
     "execution_count": 47,
     "metadata": {},
     "output_type": "execute_result"
    }
   ],
   "source": [
    "Train_X['C3']"
   ]
  },
  {
   "cell_type": "code",
   "execution_count": 42,
   "metadata": {},
   "outputs": [],
   "source": [
    "# 결측이 없음을 이전에서 확인\n",
    "# 변수 타입은 float인데, 상태 공간의 크기가 크지 않음 ==> 일단은 범주형으로 보는 것이 적절할 것 같음"
   ]
  },
  {
   "cell_type": "code",
   "execution_count": 43,
   "metadata": {},
   "outputs": [
    {
     "data": {
      "text/plain": [
       "0.0    0.988680\n",
       "1.0    0.010520\n",
       "2.0    0.000667\n",
       "3.0    0.000107\n",
       "9.0    0.000013\n",
       "4.0    0.000013\n",
       "Name: C3, dtype: float64"
      ]
     },
     "execution_count": 43,
     "metadata": {},
     "output_type": "execute_result"
    }
   ],
   "source": [
    "# 0.0 값이 대다수임을 확인\n",
    "Train_df['C3'].value_counts(normalize = True)"
   ]
  },
  {
   "cell_type": "code",
   "execution_count": 44,
   "metadata": {},
   "outputs": [
    {
     "data": {
      "text/plain": [
       "0.0    74151\n",
       "1.0      789\n",
       "2.0       50\n",
       "3.0        8\n",
       "9.0        1\n",
       "4.0        1\n",
       "Name: C3, dtype: int64"
      ]
     },
     "execution_count": 44,
     "metadata": {},
     "output_type": "execute_result"
    }
   ],
   "source": [
    "Train_df['C3'].value_counts(normalize = False)"
   ]
  },
  {
   "cell_type": "code",
   "execution_count": 45,
   "metadata": {},
   "outputs": [
    {
     "data": {
      "text/plain": [
       "C3\n",
       "0.0    0.025542\n",
       "1.0    0.001267\n",
       "2.0    0.000000\n",
       "3.0    0.000000\n",
       "4.0    0.000000\n",
       "9.0    0.000000\n",
       "Name: isFraud, dtype: float64"
      ]
     },
     "execution_count": 45,
     "metadata": {},
     "output_type": "execute_result"
    }
   ],
   "source": [
    "# 2.0 이상의 값은 거의 존재하지 않기 때문에, 우연히 평균이 0이 나왔을 것이란 추측이 가능\n",
    "# 0.0은 자주 등장했기 때문에, 라벨의 평균과 유사\n",
    "# 1.0은 빈도가 어느정도 있음에도 불구하고 라벨의 평균과 크게 다름\n",
    "# (조금은 위험한) 가설 수립: C3값이 1 이상인지 아닌지에 따른 차이가 존재할 것이다! => C3_over_1 변수 생성\n",
    "Train_df.groupby('C3')['isFraud'].mean()"
   ]
  },
  {
   "cell_type": "code",
   "execution_count": 48,
   "metadata": {},
   "outputs": [
    {
     "data": {
      "text/plain": [
       "0    0.974733\n",
       "1    0.025267\n",
       "Name: isFraud, dtype: float64"
      ]
     },
     "execution_count": 48,
     "metadata": {},
     "output_type": "execute_result"
    }
   ],
   "source": [
    "Train_Y.value_counts(normalize = True)"
   ]
  },
  {
   "cell_type": "markdown",
   "metadata": {},
   "source": [
    "2.4.6 M 관련 변수\n",
    "- M1 - M9는 결측도 절반가까이를 포함하여, 대체하는 것은 어려을 것으로 예상됨\n",
    "- 모두 범주형 변수이며, 값의 출현 패턴이 유사하니 동시에 탐색 수행"
   ]
  },
  {
   "cell_type": "code",
   "execution_count": 49,
   "metadata": {},
   "outputs": [],
   "source": [
    "# 탐색을 위해, 모든 결측값을 우선 대체\n",
    "M_columns = ['M' + str(i) for i in range(1, 10)]\n",
    "Train_df[M_columns] = Train_df[M_columns].fillna(\"결측\")"
   ]
  },
  {
   "cell_type": "code",
   "execution_count": 50,
   "metadata": {},
   "outputs": [
    {
     "name": "stdout",
     "output_type": "stream",
     "text": [
      "결측    51388\n",
      "T     23612\n",
      "Name: M1, dtype: int64\n",
      "\n",
      "\n",
      "결측    51388\n",
      "T     21226\n",
      "F      2386\n",
      "Name: M2, dtype: int64\n",
      "\n",
      "\n",
      "결측    51388\n",
      "T     18434\n",
      "F      5178\n",
      "Name: M3, dtype: int64\n",
      "\n",
      "\n",
      "결측    43178\n",
      "M0    19647\n",
      "M2     7102\n",
      "M1     5073\n",
      "Name: M4, dtype: int64\n",
      "\n",
      "\n",
      "결측    51645\n",
      "F     12890\n",
      "T     10465\n",
      "Name: M5, dtype: int64\n",
      "\n",
      "\n",
      "결측    34310\n",
      "F     21870\n",
      "T     18820\n",
      "Name: M6, dtype: int64\n",
      "\n",
      "\n",
      "결측    62961\n",
      "F     10338\n",
      "T      1701\n",
      "Name: M7, dtype: int64\n",
      "\n",
      "\n",
      "결측    62961\n",
      "F      7484\n",
      "T      4555\n",
      "Name: M8, dtype: int64\n",
      "\n",
      "\n",
      "결측    62961\n",
      "T     10360\n",
      "F      1679\n",
      "Name: M9, dtype: int64\n",
      "\n",
      "\n"
     ]
    }
   ],
   "source": [
    "## 변수 분포 확인\n",
    "# 1. 결측이 매우 많음 => 단순 대체 및 제거 불가\n",
    "# 2. M4를 제외하고는 T (True), F (False로 정의됨)\n",
    "for col in M_columns:\n",
    "    print(Train_df[col].value_counts())\n",
    "    print('\\n')"
   ]
  },
  {
   "cell_type": "code",
   "execution_count": 51,
   "metadata": {},
   "outputs": [
    {
     "name": "stdout",
     "output_type": "stream",
     "text": [
      "M1\n",
      "T     0.016729\n",
      "결측    0.029190\n",
      "Name: isFraud, dtype: float64\n",
      "\n",
      "\n",
      "M2\n",
      "F     0.031852\n",
      "T     0.015029\n",
      "결측    0.029190\n",
      "Name: isFraud, dtype: float64\n",
      "\n",
      "\n",
      "M3\n",
      "F     0.028389\n",
      "T     0.013453\n",
      "결측    0.029190\n",
      "Name: isFraud, dtype: float64\n",
      "\n",
      "\n",
      "M4\n",
      "M0    0.036036\n",
      "M1    0.020698\n",
      "M2    0.085469\n",
      "결측    0.011001\n",
      "Name: isFraud, dtype: float64\n",
      "\n",
      "\n",
      "M5\n",
      "F     0.019085\n",
      "T     0.043192\n",
      "결측    0.023177\n",
      "Name: isFraud, dtype: float64\n",
      "\n",
      "\n",
      "M6\n",
      "F     0.024188\n",
      "T     0.013071\n",
      "결측    0.032644\n",
      "Name: isFraud, dtype: float64\n",
      "\n",
      "\n",
      "M7\n",
      "F     0.013155\n",
      "T     0.006467\n",
      "결측    0.027763\n",
      "Name: isFraud, dtype: float64\n",
      "\n",
      "\n",
      "M8\n",
      "F     0.014164\n",
      "T     0.009001\n",
      "결측    0.027763\n",
      "Name: isFraud, dtype: float64\n",
      "\n",
      "\n",
      "M9\n",
      "F     0.015485\n",
      "T     0.011680\n",
      "결측    0.027763\n",
      "Name: isFraud, dtype: float64\n",
      "\n",
      "\n"
     ]
    }
   ],
   "source": [
    "## 변수 값별 라벨 확인: 값별로 차이가 있으며, 결측 자체로도 의미가 있어보임\n",
    "# 결측으로 대체 후 더미화 필요\n",
    "for col in M_columns:\n",
    "    print(Train_df.groupby(col)['isFraud'].mean())\n",
    "    print('\\n')"
   ]
  },
  {
   "cell_type": "markdown",
   "metadata": {},
   "source": [
    "#### 2.5 연속형 변수 탐색\n",
    "(1) 변수별 분포 확인 (히스토그램) <br>\n",
    "(2) 변수와 라벨 간 관계 파악 (박스플롯)"
   ]
  },
  {
   "cell_type": "markdown",
   "metadata": {},
   "source": [
    "2.5.1 TransactionAmt"
   ]
  },
  {
   "cell_type": "code",
   "execution_count": 53,
   "metadata": {},
   "outputs": [
    {
     "data": {
      "text/plain": [
       "<AxesSubplot:>"
      ]
     },
     "execution_count": 53,
     "metadata": {},
     "output_type": "execute_result"
    },
    {
     "data": {
      "image/png": "[encoded data removed]",
      "text/plain": [
       "<Figure size 1440x360 with 1 Axes>"
      ]
     },
     "metadata": {
      "image/png": {
       "height": 305,
       "width": 1174
      },
      "needs_background": "light"
     },
     "output_type": "display_data"
    }
   ],
   "source": [
    "# 히스토그램 생성: 대다수가 1000달러 이하임을 확인 (거기다가 굉장히 치우침을 확인)\n",
    "Train_df['TransactionAmt'].hist(bins = 100)"
   ]
  },
  {
   "cell_type": "code",
   "execution_count": 55,
   "metadata": {},
   "outputs": [
    {
     "data": {
      "text/plain": [
       "count    75000.000000\n",
       "mean       130.713316\n",
       "std        205.821823\n",
       "min          0.292000\n",
       "25%         45.000000\n",
       "50%         75.000000\n",
       "75%        136.422000\n",
       "max       4829.950000\n",
       "Name: TransactionAmt, dtype: float64"
      ]
     },
     "execution_count": 55,
     "metadata": {},
     "output_type": "execute_result"
    }
   ],
   "source": [
    "# 한쪽에 매우 치우침을 확인함: 거래 금액이 매우 크거나 작은 것 자체가 특징이 되지 않을까?\n",
    "Train_df['TransactionAmt'].describe()"
   ]
  },
  {
   "cell_type": "code",
   "execution_count": 56,
   "metadata": {},
   "outputs": [
    {
     "data": {
      "text/plain": [
       "([<matplotlib.axis.XTick at 0x7fe7717fefd0>,\n",
       "  <matplotlib.axis.XTick at 0x7fe7717fefa0>],\n",
       " [Text(1, 0, 'Fraud'), Text(2, 0, 'not Fraud')])"
      ]
     },
     "execution_count": 56,
     "metadata": {},
     "output_type": "execute_result"
    },
    {
     "data": {
      "image/png": "[encoded data removed]",
      "text/plain": [
       "<Figure size 1440x360 with 1 Axes>"
      ]
     },
     "metadata": {
      "image/png": {
       "height": 306,
       "width": 1167
      },
      "needs_background": "light"
     },
     "output_type": "display_data"
    }
   ],
   "source": [
    "TransactionAmt_Fraud = Train_df['TransactionAmt'].loc[Train_df['isFraud'] == 1]\n",
    "TransactionAmt_not_Fraud = Train_df['TransactionAmt'].loc[Train_df['isFraud'] == 0]\n",
    "\n",
    "# 대부분 이상치로 판단되어 정상적인 해석이 쉽지 않음 (다만, Fraud인 경우의 범위가 더 좁음)\n",
    "plt.boxplot([TransactionAmt_Fraud, TransactionAmt_not_Fraud])\n",
    "plt.xticks([1, 2], ['Fraud', 'not Fraud'])"
   ]
  },
  {
   "cell_type": "code",
   "execution_count": 57,
   "metadata": {},
   "outputs": [
    {
     "data": {
      "text/plain": [
       "count    1895.000000\n",
       "mean      132.103360\n",
       "std       191.088314\n",
       "min         0.292000\n",
       "25%        39.000000\n",
       "50%        77.000000\n",
       "75%       150.000000\n",
       "max      3081.970000\n",
       "Name: TransactionAmt, dtype: float64"
      ]
     },
     "execution_count": 57,
     "metadata": {},
     "output_type": "execute_result"
    }
   ],
   "source": [
    "# 사기 거래의 경우\n",
    "TransactionAmt_Fraud.describe()"
   ]
  },
  {
   "cell_type": "code",
   "execution_count": 58,
   "metadata": {},
   "outputs": [
    {
     "data": {
      "text/plain": [
       "count    73105.000000\n",
       "mean       130.677284\n",
       "std        206.190833\n",
       "min          1.860000\n",
       "25%         45.241000\n",
       "50%         75.000000\n",
       "75%        134.950000\n",
       "max       4829.950000\n",
       "Name: TransactionAmt, dtype: float64"
      ]
     },
     "execution_count": 58,
     "metadata": {},
     "output_type": "execute_result"
    }
   ],
   "source": [
    "# 사기 거래가 아닌 경우\n",
    "TransactionAmt_not_Fraud.describe()"
   ]
  },
  {
   "cell_type": "code",
   "execution_count": 59,
   "metadata": {},
   "outputs": [],
   "source": [
    "# 특별한 관계를 찾기는 어려움: 또한, 사기 거래인 경우에는 데이터가 많아서 범위가 커보일 수 있음 \n",
    "# 따라서 라벨과 관계를 고려하지 않고, 치우침만 해결하기로 결정"
   ]
  },
  {
   "cell_type": "markdown",
   "metadata": {},
   "source": [
    "2.5.2 C 관련 변수 (C3 제외)"
   ]
  },
  {
   "cell_type": "code",
   "execution_count": 60,
   "metadata": {},
   "outputs": [
    {
     "data": {
      "text/plain": [
       "['C1',\n",
       " 'C2',\n",
       " 'C4',\n",
       " 'C5',\n",
       " 'C6',\n",
       " 'C7',\n",
       " 'C8',\n",
       " 'C9',\n",
       " 'C10',\n",
       " 'C11',\n",
       " 'C12',\n",
       " 'C13',\n",
       " 'C14']"
      ]
     },
     "execution_count": 60,
     "metadata": {},
     "output_type": "execute_result"
    }
   ],
   "source": [
    "# 변수 목록 생성\n",
    "C_columns = ['C' + str(i) for i in range(1, 15) if i != 3]\n",
    "C_columns"
   ]
  },
  {
   "cell_type": "code",
   "execution_count": 61,
   "metadata": {},
   "outputs": [
    {
     "data": {
      "text/html": [
       "<div>\n",
       "<style scoped>\n",
       "    .dataframe tbody tr th:only-of-type {\n",
       "        vertical-align: middle;\n",
       "    }\n",
       "\n",
       "    .dataframe tbody tr th {\n",
       "        vertical-align: top;\n",
       "    }\n",
       "\n",
       "    .dataframe thead th {\n",
       "        text-align: right;\n",
       "    }\n",
       "</style>\n",
       "<table border=\"1\" class=\"dataframe\">\n",
       "  <thead>\n",
       "    <tr style=\"text-align: right;\">\n",
       "      <th></th>\n",
       "      <th>C1</th>\n",
       "      <th>C2</th>\n",
       "      <th>C4</th>\n",
       "      <th>C5</th>\n",
       "      <th>C6</th>\n",
       "      <th>C7</th>\n",
       "      <th>C8</th>\n",
       "      <th>C9</th>\n",
       "      <th>C10</th>\n",
       "      <th>C11</th>\n",
       "      <th>C12</th>\n",
       "      <th>C13</th>\n",
       "      <th>C14</th>\n",
       "    </tr>\n",
       "  </thead>\n",
       "  <tbody>\n",
       "    <tr>\n",
       "      <th>count</th>\n",
       "      <td>75000.000000</td>\n",
       "      <td>75000.000000</td>\n",
       "      <td>75000.000000</td>\n",
       "      <td>75000.000000</td>\n",
       "      <td>75000.000000</td>\n",
       "      <td>75000.000000</td>\n",
       "      <td>75000.000000</td>\n",
       "      <td>75000.000000</td>\n",
       "      <td>75000.000000</td>\n",
       "      <td>75000.000000</td>\n",
       "      <td>75000.000000</td>\n",
       "      <td>75000.000000</td>\n",
       "      <td>75000.000000</td>\n",
       "    </tr>\n",
       "    <tr>\n",
       "      <th>mean</th>\n",
       "      <td>40.241533</td>\n",
       "      <td>46.834013</td>\n",
       "      <td>18.733907</td>\n",
       "      <td>4.174867</td>\n",
       "      <td>22.772920</td>\n",
       "      <td>15.445733</td>\n",
       "      <td>25.493173</td>\n",
       "      <td>3.312747</td>\n",
       "      <td>26.056187</td>\n",
       "      <td>29.139280</td>\n",
       "      <td>21.630520</td>\n",
       "      <td>44.957413</td>\n",
       "      <td>16.747213</td>\n",
       "    </tr>\n",
       "    <tr>\n",
       "      <th>std</th>\n",
       "      <td>308.656481</td>\n",
       "      <td>359.859036</td>\n",
       "      <td>156.515661</td>\n",
       "      <td>21.542316</td>\n",
       "      <td>157.321561</td>\n",
       "      <td>149.650220</td>\n",
       "      <td>228.891355</td>\n",
       "      <td>14.194854</td>\n",
       "      <td>229.658230</td>\n",
       "      <td>215.987661</td>\n",
       "      <td>209.983989</td>\n",
       "      <td>219.096660</td>\n",
       "      <td>102.899284</td>\n",
       "    </tr>\n",
       "    <tr>\n",
       "      <th>min</th>\n",
       "      <td>0.000000</td>\n",
       "      <td>0.000000</td>\n",
       "      <td>0.000000</td>\n",
       "      <td>0.000000</td>\n",
       "      <td>0.000000</td>\n",
       "      <td>0.000000</td>\n",
       "      <td>0.000000</td>\n",
       "      <td>0.000000</td>\n",
       "      <td>0.000000</td>\n",
       "      <td>0.000000</td>\n",
       "      <td>0.000000</td>\n",
       "      <td>0.000000</td>\n",
       "      <td>0.000000</td>\n",
       "    </tr>\n",
       "    <tr>\n",
       "      <th>25%</th>\n",
       "      <td>1.000000</td>\n",
       "      <td>1.000000</td>\n",
       "      <td>0.000000</td>\n",
       "      <td>0.000000</td>\n",
       "      <td>1.000000</td>\n",
       "      <td>0.000000</td>\n",
       "      <td>0.000000</td>\n",
       "      <td>0.000000</td>\n",
       "      <td>0.000000</td>\n",
       "      <td>1.000000</td>\n",
       "      <td>0.000000</td>\n",
       "      <td>1.000000</td>\n",
       "      <td>1.000000</td>\n",
       "    </tr>\n",
       "    <tr>\n",
       "      <th>50%</th>\n",
       "      <td>1.000000</td>\n",
       "      <td>1.000000</td>\n",
       "      <td>0.000000</td>\n",
       "      <td>0.000000</td>\n",
       "      <td>1.000000</td>\n",
       "      <td>0.000000</td>\n",
       "      <td>0.000000</td>\n",
       "      <td>1.000000</td>\n",
       "      <td>0.000000</td>\n",
       "      <td>1.000000</td>\n",
       "      <td>0.000000</td>\n",
       "      <td>2.000000</td>\n",
       "      <td>1.000000</td>\n",
       "    </tr>\n",
       "    <tr>\n",
       "      <th>75%</th>\n",
       "      <td>2.000000</td>\n",
       "      <td>2.000000</td>\n",
       "      <td>1.000000</td>\n",
       "      <td>1.000000</td>\n",
       "      <td>2.000000</td>\n",
       "      <td>0.000000</td>\n",
       "      <td>1.000000</td>\n",
       "      <td>1.000000</td>\n",
       "      <td>1.000000</td>\n",
       "      <td>2.000000</td>\n",
       "      <td>0.000000</td>\n",
       "      <td>9.000000</td>\n",
       "      <td>2.000000</td>\n",
       "    </tr>\n",
       "    <tr>\n",
       "      <th>max</th>\n",
       "      <td>4685.000000</td>\n",
       "      <td>5691.000000</td>\n",
       "      <td>2253.000000</td>\n",
       "      <td>295.000000</td>\n",
       "      <td>2253.000000</td>\n",
       "      <td>2255.000000</td>\n",
       "      <td>3331.000000</td>\n",
       "      <td>194.000000</td>\n",
       "      <td>3257.000000</td>\n",
       "      <td>3188.000000</td>\n",
       "      <td>3188.000000</td>\n",
       "      <td>2918.000000</td>\n",
       "      <td>1429.000000</td>\n",
       "    </tr>\n",
       "  </tbody>\n",
       "</table>\n",
       "</div>"
      ],
      "text/plain": [
       "                 C1            C2            C4            C5            C6  \\\n",
       "count  75000.000000  75000.000000  75000.000000  75000.000000  75000.000000   \n",
       "mean      40.241533     46.834013     18.733907      4.174867     22.772920   \n",
       "std      308.656481    359.859036    156.515661     21.542316    157.321561   \n",
       "min        0.000000      0.000000      0.000000      0.000000      0.000000   \n",
       "25%        1.000000      1.000000      0.000000      0.000000      1.000000   \n",
       "50%        1.000000      1.000000      0.000000      0.000000      1.000000   \n",
       "75%        2.000000      2.000000      1.000000      1.000000      2.000000   \n",
       "max     4685.000000   5691.000000   2253.000000    295.000000   2253.000000   \n",
       "\n",
       "                 C7            C8            C9           C10           C11  \\\n",
       "count  75000.000000  75000.000000  75000.000000  75000.000000  75000.000000   \n",
       "mean      15.445733     25.493173      3.312747     26.056187     29.139280   \n",
       "std      149.650220    228.891355     14.194854    229.658230    215.987661   \n",
       "min        0.000000      0.000000      0.000000      0.000000      0.000000   \n",
       "25%        0.000000      0.000000      0.000000      0.000000      1.000000   \n",
       "50%        0.000000      0.000000      1.000000      0.000000      1.000000   \n",
       "75%        0.000000      1.000000      1.000000      1.000000      2.000000   \n",
       "max     2255.000000   3331.000000    194.000000   3257.000000   3188.000000   \n",
       "\n",
       "                C12           C13           C14  \n",
       "count  75000.000000  75000.000000  75000.000000  \n",
       "mean      21.630520     44.957413     16.747213  \n",
       "std      209.983989    219.096660    102.899284  \n",
       "min        0.000000      0.000000      0.000000  \n",
       "25%        0.000000      1.000000      1.000000  \n",
       "50%        0.000000      2.000000      1.000000  \n",
       "75%        0.000000      9.000000      2.000000  \n",
       "max     3188.000000   2918.000000   1429.000000  "
      ]
     },
     "execution_count": 61,
     "metadata": {},
     "output_type": "execute_result"
    }
   ],
   "source": [
    "# 대다수의 변수가 75%값은 10미만인데, max값은 매우 큼 ==> 이상하다?\n",
    "Train_df[C_columns].describe()"
   ]
  },
  {
   "cell_type": "code",
   "execution_count": 62,
   "metadata": {},
   "outputs": [
    {
     "data": {
      "text/plain": [
       "C1      6.0\n",
       "C2      6.0\n",
       "C4      1.0\n",
       "C5      2.0\n",
       "C6      4.0\n",
       "C7      1.0\n",
       "C8      1.0\n",
       "C9      3.0\n",
       "C10     1.0\n",
       "C11     4.0\n",
       "C12     1.0\n",
       "C13    33.0\n",
       "C14     5.0\n",
       "Name: 0.9, dtype: float64"
      ]
     },
     "execution_count": 62,
     "metadata": {},
     "output_type": "execute_result"
    }
   ],
   "source": [
    "# 상위 90% 값 확인\n",
    "Train_df[C_columns].quantile(0.90)"
   ]
  },
  {
   "cell_type": "code",
   "execution_count": 63,
   "metadata": {},
   "outputs": [
    {
     "data": {
      "text/plain": [
       "C1      47.00\n",
       "C2      49.00\n",
       "C4       2.00\n",
       "C5       5.00\n",
       "C6      28.00\n",
       "C7       1.00\n",
       "C8       2.00\n",
       "C9       6.00\n",
       "C10      2.00\n",
       "C11     30.00\n",
       "C12      1.00\n",
       "C13    155.05\n",
       "C14     26.00\n",
       "Name: 0.95, dtype: float64"
      ]
     },
     "execution_count": 63,
     "metadata": {},
     "output_type": "execute_result"
    }
   ],
   "source": [
    "# 상위 95%값 확인\n",
    "Train_df[C_columns].quantile(0.95)"
   ]
  },
  {
   "cell_type": "code",
   "execution_count": 47,
   "metadata": {},
   "outputs": [
    {
     "data": {
      "text/plain": [
       "C1     1183.00\n",
       "C2     1482.00\n",
       "C4      804.00\n",
       "C5      135.00\n",
       "C6      814.00\n",
       "C7      624.03\n",
       "C8      901.04\n",
       "C9       82.00\n",
       "C10    1030.05\n",
       "C11     919.02\n",
       "C12     854.03\n",
       "C13     884.00\n",
       "C14     565.00\n",
       "Name: 0.99, dtype: float64"
      ]
     },
     "execution_count": 47,
     "metadata": {},
     "output_type": "execute_result"
    }
   ],
   "source": [
    "# 상위 99%값 확인\n",
    "Train_df[C_columns].quantile(0.99)"
   ]
  },
  {
   "cell_type": "code",
   "execution_count": 64,
   "metadata": {},
   "outputs": [],
   "source": [
    "# C 관련 변수는 모두 치우침이 매우 심각함\n",
    "# 상위 95%값과 99% 값의 차이가 너무 많이 남\n",
    "# 변수로 활용하기 어려워보임 ==> 이진화를 하기에는 자르는 구간 설정이 어려움 ==> 해당 특징을 사용하려면 트리 계열 모델 사용이 필수적"
   ]
  },
  {
   "cell_type": "markdown",
   "metadata": {},
   "source": [
    "card1, 2, 3, 5"
   ]
  },
  {
   "cell_type": "code",
   "execution_count": 65,
   "metadata": {},
   "outputs": [
    {
     "name": "stderr",
     "output_type": "stream",
     "text": [
      "findfont: Font family ['Malgun Gothic'] not found. Falling back to DejaVu Sans.\n"
     ]
    },
    {
     "data": {
      "image/png": "[encoded data removed]",
      "text/plain": [
       "<Figure size 1440x360 with 1 Axes>"
      ]
     },
     "metadata": {
      "image/png": {
       "height": 321,
       "width": 1167
      },
      "needs_background": "light"
     },
     "output_type": "display_data"
    },
    {
     "data": {
      "image/png": "[encoded data removed]",
      "text/plain": [
       "<Figure size 1440x360 with 1 Axes>"
      ]
     },
     "metadata": {
      "image/png": {
       "height": 321,
       "width": 1167
      },
      "needs_background": "light"
     },
     "output_type": "display_data"
    },
    {
     "data": {
      "image/png": "[encoded data removed]",
      "text/plain": [
       "<Figure size 1440x360 with 1 Axes>"
      ]
     },
     "metadata": {
      "image/png": {
       "height": 321,
       "width": 1174
      },
      "needs_background": "light"
     },
     "output_type": "display_data"
    },
    {
     "data": {
      "image/png": "[encoded data removed]",
      "text/plain": [
       "<Figure size 1440x360 with 1 Axes>"
      ]
     },
     "metadata": {
      "image/png": {
       "height": 321,
       "width": 1174
      },
      "needs_background": "light"
     },
     "output_type": "display_data"
    }
   ],
   "source": [
    "# 히스토그램 확인: card3과 card5의 분포가 특이함 (치우침이 특정 방향으로 일어나지는 않았음. 사실상 범주 변수로 보는 것이 바람직)\n",
    "# 연속형 변수로 간주할 수 있는 card1과 card3은 결측 처리 필요\n",
    "card_columns = ['card1', 'card2', 'card3', 'card5']\n",
    "for col in card_columns:\n",
    "    plt.title(col)\n",
    "    Train_df[col].hist(bins = 100)\n",
    "    plt.show()"
   ]
  },
  {
   "cell_type": "code",
   "execution_count": 68,
   "metadata": {},
   "outputs": [
    {
     "data": {
      "text/html": [
       "<div>\n",
       "<style scoped>\n",
       "    .dataframe tbody tr th:only-of-type {\n",
       "        vertical-align: middle;\n",
       "    }\n",
       "\n",
       "    .dataframe tbody tr th {\n",
       "        vertical-align: top;\n",
       "    }\n",
       "\n",
       "    .dataframe thead th {\n",
       "        text-align: right;\n",
       "    }\n",
       "</style>\n",
       "<table border=\"1\" class=\"dataframe\">\n",
       "  <thead>\n",
       "    <tr style=\"text-align: right;\">\n",
       "      <th></th>\n",
       "      <th>card1</th>\n",
       "      <th>card2</th>\n",
       "      <th>card3</th>\n",
       "      <th>card5</th>\n",
       "    </tr>\n",
       "  </thead>\n",
       "  <tbody>\n",
       "    <tr>\n",
       "      <th>count</th>\n",
       "      <td>75000.000000</td>\n",
       "      <td>73997.000000</td>\n",
       "      <td>74998.000000</td>\n",
       "      <td>74613.000000</td>\n",
       "    </tr>\n",
       "    <tr>\n",
       "      <th>mean</th>\n",
       "      <td>9869.781907</td>\n",
       "      <td>371.133235</td>\n",
       "      <td>153.242460</td>\n",
       "      <td>200.183654</td>\n",
       "    </tr>\n",
       "    <tr>\n",
       "      <th>std</th>\n",
       "      <td>4929.810604</td>\n",
       "      <td>159.229506</td>\n",
       "      <td>11.183124</td>\n",
       "      <td>40.808241</td>\n",
       "    </tr>\n",
       "    <tr>\n",
       "      <th>min</th>\n",
       "      <td>1001.000000</td>\n",
       "      <td>100.000000</td>\n",
       "      <td>100.000000</td>\n",
       "      <td>100.000000</td>\n",
       "    </tr>\n",
       "    <tr>\n",
       "      <th>25%</th>\n",
       "      <td>6019.000000</td>\n",
       "      <td>215.000000</td>\n",
       "      <td>150.000000</td>\n",
       "      <td>166.000000</td>\n",
       "    </tr>\n",
       "    <tr>\n",
       "      <th>50%</th>\n",
       "      <td>9633.000000</td>\n",
       "      <td>389.000000</td>\n",
       "      <td>150.000000</td>\n",
       "      <td>226.000000</td>\n",
       "    </tr>\n",
       "    <tr>\n",
       "      <th>75%</th>\n",
       "      <td>14276.000000</td>\n",
       "      <td>514.000000</td>\n",
       "      <td>150.000000</td>\n",
       "      <td>226.000000</td>\n",
       "    </tr>\n",
       "    <tr>\n",
       "      <th>max</th>\n",
       "      <td>18395.000000</td>\n",
       "      <td>600.000000</td>\n",
       "      <td>229.000000</td>\n",
       "      <td>237.000000</td>\n",
       "    </tr>\n",
       "  </tbody>\n",
       "</table>\n",
       "</div>"
      ],
      "text/plain": [
       "              card1         card2         card3         card5\n",
       "count  75000.000000  73997.000000  74998.000000  74613.000000\n",
       "mean    9869.781907    371.133235    153.242460    200.183654\n",
       "std     4929.810604    159.229506     11.183124     40.808241\n",
       "min     1001.000000    100.000000    100.000000    100.000000\n",
       "25%     6019.000000    215.000000    150.000000    166.000000\n",
       "50%     9633.000000    389.000000    150.000000    226.000000\n",
       "75%    14276.000000    514.000000    150.000000    226.000000\n",
       "max    18395.000000    600.000000    229.000000    237.000000"
      ]
     },
     "execution_count": 68,
     "metadata": {},
     "output_type": "execute_result"
    }
   ],
   "source": [
    "# 값의 분포 확인\n",
    "Train_df[card_columns].describe()"
   ]
  },
  {
   "cell_type": "code",
   "execution_count": 69,
   "metadata": {},
   "outputs": [
    {
     "data": {
      "text/plain": [
       "150.0    66434\n",
       "185.0     7261\n",
       "144.0      218\n",
       "106.0      138\n",
       "146.0      131\n",
       "         ...  \n",
       "220.0        1\n",
       "206.0        1\n",
       "198.0        1\n",
       "130.0        1\n",
       "199.0        1\n",
       "Name: card3, Length: 72, dtype: int64"
      ]
     },
     "execution_count": 69,
     "metadata": {},
     "output_type": "execute_result"
    }
   ],
   "source": [
    "Train_df['card3'].value_counts() # 150인지, 185인지 아닌지를 나타내는 변수로 변환 필요"
   ]
  },
  {
   "cell_type": "code",
   "execution_count": 70,
   "metadata": {},
   "outputs": [],
   "source": [
    "Train_df['card3_150'] = (Train_df['card3'] == 150).astype(int)\n",
    "Train_df['card3_185'] = (Train_df['card3'] == 185).astype(int)"
   ]
  },
  {
   "cell_type": "code",
   "execution_count": 71,
   "metadata": {},
   "outputs": [
    {
     "data": {
      "text/plain": [
       "card3_150\n",
       "0    0.084053\n",
       "1    0.017687\n",
       "Name: isFraud, dtype: float64"
      ]
     },
     "execution_count": 71,
     "metadata": {},
     "output_type": "execute_result"
    }
   ],
   "source": [
    "Train_df.groupby('card3_150')['isFraud'].mean() # 차이가 있음을 확인"
   ]
  },
  {
   "cell_type": "code",
   "execution_count": 72,
   "metadata": {},
   "outputs": [
    {
     "data": {
      "text/plain": [
       "card3_185\n",
       "0    0.017641\n",
       "1    0.096405\n",
       "Name: isFraud, dtype: float64"
      ]
     },
     "execution_count": 72,
     "metadata": {},
     "output_type": "execute_result"
    }
   ],
   "source": [
    "Train_df.groupby('card3_185')['isFraud'].mean() # 차이가 있음을 확인"
   ]
  },
  {
   "cell_type": "code",
   "execution_count": 73,
   "metadata": {},
   "outputs": [
    {
     "data": {
      "text/plain": [
       "226.0    38574\n",
       "224.0     9169\n",
       "166.0     5715\n",
       "102.0     4227\n",
       "117.0     2708\n",
       "         ...  \n",
       "140.0        1\n",
       "113.0        1\n",
       "214.0        1\n",
       "200.0        1\n",
       "120.0        1\n",
       "Name: card5, Length: 85, dtype: int64"
      ]
     },
     "execution_count": 73,
     "metadata": {},
     "output_type": "execute_result"
    }
   ],
   "source": [
    "Train_df['card5'].value_counts() # 226인지 아닌지를 나타내는 변수로 변환 필요"
   ]
  },
  {
   "cell_type": "code",
   "execution_count": 74,
   "metadata": {},
   "outputs": [],
   "source": [
    "Train_df['card5_226'] = (Train_df['card5'] == 226).astype(int)"
   ]
  },
  {
   "cell_type": "code",
   "execution_count": 75,
   "metadata": {},
   "outputs": [
    {
     "data": {
      "text/plain": [
       "card5_226\n",
       "0    0.030281\n",
       "1    0.020532\n",
       "Name: isFraud, dtype: float64"
      ]
     },
     "execution_count": 75,
     "metadata": {},
     "output_type": "execute_result"
    }
   ],
   "source": [
    "Train_df.groupby('card5_226')['isFraud'].mean() # 차이가 있음을 확인"
   ]
  },
  {
   "cell_type": "markdown",
   "metadata": {},
   "source": [
    "## 3. 데이터 전처리"
   ]
  },
  {
   "cell_type": "markdown",
   "metadata": {},
   "source": [
    "#### 3.1 이진화"
   ]
  },
  {
   "cell_type": "code",
   "execution_count": 94,
   "metadata": {
    "scrolled": true
   },
   "outputs": [
    {
     "data": {
      "text/plain": [
       "Index(['TransactionAmt', 'ProductCD', 'card1', 'card2', 'card3', 'card4',\n",
       "       'card5', 'card6', 'P_emaildomain', 'R_emaildomain', 'C1', 'C2', 'C3',\n",
       "       'C4', 'C5', 'C6', 'C7', 'C8', 'C9', 'C10', 'C11', 'C12', 'C13', 'C14',\n",
       "       'M1', 'M2', 'M3', 'M4', 'M5', 'M6', 'M7', 'M8', 'M9'],\n",
       "      dtype='object')"
      ]
     },
     "execution_count": 94,
     "metadata": {},
     "output_type": "execute_result"
    }
   ],
   "source": [
    "Train_X.columns"
   ]
  },
  {
   "cell_type": "markdown",
   "metadata": {},
   "source": [
    "card4 이진화"
   ]
  },
  {
   "cell_type": "code",
   "execution_count": 95,
   "metadata": {},
   "outputs": [],
   "source": [
    "Train_X['american_express'] = (Train_X.loc[:, 'card4'] == 'american express').astype(int)\n",
    "Train_X.drop('card4', axis = 1, inplace = True)"
   ]
  },
  {
   "cell_type": "code",
   "execution_count": 96,
   "metadata": {},
   "outputs": [],
   "source": [
    "Test_X['american_express'] = (Test_X.loc[:, 'card4'] == 'american express').astype(int)\n",
    "Test_X.drop('card4', axis = 1, inplace = True)"
   ]
  },
  {
   "cell_type": "markdown",
   "metadata": {},
   "source": [
    "card6 이진화"
   ]
  },
  {
   "cell_type": "code",
   "execution_count": 97,
   "metadata": {},
   "outputs": [],
   "source": [
    "Train_X['credit'] = (Train_X.loc[:, 'card6'] == 'credit').astype(int)\n",
    "Train_X.drop('card6', axis = 1, inplace = True)"
   ]
  },
  {
   "cell_type": "code",
   "execution_count": 98,
   "metadata": {},
   "outputs": [],
   "source": [
    "Test_X['credit'] = (Test_X.loc[:, 'card6'] == 'credit').astype(int)\n",
    "Test_X.drop('card6', axis = 1, inplace = True)"
   ]
  },
  {
   "cell_type": "markdown",
   "metadata": {},
   "source": [
    "same_email 변수 추가 및 기존 변수 삭제"
   ]
  },
  {
   "cell_type": "code",
   "execution_count": 99,
   "metadata": {},
   "outputs": [
    {
     "data": {
      "text/html": [
       "<div>\n",
       "<style scoped>\n",
       "    .dataframe tbody tr th:only-of-type {\n",
       "        vertical-align: middle;\n",
       "    }\n",
       "\n",
       "    .dataframe tbody tr th {\n",
       "        vertical-align: top;\n",
       "    }\n",
       "\n",
       "    .dataframe thead th {\n",
       "        text-align: right;\n",
       "    }\n",
       "</style>\n",
       "<table border=\"1\" class=\"dataframe\">\n",
       "  <thead>\n",
       "    <tr style=\"text-align: right;\">\n",
       "      <th></th>\n",
       "      <th>TransactionAmt</th>\n",
       "      <th>ProductCD</th>\n",
       "      <th>card1</th>\n",
       "      <th>card2</th>\n",
       "      <th>card3</th>\n",
       "      <th>card5</th>\n",
       "      <th>P_emaildomain</th>\n",
       "      <th>R_emaildomain</th>\n",
       "      <th>C1</th>\n",
       "      <th>C2</th>\n",
       "      <th>...</th>\n",
       "      <th>M2</th>\n",
       "      <th>M3</th>\n",
       "      <th>M4</th>\n",
       "      <th>M5</th>\n",
       "      <th>M6</th>\n",
       "      <th>M7</th>\n",
       "      <th>M8</th>\n",
       "      <th>M9</th>\n",
       "      <th>american_express</th>\n",
       "      <th>credit</th>\n",
       "    </tr>\n",
       "  </thead>\n",
       "  <tbody>\n",
       "    <tr>\n",
       "      <th>30674</th>\n",
       "      <td>445.00</td>\n",
       "      <td>W</td>\n",
       "      <td>6236</td>\n",
       "      <td>194.0</td>\n",
       "      <td>150.0</td>\n",
       "      <td>117.0</td>\n",
       "      <td>aol.com</td>\n",
       "      <td>NaN</td>\n",
       "      <td>1.0</td>\n",
       "      <td>2.0</td>\n",
       "      <td>...</td>\n",
       "      <td>T</td>\n",
       "      <td>T</td>\n",
       "      <td>M0</td>\n",
       "      <td>F</td>\n",
       "      <td>F</td>\n",
       "      <td>NaN</td>\n",
       "      <td>NaN</td>\n",
       "      <td>NaN</td>\n",
       "      <td>0</td>\n",
       "      <td>0</td>\n",
       "    </tr>\n",
       "    <tr>\n",
       "      <th>60101</th>\n",
       "      <td>107.95</td>\n",
       "      <td>W</td>\n",
       "      <td>5040</td>\n",
       "      <td>555.0</td>\n",
       "      <td>150.0</td>\n",
       "      <td>117.0</td>\n",
       "      <td>gmail.com</td>\n",
       "      <td>NaN</td>\n",
       "      <td>4.0</td>\n",
       "      <td>4.0</td>\n",
       "      <td>...</td>\n",
       "      <td>T</td>\n",
       "      <td>T</td>\n",
       "      <td>NaN</td>\n",
       "      <td>NaN</td>\n",
       "      <td>T</td>\n",
       "      <td>NaN</td>\n",
       "      <td>NaN</td>\n",
       "      <td>NaN</td>\n",
       "      <td>0</td>\n",
       "      <td>0</td>\n",
       "    </tr>\n",
       "    <tr>\n",
       "      <th>46811</th>\n",
       "      <td>107.95</td>\n",
       "      <td>W</td>\n",
       "      <td>12686</td>\n",
       "      <td>215.0</td>\n",
       "      <td>150.0</td>\n",
       "      <td>226.0</td>\n",
       "      <td>gmail.com</td>\n",
       "      <td>NaN</td>\n",
       "      <td>2.0</td>\n",
       "      <td>2.0</td>\n",
       "      <td>...</td>\n",
       "      <td>NaN</td>\n",
       "      <td>NaN</td>\n",
       "      <td>NaN</td>\n",
       "      <td>NaN</td>\n",
       "      <td>F</td>\n",
       "      <td>NaN</td>\n",
       "      <td>NaN</td>\n",
       "      <td>NaN</td>\n",
       "      <td>0</td>\n",
       "      <td>0</td>\n",
       "    </tr>\n",
       "    <tr>\n",
       "      <th>74929</th>\n",
       "      <td>226.00</td>\n",
       "      <td>W</td>\n",
       "      <td>12839</td>\n",
       "      <td>321.0</td>\n",
       "      <td>150.0</td>\n",
       "      <td>226.0</td>\n",
       "      <td>yahoo.com</td>\n",
       "      <td>NaN</td>\n",
       "      <td>2.0</td>\n",
       "      <td>3.0</td>\n",
       "      <td>...</td>\n",
       "      <td>T</td>\n",
       "      <td>T</td>\n",
       "      <td>M0</td>\n",
       "      <td>T</td>\n",
       "      <td>F</td>\n",
       "      <td>NaN</td>\n",
       "      <td>NaN</td>\n",
       "      <td>NaN</td>\n",
       "      <td>0</td>\n",
       "      <td>0</td>\n",
       "    </tr>\n",
       "    <tr>\n",
       "      <th>11689</th>\n",
       "      <td>54.00</td>\n",
       "      <td>W</td>\n",
       "      <td>15457</td>\n",
       "      <td>NaN</td>\n",
       "      <td>150.0</td>\n",
       "      <td>226.0</td>\n",
       "      <td>NaN</td>\n",
       "      <td>NaN</td>\n",
       "      <td>1.0</td>\n",
       "      <td>1.0</td>\n",
       "      <td>...</td>\n",
       "      <td>T</td>\n",
       "      <td>T</td>\n",
       "      <td>M0</td>\n",
       "      <td>T</td>\n",
       "      <td>T</td>\n",
       "      <td>F</td>\n",
       "      <td>F</td>\n",
       "      <td>T</td>\n",
       "      <td>0</td>\n",
       "      <td>0</td>\n",
       "    </tr>\n",
       "  </tbody>\n",
       "</table>\n",
       "<p>5 rows × 33 columns</p>\n",
       "</div>"
      ],
      "text/plain": [
       "       TransactionAmt ProductCD  card1  card2  card3  card5 P_emaildomain  \\\n",
       "30674          445.00         W   6236  194.0  150.0  117.0       aol.com   \n",
       "60101          107.95         W   5040  555.0  150.0  117.0     gmail.com   \n",
       "46811          107.95         W  12686  215.0  150.0  226.0     gmail.com   \n",
       "74929          226.00         W  12839  321.0  150.0  226.0     yahoo.com   \n",
       "11689           54.00         W  15457    NaN  150.0  226.0           NaN   \n",
       "\n",
       "      R_emaildomain   C1   C2  ...   M2   M3   M4   M5  M6   M7   M8   M9  \\\n",
       "30674           NaN  1.0  2.0  ...    T    T   M0    F   F  NaN  NaN  NaN   \n",
       "60101           NaN  4.0  4.0  ...    T    T  NaN  NaN   T  NaN  NaN  NaN   \n",
       "46811           NaN  2.0  2.0  ...  NaN  NaN  NaN  NaN   F  NaN  NaN  NaN   \n",
       "74929           NaN  2.0  3.0  ...    T    T   M0    T   F  NaN  NaN  NaN   \n",
       "11689           NaN  1.0  1.0  ...    T    T   M0    T   T    F    F    T   \n",
       "\n",
       "       american_express  credit  \n",
       "30674                 0       0  \n",
       "60101                 0       0  \n",
       "46811                 0       0  \n",
       "74929                 0       0  \n",
       "11689                 0       0  \n",
       "\n",
       "[5 rows x 33 columns]"
      ]
     },
     "execution_count": 99,
     "metadata": {},
     "output_type": "execute_result"
    }
   ],
   "source": [
    "Train_X.head()"
   ]
  },
  {
   "cell_type": "code",
   "execution_count": 100,
   "metadata": {},
   "outputs": [],
   "source": [
    "Train_X['NA_R_emaildomain'] = (Train_X['R_emaildomain'].isnull()).astype(int)\n",
    "Train_X['same_emaildomain'] = (Train_X['P_emaildomain'] == Train_X['R_emaildomain']).astype(int)\n",
    "Train_X.drop(['P_emaildomain', 'R_emaildomain'], axis = 1, inplace = True)"
   ]
  },
  {
   "cell_type": "code",
   "execution_count": 101,
   "metadata": {},
   "outputs": [],
   "source": [
    "Test_X['NA_R_emaildomain'] = (Test_X['R_emaildomain'].isnull()).astype(int)\n",
    "Test_X['same_emaildomain'] = (Test_X['P_emaildomain'] == Test_X['R_emaildomain']).astype(int)\n",
    "Test_X.drop(['P_emaildomain', 'R_emaildomain'], axis = 1, inplace = True)"
   ]
  },
  {
   "cell_type": "markdown",
   "metadata": {},
   "source": [
    "C3_over_1 변수 생성"
   ]
  },
  {
   "cell_type": "code",
   "execution_count": 102,
   "metadata": {},
   "outputs": [],
   "source": [
    "Train_X['C3_over_1'] = (Train_X['C3'] >= 1).astype(int)\n",
    "Train_X.drop(['C3'], axis = 1, inplace = True)"
   ]
  },
  {
   "cell_type": "code",
   "execution_count": 103,
   "metadata": {},
   "outputs": [],
   "source": [
    "Test_X['C3_over_1'] = (Test_X['C3'] >= 1).astype(int)\n",
    "Test_X.drop(['C3'], axis = 1, inplace = True)"
   ]
  },
  {
   "cell_type": "markdown",
   "metadata": {},
   "source": [
    "#### 3.2 결측 대체 및 더미화 수행"
   ]
  },
  {
   "cell_type": "code",
   "execution_count": 104,
   "metadata": {},
   "outputs": [
    {
     "data": {
      "text/plain": [
       "['M1', 'M2', 'M3', 'M4', 'M5', 'M6', 'M7', 'M8', 'M9']"
      ]
     },
     "execution_count": 104,
     "metadata": {},
     "output_type": "execute_result"
    }
   ],
   "source": [
    "M_columns"
   ]
  },
  {
   "cell_type": "code",
   "execution_count": 107,
   "metadata": {},
   "outputs": [],
   "source": [
    "from feature_engine.encoding import OneHotEncoder as OHE\n",
    "Train_X[M_columns] = Train_X[M_columns].fillna(\"결측\")\n",
    "dummy_model = OHE(variables = M_columns + ['ProductCD'], drop_last = True).fit(Train_X)\n",
    "Train_X = dummy_model.transform(Train_X)"
   ]
  },
  {
   "cell_type": "code",
   "execution_count": 109,
   "metadata": {},
   "outputs": [],
   "source": [
    "from feature_engine.encoding import OneHotEncoder as OHE\n",
    "Test_X[M_columns] = Test_X[M_columns].fillna(\"결측\")\n",
    "Test_X = dummy_model.transform(Test_X)"
   ]
  },
  {
   "cell_type": "markdown",
   "metadata": {},
   "source": [
    "#### 3.3 치우침 해소"
   ]
  },
  {
   "cell_type": "code",
   "execution_count": 110,
   "metadata": {},
   "outputs": [],
   "source": [
    "Train_X['TransactionAmt'] = np.log(Train_X['TransactionAmt'])"
   ]
  },
  {
   "cell_type": "code",
   "execution_count": 111,
   "metadata": {},
   "outputs": [],
   "source": [
    "Test_X['TransactionAmt'] = np.log(Test_X['TransactionAmt'])"
   ]
  },
  {
   "cell_type": "markdown",
   "metadata": {},
   "source": [
    "#### 3.4 연속형 변수를 이진화"
   ]
  },
  {
   "cell_type": "code",
   "execution_count": 113,
   "metadata": {},
   "outputs": [
    {
     "data": {
      "text/plain": [
       "array([150., 185., 144., 143., 146., 148., 203., 106., 117., 119., 102.,\n",
       "       121., 229., 100., 197., 138., 162., 213., 188., 147., 166., 217.,\n",
       "       191., 131., 137., 159., 149., 134., 227., 204., 135., 190., 200.,\n",
       "       214., 141., 215., 194., 210., 163., 195., 171., 186., 127., 129.,\n",
       "       116., 223., 212., 177., 167., 222., 133., 118., 189., 142., 220.,\n",
       "       207., 105., 153., 109.,  nan, 208., 180., 120., 130., 193., 111.,\n",
       "       156., 170., 206., 183., 152., 199., 198.])"
      ]
     },
     "execution_count": 113,
     "metadata": {},
     "output_type": "execute_result"
    }
   ],
   "source": [
    "Train_X['card3'].unique()"
   ]
  },
  {
   "cell_type": "code",
   "execution_count": 114,
   "metadata": {},
   "outputs": [],
   "source": [
    "Train_X['card3_150'] = (Train_X['card3'] == 150).astype(int)\n",
    "Train_X['card3_185'] = (Train_X['card3'] == 185).astype(int)\n",
    "Train_X['card5_226'] = (Train_X['card5'] == 226).astype(int)\n",
    "\n",
    "Train_X.drop(['card3', 'card5'], axis = 1, inplace = True)"
   ]
  },
  {
   "cell_type": "code",
   "execution_count": 115,
   "metadata": {},
   "outputs": [],
   "source": [
    "Test_X['card3_150'] = (Test_X['card3'] == 150).astype(int)\n",
    "Test_X['card3_185'] = (Test_X['card3'] == 185).astype(int)\n",
    "Test_X['card5_226'] = (Test_X['card5'] == 226).astype(int)\n",
    "\n",
    "Test_X.drop(['card3', 'card5'], axis = 1, inplace = True)"
   ]
  },
  {
   "cell_type": "markdown",
   "metadata": {},
   "source": [
    "#### 3.5 결측 대체 (주의: 특정 값을 기준으로 이진화하려면 결측 대체가 마지막에 나와야 함!)"
   ]
  },
  {
   "cell_type": "code",
   "execution_count": 116,
   "metadata": {},
   "outputs": [],
   "source": [
    "from sklearn.impute import SimpleImputer as SI\n",
    "imputer = SI().fit(Train_X)\n",
    "Train_X = pd.DataFrame(imputer.transform(Train_X), columns = Train_X.columns)\n",
    "Test_X = pd.DataFrame(imputer.transform(Test_X), columns = Train_X.columns)"
   ]
  },
  {
   "cell_type": "markdown",
   "metadata": {},
   "source": [
    "#### 3.6 클래스 불균형 문제"
   ]
  },
  {
   "cell_type": "code",
   "execution_count": 117,
   "metadata": {},
   "outputs": [],
   "source": [
    "# 현재 클래스 간 빈도차이가 매우 심각함을 확인 (97: 3 정도의 비율)\n",
    "# 전체 샘플 수가 10만개이므로, 오버샘플링을 수행하기에는 부적절\n",
    "# 언더샘플링을 수행하게 되면 남는 샘플이 약 4천개이며, 특징 수가 그리 많지 않음 ==> 언더샘플링 혹은 비용 민감 모델 고려 필요"
   ]
  },
  {
   "cell_type": "markdown",
   "metadata": {},
   "source": [
    "### 4. 모델 학습\n",
    "- 사용 모델: Tree 기반의 앙상블 (Random Forest, XGBoost) \n",
    "- 언더샘플링과 비용민감모델 동시 고려"
   ]
  },
  {
   "cell_type": "markdown",
   "metadata": {},
   "source": [
    "모델 파라미터 그리드 설계"
   ]
  },
  {
   "cell_type": "code",
   "execution_count": 118,
   "metadata": {},
   "outputs": [],
   "source": [
    "import copy\n",
    "from sklearn.model_selection import ParameterGrid\n",
    "from sklearn.feature_selection import *\n",
    "from sklearn.ensemble import RandomForestClassifier as RFC\n",
    "from xgboost import XGBClassifier as XGB\n",
    "from imblearn.under_sampling import NearMiss\n",
    "\n",
    "# 언더샘플링이 적용된 데이터에 사용할 그리드 생성 (복사를 위해, ParameterGrid를 일단 적용하지 않음)\n",
    "RF_grid = dict({\"n_estimators\":[100, 200],\n",
    "               \"max_depth\":[3, 4, 5, 6]})\n",
    "\n",
    "XGB_grid = dict({\"n_estimators\":[100, 200],\n",
    "               \"max_depth\":[3, 4, 5, 6],\n",
    "                \"learning_rate\":[0.05, 0.1, 0.2]})\n",
    "\n",
    "# 언더샘플링이 적용되지 않은 데이터에 사용할 그리드 생성\n",
    "class_imbalance_ratio = sum(Train_Y == 0) / sum(Train_Y == 1)\n",
    "RF_cs_grid = copy.copy(RF_grid)\n",
    "RF_cs_grid['class_weight'] = [{1:class_imbalance_ratio * w, 0:1} for w in [1, 0.9, 0.7, 0.5]]\n",
    "\n",
    "XGB_cs_grid = copy.copy(XGB_grid)\n",
    "XGB_cs_grid['class_weight'] = [{1:class_imbalance_ratio * w, 0:1} for w in [1, 0.9, 0.7, 0.5]]\n",
    "\n",
    "RF_grid = ParameterGrid(RF_grid)\n",
    "RF_cs_grid = ParameterGrid(RF_cs_grid)\n",
    "XGB_grid = ParameterGrid(XGB_grid)\n",
    "XGB_cs_grid = ParameterGrid(XGB_cs_grid)"
   ]
  },
  {
   "cell_type": "code",
   "execution_count": 123,
   "metadata": {
    "scrolled": true
   },
   "outputs": [
    {
     "data": {
      "text/plain": [
       "[{'n_estimators': [100, 200],\n",
       "  'max_depth': [3, 4, 5, 6],\n",
       "  'learning_rate': [0.05, 0.1, 0.2],\n",
       "  'class_weight': [{1: 37.75968992248062, 0: 1},\n",
       "   {1: 33.98372093023256, 0: 1},\n",
       "   {1: 26.43178294573643, 0: 1},\n",
       "   {1: 18.87984496124031, 0: 1}]}]"
      ]
     },
     "execution_count": 123,
     "metadata": {},
     "output_type": "execute_result"
    }
   ],
   "source": [
    "XGB_cs_grid.param_grid"
   ]
  },
  {
   "cell_type": "code",
   "execution_count": 125,
   "metadata": {},
   "outputs": [
    {
     "data": {
      "text/plain": [
       "0    73065\n",
       "1     1935\n",
       "Name: isFraud, dtype: int64"
      ]
     },
     "execution_count": 125,
     "metadata": {},
     "output_type": "execute_result"
    }
   ],
   "source": [
    "Train_Y.value_counts()"
   ]
  },
  {
   "cell_type": "code",
   "execution_count": 75,
   "metadata": {},
   "outputs": [],
   "source": [
    "# 최종 그리드 생성 및 모델 테스트 함수 생성\n",
    "grid_for_cs_model = {RFC:RF_cs_grid, XGB:XGB_cs_grid}\n",
    "grid_for_not_cs_model = {RFC:RF_grid, XGB:XGB_grid}\n",
    "\n",
    "from sklearn.metrics import f1_score\n",
    "def model_test(model, test_x, test_y):\n",
    "    pred_Y = model.predict(test_x)\n",
    "    return f1_score(test_y, pred_Y)"
   ]
  },
  {
   "cell_type": "markdown",
   "metadata": {},
   "source": [
    "파라미터 튜닝 "
   ]
  },
  {
   "cell_type": "code",
   "execution_count": 76,
   "metadata": {},
   "outputs": [
    {
     "name": "stdout",
     "output_type": "stream",
     "text": [
      "1 / 768 0.20132450331125828\n",
      "2 / 768 0.20132450331125828\n",
      "3 / 768 0.20132450331125828\n",
      "4 / 768 0.20132450331125828\n",
      "5 / 768 0.20132450331125828\n",
      "6 / 768 0.20132450331125828\n",
      "7 / 768 0.20132450331125828\n",
      "8 / 768 0.20132450331125828\n",
      "9 / 768 0.22966867469879515\n",
      "10 / 768 0.22966867469879515\n",
      "11 / 768 0.22966867469879515\n",
      "12 / 768 0.22966867469879515\n",
      "13 / 768 0.22966867469879515\n",
      "14 / 768 0.22966867469879515\n",
      "15 / 768 0.22966867469879515\n",
      "16 / 768 0.22966867469879515\n",
      "17 / 768 0.23612334801762114\n",
      "18 / 768 0.24226579520697167\n",
      "19 / 768 0.25701130179991627\n",
      "20 / 768 0.25701130179991627\n",
      "21 / 768 0.2910874897792314\n",
      "22 / 768 0.2910874897792314\n",
      "23 / 768 0.3151515151515151\n",
      "24 / 768 0.31685678073510776\n",
      "25 / 768 0.31685678073510776\n",
      "26 / 768 0.31685678073510776\n",
      "27 / 768 0.31685678073510776\n",
      "28 / 768 0.31685678073510776\n",
      "29 / 768 0.3269447576099211\n",
      "30 / 768 0.3269447576099211\n",
      "31 / 768 0.34387579068430135\n",
      "32 / 768 0.35918854415274465\n",
      "33 / 768 0.35918854415274465\n",
      "34 / 768 0.35918854415274465\n",
      "35 / 768 0.35918854415274465\n",
      "36 / 768 0.3847102342786683\n",
      "37 / 768 0.3847102342786683\n",
      "38 / 768 0.44152744630071605\n",
      "39 / 768 0.44152744630071605\n",
      "40 / 768 0.5074626865671642\n",
      "41 / 768 0.5074626865671642\n",
      "42 / 768 0.5074626865671642\n",
      "43 / 768 0.5074626865671642\n",
      "44 / 768 0.5074626865671642\n",
      "45 / 768 0.5074626865671642\n",
      "46 / 768 0.525959367945824\n",
      "47 / 768 0.5289443813847899\n",
      "48 / 768 0.5788900979325353\n",
      "49 / 768 0.5788900979325353\n",
      "50 / 768 0.5788900979325353\n",
      "51 / 768 0.5788900979325353\n",
      "52 / 768 0.5788900979325353\n",
      "53 / 768 0.5788900979325353\n",
      "54 / 768 0.6004273504273504\n",
      "55 / 768 0.6004273504273504\n",
      "56 / 768 0.6326742976066597\n",
      "57 / 768 0.6326742976066597\n",
      "58 / 768 0.6326742976066597\n",
      "59 / 768 0.6326742976066597\n",
      "60 / 768 0.6326742976066597\n",
      "61 / 768 0.6326742976066597\n",
      "62 / 768 0.6326742976066597\n",
      "63 / 768 0.6326742976066597\n",
      "64 / 768 0.6326742976066597\n",
      "65 / 768 0.6326742976066597\n",
      "66 / 768 0.6326742976066597\n",
      "67 / 768 0.6326742976066597\n",
      "68 / 768 0.6326742976066597\n",
      "69 / 768 0.6326742976066597\n",
      "70 / 768 0.6326742976066597\n",
      "71 / 768 0.6326742976066597\n",
      "72 / 768 0.6326742976066597\n",
      "73 / 768 0.6326742976066597\n",
      "74 / 768 0.6326742976066597\n",
      "75 / 768 0.6326742976066597\n",
      "76 / 768 0.6326742976066597\n",
      "77 / 768 0.6326742976066597\n",
      "78 / 768 0.6326742976066597\n",
      "79 / 768 0.6326742976066597\n",
      "80 / 768 0.6326742976066597\n",
      "81 / 768 0.6326742976066597\n",
      "82 / 768 0.6326742976066597\n",
      "83 / 768 0.6326742976066597\n",
      "84 / 768 0.6326742976066597\n",
      "85 / 768 0.6326742976066597\n",
      "86 / 768 0.6326742976066597\n",
      "87 / 768 0.6326742976066597\n",
      "88 / 768 0.6326742976066597\n",
      "89 / 768 0.6326742976066597\n",
      "90 / 768 0.6326742976066597\n",
      "91 / 768 0.6326742976066597\n",
      "92 / 768 0.6326742976066597\n",
      "93 / 768 0.6326742976066597\n",
      "94 / 768 0.6326742976066597\n",
      "95 / 768 0.6326742976066597\n",
      "96 / 768 0.6326742976066597\n",
      "97 / 768 0.6326742976066597\n",
      "98 / 768 0.6326742976066597\n",
      "99 / 768 0.6326742976066597\n",
      "100 / 768 0.6326742976066597\n",
      "101 / 768 0.6326742976066597\n",
      "102 / 768 0.6326742976066597\n",
      "103 / 768 0.6326742976066597\n",
      "104 / 768 0.6326742976066597\n",
      "105 / 768 0.6326742976066597\n",
      "106 / 768 0.6326742976066597\n",
      "107 / 768 0.6326742976066597\n",
      "108 / 768 0.6326742976066597\n",
      "109 / 768 0.6326742976066597\n",
      "110 / 768 0.6326742976066597\n",
      "111 / 768 0.6326742976066597\n",
      "112 / 768 0.6326742976066597\n",
      "113 / 768 0.6326742976066597\n",
      "114 / 768 0.6326742976066597\n",
      "115 / 768 0.6326742976066597\n",
      "116 / 768 0.6326742976066597\n",
      "117 / 768 0.6326742976066597\n",
      "118 / 768 0.6326742976066597\n",
      "119 / 768 0.6326742976066597\n",
      "120 / 768 0.6326742976066597\n",
      "121 / 768 0.6326742976066597\n",
      "122 / 768 0.6326742976066597\n",
      "123 / 768 0.6326742976066597\n",
      "124 / 768 0.6326742976066597\n",
      "125 / 768 0.6326742976066597\n",
      "126 / 768 0.6326742976066597\n",
      "127 / 768 0.6326742976066597\n",
      "128 / 768 0.6326742976066597\n",
      "129 / 768 0.6326742976066597\n",
      "130 / 768 0.6326742976066597\n",
      "131 / 768 0.6326742976066597\n",
      "132 / 768 0.6326742976066597\n",
      "133 / 768 0.6326742976066597\n",
      "134 / 768 0.6326742976066597\n",
      "135 / 768 0.6326742976066597\n",
      "136 / 768 0.6326742976066597\n",
      "137 / 768 0.6326742976066597\n",
      "138 / 768 0.6326742976066597\n",
      "139 / 768 0.6326742976066597\n",
      "140 / 768 0.6326742976066597\n",
      "141 / 768 0.6326742976066597\n",
      "142 / 768 0.6326742976066597\n",
      "143 / 768 0.6326742976066597\n",
      "144 / 768 0.6326742976066597\n",
      "145 / 768 0.6326742976066597\n",
      "146 / 768 0.6326742976066597\n",
      "147 / 768 0.6326742976066597\n",
      "148 / 768 0.6326742976066597\n",
      "149 / 768 0.6326742976066597\n",
      "150 / 768 0.6326742976066597\n",
      "151 / 768 0.6326742976066597\n",
      "152 / 768 0.6326742976066597\n",
      "153 / 768 0.6326742976066597\n",
      "154 / 768 0.6326742976066597\n",
      "155 / 768 0.6326742976066597\n",
      "156 / 768 0.6326742976066597\n",
      "157 / 768 0.6326742976066597\n",
      "158 / 768 0.6326742976066597\n",
      "159 / 768 0.6326742976066597\n",
      "160 / 768 0.6326742976066597\n",
      "161 / 768 0.6326742976066597\n",
      "162 / 768 0.6326742976066597\n",
      "163 / 768 0.6326742976066597\n",
      "164 / 768 0.6326742976066597\n",
      "165 / 768 0.6326742976066597\n",
      "166 / 768 0.6326742976066597\n",
      "167 / 768 0.6326742976066597\n",
      "168 / 768 0.6326742976066597\n",
      "169 / 768 0.6326742976066597\n",
      "170 / 768 0.6326742976066597\n",
      "171 / 768 0.6326742976066597\n",
      "172 / 768 0.6326742976066597\n",
      "173 / 768 0.6326742976066597\n",
      "174 / 768 0.6326742976066597\n",
      "175 / 768 0.6326742976066597\n",
      "176 / 768 0.6326742976066597\n",
      "177 / 768 0.6326742976066597\n",
      "178 / 768 0.6326742976066597\n",
      "179 / 768 0.6326742976066597\n",
      "180 / 768 0.6326742976066597\n",
      "181 / 768 0.6326742976066597\n",
      "182 / 768 0.6326742976066597\n",
      "183 / 768 0.6326742976066597\n",
      "184 / 768 0.6390041493775934\n",
      "185 / 768 0.6390041493775934\n",
      "186 / 768 0.6390041493775934\n",
      "187 / 768 0.6390041493775934\n",
      "188 / 768 0.6390041493775934\n",
      "189 / 768 0.6390041493775934\n",
      "190 / 768 0.6390041493775934\n",
      "191 / 768 0.6390041493775934\n",
      "192 / 768 0.6390041493775934\n",
      "193 / 768 0.6390041493775934\n",
      "194 / 768 0.6390041493775934\n",
      "195 / 768 0.6390041493775934\n",
      "196 / 768 0.6390041493775934\n",
      "197 / 768 0.6390041493775934\n",
      "198 / 768 0.6390041493775934\n",
      "199 / 768 0.6390041493775934\n",
      "200 / 768 0.6390041493775934\n",
      "201 / 768 0.6390041493775934\n",
      "202 / 768 0.6390041493775934\n",
      "203 / 768 0.6390041493775934\n",
      "204 / 768 0.6390041493775934\n",
      "205 / 768 0.6390041493775934\n",
      "206 / 768 0.6390041493775934\n",
      "207 / 768 0.6390041493775934\n",
      "208 / 768 0.6390041493775934\n",
      "209 / 768 0.6390041493775934\n",
      "210 / 768 0.6390041493775934\n",
      "211 / 768 0.6390041493775934\n",
      "212 / 768 0.6390041493775934\n",
      "213 / 768 0.6390041493775934\n",
      "214 / 768 0.6390041493775934\n",
      "215 / 768 0.6390041493775934\n",
      "216 / 768 0.6390041493775934\n",
      "217 / 768 0.6390041493775934\n",
      "218 / 768 0.6390041493775934\n",
      "219 / 768 0.6390041493775934\n",
      "220 / 768 0.6390041493775934\n",
      "221 / 768 0.6390041493775934\n",
      "222 / 768 0.6390041493775934\n",
      "223 / 768 0.6390041493775934\n",
      "224 / 768 0.6390041493775934\n",
      "225 / 768 0.6390041493775934\n",
      "226 / 768 0.6390041493775934\n",
      "227 / 768 0.6390041493775934\n",
      "228 / 768 0.6390041493775934\n",
      "229 / 768 0.6390041493775934\n",
      "230 / 768 0.6390041493775934\n",
      "231 / 768 0.6390041493775934\n",
      "232 / 768 0.6390041493775934\n",
      "233 / 768 0.6390041493775934\n",
      "234 / 768 0.6390041493775934\n",
      "235 / 768 0.6390041493775934\n",
      "236 / 768 0.6390041493775934\n",
      "237 / 768 0.6390041493775934\n",
      "238 / 768 0.6390041493775934\n",
      "239 / 768 0.6390041493775934\n",
      "240 / 768 0.6390041493775934\n",
      "241 / 768 0.6390041493775934\n",
      "242 / 768 0.6390041493775934\n",
      "243 / 768 0.6390041493775934\n",
      "244 / 768 0.6390041493775934\n",
      "245 / 768 0.6390041493775934\n",
      "246 / 768 0.6390041493775934\n",
      "247 / 768 0.6390041493775934\n",
      "248 / 768 0.6390041493775934\n",
      "249 / 768 0.6390041493775934\n",
      "250 / 768 0.6390041493775934\n",
      "251 / 768 0.6390041493775934\n",
      "252 / 768 0.6390041493775934\n",
      "253 / 768 0.6390041493775934\n",
      "254 / 768 0.6390041493775934\n",
      "255 / 768 0.6390041493775934\n",
      "256 / 768 0.6390041493775934\n",
      "257 / 768 0.6390041493775934\n",
      "258 / 768 0.6390041493775934\n",
      "259 / 768 0.6390041493775934\n",
      "260 / 768 0.6390041493775934\n",
      "261 / 768 0.6390041493775934\n",
      "262 / 768 0.6390041493775934\n",
      "263 / 768 0.6390041493775934\n",
      "264 / 768 0.6390041493775934\n",
      "265 / 768 0.6390041493775934\n",
      "266 / 768 0.6390041493775934\n",
      "267 / 768 0.6390041493775934\n",
      "268 / 768 0.6390041493775934\n",
      "269 / 768 0.6390041493775934\n",
      "270 / 768 0.6390041493775934\n",
      "271 / 768 0.6390041493775934\n",
      "272 / 768 0.6390041493775934\n",
      "273 / 768 0.6390041493775934\n",
      "274 / 768 0.6390041493775934\n",
      "275 / 768 0.6390041493775934\n",
      "276 / 768 0.6390041493775934\n",
      "277 / 768 0.6390041493775934\n",
      "278 / 768 0.6390041493775934\n",
      "279 / 768 0.6390041493775934\n",
      "280 / 768 0.6390041493775934\n",
      "281 / 768 0.6390041493775934\n",
      "282 / 768 0.6390041493775934\n",
      "283 / 768 0.6390041493775934\n",
      "284 / 768 0.6390041493775934\n",
      "285 / 768 0.6390041493775934\n",
      "286 / 768 0.6390041493775934\n",
      "287 / 768 0.6390041493775934\n",
      "288 / 768 0.6390041493775934\n",
      "289 / 768 0.6390041493775934\n",
      "290 / 768 0.6390041493775934\n",
      "291 / 768 0.6390041493775934\n",
      "292 / 768 0.6390041493775934\n",
      "293 / 768 0.6390041493775934\n",
      "294 / 768 0.6390041493775934\n",
      "295 / 768 0.6390041493775934\n",
      "296 / 768 0.6390041493775934\n",
      "297 / 768 0.6390041493775934\n",
      "298 / 768 0.6390041493775934\n",
      "299 / 768 0.6390041493775934\n",
      "300 / 768 0.6390041493775934\n",
      "301 / 768 0.6390041493775934\n",
      "302 / 768 0.6390041493775934\n",
      "303 / 768 0.6390041493775934\n",
      "304 / 768 0.6390041493775934\n",
      "305 / 768 0.6390041493775934\n",
      "306 / 768 0.6390041493775934\n",
      "307 / 768 0.6390041493775934\n",
      "308 / 768 0.6390041493775934\n",
      "309 / 768 0.6390041493775934\n",
      "310 / 768 0.6390041493775934\n",
      "311 / 768 0.6390041493775934\n",
      "312 / 768 0.6390041493775934\n",
      "313 / 768 0.6390041493775934\n",
      "314 / 768 0.6390041493775934\n",
      "315 / 768 0.6390041493775934\n",
      "316 / 768 0.6390041493775934\n",
      "317 / 768 0.6390041493775934\n",
      "318 / 768 0.6390041493775934\n",
      "319 / 768 0.6390041493775934\n",
      "320 / 768 0.6390041493775934\n",
      "321 / 768 0.6390041493775934\n",
      "322 / 768 0.6390041493775934\n",
      "323 / 768 0.6390041493775934\n",
      "324 / 768 0.6390041493775934\n",
      "325 / 768 0.6390041493775934\n",
      "326 / 768 0.6390041493775934\n",
      "327 / 768 0.6390041493775934\n",
      "328 / 768 0.6390041493775934\n",
      "329 / 768 0.6390041493775934\n",
      "330 / 768 0.6390041493775934\n",
      "331 / 768 0.6390041493775934\n",
      "332 / 768 0.6390041493775934\n",
      "333 / 768 0.6390041493775934\n",
      "334 / 768 0.6390041493775934\n",
      "335 / 768 0.6390041493775934\n",
      "336 / 768 0.6390041493775934\n",
      "337 / 768 0.6390041493775934\n",
      "338 / 768 0.6390041493775934\n",
      "339 / 768 0.6390041493775934\n",
      "340 / 768 0.6390041493775934\n",
      "341 / 768 0.6390041493775934\n",
      "342 / 768 0.6390041493775934\n",
      "343 / 768 0.6390041493775934\n",
      "344 / 768 0.6390041493775934\n",
      "345 / 768 0.6390041493775934\n",
      "346 / 768 0.6390041493775934\n",
      "347 / 768 0.6390041493775934\n",
      "348 / 768 0.6390041493775934\n",
      "349 / 768 0.6390041493775934\n",
      "350 / 768 0.6390041493775934\n",
      "351 / 768 0.6390041493775934\n",
      "352 / 768 0.6390041493775934\n",
      "353 / 768 0.6390041493775934\n",
      "354 / 768 0.6390041493775934\n",
      "355 / 768 0.6390041493775934\n",
      "356 / 768 0.6390041493775934\n",
      "357 / 768 0.6390041493775934\n",
      "358 / 768 0.6390041493775934\n",
      "359 / 768 0.6390041493775934\n",
      "360 / 768 0.6390041493775934\n",
      "361 / 768 0.6390041493775934\n",
      "362 / 768 0.6390041493775934\n",
      "363 / 768 0.6390041493775934\n",
      "364 / 768 0.6390041493775934\n",
      "365 / 768 0.6390041493775934\n",
      "366 / 768 0.6390041493775934\n",
      "367 / 768 0.6390041493775934\n",
      "368 / 768 0.6390041493775934\n",
      "369 / 768 0.6390041493775934\n",
      "370 / 768 0.6390041493775934\n",
      "371 / 768 0.6390041493775934\n",
      "372 / 768 0.6390041493775934\n",
      "373 / 768 0.6390041493775934\n",
      "374 / 768 0.6390041493775934\n",
      "375 / 768 0.6390041493775934\n",
      "376 / 768 0.6390041493775934\n",
      "377 / 768 0.6390041493775934\n",
      "378 / 768 0.6390041493775934\n",
      "379 / 768 0.6390041493775934\n",
      "380 / 768 0.6390041493775934\n",
      "381 / 768 0.6390041493775934\n",
      "382 / 768 0.6390041493775934\n",
      "383 / 768 0.6390041493775934\n",
      "384 / 768 0.6390041493775934\n",
      "385 / 768 0.6390041493775934\n",
      "386 / 768 0.6390041493775934\n",
      "387 / 768 0.6390041493775934\n",
      "388 / 768 0.6390041493775934\n",
      "389 / 768 0.6390041493775934\n",
      "390 / 768 0.6390041493775934\n",
      "391 / 768 0.6390041493775934\n",
      "392 / 768 0.6390041493775934\n",
      "393 / 768 0.6390041493775934\n",
      "394 / 768 0.6390041493775934\n",
      "395 / 768 0.6390041493775934\n",
      "396 / 768 0.6390041493775934\n",
      "397 / 768 0.6390041493775934\n",
      "398 / 768 0.6390041493775934\n",
      "399 / 768 0.6390041493775934\n",
      "400 / 768 0.6390041493775934\n",
      "401 / 768 0.6390041493775934\n",
      "402 / 768 0.6390041493775934\n",
      "403 / 768 0.6390041493775934\n",
      "404 / 768 0.6390041493775934\n",
      "405 / 768 0.6390041493775934\n",
      "406 / 768 0.6390041493775934\n",
      "407 / 768 0.6390041493775934\n",
      "408 / 768 0.6390041493775934\n",
      "409 / 768 0.6390041493775934\n",
      "410 / 768 0.6390041493775934\n",
      "411 / 768 0.6390041493775934\n",
      "412 / 768 0.6390041493775934\n",
      "413 / 768 0.6390041493775934\n",
      "414 / 768 0.6390041493775934\n",
      "415 / 768 0.6390041493775934\n",
      "416 / 768 0.6390041493775934\n",
      "417 / 768 0.6390041493775934\n",
      "418 / 768 0.6390041493775934\n",
      "419 / 768 0.6390041493775934\n",
      "420 / 768 0.6390041493775934\n",
      "421 / 768 0.6390041493775934\n",
      "422 / 768 0.6390041493775934\n",
      "423 / 768 0.6390041493775934\n",
      "424 / 768 0.6390041493775934\n",
      "425 / 768 0.6390041493775934\n",
      "426 / 768 0.6390041493775934\n",
      "427 / 768 0.6390041493775934\n",
      "428 / 768 0.6390041493775934\n",
      "429 / 768 0.6390041493775934\n",
      "430 / 768 0.6390041493775934\n",
      "431 / 768 0.6390041493775934\n",
      "432 / 768 0.6390041493775934\n",
      "433 / 768 0.6390041493775934\n",
      "434 / 768 0.6390041493775934\n",
      "435 / 768 0.6390041493775934\n",
      "436 / 768 0.6390041493775934\n",
      "437 / 768 0.6390041493775934\n",
      "438 / 768 0.6390041493775934\n",
      "439 / 768 0.6390041493775934\n",
      "440 / 768 0.6390041493775934\n",
      "441 / 768 0.6390041493775934\n",
      "442 / 768 0.6390041493775934\n",
      "443 / 768 0.6390041493775934\n",
      "444 / 768 0.6390041493775934\n",
      "445 / 768 0.6390041493775934\n",
      "446 / 768 0.6390041493775934\n",
      "447 / 768 0.6390041493775934\n",
      "448 / 768 0.6390041493775934\n",
      "449 / 768 0.6390041493775934\n",
      "450 / 768 0.6390041493775934\n",
      "451 / 768 0.6390041493775934\n",
      "452 / 768 0.6390041493775934\n",
      "453 / 768 0.6390041493775934\n",
      "454 / 768 0.6390041493775934\n",
      "455 / 768 0.6390041493775934\n",
      "456 / 768 0.6390041493775934\n",
      "457 / 768 0.6390041493775934\n",
      "458 / 768 0.6390041493775934\n",
      "459 / 768 0.6390041493775934\n",
      "460 / 768 0.6390041493775934\n",
      "461 / 768 0.6390041493775934\n",
      "462 / 768 0.6390041493775934\n",
      "463 / 768 0.6390041493775934\n",
      "464 / 768 0.6390041493775934\n",
      "465 / 768 0.6390041493775934\n",
      "466 / 768 0.6390041493775934\n",
      "467 / 768 0.6390041493775934\n",
      "468 / 768 0.6390041493775934\n",
      "469 / 768 0.6390041493775934\n",
      "470 / 768 0.6390041493775934\n",
      "471 / 768 0.6390041493775934\n",
      "472 / 768 0.6390041493775934\n",
      "473 / 768 0.6390041493775934\n",
      "474 / 768 0.6390041493775934\n",
      "475 / 768 0.6390041493775934\n",
      "476 / 768 0.6390041493775934\n",
      "477 / 768 0.6390041493775934\n",
      "478 / 768 0.6390041493775934\n",
      "479 / 768 0.6390041493775934\n",
      "480 / 768 0.6390041493775934\n",
      "481 / 768 0.6390041493775934\n",
      "482 / 768 0.6390041493775934\n",
      "483 / 768 0.6390041493775934\n",
      "484 / 768 0.6390041493775934\n",
      "485 / 768 0.6390041493775934\n",
      "486 / 768 0.6390041493775934\n",
      "487 / 768 0.6390041493775934\n",
      "488 / 768 0.6390041493775934\n",
      "489 / 768 0.6390041493775934\n",
      "490 / 768 0.6390041493775934\n",
      "491 / 768 0.6390041493775934\n",
      "492 / 768 0.6390041493775934\n",
      "493 / 768 0.6390041493775934\n",
      "494 / 768 0.6390041493775934\n",
      "495 / 768 0.6390041493775934\n",
      "496 / 768 0.6390041493775934\n",
      "497 / 768 0.6390041493775934\n",
      "498 / 768 0.6390041493775934\n",
      "499 / 768 0.6390041493775934\n",
      "500 / 768 0.6390041493775934\n",
      "501 / 768 0.6390041493775934\n",
      "502 / 768 0.6390041493775934\n",
      "503 / 768 0.6390041493775934\n",
      "504 / 768 0.6390041493775934\n",
      "505 / 768 0.6390041493775934\n",
      "506 / 768 0.6390041493775934\n",
      "507 / 768 0.6390041493775934\n",
      "508 / 768 0.6390041493775934\n",
      "509 / 768 0.6390041493775934\n",
      "510 / 768 0.6390041493775934\n",
      "511 / 768 0.6390041493775934\n",
      "512 / 768 0.6390041493775934\n",
      "513 / 768 0.6390041493775934\n",
      "514 / 768 0.6390041493775934\n",
      "515 / 768 0.6390041493775934\n",
      "516 / 768 0.6390041493775934\n",
      "517 / 768 0.6390041493775934\n",
      "518 / 768 0.6390041493775934\n",
      "519 / 768 0.6390041493775934\n",
      "520 / 768 0.6390041493775934\n",
      "521 / 768 0.6390041493775934\n",
      "522 / 768 0.6390041493775934\n",
      "523 / 768 0.6390041493775934\n",
      "524 / 768 0.6390041493775934\n",
      "525 / 768 0.6390041493775934\n",
      "526 / 768 0.6390041493775934\n",
      "527 / 768 0.6390041493775934\n",
      "528 / 768 0.6390041493775934\n",
      "529 / 768 0.6390041493775934\n",
      "530 / 768 0.6390041493775934\n",
      "531 / 768 0.6390041493775934\n",
      "532 / 768 0.6390041493775934\n",
      "533 / 768 0.6390041493775934\n",
      "534 / 768 0.6390041493775934\n",
      "535 / 768 0.6390041493775934\n",
      "536 / 768 0.6390041493775934\n",
      "537 / 768 0.6390041493775934\n",
      "538 / 768 0.6390041493775934\n",
      "539 / 768 0.6390041493775934\n",
      "540 / 768 0.6390041493775934\n",
      "541 / 768 0.6390041493775934\n",
      "542 / 768 0.6390041493775934\n",
      "543 / 768 0.6390041493775934\n",
      "544 / 768 0.6390041493775934\n",
      "545 / 768 0.6390041493775934\n",
      "546 / 768 0.6390041493775934\n",
      "547 / 768 0.6390041493775934\n",
      "548 / 768 0.6390041493775934\n",
      "549 / 768 0.6390041493775934\n",
      "550 / 768 0.6390041493775934\n",
      "551 / 768 0.6390041493775934\n",
      "552 / 768 0.6390041493775934\n",
      "553 / 768 0.6390041493775934\n",
      "554 / 768 0.6390041493775934\n",
      "555 / 768 0.6390041493775934\n",
      "556 / 768 0.6390041493775934\n",
      "557 / 768 0.6390041493775934\n",
      "558 / 768 0.6390041493775934\n",
      "559 / 768 0.6390041493775934\n",
      "560 / 768 0.6390041493775934\n",
      "561 / 768 0.6390041493775934\n",
      "562 / 768 0.6390041493775934\n",
      "563 / 768 0.6390041493775934\n",
      "564 / 768 0.6390041493775934\n",
      "565 / 768 0.6390041493775934\n",
      "566 / 768 0.6390041493775934\n",
      "567 / 768 0.6390041493775934\n",
      "568 / 768 0.6390041493775934\n",
      "569 / 768 0.6390041493775934\n",
      "570 / 768 0.6390041493775934\n",
      "571 / 768 0.6390041493775934\n",
      "572 / 768 0.6390041493775934\n",
      "573 / 768 0.6390041493775934\n",
      "574 / 768 0.6390041493775934\n",
      "575 / 768 0.6390041493775934\n",
      "576 / 768 0.6390041493775934\n",
      "577 / 768 0.6390041493775934\n",
      "578 / 768 0.6390041493775934\n",
      "579 / 768 0.6390041493775934\n",
      "580 / 768 0.6390041493775934\n",
      "581 / 768 0.6390041493775934\n",
      "582 / 768 0.6390041493775934\n",
      "583 / 768 0.6390041493775934\n",
      "584 / 768 0.6390041493775934\n",
      "585 / 768 0.6390041493775934\n",
      "586 / 768 0.6390041493775934\n",
      "587 / 768 0.6390041493775934\n",
      "588 / 768 0.6390041493775934\n",
      "589 / 768 0.6390041493775934\n",
      "590 / 768 0.6390041493775934\n",
      "591 / 768 0.6390041493775934\n",
      "592 / 768 0.6390041493775934\n",
      "593 / 768 0.6390041493775934\n",
      "594 / 768 0.6390041493775934\n",
      "595 / 768 0.6390041493775934\n",
      "596 / 768 0.6390041493775934\n",
      "597 / 768 0.6390041493775934\n",
      "598 / 768 0.6390041493775934\n",
      "599 / 768 0.6390041493775934\n",
      "600 / 768 0.6390041493775934\n",
      "601 / 768 0.6390041493775934\n",
      "602 / 768 0.6390041493775934\n",
      "603 / 768 0.6390041493775934\n",
      "604 / 768 0.6390041493775934\n",
      "605 / 768 0.6390041493775934\n",
      "606 / 768 0.6390041493775934\n",
      "607 / 768 0.6390041493775934\n",
      "608 / 768 0.6390041493775934\n",
      "609 / 768 0.6390041493775934\n",
      "610 / 768 0.6390041493775934\n",
      "611 / 768 0.6390041493775934\n",
      "612 / 768 0.6390041493775934\n",
      "613 / 768 0.6390041493775934\n",
      "614 / 768 0.6390041493775934\n",
      "615 / 768 0.6390041493775934\n",
      "616 / 768 0.6390041493775934\n",
      "617 / 768 0.6390041493775934\n",
      "618 / 768 0.6390041493775934\n",
      "619 / 768 0.6390041493775934\n",
      "620 / 768 0.6390041493775934\n",
      "621 / 768 0.6390041493775934\n",
      "622 / 768 0.6390041493775934\n",
      "623 / 768 0.6390041493775934\n",
      "624 / 768 0.6390041493775934\n",
      "625 / 768 0.6390041493775934\n",
      "626 / 768 0.6390041493775934\n",
      "627 / 768 0.6390041493775934\n",
      "628 / 768 0.6390041493775934\n",
      "629 / 768 0.6390041493775934\n",
      "630 / 768 0.6390041493775934\n",
      "631 / 768 0.6390041493775934\n",
      "632 / 768 0.6390041493775934\n",
      "633 / 768 0.6390041493775934\n",
      "634 / 768 0.6390041493775934\n",
      "635 / 768 0.6390041493775934\n",
      "636 / 768 0.6390041493775934\n",
      "637 / 768 0.6390041493775934\n",
      "638 / 768 0.6390041493775934\n",
      "639 / 768 0.6390041493775934\n",
      "640 / 768 0.6390041493775934\n",
      "641 / 768 0.6390041493775934\n",
      "642 / 768 0.6390041493775934\n",
      "643 / 768 0.6390041493775934\n",
      "644 / 768 0.6390041493775934\n",
      "645 / 768 0.6390041493775934\n",
      "646 / 768 0.6390041493775934\n",
      "647 / 768 0.6390041493775934\n",
      "648 / 768 0.6390041493775934\n",
      "649 / 768 0.6390041493775934\n",
      "650 / 768 0.6390041493775934\n",
      "651 / 768 0.6390041493775934\n",
      "652 / 768 0.6390041493775934\n",
      "653 / 768 0.6390041493775934\n",
      "654 / 768 0.6390041493775934\n",
      "655 / 768 0.6390041493775934\n",
      "656 / 768 0.6390041493775934\n",
      "657 / 768 0.6390041493775934\n",
      "658 / 768 0.6390041493775934\n",
      "659 / 768 0.6390041493775934\n",
      "660 / 768 0.6390041493775934\n",
      "661 / 768 0.6390041493775934\n",
      "662 / 768 0.6390041493775934\n",
      "663 / 768 0.6390041493775934\n",
      "664 / 768 0.6390041493775934\n",
      "665 / 768 0.6390041493775934\n",
      "666 / 768 0.6390041493775934\n",
      "667 / 768 0.6390041493775934\n",
      "668 / 768 0.6390041493775934\n",
      "669 / 768 0.6390041493775934\n",
      "670 / 768 0.6390041493775934\n",
      "671 / 768 0.6390041493775934\n",
      "672 / 768 0.6390041493775934\n",
      "673 / 768 0.6390041493775934\n",
      "674 / 768 0.6390041493775934\n",
      "675 / 768 0.6390041493775934\n",
      "676 / 768 0.6390041493775934\n",
      "677 / 768 0.6390041493775934\n",
      "678 / 768 0.6390041493775934\n",
      "679 / 768 0.6390041493775934\n",
      "680 / 768 0.6390041493775934\n",
      "681 / 768 0.6390041493775934\n",
      "682 / 768 0.6390041493775934\n",
      "683 / 768 0.6390041493775934\n",
      "684 / 768 0.6390041493775934\n",
      "685 / 768 0.6390041493775934\n",
      "686 / 768 0.6390041493775934\n",
      "687 / 768 0.6390041493775934\n",
      "688 / 768 0.6390041493775934\n",
      "689 / 768 0.6390041493775934\n",
      "690 / 768 0.6390041493775934\n",
      "691 / 768 0.6390041493775934\n",
      "692 / 768 0.6390041493775934\n",
      "693 / 768 0.6390041493775934\n",
      "694 / 768 0.6390041493775934\n",
      "695 / 768 0.6390041493775934\n",
      "696 / 768 0.6390041493775934\n",
      "697 / 768 0.6390041493775934\n",
      "698 / 768 0.6390041493775934\n",
      "699 / 768 0.6390041493775934\n",
      "700 / 768 0.6390041493775934\n",
      "701 / 768 0.6390041493775934\n",
      "702 / 768 0.6390041493775934\n",
      "703 / 768 0.6390041493775934\n",
      "704 / 768 0.6390041493775934\n",
      "705 / 768 0.6390041493775934\n",
      "706 / 768 0.6390041493775934\n",
      "707 / 768 0.6390041493775934\n",
      "708 / 768 0.6390041493775934\n",
      "709 / 768 0.6390041493775934\n",
      "710 / 768 0.6390041493775934\n",
      "711 / 768 0.6390041493775934\n",
      "712 / 768 0.6390041493775934\n",
      "713 / 768 0.6390041493775934\n",
      "714 / 768 0.6390041493775934\n",
      "715 / 768 0.6390041493775934\n",
      "716 / 768 0.6390041493775934\n",
      "717 / 768 0.6390041493775934\n",
      "718 / 768 0.6390041493775934\n",
      "719 / 768 0.6390041493775934\n",
      "720 / 768 0.6390041493775934\n",
      "721 / 768 0.6390041493775934\n",
      "722 / 768 0.6390041493775934\n",
      "723 / 768 0.6390041493775934\n",
      "724 / 768 0.6390041493775934\n",
      "725 / 768 0.6390041493775934\n",
      "726 / 768 0.6390041493775934\n",
      "727 / 768 0.6390041493775934\n",
      "728 / 768 0.6390041493775934\n",
      "729 / 768 0.6390041493775934\n",
      "730 / 768 0.6390041493775934\n",
      "731 / 768 0.6390041493775934\n",
      "732 / 768 0.6390041493775934\n",
      "733 / 768 0.6390041493775934\n",
      "734 / 768 0.6390041493775934\n",
      "735 / 768 0.6390041493775934\n",
      "736 / 768 0.6390041493775934\n",
      "737 / 768 0.6390041493775934\n",
      "738 / 768 0.6390041493775934\n",
      "739 / 768 0.6390041493775934\n",
      "740 / 768 0.6390041493775934\n",
      "741 / 768 0.6390041493775934\n",
      "742 / 768 0.6390041493775934\n",
      "743 / 768 0.6390041493775934\n",
      "744 / 768 0.6390041493775934\n",
      "745 / 768 0.6390041493775934\n",
      "746 / 768 0.6390041493775934\n",
      "747 / 768 0.6390041493775934\n",
      "748 / 768 0.6390041493775934\n",
      "749 / 768 0.6390041493775934\n",
      "750 / 768 0.6390041493775934\n",
      "751 / 768 0.6390041493775934\n",
      "752 / 768 0.6390041493775934\n",
      "753 / 768 0.6390041493775934\n",
      "754 / 768 0.6390041493775934\n",
      "755 / 768 0.6390041493775934\n",
      "756 / 768 0.6390041493775934\n",
      "757 / 768 0.6390041493775934\n",
      "758 / 768 0.6390041493775934\n",
      "759 / 768 0.6390041493775934\n",
      "760 / 768 0.6390041493775934\n",
      "761 / 768 0.6390041493775934\n",
      "762 / 768 0.6390041493775934\n",
      "763 / 768 0.6390041493775934\n",
      "764 / 768 0.6390041493775934\n",
      "765 / 768 0.6390041493775934\n",
      "766 / 768 0.6390041493775934\n",
      "767 / 768 0.6390041493775934\n",
      "768 / 768 0.6390041493775934\n"
     ]
    }
   ],
   "source": [
    "# 비용 민감 모델 테스트\n",
    "# 최고값 초기화\n",
    "\n",
    "best_score = -1\n",
    "max_iter = 0\n",
    "for k in range(34, 4, -5): \n",
    "    for model_func in grid_for_cs_model:\n",
    "        for parameter in grid_for_cs_model[model_func]:            \n",
    "            max_iter += 1\n",
    "\n",
    "# 데이터 꼬임을 방지하기 위해 데이터 복제\n",
    "T_X = Train_X.copy() \n",
    "t_X = Test_X.copy()\n",
    "\n",
    "num_iter = 1\n",
    "for k in range(34, 4, -5): \n",
    "    selector = SelectKBest(mutual_info_classif, k = k).fit(T_X, Train_Y)\n",
    "    selected_columns = T_X.columns[selector.get_support()]\n",
    "    T_X = T_X[selected_columns]\n",
    "    t_X = t_X[selected_columns]\n",
    "    for model_func in grid_for_cs_model:\n",
    "        for parameter in grid_for_cs_model[model_func]:            \n",
    "            model = model_func(**parameter).fit(T_X, Train_Y)\n",
    "            score = model_test(model, t_X, Test_Y)\n",
    "            if score > best_score:\n",
    "                best_model = model\n",
    "                best_features = selected_columns\n",
    "                best_score = score            \n",
    "                                \n",
    "            print(num_iter, \"/\", max_iter, best_score)\n",
    "            num_iter += 1            "
   ]
  },
  {
   "cell_type": "code",
   "execution_count": 131,
   "metadata": {},
   "outputs": [
    {
     "data": {
      "text/plain": [
       "37.75968992248062"
      ]
     },
     "execution_count": 131,
     "metadata": {},
     "output_type": "execute_result"
    }
   ],
   "source": [
    "class_imbalance_ratio"
   ]
  },
  {
   "cell_type": "code",
   "execution_count": 77,
   "metadata": {},
   "outputs": [
    {
     "name": "stdout",
     "output_type": "stream",
     "text": [
      "1 / 768 0.6390041493775934\n",
      "2 / 768 0.6390041493775934\n",
      "3 / 768 0.6390041493775934\n",
      "4 / 768 0.6390041493775934\n",
      "5 / 768 0.6390041493775934\n",
      "6 / 768 0.6390041493775934\n",
      "7 / 768 0.6390041493775934\n",
      "8 / 768 0.6390041493775934\n",
      "9 / 768 0.6390041493775934\n",
      "10 / 768 0.6390041493775934\n",
      "11 / 768 0.6390041493775934\n",
      "12 / 768 0.6390041493775934\n",
      "13 / 768 0.6390041493775934\n",
      "14 / 768 0.6390041493775934\n",
      "15 / 768 0.6390041493775934\n",
      "16 / 768 0.6390041493775934\n",
      "17 / 768 0.6390041493775934\n",
      "18 / 768 0.6390041493775934\n",
      "19 / 768 0.6390041493775934\n",
      "20 / 768 0.6390041493775934\n",
      "21 / 768 0.6390041493775934\n",
      "22 / 768 0.6390041493775934\n",
      "23 / 768 0.6390041493775934\n",
      "24 / 768 0.6390041493775934\n",
      "25 / 768 0.6390041493775934\n",
      "26 / 768 0.6390041493775934\n",
      "27 / 768 0.6390041493775934\n",
      "28 / 768 0.6390041493775934\n",
      "29 / 768 0.6390041493775934\n",
      "30 / 768 0.6390041493775934\n",
      "31 / 768 0.6390041493775934\n",
      "32 / 768 0.6558375634517767\n",
      "33 / 768 0.6558375634517767\n",
      "34 / 768 0.6558375634517767\n",
      "35 / 768 0.6558375634517767\n",
      "36 / 768 0.6558375634517767\n",
      "37 / 768 0.6558375634517767\n",
      "38 / 768 0.6558375634517767\n",
      "39 / 768 0.6558375634517767\n",
      "40 / 768 0.6558375634517767\n",
      "41 / 768 0.6558375634517767\n",
      "42 / 768 0.6558375634517767\n",
      "43 / 768 0.6558375634517767\n",
      "44 / 768 0.6558375634517767\n",
      "45 / 768 0.6558375634517767\n",
      "46 / 768 0.6558375634517767\n",
      "47 / 768 0.6558375634517767\n",
      "48 / 768 0.6558375634517767\n",
      "49 / 768 0.6558375634517767\n",
      "50 / 768 0.6558375634517767\n",
      "51 / 768 0.6558375634517767\n",
      "52 / 768 0.6558375634517767\n",
      "53 / 768 0.6558375634517767\n",
      "54 / 768 0.6558375634517767\n",
      "55 / 768 0.6558375634517767\n",
      "56 / 768 0.6558375634517767\n",
      "57 / 768 0.6558375634517767\n",
      "58 / 768 0.6558375634517767\n",
      "59 / 768 0.6558375634517767\n",
      "60 / 768 0.6558375634517767\n",
      "61 / 768 0.6558375634517767\n",
      "62 / 768 0.6558375634517767\n",
      "63 / 768 0.6558375634517767\n",
      "64 / 768 0.6558375634517767\n",
      "65 / 768 0.6558375634517767\n",
      "66 / 768 0.6558375634517767\n",
      "67 / 768 0.6558375634517767\n",
      "68 / 768 0.6558375634517767\n",
      "69 / 768 0.6558375634517767\n",
      "70 / 768 0.6558375634517767\n",
      "71 / 768 0.6558375634517767\n",
      "72 / 768 0.6558375634517767\n",
      "73 / 768 0.6558375634517767\n",
      "74 / 768 0.6558375634517767\n",
      "75 / 768 0.6558375634517767\n",
      "76 / 768 0.6558375634517767\n",
      "77 / 768 0.6558375634517767\n",
      "78 / 768 0.6558375634517767\n",
      "79 / 768 0.6558375634517767\n",
      "80 / 768 0.6558375634517767\n",
      "81 / 768 0.6558375634517767\n",
      "82 / 768 0.6558375634517767\n",
      "83 / 768 0.6558375634517767\n",
      "84 / 768 0.6558375634517767\n",
      "85 / 768 0.6558375634517767\n",
      "86 / 768 0.6558375634517767\n",
      "87 / 768 0.6558375634517767\n",
      "88 / 768 0.6558375634517767\n",
      "89 / 768 0.6558375634517767\n",
      "90 / 768 0.6558375634517767\n",
      "91 / 768 0.6558375634517767\n",
      "92 / 768 0.6558375634517767\n",
      "93 / 768 0.6558375634517767\n",
      "94 / 768 0.6558375634517767\n",
      "95 / 768 0.6558375634517767\n",
      "96 / 768 0.6558375634517767\n",
      "97 / 768 0.6558375634517767\n",
      "98 / 768 0.6558375634517767\n",
      "99 / 768 0.6558375634517767\n",
      "100 / 768 0.6558375634517767\n",
      "101 / 768 0.6558375634517767\n",
      "102 / 768 0.6558375634517767\n",
      "103 / 768 0.6558375634517767\n",
      "104 / 768 0.6558375634517767\n",
      "105 / 768 0.6558375634517767\n",
      "106 / 768 0.6558375634517767\n",
      "107 / 768 0.6558375634517767\n",
      "108 / 768 0.6558375634517767\n",
      "109 / 768 0.6558375634517767\n",
      "110 / 768 0.6558375634517767\n",
      "111 / 768 0.6558375634517767\n",
      "112 / 768 0.6558375634517767\n",
      "113 / 768 0.6558375634517767\n",
      "114 / 768 0.6558375634517767\n",
      "115 / 768 0.6558375634517767\n",
      "116 / 768 0.6558375634517767\n",
      "117 / 768 0.6558375634517767\n",
      "118 / 768 0.6558375634517767\n",
      "119 / 768 0.6558375634517767\n",
      "120 / 768 0.6558375634517767\n",
      "121 / 768 0.6558375634517767\n",
      "122 / 768 0.6558375634517767\n",
      "123 / 768 0.6558375634517767\n",
      "124 / 768 0.6558375634517767\n",
      "125 / 768 0.6558375634517767\n",
      "126 / 768 0.6558375634517767\n",
      "127 / 768 0.6558375634517767\n",
      "128 / 768 0.6558375634517767\n",
      "129 / 768 0.6558375634517767\n",
      "130 / 768 0.6558375634517767\n",
      "131 / 768 0.6558375634517767\n",
      "132 / 768 0.6558375634517767\n",
      "133 / 768 0.6558375634517767\n",
      "134 / 768 0.6558375634517767\n",
      "135 / 768 0.6558375634517767\n",
      "136 / 768 0.6558375634517767\n",
      "137 / 768 0.6558375634517767\n",
      "138 / 768 0.6558375634517767\n",
      "139 / 768 0.6558375634517767\n",
      "140 / 768 0.6558375634517767\n",
      "141 / 768 0.6558375634517767\n",
      "142 / 768 0.6558375634517767\n",
      "143 / 768 0.6558375634517767\n",
      "144 / 768 0.6558375634517767\n",
      "145 / 768 0.6558375634517767\n",
      "146 / 768 0.6558375634517767\n",
      "147 / 768 0.6558375634517767\n",
      "148 / 768 0.6558375634517767\n",
      "149 / 768 0.6558375634517767\n",
      "150 / 768 0.6558375634517767\n",
      "151 / 768 0.6558375634517767\n",
      "152 / 768 0.6558375634517767\n",
      "153 / 768 0.6558375634517767\n",
      "154 / 768 0.6558375634517767\n",
      "155 / 768 0.6558375634517767\n",
      "156 / 768 0.6558375634517767\n",
      "157 / 768 0.6558375634517767\n",
      "158 / 768 0.6558375634517767\n",
      "159 / 768 0.6558375634517767\n",
      "160 / 768 0.6558375634517767\n",
      "161 / 768 0.6558375634517767\n",
      "162 / 768 0.6558375634517767\n",
      "163 / 768 0.6558375634517767\n",
      "164 / 768 0.6558375634517767\n",
      "165 / 768 0.6558375634517767\n",
      "166 / 768 0.6558375634517767\n",
      "167 / 768 0.6558375634517767\n",
      "168 / 768 0.6558375634517767\n",
      "169 / 768 0.6558375634517767\n",
      "170 / 768 0.6558375634517767\n",
      "171 / 768 0.6558375634517767\n",
      "172 / 768 0.6558375634517767\n",
      "173 / 768 0.6558375634517767\n",
      "174 / 768 0.6558375634517767\n",
      "175 / 768 0.6558375634517767\n",
      "176 / 768 0.6558375634517767\n",
      "177 / 768 0.6558375634517767\n",
      "178 / 768 0.6558375634517767\n",
      "179 / 768 0.6558375634517767\n",
      "180 / 768 0.6558375634517767\n",
      "181 / 768 0.6558375634517767\n",
      "182 / 768 0.6558375634517767\n",
      "183 / 768 0.6558375634517767\n",
      "184 / 768 0.6558375634517767\n",
      "185 / 768 0.6558375634517767\n",
      "186 / 768 0.6558375634517767\n",
      "187 / 768 0.6558375634517767\n",
      "188 / 768 0.6558375634517767\n",
      "189 / 768 0.6558375634517767\n",
      "190 / 768 0.6558375634517767\n",
      "191 / 768 0.6558375634517767\n",
      "192 / 768 0.6558375634517767\n",
      "193 / 768 0.6558375634517767\n",
      "194 / 768 0.6558375634517767\n",
      "195 / 768 0.6558375634517767\n",
      "196 / 768 0.6558375634517767\n",
      "197 / 768 0.6558375634517767\n",
      "198 / 768 0.6558375634517767\n",
      "199 / 768 0.6558375634517767\n",
      "200 / 768 0.6558375634517767\n",
      "201 / 768 0.6558375634517767\n",
      "202 / 768 0.6558375634517767\n",
      "203 / 768 0.6558375634517767\n",
      "204 / 768 0.6558375634517767\n",
      "205 / 768 0.6558375634517767\n",
      "206 / 768 0.6558375634517767\n",
      "207 / 768 0.6558375634517767\n",
      "208 / 768 0.6558375634517767\n",
      "209 / 768 0.6558375634517767\n",
      "210 / 768 0.6558375634517767\n",
      "211 / 768 0.6558375634517767\n",
      "212 / 768 0.6558375634517767\n",
      "213 / 768 0.6558375634517767\n",
      "214 / 768 0.6558375634517767\n",
      "215 / 768 0.6558375634517767\n",
      "216 / 768 0.6558375634517767\n",
      "217 / 768 0.6558375634517767\n",
      "218 / 768 0.6558375634517767\n",
      "219 / 768 0.6558375634517767\n",
      "220 / 768 0.6558375634517767\n",
      "221 / 768 0.6558375634517767\n",
      "222 / 768 0.6558375634517767\n",
      "223 / 768 0.6558375634517767\n",
      "224 / 768 0.6558375634517767\n",
      "225 / 768 0.6558375634517767\n",
      "226 / 768 0.6558375634517767\n",
      "227 / 768 0.6558375634517767\n",
      "228 / 768 0.6558375634517767\n",
      "229 / 768 0.6558375634517767\n",
      "230 / 768 0.6558375634517767\n",
      "231 / 768 0.6558375634517767\n",
      "232 / 768 0.6558375634517767\n",
      "233 / 768 0.6558375634517767\n",
      "234 / 768 0.6558375634517767\n",
      "235 / 768 0.6558375634517767\n",
      "236 / 768 0.6558375634517767\n",
      "237 / 768 0.6558375634517767\n",
      "238 / 768 0.6558375634517767\n",
      "239 / 768 0.6558375634517767\n",
      "240 / 768 0.6558375634517767\n",
      "241 / 768 0.6558375634517767\n",
      "242 / 768 0.6558375634517767\n",
      "243 / 768 0.6558375634517767\n",
      "244 / 768 0.6558375634517767\n",
      "245 / 768 0.6558375634517767\n",
      "246 / 768 0.6558375634517767\n",
      "247 / 768 0.6558375634517767\n",
      "248 / 768 0.6558375634517767\n",
      "249 / 768 0.6558375634517767\n",
      "250 / 768 0.6558375634517767\n",
      "251 / 768 0.6558375634517767\n",
      "252 / 768 0.6558375634517767\n",
      "253 / 768 0.6558375634517767\n",
      "254 / 768 0.6558375634517767\n",
      "255 / 768 0.6558375634517767\n",
      "256 / 768 0.6558375634517767\n",
      "257 / 768 0.6558375634517767\n",
      "258 / 768 0.6558375634517767\n",
      "259 / 768 0.6558375634517767\n",
      "260 / 768 0.6558375634517767\n",
      "261 / 768 0.6558375634517767\n",
      "262 / 768 0.6558375634517767\n",
      "263 / 768 0.6558375634517767\n",
      "264 / 768 0.6558375634517767\n",
      "265 / 768 0.6558375634517767\n",
      "266 / 768 0.6558375634517767\n",
      "267 / 768 0.6558375634517767\n",
      "268 / 768 0.6558375634517767\n",
      "269 / 768 0.6558375634517767\n",
      "270 / 768 0.6558375634517767\n",
      "271 / 768 0.6558375634517767\n",
      "272 / 768 0.6558375634517767\n",
      "273 / 768 0.6558375634517767\n",
      "274 / 768 0.6558375634517767\n",
      "275 / 768 0.6558375634517767\n",
      "276 / 768 0.6558375634517767\n",
      "277 / 768 0.6558375634517767\n",
      "278 / 768 0.6558375634517767\n",
      "279 / 768 0.6558375634517767\n",
      "280 / 768 0.6558375634517767\n",
      "281 / 768 0.6558375634517767\n",
      "282 / 768 0.6558375634517767\n",
      "283 / 768 0.6558375634517767\n",
      "284 / 768 0.6558375634517767\n",
      "285 / 768 0.6558375634517767\n",
      "286 / 768 0.6558375634517767\n",
      "287 / 768 0.6558375634517767\n",
      "288 / 768 0.6558375634517767\n",
      "289 / 768 0.6558375634517767\n",
      "290 / 768 0.6558375634517767\n",
      "291 / 768 0.6558375634517767\n",
      "292 / 768 0.6558375634517767\n",
      "293 / 768 0.6558375634517767\n",
      "294 / 768 0.6558375634517767\n",
      "295 / 768 0.6558375634517767\n",
      "296 / 768 0.6558375634517767\n",
      "297 / 768 0.6558375634517767\n",
      "298 / 768 0.6558375634517767\n",
      "299 / 768 0.6558375634517767\n",
      "300 / 768 0.6558375634517767\n",
      "301 / 768 0.6558375634517767\n",
      "302 / 768 0.6558375634517767\n",
      "303 / 768 0.6558375634517767\n",
      "304 / 768 0.6558375634517767\n",
      "305 / 768 0.6558375634517767\n",
      "306 / 768 0.6558375634517767\n",
      "307 / 768 0.6558375634517767\n",
      "308 / 768 0.6558375634517767\n",
      "309 / 768 0.6558375634517767\n",
      "310 / 768 0.6558375634517767\n",
      "311 / 768 0.6558375634517767\n",
      "312 / 768 0.6558375634517767\n",
      "313 / 768 0.6558375634517767\n",
      "314 / 768 0.6558375634517767\n",
      "315 / 768 0.6558375634517767\n",
      "316 / 768 0.6558375634517767\n",
      "317 / 768 0.6558375634517767\n",
      "318 / 768 0.6558375634517767\n",
      "319 / 768 0.6558375634517767\n",
      "320 / 768 0.6558375634517767\n",
      "321 / 768 0.6558375634517767\n",
      "322 / 768 0.6558375634517767\n",
      "323 / 768 0.6558375634517767\n",
      "324 / 768 0.6558375634517767\n",
      "325 / 768 0.6558375634517767\n",
      "326 / 768 0.6558375634517767\n",
      "327 / 768 0.6558375634517767\n",
      "328 / 768 0.6558375634517767\n",
      "329 / 768 0.6558375634517767\n",
      "330 / 768 0.6558375634517767\n",
      "331 / 768 0.6558375634517767\n",
      "332 / 768 0.6558375634517767\n",
      "333 / 768 0.6558375634517767\n",
      "334 / 768 0.6558375634517767\n",
      "335 / 768 0.6558375634517767\n",
      "336 / 768 0.6558375634517767\n",
      "337 / 768 0.6558375634517767\n",
      "338 / 768 0.6558375634517767\n",
      "339 / 768 0.6558375634517767\n",
      "340 / 768 0.6558375634517767\n",
      "341 / 768 0.6558375634517767\n",
      "342 / 768 0.6558375634517767\n",
      "343 / 768 0.6558375634517767\n",
      "344 / 768 0.6558375634517767\n",
      "345 / 768 0.6558375634517767\n",
      "346 / 768 0.6558375634517767\n",
      "347 / 768 0.6558375634517767\n",
      "348 / 768 0.6558375634517767\n",
      "349 / 768 0.6558375634517767\n",
      "350 / 768 0.6558375634517767\n",
      "351 / 768 0.6558375634517767\n",
      "352 / 768 0.6558375634517767\n",
      "353 / 768 0.6558375634517767\n",
      "354 / 768 0.6558375634517767\n",
      "355 / 768 0.6558375634517767\n",
      "356 / 768 0.6558375634517767\n",
      "357 / 768 0.6558375634517767\n",
      "358 / 768 0.6558375634517767\n",
      "359 / 768 0.6558375634517767\n",
      "360 / 768 0.6558375634517767\n",
      "361 / 768 0.6558375634517767\n",
      "362 / 768 0.6558375634517767\n",
      "363 / 768 0.6558375634517767\n",
      "364 / 768 0.6558375634517767\n",
      "365 / 768 0.6558375634517767\n",
      "366 / 768 0.6558375634517767\n",
      "367 / 768 0.6558375634517767\n",
      "368 / 768 0.6558375634517767\n",
      "369 / 768 0.6558375634517767\n",
      "370 / 768 0.6558375634517767\n",
      "371 / 768 0.6558375634517767\n",
      "372 / 768 0.6558375634517767\n",
      "373 / 768 0.6558375634517767\n",
      "374 / 768 0.6558375634517767\n",
      "375 / 768 0.6558375634517767\n",
      "376 / 768 0.6558375634517767\n",
      "377 / 768 0.6558375634517767\n",
      "378 / 768 0.6558375634517767\n",
      "379 / 768 0.6558375634517767\n",
      "380 / 768 0.6558375634517767\n",
      "381 / 768 0.6558375634517767\n",
      "382 / 768 0.6558375634517767\n",
      "383 / 768 0.6558375634517767\n",
      "384 / 768 0.6558375634517767\n",
      "385 / 768 0.6558375634517767\n",
      "386 / 768 0.6558375634517767\n",
      "387 / 768 0.6558375634517767\n",
      "388 / 768 0.6558375634517767\n",
      "389 / 768 0.6558375634517767\n",
      "390 / 768 0.6558375634517767\n",
      "391 / 768 0.6558375634517767\n",
      "392 / 768 0.6558375634517767\n",
      "393 / 768 0.6558375634517767\n",
      "394 / 768 0.6558375634517767\n",
      "395 / 768 0.6558375634517767\n",
      "396 / 768 0.6558375634517767\n",
      "397 / 768 0.6558375634517767\n",
      "398 / 768 0.6558375634517767\n",
      "399 / 768 0.6558375634517767\n",
      "400 / 768 0.6558375634517767\n",
      "401 / 768 0.6558375634517767\n",
      "402 / 768 0.6558375634517767\n",
      "403 / 768 0.6558375634517767\n",
      "404 / 768 0.6558375634517767\n",
      "405 / 768 0.6558375634517767\n",
      "406 / 768 0.6558375634517767\n",
      "407 / 768 0.6558375634517767\n",
      "408 / 768 0.6558375634517767\n",
      "409 / 768 0.6558375634517767\n",
      "410 / 768 0.6558375634517767\n",
      "411 / 768 0.6558375634517767\n",
      "412 / 768 0.6558375634517767\n",
      "413 / 768 0.6558375634517767\n",
      "414 / 768 0.6558375634517767\n",
      "415 / 768 0.6558375634517767\n",
      "416 / 768 0.6558375634517767\n",
      "417 / 768 0.6558375634517767\n",
      "418 / 768 0.6558375634517767\n",
      "419 / 768 0.6558375634517767\n",
      "420 / 768 0.6558375634517767\n",
      "421 / 768 0.6558375634517767\n",
      "422 / 768 0.6558375634517767\n",
      "423 / 768 0.6558375634517767\n",
      "424 / 768 0.6558375634517767\n",
      "425 / 768 0.6558375634517767\n",
      "426 / 768 0.6558375634517767\n",
      "427 / 768 0.6558375634517767\n",
      "428 / 768 0.6558375634517767\n",
      "429 / 768 0.6558375634517767\n",
      "430 / 768 0.6558375634517767\n",
      "431 / 768 0.6558375634517767\n",
      "432 / 768 0.6558375634517767\n",
      "433 / 768 0.6558375634517767\n",
      "434 / 768 0.6558375634517767\n",
      "435 / 768 0.6558375634517767\n",
      "436 / 768 0.6558375634517767\n",
      "437 / 768 0.6558375634517767\n",
      "438 / 768 0.6558375634517767\n",
      "439 / 768 0.6558375634517767\n",
      "440 / 768 0.6558375634517767\n",
      "441 / 768 0.6558375634517767\n",
      "442 / 768 0.6558375634517767\n",
      "443 / 768 0.6558375634517767\n",
      "444 / 768 0.6558375634517767\n",
      "445 / 768 0.6558375634517767\n",
      "446 / 768 0.6558375634517767\n",
      "447 / 768 0.6558375634517767\n",
      "448 / 768 0.6558375634517767\n",
      "449 / 768 0.6558375634517767\n",
      "450 / 768 0.6558375634517767\n",
      "451 / 768 0.6558375634517767\n",
      "452 / 768 0.6558375634517767\n",
      "453 / 768 0.6558375634517767\n",
      "454 / 768 0.6558375634517767\n",
      "455 / 768 0.6558375634517767\n",
      "456 / 768 0.6558375634517767\n",
      "457 / 768 0.6558375634517767\n",
      "458 / 768 0.6558375634517767\n",
      "459 / 768 0.6558375634517767\n",
      "460 / 768 0.6558375634517767\n",
      "461 / 768 0.6558375634517767\n",
      "462 / 768 0.6558375634517767\n",
      "463 / 768 0.6558375634517767\n",
      "464 / 768 0.6558375634517767\n",
      "465 / 768 0.6558375634517767\n",
      "466 / 768 0.6558375634517767\n",
      "467 / 768 0.6558375634517767\n",
      "468 / 768 0.6558375634517767\n",
      "469 / 768 0.6558375634517767\n",
      "470 / 768 0.6558375634517767\n",
      "471 / 768 0.6558375634517767\n",
      "472 / 768 0.6558375634517767\n",
      "473 / 768 0.6558375634517767\n",
      "474 / 768 0.6558375634517767\n",
      "475 / 768 0.6558375634517767\n",
      "476 / 768 0.6558375634517767\n",
      "477 / 768 0.6558375634517767\n",
      "478 / 768 0.6558375634517767\n",
      "479 / 768 0.6558375634517767\n",
      "480 / 768 0.6558375634517767\n",
      "481 / 768 0.6558375634517767\n",
      "482 / 768 0.6558375634517767\n",
      "483 / 768 0.6558375634517767\n",
      "484 / 768 0.6558375634517767\n",
      "485 / 768 0.6558375634517767\n",
      "486 / 768 0.6558375634517767\n",
      "487 / 768 0.6558375634517767\n",
      "488 / 768 0.6558375634517767\n",
      "489 / 768 0.6558375634517767\n",
      "490 / 768 0.6558375634517767\n",
      "491 / 768 0.6558375634517767\n",
      "492 / 768 0.6558375634517767\n",
      "493 / 768 0.6558375634517767\n",
      "494 / 768 0.6558375634517767\n",
      "495 / 768 0.6558375634517767\n",
      "496 / 768 0.6558375634517767\n",
      "497 / 768 0.6558375634517767\n",
      "498 / 768 0.6558375634517767\n",
      "499 / 768 0.6558375634517767\n",
      "500 / 768 0.6558375634517767\n",
      "501 / 768 0.6558375634517767\n",
      "502 / 768 0.6558375634517767\n",
      "503 / 768 0.6558375634517767\n",
      "504 / 768 0.6558375634517767\n",
      "505 / 768 0.6558375634517767\n",
      "506 / 768 0.6558375634517767\n",
      "507 / 768 0.6558375634517767\n",
      "508 / 768 0.6558375634517767\n",
      "509 / 768 0.6558375634517767\n",
      "510 / 768 0.6558375634517767\n",
      "511 / 768 0.6558375634517767\n",
      "512 / 768 0.6558375634517767\n",
      "513 / 768 0.6558375634517767\n",
      "514 / 768 0.6558375634517767\n",
      "515 / 768 0.6558375634517767\n",
      "516 / 768 0.6558375634517767\n",
      "517 / 768 0.6558375634517767\n",
      "518 / 768 0.6558375634517767\n",
      "519 / 768 0.6558375634517767\n",
      "520 / 768 0.6558375634517767\n",
      "521 / 768 0.6558375634517767\n",
      "522 / 768 0.6558375634517767\n",
      "523 / 768 0.6558375634517767\n",
      "524 / 768 0.6558375634517767\n",
      "525 / 768 0.6558375634517767\n",
      "526 / 768 0.6558375634517767\n",
      "527 / 768 0.6558375634517767\n",
      "528 / 768 0.6558375634517767\n",
      "529 / 768 0.6558375634517767\n",
      "530 / 768 0.6558375634517767\n",
      "531 / 768 0.6558375634517767\n",
      "532 / 768 0.6558375634517767\n",
      "533 / 768 0.6558375634517767\n",
      "534 / 768 0.6558375634517767\n",
      "535 / 768 0.6558375634517767\n",
      "536 / 768 0.6558375634517767\n",
      "537 / 768 0.6558375634517767\n",
      "538 / 768 0.6558375634517767\n",
      "539 / 768 0.6558375634517767\n",
      "540 / 768 0.6558375634517767\n",
      "541 / 768 0.6558375634517767\n",
      "542 / 768 0.6558375634517767\n",
      "543 / 768 0.6558375634517767\n",
      "544 / 768 0.6558375634517767\n",
      "545 / 768 0.6558375634517767\n",
      "546 / 768 0.6558375634517767\n",
      "547 / 768 0.6558375634517767\n",
      "548 / 768 0.6558375634517767\n",
      "549 / 768 0.6558375634517767\n",
      "550 / 768 0.6558375634517767\n",
      "551 / 768 0.6558375634517767\n",
      "552 / 768 0.6558375634517767\n",
      "553 / 768 0.6558375634517767\n",
      "554 / 768 0.6558375634517767\n",
      "555 / 768 0.6558375634517767\n",
      "556 / 768 0.6558375634517767\n",
      "557 / 768 0.6558375634517767\n",
      "558 / 768 0.6558375634517767\n",
      "559 / 768 0.6558375634517767\n",
      "560 / 768 0.6558375634517767\n",
      "561 / 768 0.6558375634517767\n",
      "562 / 768 0.6558375634517767\n",
      "563 / 768 0.6558375634517767\n",
      "564 / 768 0.6558375634517767\n",
      "565 / 768 0.6558375634517767\n",
      "566 / 768 0.6558375634517767\n",
      "567 / 768 0.6558375634517767\n",
      "568 / 768 0.6558375634517767\n",
      "569 / 768 0.6558375634517767\n",
      "570 / 768 0.6558375634517767\n",
      "571 / 768 0.6558375634517767\n",
      "572 / 768 0.6558375634517767\n",
      "573 / 768 0.6558375634517767\n",
      "574 / 768 0.6558375634517767\n",
      "575 / 768 0.6558375634517767\n",
      "576 / 768 0.6558375634517767\n",
      "577 / 768 0.6558375634517767\n",
      "578 / 768 0.6558375634517767\n",
      "579 / 768 0.6558375634517767\n",
      "580 / 768 0.6558375634517767\n",
      "581 / 768 0.6558375634517767\n",
      "582 / 768 0.6558375634517767\n",
      "583 / 768 0.6558375634517767\n",
      "584 / 768 0.6558375634517767\n",
      "585 / 768 0.6558375634517767\n",
      "586 / 768 0.6558375634517767\n",
      "587 / 768 0.6558375634517767\n",
      "588 / 768 0.6558375634517767\n",
      "589 / 768 0.6558375634517767\n",
      "590 / 768 0.6558375634517767\n",
      "591 / 768 0.6558375634517767\n",
      "592 / 768 0.6558375634517767\n",
      "593 / 768 0.6558375634517767\n",
      "594 / 768 0.6558375634517767\n",
      "595 / 768 0.6558375634517767\n",
      "596 / 768 0.6558375634517767\n",
      "597 / 768 0.6558375634517767\n",
      "598 / 768 0.6558375634517767\n",
      "599 / 768 0.6558375634517767\n",
      "600 / 768 0.6558375634517767\n",
      "601 / 768 0.6558375634517767\n",
      "602 / 768 0.6558375634517767\n",
      "603 / 768 0.6558375634517767\n",
      "604 / 768 0.6558375634517767\n",
      "605 / 768 0.6558375634517767\n",
      "606 / 768 0.6558375634517767\n",
      "607 / 768 0.6558375634517767\n",
      "608 / 768 0.6558375634517767\n",
      "609 / 768 0.6558375634517767\n",
      "610 / 768 0.6558375634517767\n",
      "611 / 768 0.6558375634517767\n",
      "612 / 768 0.6558375634517767\n",
      "613 / 768 0.6558375634517767\n",
      "614 / 768 0.6558375634517767\n",
      "615 / 768 0.6558375634517767\n",
      "616 / 768 0.6558375634517767\n",
      "617 / 768 0.6558375634517767\n",
      "618 / 768 0.6558375634517767\n",
      "619 / 768 0.6558375634517767\n",
      "620 / 768 0.6558375634517767\n",
      "621 / 768 0.6558375634517767\n",
      "622 / 768 0.6558375634517767\n",
      "623 / 768 0.6558375634517767\n",
      "624 / 768 0.6558375634517767\n",
      "625 / 768 0.6558375634517767\n",
      "626 / 768 0.6558375634517767\n",
      "627 / 768 0.6558375634517767\n",
      "628 / 768 0.6558375634517767\n",
      "629 / 768 0.6558375634517767\n",
      "630 / 768 0.6558375634517767\n",
      "631 / 768 0.6558375634517767\n",
      "632 / 768 0.6558375634517767\n",
      "633 / 768 0.6558375634517767\n",
      "634 / 768 0.6558375634517767\n",
      "635 / 768 0.6558375634517767\n",
      "636 / 768 0.6558375634517767\n",
      "637 / 768 0.6558375634517767\n",
      "638 / 768 0.6558375634517767\n",
      "639 / 768 0.6558375634517767\n",
      "640 / 768 0.6558375634517767\n",
      "641 / 768 0.6558375634517767\n",
      "642 / 768 0.6558375634517767\n",
      "643 / 768 0.6558375634517767\n",
      "644 / 768 0.6558375634517767\n",
      "645 / 768 0.6558375634517767\n",
      "646 / 768 0.6558375634517767\n",
      "647 / 768 0.6558375634517767\n",
      "648 / 768 0.6558375634517767\n",
      "649 / 768 0.6558375634517767\n",
      "650 / 768 0.6558375634517767\n",
      "651 / 768 0.6558375634517767\n",
      "652 / 768 0.6558375634517767\n",
      "653 / 768 0.6558375634517767\n",
      "654 / 768 0.6558375634517767\n",
      "655 / 768 0.6558375634517767\n",
      "656 / 768 0.6558375634517767\n",
      "657 / 768 0.6558375634517767\n",
      "658 / 768 0.6558375634517767\n",
      "659 / 768 0.6558375634517767\n",
      "660 / 768 0.6558375634517767\n",
      "661 / 768 0.6558375634517767\n",
      "662 / 768 0.6558375634517767\n",
      "663 / 768 0.6558375634517767\n",
      "664 / 768 0.6558375634517767\n",
      "665 / 768 0.6558375634517767\n",
      "666 / 768 0.6558375634517767\n",
      "667 / 768 0.6558375634517767\n",
      "668 / 768 0.6558375634517767\n",
      "669 / 768 0.6558375634517767\n",
      "670 / 768 0.6558375634517767\n",
      "671 / 768 0.6558375634517767\n",
      "672 / 768 0.6558375634517767\n",
      "673 / 768 0.6558375634517767\n",
      "674 / 768 0.6558375634517767\n",
      "675 / 768 0.6558375634517767\n",
      "676 / 768 0.6558375634517767\n",
      "677 / 768 0.6558375634517767\n",
      "678 / 768 0.6558375634517767\n",
      "679 / 768 0.6558375634517767\n",
      "680 / 768 0.6558375634517767\n",
      "681 / 768 0.6558375634517767\n",
      "682 / 768 0.6558375634517767\n",
      "683 / 768 0.6558375634517767\n",
      "684 / 768 0.6558375634517767\n",
      "685 / 768 0.6558375634517767\n",
      "686 / 768 0.6558375634517767\n",
      "687 / 768 0.6558375634517767\n",
      "688 / 768 0.6558375634517767\n",
      "689 / 768 0.6558375634517767\n",
      "690 / 768 0.6558375634517767\n",
      "691 / 768 0.6558375634517767\n",
      "692 / 768 0.6558375634517767\n",
      "693 / 768 0.6558375634517767\n",
      "694 / 768 0.6558375634517767\n",
      "695 / 768 0.6558375634517767\n",
      "696 / 768 0.6558375634517767\n",
      "697 / 768 0.6558375634517767\n",
      "698 / 768 0.6558375634517767\n",
      "699 / 768 0.6558375634517767\n",
      "700 / 768 0.6558375634517767\n",
      "701 / 768 0.6558375634517767\n",
      "702 / 768 0.6558375634517767\n",
      "703 / 768 0.6558375634517767\n",
      "704 / 768 0.6558375634517767\n",
      "705 / 768 0.6558375634517767\n",
      "706 / 768 0.6558375634517767\n",
      "707 / 768 0.6558375634517767\n",
      "708 / 768 0.6558375634517767\n",
      "709 / 768 0.6558375634517767\n",
      "710 / 768 0.6558375634517767\n",
      "711 / 768 0.6558375634517767\n",
      "712 / 768 0.6558375634517767\n",
      "713 / 768 0.6558375634517767\n",
      "714 / 768 0.6558375634517767\n",
      "715 / 768 0.6558375634517767\n",
      "716 / 768 0.6558375634517767\n",
      "717 / 768 0.6558375634517767\n",
      "718 / 768 0.6558375634517767\n",
      "719 / 768 0.6558375634517767\n",
      "720 / 768 0.6558375634517767\n",
      "721 / 768 0.6558375634517767\n",
      "722 / 768 0.6558375634517767\n",
      "723 / 768 0.6558375634517767\n",
      "724 / 768 0.6558375634517767\n",
      "725 / 768 0.6558375634517767\n",
      "726 / 768 0.6558375634517767\n",
      "727 / 768 0.6558375634517767\n",
      "728 / 768 0.6558375634517767\n",
      "729 / 768 0.6558375634517767\n",
      "730 / 768 0.6558375634517767\n",
      "731 / 768 0.6558375634517767\n",
      "732 / 768 0.6558375634517767\n",
      "733 / 768 0.6558375634517767\n",
      "734 / 768 0.6558375634517767\n",
      "735 / 768 0.6558375634517767\n",
      "736 / 768 0.6558375634517767\n",
      "737 / 768 0.6558375634517767\n",
      "738 / 768 0.6558375634517767\n",
      "739 / 768 0.6558375634517767\n",
      "740 / 768 0.6558375634517767\n",
      "741 / 768 0.6558375634517767\n",
      "742 / 768 0.6558375634517767\n",
      "743 / 768 0.6558375634517767\n",
      "744 / 768 0.6558375634517767\n",
      "745 / 768 0.6558375634517767\n",
      "746 / 768 0.6558375634517767\n",
      "747 / 768 0.6558375634517767\n",
      "748 / 768 0.6558375634517767\n",
      "749 / 768 0.6558375634517767\n",
      "750 / 768 0.6558375634517767\n",
      "751 / 768 0.6558375634517767\n",
      "752 / 768 0.6558375634517767\n",
      "753 / 768 0.6558375634517767\n",
      "754 / 768 0.6558375634517767\n",
      "755 / 768 0.6558375634517767\n",
      "756 / 768 0.6558375634517767\n",
      "757 / 768 0.6558375634517767\n",
      "758 / 768 0.6558375634517767\n",
      "759 / 768 0.6558375634517767\n",
      "760 / 768 0.6558375634517767\n",
      "761 / 768 0.6558375634517767\n",
      "762 / 768 0.6558375634517767\n",
      "763 / 768 0.6558375634517767\n",
      "764 / 768 0.6558375634517767\n",
      "765 / 768 0.6558375634517767\n",
      "766 / 768 0.6558375634517767\n",
      "767 / 768 0.6558375634517767\n",
      "768 / 768 0.6558375634517767\n"
     ]
    }
   ],
   "source": [
    "# 최고값은 초기화하지 않음 (이전에 업데이트해뒀으므로)\n",
    "# best_score_ 업데이트 하지 않음. \n",
    "# 어차피 뭐가 더 좋은지 계속 찾아가는 과정임. \n",
    "\n",
    "\n",
    "max_iter = 0\n",
    "for w in [1, 0.9, 0.7, 0.5]:\n",
    "    for k in range(34, 4, -5): \n",
    "        for model_func in grid_for_not_cs_model:\n",
    "            for parameter in grid_for_not_cs_model[model_func]:            \n",
    "                max_iter += 1\n",
    "\n",
    "# 일반 모델 파라미터 튜닝 수행\n",
    "num_iter = 1\n",
    "for w in [1, 0.9, 0.7, 0.5]:\n",
    "    # 데이터 꼬임을 방지하기 위해 데이터 복제\n",
    "    T_X = Train_X.copy() \n",
    "    t_X = Test_X.copy() \n",
    "    \n",
    "    NM_model = NearMiss(version = 2, sampling_strategy = {1:Train_Y.value_counts().iloc[-1],\n",
    "                                                          0:int(Train_Y.value_counts().iloc[-1] * w * class_imbalance_ratio)})  \n",
    "        \n",
    "    u_T_X, u_T_Y = NM_model.fit_sample(T_X, Train_Y)\n",
    "    u_T_X = pd.DataFrame(u_T_X, columns = T_X.columns)\n",
    "    \n",
    "    for k in range(34, 4, -5): \n",
    "        selector = SelectKBest(mutual_info_classif, k = k).fit(u_T_X, u_T_Y)\n",
    "        selected_columns = u_T_X.columns[selector.get_support()]\n",
    "        u_T_X = u_T_X[selected_columns]\n",
    "        t_X = t_X[selected_columns]\n",
    "        for model_func in grid_for_not_cs_model:\n",
    "            for parameter in grid_for_not_cs_model[model_func]:\n",
    "                model = model_func(**parameter).fit(u_T_X, u_T_Y)\n",
    "                score = model_test(model, t_X, Test_Y)\n",
    "                if score > best_score:\n",
    "                    best_model = model\n",
    "                    best_features = selected_columns\n",
    "                    best_score = score       \n",
    "                    \n",
    "                print(num_iter, \"/\", max_iter, best_score) \n",
    "                num_iter += 1"
   ]
  },
  {
   "cell_type": "markdown",
   "metadata": {},
   "source": [
    "### 모델 적용"
   ]
  },
  {
   "cell_type": "code",
   "execution_count": 126,
   "metadata": {
    "collapsed": true
   },
   "outputs": [
    {
     "ename": "NameError",
     "evalue": "name 'best_model' is not defined",
     "output_type": "error",
     "traceback": [
      "\u001b[0;31m---------------------------------------------------------------------------\u001b[0m",
      "\u001b[0;31mNameError\u001b[0m                                 Traceback (most recent call last)",
      "\u001b[0;32m<ipython-input-126-cde571d0ea35>\u001b[0m in \u001b[0;36m<module>\u001b[0;34m\u001b[0m\n\u001b[0;32m----> 1\u001b[0;31m \u001b[0mmodel\u001b[0m \u001b[0;34m=\u001b[0m \u001b[0mbest_model\u001b[0m\u001b[0;34m\u001b[0m\u001b[0;34m\u001b[0m\u001b[0m\n\u001b[0m\u001b[1;32m      2\u001b[0m \u001b[0mfeatures\u001b[0m \u001b[0;34m=\u001b[0m \u001b[0mbest_features\u001b[0m\u001b[0;34m\u001b[0m\u001b[0;34m\u001b[0m\u001b[0m\n",
      "\u001b[0;31mNameError\u001b[0m: name 'best_model' is not defined"
     ]
    }
   ],
   "source": [
    "model = best_model\n",
    "features = best_features"
   ]
  },
  {
   "cell_type": "code",
   "execution_count": 127,
   "metadata": {},
   "outputs": [],
   "source": [
    "test_df = pd.read_csv(\"sampled_test_transaction.csv\")"
   ]
  },
  {
   "cell_type": "code",
   "execution_count": 128,
   "metadata": {},
   "outputs": [],
   "source": [
    "def pipeline(input_data, dummy_model, imputer, features, model):\n",
    "    input_data_copy = input_data.copy()\n",
    "    input_data_copy.drop(['TransactionID', 'TransactionDT'], axis = 1, inplace = True)\n",
    "    \n",
    "    # 범주형 변수: 이진화 및 파생 변수 생성\n",
    "    input_data_copy['american_express'] = (input_data_copy.loc[:, 'card4'] == 'american express').astype(int)\n",
    "    input_data_copy.drop('card4', axis = 1, inplace = True)\n",
    "\n",
    "    input_data_copy['credit'] = (input_data_copy.loc[:, 'card6'] == 'credit').astype(int)\n",
    "    input_data_copy.drop('card6', axis = 1, inplace = True)    \n",
    "        \n",
    "    input_data_copy['NA_R_emaildomain'] = (input_data_copy['R_emaildomain'].isnull()).astype(int)\n",
    "    input_data_copy['same_emaildomain'] = (input_data_copy['P_emaildomain'] == input_data_copy['R_emaildomain']).astype(int)\n",
    "    input_data_copy.drop(['P_emaildomain', 'R_emaildomain'], axis = 1, inplace = True)    \n",
    "    input_data_copy['C3_over_1'] = (input_data_copy['C3'] >= 1).astype(int)\n",
    "    input_data_copy.drop(['C3'], axis = 1, inplace = True)\n",
    "    \n",
    "    M_columns = ['M' + str(i) for i in range(1, 10)]    \n",
    "    input_data_copy[M_columns] = input_data_copy[M_columns].fillna(\"결측\")\n",
    "    input_data_copy = dummy_model.transform(input_data_copy)  \n",
    "    \n",
    "    # 연속형 변수 처리\n",
    "    input_data_copy['TransactionAmt'] = np.log(input_data_copy['TransactionAmt'])    \n",
    "    \n",
    "    input_data_copy['card3_150'] = (input_data_copy['card3'] == 150).astype(int)\n",
    "    input_data_copy['card3_185'] = (input_data_copy['card3'] == 185).astype(int)\n",
    "    input_data_copy['card5_226'] = (input_data_copy['card5'] == 226).astype(int) \n",
    "    input_data_copy.drop(['card3', 'card5'], axis = 1, inplace = True)\n",
    "    \n",
    "    input_data_copy = pd.DataFrame(imputer.transform(Train_X), columns = input_data_copy.columns)\n",
    "    input_data_copy = input_data_copy[features]\n",
    "    \n",
    "    return model.predict(input_data_copy)"
   ]
  },
  {
   "cell_type": "code",
   "execution_count": 81,
   "metadata": {},
   "outputs": [
    {
     "data": {
      "text/plain": [
       "array([0, 0, 0, ..., 0, 0, 0], dtype=int64)"
      ]
     },
     "execution_count": 81,
     "metadata": {},
     "output_type": "execute_result"
    }
   ],
   "source": [
    "pipeline(test_df, dummy_model, imputer, features, model)"
   ]
  }
 ],
 "metadata": {
  "kernelspec": {
   "display_name": "Python 3",
   "language": "python",
   "name": "python3"
  },
  "language_info": {
   "codemirror_mode": {
    "name": "ipython",
    "version": 3
   },
   "file_extension": ".py",
   "mimetype": "text/x-python",
   "name": "python",
   "nbconvert_exporter": "python",
   "pygments_lexer": "ipython3",
   "version": "3.6.13"
  }
 },
 "nbformat": 4,
 "nbformat_minor": 4
}

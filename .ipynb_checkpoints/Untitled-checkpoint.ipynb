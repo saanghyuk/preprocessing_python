{
 "cells": [
  {
   "cell_type": "markdown",
   "metadata": {},
   "source": [
    "$L(b_0, b_1)=\\prod_{i=1}^{n}{\\phi(x_i)^{y_i}(1 - \\phi(x_i)^{1-y_i}}$<br>\n",
    "\n",
    "\n",
    "$\\phi(x_i)=F(b_0 + b_1Age_i)$"
   ]
  },
  {
   "cell_type": "markdown",
   "metadata": {},
   "source": [
    "$L(b_0, b_1)=\\sum_{i=1}^{n}{{y_i}log{\\phi(x_i)}+{1-y_i}log(1 - \\phi(x_i)}$<br>"
   ]
  },
  {
   "cell_type": "code",
   "execution_count": null,
   "metadata": {},
   "outputs": [],
   "source": []
  }
 ],
 "metadata": {
  "kernelspec": {
   "display_name": "Python 3",
   "language": "python",
   "name": "python3"
  },
  "language_info": {
   "codemirror_mode": {
    "name": "ipython",
    "version": 3
   },
   "file_extension": ".py",
   "mimetype": "text/x-python",
   "name": "python",
   "nbconvert_exporter": "python",
   "pygments_lexer": "ipython3",
   "version": "3.8.5"
  }
 },
 "nbformat": 4,
 "nbformat_minor": 4
}

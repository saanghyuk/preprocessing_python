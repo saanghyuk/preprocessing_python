{
 "cells": [
  {
   "attachments": {},
   "cell_type": "markdown",
   "metadata": {},
   "source": [
    "# 연관규칙 탐색 \n",
    "\n",
    "- antecedant and consequent\n",
    "\n",
    "![2_52.png](../materials/2_52.png)\n",
    "![2_52.png](../materials/2_53.png)"
   ]
  },
  {
   "cell_type": "markdown",
   "metadata": {},
   "source": [
    "![2_52.png](../materials/2_54.png)"
   ]
  },
  {
   "cell_type": "markdown",
   "metadata": {},
   "source": [
    "- Support :  A, B가 동시에 발생한 횟수 / 전체 트렌젝션 데이터 크기\n",
    "- Confidence :  A, B가 동시에 발생한 횟수 / A 발생한 것 가운데\n",
    "\n",
    "![2_52.png](../materials/2_55.png)\n",
    "![2_52.png](../materials/2_56.png)"
   ]
  },
  {
   "cell_type": "markdown",
   "metadata": {},
   "source": [
    "- 아이템집합 격자 \n",
    "    - 각 `node`는 하나의 아이템 집합을 의미. \n",
    "    - 해당 노드에 포함되는 아이템인 경우는 `edge`가 그어진다. \n",
    "\n",
    "![2_52.png](../materials/2_57.png)"
   ]
  },
  {
   "cell_type": "markdown",
   "metadata": {},
   "source": [
    "- 최소 지지도(교집합/전체)는 사용자가 정의하는 지지도. 이 규칙을 넘어서면 frequent한 것. \n",
    "- `Apriori 원리`: 어떤 아이템 집합이 frequent 하면(즉, minimum support 이상이면), 그 아이템의 부분집합 또한 frequent하다. \n",
    "    - 즉, 빵과 우유의 집합이 빈발하면 빵과 우유는 각각 둘다 빈발하다. \n",
    "    - 하단 증명 보면 너무 당연함. \n",
    "\n",
    "![2_52.png](../materials/2_58.png)"
   ]
  },
  {
   "cell_type": "markdown",
   "metadata": {},
   "source": [
    "- `AB`집합이 not frequent한 경우, 그 부모의 집합도 빈발하지 않다. \n",
    "    - 위 증명에 대한 대우 명제. \n",
    "    - `대우명제` : **부분 집합이 not frequent -> 그 부모의 집합도 not frequent**\n",
    "\n",
    "- 즉, 아랫 단계에서 AB가 not frequent가 판단되는 순간 그 부모 집합들 싹다 배재하면 되는 것. 효율적인 탐색이 가능하다. \n",
    "\n",
    "\n",
    "![2_52.png](../materials/2_59.png)"
   ]
  },
  {
   "cell_type": "markdown",
   "metadata": {},
   "source": [
    "조금 더 말로 풀어보자면 다음과 같다. \n",
    "- 최대 빈발 아이템 집합 : 최소 지지도 이상이면서, 이 집합의 모든 부모들은 not frequent한 집합. \n",
    "    - 즉, {A, B, C}는 frequent한데, {A, B, C, D}. {A, B, C, E}, {A, B, C, D. E} 등 그 부모가 될 수 있는 모든 집합이 not frequent\n",
    "    - 그렇다면, {A, B, C}는 최대빈발아이템집합\n",
    "- {A, B, C}는 frequent하기 때문에 {A, B, C}의 부분집합들은 싹다 Frequent. \n",
    "- 이제 그 A, B, C를 가지고 부모와 자식이 될 수 있는 모든 경우의 수를 따진 것이 아래 테이블과 같다. \n",
    "\n",
    "\n",
    "![2_52.png](../materials/2_60.png)"
   ]
  },
  {
   "cell_type": "markdown",
   "metadata": {},
   "source": [
    "**Confidence** :  A, B가 동시에 발생한 횟수 / A 발생한 것 가운데\n",
    "- 그렇다면 신뢰도에 대한 Apriori 원리는?\n",
    "- **동일한 아이템 집합으로 만든 규칙**. X1이 X2에 속하게 되면, `C(X1 -> Y1) <= C(X2 -> Y2)`가 성립한다. \n",
    "\n",
    "![2_52.png](../materials/2_61.png)"
   ]
  },
  {
   "cell_type": "markdown",
   "metadata": {},
   "source": [
    "- 모두가 같은 아이템 집합에서 온 경우 \n",
    "- 맨 위부터 부모에 가능한 한 많이 넣는 경우부터 출발. \n",
    "- A와 B는 {A, B}의 부분집합 이기 때문에, `A-> `, `B->`의 신뢰도는 반드시 `{A, B} -> `보다 낮을 수 밖에 없다. \n",
    "\n",
    "![2_52.png](../materials/2_62.png)"
   ]
  },
  {
   "cell_type": "markdown",
   "metadata": {},
   "source": [
    "**즉, 정리하자먄, 지지도에 대한 Apriori원리는 최대빈발아이템 집합을 찾는데 사용하고, 신뢰도에 대한 Apriori 원리는 최대빈발아이템 집합으로 부터 만들어지는 규칙들 가운데 최소신뢰도 이하인 것을 탐색하는데 활용한다. **\n"
   ]
  },
  {
   "cell_type": "markdown",
   "metadata": {},
   "source": [
    "패키지가 있으나, 직접 구현해도 그렇게 어렵진 않다. 빈발 아이템 규칙을 먼저 찾아내고 연관 규칙을 찾아내는 **두 단계**에 걸쳐 수행한다. \n",
    "\n",
    "- apiori 함수 : 빈발 아이템 집합을 탐색하는데 사용한다. \n",
    "- association rules 함수 : 연관규칙 탐색하는데 사용된다.\n",
    "![2_52.png](../materials/2_63.png)\n",
    "\n",
    "- 연관규칙 탐사에 적절하게 거래 데이터 구조를 바꾸기 위한 함수이다. \n",
    "- 인스턴스 생성 후, 원본 data를 각 아이템의 출현 여부를 같는 ndarray 및 DataFrame으로 변환해준다. \n",
    "![2_52.png](../materials/2_64.png)"
   ]
  },
  {
   "cell_type": "code",
   "execution_count": null,
   "metadata": {},
   "outputs": [],
   "source": []
  },
  {
   "cell_type": "code",
   "execution_count": 11,
   "metadata": {},
   "outputs": [],
   "source": [
    "import os\n",
    "import pandas as pd\n",
    "\n",
    "os.chdir(r\"/Users/sanghyuk/Documents/preprocessing_python/lecture_source/2. 탐색적 데이터 분석/데이터\")\n",
    "\n",
    "\n",
    "import pandas as pd\n",
    "df = pd.read_csv(\"Instacart Market Basket Analysis.csv\")"
   ]
  },
  {
   "cell_type": "code",
   "execution_count": 12,
   "metadata": {},
   "outputs": [
    {
     "data": {
      "text/html": [
       "<div>\n",
       "<style scoped>\n",
       "    .dataframe tbody tr th:only-of-type {\n",
       "        vertical-align: middle;\n",
       "    }\n",
       "\n",
       "    .dataframe tbody tr th {\n",
       "        vertical-align: top;\n",
       "    }\n",
       "\n",
       "    .dataframe thead th {\n",
       "        text-align: right;\n",
       "    }\n",
       "</style>\n",
       "<table border=\"1\" class=\"dataframe\">\n",
       "  <thead>\n",
       "    <tr style=\"text-align: right;\">\n",
       "      <th></th>\n",
       "      <th>order_id</th>\n",
       "      <th>product_id</th>\n",
       "      <th>add_to_cart_order</th>\n",
       "      <th>reordered</th>\n",
       "    </tr>\n",
       "  </thead>\n",
       "  <tbody>\n",
       "    <tr>\n",
       "      <th>0</th>\n",
       "      <td>1</td>\n",
       "      <td>49302</td>\n",
       "      <td>1</td>\n",
       "      <td>1</td>\n",
       "    </tr>\n",
       "    <tr>\n",
       "      <th>1</th>\n",
       "      <td>1</td>\n",
       "      <td>11109</td>\n",
       "      <td>2</td>\n",
       "      <td>1</td>\n",
       "    </tr>\n",
       "    <tr>\n",
       "      <th>2</th>\n",
       "      <td>1</td>\n",
       "      <td>10246</td>\n",
       "      <td>3</td>\n",
       "      <td>0</td>\n",
       "    </tr>\n",
       "    <tr>\n",
       "      <th>3</th>\n",
       "      <td>1</td>\n",
       "      <td>49683</td>\n",
       "      <td>4</td>\n",
       "      <td>0</td>\n",
       "    </tr>\n",
       "    <tr>\n",
       "      <th>4</th>\n",
       "      <td>1</td>\n",
       "      <td>43633</td>\n",
       "      <td>5</td>\n",
       "      <td>1</td>\n",
       "    </tr>\n",
       "  </tbody>\n",
       "</table>\n",
       "</div>"
      ],
      "text/plain": [
       "   order_id  product_id  add_to_cart_order  reordered\n",
       "0         1       49302                  1          1\n",
       "1         1       11109                  2          1\n",
       "2         1       10246                  3          0\n",
       "3         1       49683                  4          0\n",
       "4         1       43633                  5          1"
      ]
     },
     "execution_count": 12,
     "metadata": {},
     "output_type": "execute_result"
    }
   ],
   "source": [
    "df.head()\n",
    "\n",
    "# order_id = 1번 주문에 대해서, product_id에 해당되는 물건들이 주문된 것. "
   ]
  },
  {
   "cell_type": "code",
   "execution_count": 13,
   "metadata": {},
   "outputs": [
    {
     "data": {
      "text/plain": [
       "24852    0.013524\n",
       "13176    0.011180\n",
       "21137    0.007868\n",
       "21903    0.007066\n",
       "47626    0.005875\n",
       "           ...   \n",
       "8193     0.001024\n",
       "9387     0.000996\n",
       "37687    0.000984\n",
       "20995    0.000983\n",
       "34243    0.000976\n",
       "Name: product_id, Length: 100, dtype: float64"
      ]
     },
     "execution_count": 13,
     "metadata": {},
     "output_type": "execute_result"
    }
   ],
   "source": [
    "# 잘 보면, 비율 자체가 그렇게 높지 않음. \n",
    "# 다른 데이터들도 대부분 그렇다. \n",
    "\n",
    "df['product_id'].value_counts(normalize = True).head(100)"
   ]
  },
  {
   "cell_type": "markdown",
   "metadata": {},
   "source": [
    "현재 위 데이터는 각 Order_id별로, Product_id가 각각 한 row씩 먹고 있어서, 데이터 분석으로 부적절하다. <br>\n",
    "데이터 구조를 바꿔 줘야 함. "
   ]
  },
  {
   "cell_type": "code",
   "execution_count": 14,
   "metadata": {},
   "outputs": [],
   "source": [
    "# group by, apply(list) 자주 쓰네. \n",
    "\n",
    "product_list_per_order = df.groupby('order_id')['product_id'].apply(list)"
   ]
  },
  {
   "cell_type": "code",
   "execution_count": 15,
   "metadata": {
    "scrolled": true
   },
   "outputs": [
    {
     "data": {
      "text/plain": [
       "order_id\n",
       "1          [49302, 11109, 10246, 49683, 43633, 13176, 472...\n",
       "36         [39612, 19660, 49235, 43086, 46620, 34497, 486...\n",
       "38         [11913, 18159, 4461, 21616, 23622, 32433, 2884...\n",
       "96         [20574, 30391, 40706, 25610, 27966, 24489, 39275]\n",
       "98         [8859, 19731, 43654, 13176, 4357, 37664, 34065...\n",
       "                                 ...                        \n",
       "3421049           [40800, 17706, 33424, 17299, 26800, 34243]\n",
       "3421056                    [5750, 9340, 21709, 16475, 12432]\n",
       "3421058    [15629, 4347, 34466, 6244, 6858, 30316, 35578,...\n",
       "3421063                         [49235, 13565, 14233, 35548]\n",
       "3421070                                 [35951, 16953, 4724]\n",
       "Name: product_id, Length: 131209, dtype: object"
      ]
     },
     "execution_count": 15,
     "metadata": {},
     "output_type": "execute_result"
    }
   ],
   "source": [
    "product_list_per_order"
   ]
  },
  {
   "cell_type": "code",
   "execution_count": 7,
   "metadata": {},
   "outputs": [],
   "source": [
    "# !pip3 install mlxtend"
   ]
  },
  {
   "cell_type": "code",
   "execution_count": 16,
   "metadata": {
    "scrolled": true
   },
   "outputs": [
    {
     "data": {
      "text/plain": [
       "39123"
      ]
     },
     "execution_count": 16,
     "metadata": {},
     "output_type": "execute_result"
    }
   ],
   "source": [
    "len(np.unique(df['product_id']))"
   ]
  },
  {
   "cell_type": "code",
   "execution_count": 19,
   "metadata": {},
   "outputs": [
    {
     "name": "stdout",
     "output_type": "stream",
     "text": [
      "131209\n",
      "131209\n"
     ]
    }
   ],
   "source": [
    "print(len(one_hot_df.index))\n",
    "print(len(np.unique(df['order_id'])))"
   ]
  },
  {
   "cell_type": "code",
   "execution_count": 18,
   "metadata": {
    "scrolled": false
   },
   "outputs": [
    {
     "data": {
      "text/html": [
       "<div>\n",
       "<style scoped>\n",
       "    .dataframe tbody tr th:only-of-type {\n",
       "        vertical-align: middle;\n",
       "    }\n",
       "\n",
       "    .dataframe tbody tr th {\n",
       "        vertical-align: top;\n",
       "    }\n",
       "\n",
       "    .dataframe thead th {\n",
       "        text-align: right;\n",
       "    }\n",
       "</style>\n",
       "<table border=\"1\" class=\"dataframe\">\n",
       "  <thead>\n",
       "    <tr style=\"text-align: right;\">\n",
       "      <th></th>\n",
       "      <th>1</th>\n",
       "      <th>2</th>\n",
       "      <th>3</th>\n",
       "      <th>4</th>\n",
       "      <th>5</th>\n",
       "      <th>7</th>\n",
       "      <th>8</th>\n",
       "      <th>9</th>\n",
       "      <th>10</th>\n",
       "      <th>11</th>\n",
       "      <th>...</th>\n",
       "      <th>49677</th>\n",
       "      <th>49678</th>\n",
       "      <th>49679</th>\n",
       "      <th>49680</th>\n",
       "      <th>49681</th>\n",
       "      <th>49682</th>\n",
       "      <th>49683</th>\n",
       "      <th>49686</th>\n",
       "      <th>49687</th>\n",
       "      <th>49688</th>\n",
       "    </tr>\n",
       "  </thead>\n",
       "  <tbody>\n",
       "    <tr>\n",
       "      <th>131204</th>\n",
       "      <td>False</td>\n",
       "      <td>False</td>\n",
       "      <td>False</td>\n",
       "      <td>False</td>\n",
       "      <td>False</td>\n",
       "      <td>False</td>\n",
       "      <td>False</td>\n",
       "      <td>False</td>\n",
       "      <td>False</td>\n",
       "      <td>False</td>\n",
       "      <td>...</td>\n",
       "      <td>False</td>\n",
       "      <td>False</td>\n",
       "      <td>False</td>\n",
       "      <td>False</td>\n",
       "      <td>False</td>\n",
       "      <td>False</td>\n",
       "      <td>False</td>\n",
       "      <td>False</td>\n",
       "      <td>False</td>\n",
       "      <td>False</td>\n",
       "    </tr>\n",
       "    <tr>\n",
       "      <th>131205</th>\n",
       "      <td>False</td>\n",
       "      <td>False</td>\n",
       "      <td>False</td>\n",
       "      <td>False</td>\n",
       "      <td>False</td>\n",
       "      <td>False</td>\n",
       "      <td>False</td>\n",
       "      <td>False</td>\n",
       "      <td>False</td>\n",
       "      <td>False</td>\n",
       "      <td>...</td>\n",
       "      <td>False</td>\n",
       "      <td>False</td>\n",
       "      <td>False</td>\n",
       "      <td>False</td>\n",
       "      <td>False</td>\n",
       "      <td>False</td>\n",
       "      <td>False</td>\n",
       "      <td>False</td>\n",
       "      <td>False</td>\n",
       "      <td>False</td>\n",
       "    </tr>\n",
       "    <tr>\n",
       "      <th>131206</th>\n",
       "      <td>False</td>\n",
       "      <td>False</td>\n",
       "      <td>False</td>\n",
       "      <td>False</td>\n",
       "      <td>False</td>\n",
       "      <td>False</td>\n",
       "      <td>False</td>\n",
       "      <td>False</td>\n",
       "      <td>False</td>\n",
       "      <td>False</td>\n",
       "      <td>...</td>\n",
       "      <td>False</td>\n",
       "      <td>False</td>\n",
       "      <td>False</td>\n",
       "      <td>False</td>\n",
       "      <td>False</td>\n",
       "      <td>False</td>\n",
       "      <td>False</td>\n",
       "      <td>False</td>\n",
       "      <td>False</td>\n",
       "      <td>False</td>\n",
       "    </tr>\n",
       "    <tr>\n",
       "      <th>131207</th>\n",
       "      <td>False</td>\n",
       "      <td>False</td>\n",
       "      <td>False</td>\n",
       "      <td>False</td>\n",
       "      <td>False</td>\n",
       "      <td>False</td>\n",
       "      <td>False</td>\n",
       "      <td>False</td>\n",
       "      <td>False</td>\n",
       "      <td>False</td>\n",
       "      <td>...</td>\n",
       "      <td>False</td>\n",
       "      <td>False</td>\n",
       "      <td>False</td>\n",
       "      <td>False</td>\n",
       "      <td>False</td>\n",
       "      <td>False</td>\n",
       "      <td>False</td>\n",
       "      <td>False</td>\n",
       "      <td>False</td>\n",
       "      <td>False</td>\n",
       "    </tr>\n",
       "    <tr>\n",
       "      <th>131208</th>\n",
       "      <td>False</td>\n",
       "      <td>False</td>\n",
       "      <td>False</td>\n",
       "      <td>False</td>\n",
       "      <td>False</td>\n",
       "      <td>False</td>\n",
       "      <td>False</td>\n",
       "      <td>False</td>\n",
       "      <td>False</td>\n",
       "      <td>False</td>\n",
       "      <td>...</td>\n",
       "      <td>False</td>\n",
       "      <td>False</td>\n",
       "      <td>False</td>\n",
       "      <td>False</td>\n",
       "      <td>False</td>\n",
       "      <td>False</td>\n",
       "      <td>False</td>\n",
       "      <td>False</td>\n",
       "      <td>False</td>\n",
       "      <td>False</td>\n",
       "    </tr>\n",
       "  </tbody>\n",
       "</table>\n",
       "<p>5 rows × 39123 columns</p>\n",
       "</div>"
      ],
      "text/plain": [
       "        1      2      3      4      5      7      8      9      10     11     \\\n",
       "131204  False  False  False  False  False  False  False  False  False  False   \n",
       "131205  False  False  False  False  False  False  False  False  False  False   \n",
       "131206  False  False  False  False  False  False  False  False  False  False   \n",
       "131207  False  False  False  False  False  False  False  False  False  False   \n",
       "131208  False  False  False  False  False  False  False  False  False  False   \n",
       "\n",
       "        ...  49677  49678  49679  49680  49681  49682  49683  49686  49687  \\\n",
       "131204  ...  False  False  False  False  False  False  False  False  False   \n",
       "131205  ...  False  False  False  False  False  False  False  False  False   \n",
       "131206  ...  False  False  False  False  False  False  False  False  False   \n",
       "131207  ...  False  False  False  False  False  False  False  False  False   \n",
       "131208  ...  False  False  False  False  False  False  False  False  False   \n",
       "\n",
       "        49688  \n",
       "131204  False  \n",
       "131205  False  \n",
       "131206  False  \n",
       "131207  False  \n",
       "131208  False  \n",
       "\n",
       "[5 rows x 39123 columns]"
      ]
     },
     "execution_count": 18,
     "metadata": {},
     "output_type": "execute_result"
    }
   ],
   "source": [
    "# 구매 기록 데이터 -> One hot encoding 데이터\n",
    "from mlxtend.preprocessing import TransactionEncoder\n",
    "encoder = TransactionEncoder() # 인스턴스화\n",
    "\n",
    "# columns are product_id\n",
    "one_hot_df = encoder.fit(product_list_per_order).transform(product_list_per_order) # 결과: ndarray\n",
    "one_hot_df = pd.DataFrame(one_hot_df, columns = encoder.columns_)\n",
    "one_hot_df.tail() # 매우 희소 (sparse)"
   ]
  },
  {
   "cell_type": "code",
   "execution_count": null,
   "metadata": {},
   "outputs": [],
   "source": [
    "from mlxtend.frequent_patterns import *\n",
    "\n",
    "frequent_item_df = apriori(one_hot_df, min_support = 0.003) # 0.3% 이상 구매한 상품만 대상으로 함, 실제로는 이 정도 숫자도 흔치가 않다. 보통은 1%도 안된다. \n",
    "# confidence 0.1 이상인 연관규칙을 뽑아내겠다. \n",
    "result = association_rules(frequent_item_df, metric = 'confidence', min_threshold = 0.1)\n",
    "result[['antecedents', 'consequents', 'support', 'confidence']].sort_values(by = 'confidence', ascending = False).to_csv(\"연관규칙탐사결과.csv\", index = False)"
   ]
  },
  {
   "cell_type": "code",
   "execution_count": null,
   "metadata": {},
   "outputs": [],
   "source": [
    "frequent_item_df"
   ]
  },
  {
   "cell_type": "markdown",
   "metadata": {},
   "source": [
    "여러가지 리포트 지표들이 보인다. \n",
    "- antecedent, consequent의 Support를 각각 보여준다. "
   ]
  },
  {
   "cell_type": "code",
   "execution_count": 9,
   "metadata": {
    "scrolled": false
   },
   "outputs": [
    {
     "data": {
      "text/html": [
       "<div>\n",
       "<style scoped>\n",
       "    .dataframe tbody tr th:only-of-type {\n",
       "        vertical-align: middle;\n",
       "    }\n",
       "\n",
       "    .dataframe tbody tr th {\n",
       "        vertical-align: top;\n",
       "    }\n",
       "\n",
       "    .dataframe thead th {\n",
       "        text-align: right;\n",
       "    }\n",
       "</style>\n",
       "<table border=\"1\" class=\"dataframe\">\n",
       "  <thead>\n",
       "    <tr style=\"text-align: right;\">\n",
       "      <th></th>\n",
       "      <th>antecedents</th>\n",
       "      <th>consequents</th>\n",
       "      <th>antecedent support</th>\n",
       "      <th>consequent support</th>\n",
       "      <th>support</th>\n",
       "      <th>confidence</th>\n",
       "      <th>lift</th>\n",
       "      <th>leverage</th>\n",
       "      <th>conviction</th>\n",
       "    </tr>\n",
       "  </thead>\n",
       "  <tbody>\n",
       "    <tr>\n",
       "      <th>0</th>\n",
       "      <td>(12022)</td>\n",
       "      <td>(1815)</td>\n",
       "      <td>0.014206</td>\n",
       "      <td>0.008887</td>\n",
       "      <td>0.003018</td>\n",
       "      <td>0.212446</td>\n",
       "      <td>23.906409</td>\n",
       "      <td>0.002892</td>\n",
       "      <td>1.258471</td>\n",
       "    </tr>\n",
       "    <tr>\n",
       "      <th>1</th>\n",
       "      <td>(1815)</td>\n",
       "      <td>(12022)</td>\n",
       "      <td>0.008887</td>\n",
       "      <td>0.014206</td>\n",
       "      <td>0.003018</td>\n",
       "      <td>0.339623</td>\n",
       "      <td>23.906409</td>\n",
       "      <td>0.002892</td>\n",
       "      <td>1.492773</td>\n",
       "    </tr>\n",
       "    <tr>\n",
       "      <th>2</th>\n",
       "      <td>(3640)</td>\n",
       "      <td>(17300)</td>\n",
       "      <td>0.028672</td>\n",
       "      <td>0.074568</td>\n",
       "      <td>0.004146</td>\n",
       "      <td>0.144604</td>\n",
       "      <td>1.939221</td>\n",
       "      <td>0.002008</td>\n",
       "      <td>1.081875</td>\n",
       "    </tr>\n",
       "    <tr>\n",
       "      <th>3</th>\n",
       "      <td>(3640)</td>\n",
       "      <td>(19574)</td>\n",
       "      <td>0.028672</td>\n",
       "      <td>0.142719</td>\n",
       "      <td>0.008163</td>\n",
       "      <td>0.284689</td>\n",
       "      <td>1.994754</td>\n",
       "      <td>0.004071</td>\n",
       "      <td>1.198473</td>\n",
       "    </tr>\n",
       "    <tr>\n",
       "      <th>4</th>\n",
       "      <td>(3640)</td>\n",
       "      <td>(20648)</td>\n",
       "      <td>0.028672</td>\n",
       "      <td>0.045980</td>\n",
       "      <td>0.003780</td>\n",
       "      <td>0.131845</td>\n",
       "      <td>2.867432</td>\n",
       "      <td>0.002462</td>\n",
       "      <td>1.098905</td>\n",
       "    </tr>\n",
       "  </tbody>\n",
       "</table>\n",
       "</div>"
      ],
      "text/plain": [
       "  antecedents consequents  antecedent support  consequent support   support  \\\n",
       "0     (12022)      (1815)            0.014206            0.008887  0.003018   \n",
       "1      (1815)     (12022)            0.008887            0.014206  0.003018   \n",
       "2      (3640)     (17300)            0.028672            0.074568  0.004146   \n",
       "3      (3640)     (19574)            0.028672            0.142719  0.008163   \n",
       "4      (3640)     (20648)            0.028672            0.045980  0.003780   \n",
       "\n",
       "   confidence       lift  leverage  conviction  \n",
       "0    0.212446  23.906409  0.002892    1.258471  \n",
       "1    0.339623  23.906409  0.002892    1.492773  \n",
       "2    0.144604   1.939221  0.002008    1.081875  \n",
       "3    0.284689   1.994754  0.004071    1.198473  \n",
       "4    0.131845   2.867432  0.002462    1.098905  "
      ]
     },
     "execution_count": 9,
     "metadata": {},
     "output_type": "execute_result"
    }
   ],
   "source": [
    "result.head()"
   ]
  }
 ],
 "metadata": {
  "kernelspec": {
   "display_name": "Python 3",
   "language": "python",
   "name": "python3"
  }
 },
 "nbformat": 4,
 "nbformat_minor": 4
}

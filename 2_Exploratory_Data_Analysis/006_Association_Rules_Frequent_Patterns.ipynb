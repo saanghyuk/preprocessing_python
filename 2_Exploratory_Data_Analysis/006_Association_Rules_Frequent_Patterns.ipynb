{
 "cells": [
  {
   "cell_type": "markdown",
   "metadata": {},
   "source": [
    "# 연관규칙 탐색 \n",
    "\n",
    "- antecedant and consequent\n",
    "\n",
    "![2_52.png](../materials/2_52.png)\n",
    "![2_52.png](../materials/2_53.png)"
   ]
  },
  {
   "cell_type": "markdown",
   "metadata": {},
   "source": [
    "![2_52.png](../materials/2_54.png)"
   ]
  },
  {
   "cell_type": "markdown",
   "metadata": {},
   "source": [
    "- Support :  A, B가 동시에 발생한 횟수 / 전체 트렌젝션 데이터 크기\n",
    "- Confidence :  A, B가 동시에 발생한 횟수 / A 발생한 것 가운데\n",
    "\n",
    "![2_52.png](../materials/2_55.png)\n",
    "![2_52.png](../materials/2_56.png)"
   ]
  },
  {
   "cell_type": "markdown",
   "metadata": {},
   "source": [
    "- 아이템집합 격자 \n",
    "    - 각 `node`는 하나의 아이템 집합을 의미. \n",
    "    - 해당 노드에 포함되는 아이템인 경우는 `edge`가 그어진다. \n",
    "\n",
    "![2_52.png](../materials/2_57.png)"
   ]
  },
  {
   "cell_type": "markdown",
   "metadata": {},
   "source": [
    "- 최소 지지도(교집합/전체)는 사용자가 정의하는 지지도. 이 규칙을 넘어서면 frequent한 것. \n",
    "- `Apriori 원리`: 어떤 아이템 집합이 frequent 하면(즉, minimum support 이상이면), 그 아이템의 부분집합 또한 frequent하다. \n",
    "    - 즉, 빵과 우유의 집합이 빈발하면 빵과 우유는 각각 둘다 빈발하다. \n",
    "    - 하단 증명 보면 너무 당연함. \n",
    "\n",
    "![2_52.png](../materials/2_58.png)"
   ]
  },
  {
   "cell_type": "markdown",
   "metadata": {},
   "source": [
    "- `AB`집합이 not frequent한 경우, 그 부모의 집합도 빈발하지 않다. \n",
    "    - 위 증명에 대한 대우 명제. \n",
    "    - `대우명제` : **부분 집합이 not frequent -> 그 부모의 집합도 not frequent**\n",
    "\n",
    "- 즉, 아랫 단계에서 AB가 not frequent가 판단되는 순간 그 부모 집합들 싹다 배재하면 되는 것. 효율적인 탐색이 가능하다. \n",
    "\n",
    "\n",
    "![2_52.png](../materials/2_59.png)"
   ]
  },
  {
   "cell_type": "markdown",
   "metadata": {},
   "source": [
    "조금 더 말로 풀어보자면 다음과 같다. \n",
    "- 최대 빈발 아이템 집합 : 최소 지지도 이상이면서, 이 집합의 모든 부모들은 not frequent한 집합. \n",
    "    - 즉, {A, B, C}는 frequent한데, {A, B, C, D}. {A, B, C, E}, {A, B, C, D. E} 등 그 부모가 될 수 있는 모든 집합이 not frequent\n",
    "    - 그렇다면, {A, B, C}는 최대빈발아이템집합\n",
    "- {A, B, C}는 frequent하기 때문에 {A, B, C}의 부분집합들은 싹다 Frequent. \n",
    "- 이제 그 A, B, C를 가지고 부모와 자식이 될 수 있는 모든 경우의 수를 따진 것이 아래 테이블과 같다. \n",
    "\n",
    "\n",
    "![2_52.png](../materials/2_60.png)"
   ]
  },
  {
   "cell_type": "markdown",
   "metadata": {},
   "source": [
    "**Confidence** :  A, B가 동시에 발생한 횟수 / A 발생한 것 가운데\n",
    "- 그렇다면 신뢰도에 대한 Apriori 원리는?\n",
    "- **동일한 아이템 집합으로 만든 규칙**. X1이 X2에 속하게 되면, `C(X1 -> Y1) <= C(X2 -> Y2)`가 성립한다. \n",
    "\n",
    "![2_52.png](../materials/2_61.png)"
   ]
  },
  {
   "cell_type": "markdown",
   "metadata": {},
   "source": [
    "- 모두가 같은 아이템 집합에서 온 경우 \n",
    "- 맨 위부터 부모에 가능한 한 많이 넣는 경우부터 출발. \n",
    "- A와 B는 {A, B}의 부분집합 이기 때문에, `A-> `, `B->`의 신뢰도는 반드시 `{A, B} -> `보다 낮을 수 밖에 없다. \n",
    "\n",
    "![2_52.png](../materials/2_62.png)"
   ]
  },
  {
   "cell_type": "markdown",
   "metadata": {},
   "source": [
    "**즉, 정리하자먄, 지지도에 대한 Apriori원리는 최대빈발아이템 집합을 찾는데 사용하고, 신뢰도에 대한 Apriori 원리는 최대빈발아이템 집합으로 부터 만들어지는 규칙들 가운데 최소신뢰도 이하인 것을 탐색하는데 활용한다. **\n"
   ]
  },
  {
   "cell_type": "markdown",
   "metadata": {},
   "source": [
    "패키지가 있으나, 직접 구현해도 그렇게 어렵진 않다. 빈발 아이템 규칙을 먼저 찾아내고 연관 규칙을 찾아내는 **두 단계**에 걸쳐 수행한다. \n",
    "\n",
    "- apiori 함수 : 빈발 아이템 집합을 탐색하는데 사용한다. \n",
    "- association rules 함수 : 연관규칙 탐색하는데 사용된다.\n",
    "![2_52.png](../materials/2_63.png)\n",
    "\n",
    "- 연관규칙 탐사에 적절하게 거래 데이터 구조를 바꾸기 위한 함수이다. \n",
    "- 인스턴스 생성 후, 원본 data를 각 아이템의 출현 여부를 같는 ndarray 및 DataFrame으로 변환해준다. \n",
    "![2_52.png](../materials/2_64.png)"
   ]
  },
  {
   "cell_type": "markdown",
   "metadata": {},
   "source": [
    "향상도 (Lift)\n",
    "\n",
    ": 항목집합 X가 주어지지 않았을 때의 항목집합 Y의 확률 대비 항목집합 X가 주어졌을 대 항목집합 Y의 확률 증가 비율을 말합니다. 다른말로 표현하자면, 향상도가 1보다 크거나(+관계) 작다면(-관계) 우연적 기회(random chance)보다 우수함을 의미합니다. (X와 Y가 서로 독립이면 Lift = 1)\n",
    "\n",
    "향상도(Lift)\n",
    "\n",
    "= 연관규칙의 신뢰도/지지도 = c(X→Y) / s(Y)\n",
    "\n",
    " \n",
    "\n",
    "출처: https://rfriend.tistory.com/191 [R, Python 분석과 프로그래밍의 친구 (by R Friend)]"
   ]
  },
  {
   "cell_type": "code",
   "execution_count": 11,
   "metadata": {},
   "outputs": [],
   "source": [
    "import os\n",
    "import pandas as pd\n",
    "\n",
    "os.chdir(r\"/Users/sanghyuk/Documents/preprocessing_python/lecture_source/2. 탐색적 데이터 분석/데이터\")\n",
    "\n",
    "\n",
    "import pandas as pd\n",
    "df = pd.read_csv(\"Instacart Market Basket Analysis.csv\")"
   ]
  },
  {
   "cell_type": "code",
   "execution_count": 12,
   "metadata": {},
   "outputs": [
    {
     "data": {
      "text/html": [
       "<div>\n",
       "<style scoped>\n",
       "    .dataframe tbody tr th:only-of-type {\n",
       "        vertical-align: middle;\n",
       "    }\n",
       "\n",
       "    .dataframe tbody tr th {\n",
       "        vertical-align: top;\n",
       "    }\n",
       "\n",
       "    .dataframe thead th {\n",
       "        text-align: right;\n",
       "    }\n",
       "</style>\n",
       "<table border=\"1\" class=\"dataframe\">\n",
       "  <thead>\n",
       "    <tr style=\"text-align: right;\">\n",
       "      <th></th>\n",
       "      <th>order_id</th>\n",
       "      <th>product_id</th>\n",
       "      <th>add_to_cart_order</th>\n",
       "      <th>reordered</th>\n",
       "    </tr>\n",
       "  </thead>\n",
       "  <tbody>\n",
       "    <tr>\n",
       "      <th>0</th>\n",
       "      <td>1</td>\n",
       "      <td>49302</td>\n",
       "      <td>1</td>\n",
       "      <td>1</td>\n",
       "    </tr>\n",
       "    <tr>\n",
       "      <th>1</th>\n",
       "      <td>1</td>\n",
       "      <td>11109</td>\n",
       "      <td>2</td>\n",
       "      <td>1</td>\n",
       "    </tr>\n",
       "    <tr>\n",
       "      <th>2</th>\n",
       "      <td>1</td>\n",
       "      <td>10246</td>\n",
       "      <td>3</td>\n",
       "      <td>0</td>\n",
       "    </tr>\n",
       "    <tr>\n",
       "      <th>3</th>\n",
       "      <td>1</td>\n",
       "      <td>49683</td>\n",
       "      <td>4</td>\n",
       "      <td>0</td>\n",
       "    </tr>\n",
       "    <tr>\n",
       "      <th>4</th>\n",
       "      <td>1</td>\n",
       "      <td>43633</td>\n",
       "      <td>5</td>\n",
       "      <td>1</td>\n",
       "    </tr>\n",
       "  </tbody>\n",
       "</table>\n",
       "</div>"
      ],
      "text/plain": [
       "   order_id  product_id  add_to_cart_order  reordered\n",
       "0         1       49302                  1          1\n",
       "1         1       11109                  2          1\n",
       "2         1       10246                  3          0\n",
       "3         1       49683                  4          0\n",
       "4         1       43633                  5          1"
      ]
     },
     "execution_count": 12,
     "metadata": {},
     "output_type": "execute_result"
    }
   ],
   "source": [
    "df.head()\n",
    "\n",
    "# order_id = 1번 주문에 대해서, product_id에 해당되는 물건들이 주문된 것. "
   ]
  },
  {
   "cell_type": "code",
   "execution_count": 13,
   "metadata": {},
   "outputs": [
    {
     "data": {
      "text/plain": [
       "24852    0.013524\n",
       "13176    0.011180\n",
       "21137    0.007868\n",
       "21903    0.007066\n",
       "47626    0.005875\n",
       "           ...   \n",
       "8193     0.001024\n",
       "9387     0.000996\n",
       "37687    0.000984\n",
       "20995    0.000983\n",
       "34243    0.000976\n",
       "Name: product_id, Length: 100, dtype: float64"
      ]
     },
     "execution_count": 13,
     "metadata": {},
     "output_type": "execute_result"
    }
   ],
   "source": [
    "# 잘 보면, 비율 자체가 그렇게 높지 않음. \n",
    "# 다른 데이터들도 대부분 그렇다. \n",
    "\n",
    "df['product_id'].value_counts(normalize = True).head(100)"
   ]
  },
  {
   "cell_type": "markdown",
   "metadata": {},
   "source": [
    "현재 위 데이터는 각 Order_id별로, Product_id가 각각 한 row씩 먹고 있어서, 데이터 분석으로 부적절하다. <br>\n",
    "데이터 구조를 바꿔 줘야 함. "
   ]
  },
  {
   "cell_type": "code",
   "execution_count": 14,
   "metadata": {},
   "outputs": [],
   "source": [
    "# group by, apply(list) 자주 쓰네. \n",
    "\n",
    "product_list_per_order = df.groupby('order_id')['product_id'].apply(list)"
   ]
  },
  {
   "cell_type": "code",
   "execution_count": 15,
   "metadata": {
    "scrolled": true
   },
   "outputs": [
    {
     "data": {
      "text/plain": [
       "order_id\n",
       "1          [49302, 11109, 10246, 49683, 43633, 13176, 472...\n",
       "36         [39612, 19660, 49235, 43086, 46620, 34497, 486...\n",
       "38         [11913, 18159, 4461, 21616, 23622, 32433, 2884...\n",
       "96         [20574, 30391, 40706, 25610, 27966, 24489, 39275]\n",
       "98         [8859, 19731, 43654, 13176, 4357, 37664, 34065...\n",
       "                                 ...                        \n",
       "3421049           [40800, 17706, 33424, 17299, 26800, 34243]\n",
       "3421056                    [5750, 9340, 21709, 16475, 12432]\n",
       "3421058    [15629, 4347, 34466, 6244, 6858, 30316, 35578,...\n",
       "3421063                         [49235, 13565, 14233, 35548]\n",
       "3421070                                 [35951, 16953, 4724]\n",
       "Name: product_id, Length: 131209, dtype: object"
      ]
     },
     "execution_count": 15,
     "metadata": {},
     "output_type": "execute_result"
    }
   ],
   "source": [
    "product_list_per_order"
   ]
  },
  {
   "cell_type": "code",
   "execution_count": 7,
   "metadata": {},
   "outputs": [],
   "source": [
    "# !pip3 install mlxtend"
   ]
  },
  {
   "cell_type": "code",
   "execution_count": 16,
   "metadata": {
    "scrolled": true
   },
   "outputs": [
    {
     "data": {
      "text/plain": [
       "39123"
      ]
     },
     "execution_count": 16,
     "metadata": {},
     "output_type": "execute_result"
    }
   ],
   "source": [
    "len(np.unique(df['product_id']))"
   ]
  },
  {
   "cell_type": "code",
   "execution_count": 19,
   "metadata": {},
   "outputs": [
    {
     "name": "stdout",
     "output_type": "stream",
     "text": [
      "131209\n",
      "131209\n"
     ]
    }
   ],
   "source": [
    "print(len(one_hot_df.index))\n",
    "print(len(np.unique(df['order_id'])))"
   ]
  },
  {
   "cell_type": "code",
   "execution_count": 18,
   "metadata": {
    "scrolled": false
   },
   "outputs": [
    {
     "data": {
      "text/html": [
       "<div>\n",
       "<style scoped>\n",
       "    .dataframe tbody tr th:only-of-type {\n",
       "        vertical-align: middle;\n",
       "    }\n",
       "\n",
       "    .dataframe tbody tr th {\n",
       "        vertical-align: top;\n",
       "    }\n",
       "\n",
       "    .dataframe thead th {\n",
       "        text-align: right;\n",
       "    }\n",
       "</style>\n",
       "<table border=\"1\" class=\"dataframe\">\n",
       "  <thead>\n",
       "    <tr style=\"text-align: right;\">\n",
       "      <th></th>\n",
       "      <th>1</th>\n",
       "      <th>2</th>\n",
       "      <th>3</th>\n",
       "      <th>4</th>\n",
       "      <th>5</th>\n",
       "      <th>7</th>\n",
       "      <th>8</th>\n",
       "      <th>9</th>\n",
       "      <th>10</th>\n",
       "      <th>11</th>\n",
       "      <th>...</th>\n",
       "      <th>49677</th>\n",
       "      <th>49678</th>\n",
       "      <th>49679</th>\n",
       "      <th>49680</th>\n",
       "      <th>49681</th>\n",
       "      <th>49682</th>\n",
       "      <th>49683</th>\n",
       "      <th>49686</th>\n",
       "      <th>49687</th>\n",
       "      <th>49688</th>\n",
       "    </tr>\n",
       "  </thead>\n",
       "  <tbody>\n",
       "    <tr>\n",
       "      <th>131204</th>\n",
       "      <td>False</td>\n",
       "      <td>False</td>\n",
       "      <td>False</td>\n",
       "      <td>False</td>\n",
       "      <td>False</td>\n",
       "      <td>False</td>\n",
       "      <td>False</td>\n",
       "      <td>False</td>\n",
       "      <td>False</td>\n",
       "      <td>False</td>\n",
       "      <td>...</td>\n",
       "      <td>False</td>\n",
       "      <td>False</td>\n",
       "      <td>False</td>\n",
       "      <td>False</td>\n",
       "      <td>False</td>\n",
       "      <td>False</td>\n",
       "      <td>False</td>\n",
       "      <td>False</td>\n",
       "      <td>False</td>\n",
       "      <td>False</td>\n",
       "    </tr>\n",
       "    <tr>\n",
       "      <th>131205</th>\n",
       "      <td>False</td>\n",
       "      <td>False</td>\n",
       "      <td>False</td>\n",
       "      <td>False</td>\n",
       "      <td>False</td>\n",
       "      <td>False</td>\n",
       "      <td>False</td>\n",
       "      <td>False</td>\n",
       "      <td>False</td>\n",
       "      <td>False</td>\n",
       "      <td>...</td>\n",
       "      <td>False</td>\n",
       "      <td>False</td>\n",
       "      <td>False</td>\n",
       "      <td>False</td>\n",
       "      <td>False</td>\n",
       "      <td>False</td>\n",
       "      <td>False</td>\n",
       "      <td>False</td>\n",
       "      <td>False</td>\n",
       "      <td>False</td>\n",
       "    </tr>\n",
       "    <tr>\n",
       "      <th>131206</th>\n",
       "      <td>False</td>\n",
       "      <td>False</td>\n",
       "      <td>False</td>\n",
       "      <td>False</td>\n",
       "      <td>False</td>\n",
       "      <td>False</td>\n",
       "      <td>False</td>\n",
       "      <td>False</td>\n",
       "      <td>False</td>\n",
       "      <td>False</td>\n",
       "      <td>...</td>\n",
       "      <td>False</td>\n",
       "      <td>False</td>\n",
       "      <td>False</td>\n",
       "      <td>False</td>\n",
       "      <td>False</td>\n",
       "      <td>False</td>\n",
       "      <td>False</td>\n",
       "      <td>False</td>\n",
       "      <td>False</td>\n",
       "      <td>False</td>\n",
       "    </tr>\n",
       "    <tr>\n",
       "      <th>131207</th>\n",
       "      <td>False</td>\n",
       "      <td>False</td>\n",
       "      <td>False</td>\n",
       "      <td>False</td>\n",
       "      <td>False</td>\n",
       "      <td>False</td>\n",
       "      <td>False</td>\n",
       "      <td>False</td>\n",
       "      <td>False</td>\n",
       "      <td>False</td>\n",
       "      <td>...</td>\n",
       "      <td>False</td>\n",
       "      <td>False</td>\n",
       "      <td>False</td>\n",
       "      <td>False</td>\n",
       "      <td>False</td>\n",
       "      <td>False</td>\n",
       "      <td>False</td>\n",
       "      <td>False</td>\n",
       "      <td>False</td>\n",
       "      <td>False</td>\n",
       "    </tr>\n",
       "    <tr>\n",
       "      <th>131208</th>\n",
       "      <td>False</td>\n",
       "      <td>False</td>\n",
       "      <td>False</td>\n",
       "      <td>False</td>\n",
       "      <td>False</td>\n",
       "      <td>False</td>\n",
       "      <td>False</td>\n",
       "      <td>False</td>\n",
       "      <td>False</td>\n",
       "      <td>False</td>\n",
       "      <td>...</td>\n",
       "      <td>False</td>\n",
       "      <td>False</td>\n",
       "      <td>False</td>\n",
       "      <td>False</td>\n",
       "      <td>False</td>\n",
       "      <td>False</td>\n",
       "      <td>False</td>\n",
       "      <td>False</td>\n",
       "      <td>False</td>\n",
       "      <td>False</td>\n",
       "    </tr>\n",
       "  </tbody>\n",
       "</table>\n",
       "<p>5 rows × 39123 columns</p>\n",
       "</div>"
      ],
      "text/plain": [
       "        1      2      3      4      5      7      8      9      10     11     \\\n",
       "131204  False  False  False  False  False  False  False  False  False  False   \n",
       "131205  False  False  False  False  False  False  False  False  False  False   \n",
       "131206  False  False  False  False  False  False  False  False  False  False   \n",
       "131207  False  False  False  False  False  False  False  False  False  False   \n",
       "131208  False  False  False  False  False  False  False  False  False  False   \n",
       "\n",
       "        ...  49677  49678  49679  49680  49681  49682  49683  49686  49687  \\\n",
       "131204  ...  False  False  False  False  False  False  False  False  False   \n",
       "131205  ...  False  False  False  False  False  False  False  False  False   \n",
       "131206  ...  False  False  False  False  False  False  False  False  False   \n",
       "131207  ...  False  False  False  False  False  False  False  False  False   \n",
       "131208  ...  False  False  False  False  False  False  False  False  False   \n",
       "\n",
       "        49688  \n",
       "131204  False  \n",
       "131205  False  \n",
       "131206  False  \n",
       "131207  False  \n",
       "131208  False  \n",
       "\n",
       "[5 rows x 39123 columns]"
      ]
     },
     "execution_count": 18,
     "metadata": {},
     "output_type": "execute_result"
    }
   ],
   "source": [
    "# 구매 기록 데이터 -> One hot encoding 데이터\n",
    "from mlxtend.preprocessing import TransactionEncoder\n",
    "encoder = TransactionEncoder() # 인스턴스화\n",
    "\n",
    "# columns are product_id\n",
    "one_hot_df = encoder.fit(product_list_per_order).transform(product_list_per_order) # 결과: ndarray\n",
    "one_hot_df = pd.DataFrame(one_hot_df, columns = encoder.columns_)\n",
    "one_hot_df.tail() # 매우 희소 (sparse)"
   ]
  },
  {
   "cell_type": "code",
   "execution_count": null,
   "metadata": {},
   "outputs": [],
   "source": [
    "from mlxtend.frequent_patterns import *\n",
    "\n",
    "frequent_item_df = apriori(one_hot_df, min_support = 0.003) # 0.3% 이상 구매한 상품만 대상으로 함, 실제로는 이 정도 숫자도 흔치가 않다. 보통은 1%도 안된다. \n",
    "# confidence 0.1 이상인 연관규칙을 뽑아내겠다. \n",
    "result = association_rules(frequent_item_df, metric = 'confidence', min_threshold = 0.1)\n",
    "result[['antecedents', 'consequents', 'support', 'confidence']].sort_values(by = 'confidence', ascending = False).to_csv(\"연관규칙탐사결과.csv\", index = False)"
   ]
  },
  {
   "cell_type": "code",
   "execution_count": null,
   "metadata": {},
   "outputs": [],
   "source": [
    "frequent_item_df"
   ]
  },
  {
   "cell_type": "markdown",
   "metadata": {},
   "source": [
    "여러가지 리포트 지표들이 보인다. \n",
    "- antecedent, consequent의 Support를 각각 보여준다. "
   ]
  },
  {
   "cell_type": "code",
   "execution_count": 9,
   "metadata": {
    "scrolled": true
   },
   "outputs": [
    {
     "data": {
      "text/html": [
       "<div>\n",
       "<style scoped>\n",
       "    .dataframe tbody tr th:only-of-type {\n",
       "        vertical-align: middle;\n",
       "    }\n",
       "\n",
       "    .dataframe tbody tr th {\n",
       "        vertical-align: top;\n",
       "    }\n",
       "\n",
       "    .dataframe thead th {\n",
       "        text-align: right;\n",
       "    }\n",
       "</style>\n",
       "<table border=\"1\" class=\"dataframe\">\n",
       "  <thead>\n",
       "    <tr style=\"text-align: right;\">\n",
       "      <th></th>\n",
       "      <th>antecedents</th>\n",
       "      <th>consequents</th>\n",
       "      <th>antecedent support</th>\n",
       "      <th>consequent support</th>\n",
       "      <th>support</th>\n",
       "      <th>confidence</th>\n",
       "      <th>lift</th>\n",
       "      <th>leverage</th>\n",
       "      <th>conviction</th>\n",
       "    </tr>\n",
       "  </thead>\n",
       "  <tbody>\n",
       "    <tr>\n",
       "      <th>0</th>\n",
       "      <td>(12022)</td>\n",
       "      <td>(1815)</td>\n",
       "      <td>0.014206</td>\n",
       "      <td>0.008887</td>\n",
       "      <td>0.003018</td>\n",
       "      <td>0.212446</td>\n",
       "      <td>23.906409</td>\n",
       "      <td>0.002892</td>\n",
       "      <td>1.258471</td>\n",
       "    </tr>\n",
       "    <tr>\n",
       "      <th>1</th>\n",
       "      <td>(1815)</td>\n",
       "      <td>(12022)</td>\n",
       "      <td>0.008887</td>\n",
       "      <td>0.014206</td>\n",
       "      <td>0.003018</td>\n",
       "      <td>0.339623</td>\n",
       "      <td>23.906409</td>\n",
       "      <td>0.002892</td>\n",
       "      <td>1.492773</td>\n",
       "    </tr>\n",
       "    <tr>\n",
       "      <th>2</th>\n",
       "      <td>(3640)</td>\n",
       "      <td>(17300)</td>\n",
       "      <td>0.028672</td>\n",
       "      <td>0.074568</td>\n",
       "      <td>0.004146</td>\n",
       "      <td>0.144604</td>\n",
       "      <td>1.939221</td>\n",
       "      <td>0.002008</td>\n",
       "      <td>1.081875</td>\n",
       "    </tr>\n",
       "    <tr>\n",
       "      <th>3</th>\n",
       "      <td>(3640)</td>\n",
       "      <td>(19574)</td>\n",
       "      <td>0.028672</td>\n",
       "      <td>0.142719</td>\n",
       "      <td>0.008163</td>\n",
       "      <td>0.284689</td>\n",
       "      <td>1.994754</td>\n",
       "      <td>0.004071</td>\n",
       "      <td>1.198473</td>\n",
       "    </tr>\n",
       "    <tr>\n",
       "      <th>4</th>\n",
       "      <td>(3640)</td>\n",
       "      <td>(20648)</td>\n",
       "      <td>0.028672</td>\n",
       "      <td>0.045980</td>\n",
       "      <td>0.003780</td>\n",
       "      <td>0.131845</td>\n",
       "      <td>2.867432</td>\n",
       "      <td>0.002462</td>\n",
       "      <td>1.098905</td>\n",
       "    </tr>\n",
       "  </tbody>\n",
       "</table>\n",
       "</div>"
      ],
      "text/plain": [
       "  antecedents consequents  antecedent support  consequent support   support  \\\n",
       "0     (12022)      (1815)            0.014206            0.008887  0.003018   \n",
       "1      (1815)     (12022)            0.008887            0.014206  0.003018   \n",
       "2      (3640)     (17300)            0.028672            0.074568  0.004146   \n",
       "3      (3640)     (19574)            0.028672            0.142719  0.008163   \n",
       "4      (3640)     (20648)            0.028672            0.045980  0.003780   \n",
       "\n",
       "   confidence       lift  leverage  conviction  \n",
       "0    0.212446  23.906409  0.002892    1.258471  \n",
       "1    0.339623  23.906409  0.002892    1.492773  \n",
       "2    0.144604   1.939221  0.002008    1.081875  \n",
       "3    0.284689   1.994754  0.004071    1.198473  \n",
       "4    0.131845   2.867432  0.002462    1.098905  "
      ]
     },
     "execution_count": 9,
     "metadata": {},
     "output_type": "execute_result"
    }
   ],
   "source": [
    "result.head()"
   ]
  },
  {
   "cell_type": "code",
   "execution_count": null,
   "metadata": {},
   "outputs": [],
   "source": []
  },
  {
   "cell_type": "code",
   "execution_count": null,
   "metadata": {},
   "outputs": [],
   "source": []
  },
  {
   "cell_type": "markdown",
   "metadata": {},
   "source": [
    "# Association Rule For Sequence Data"
   ]
  },
  {
   "cell_type": "markdown",
   "metadata": {},
   "source": [
    "- 순서가 있고드 레코드의 길이가 다 다를 수 있다. \n",
    "- 로그 데이터의 대부분이 이런 형태의 데이터. "
   ]
  },
  {
   "cell_type": "markdown",
   "metadata": {},
   "source": [
    "![2_65.png](../materials/2_65.png)"
   ]
  },
  {
   "cell_type": "markdown",
   "metadata": {},
   "source": [
    "- 앞에서는 순서를 고려하지 않았지만, 여기서는 순서가 포인트. \n",
    "- 위에서 했던 분석은, {A, B}, {B, A}가 둘다 카운팅 되지만, 여기서는 `A -> B`의 순서까지 동일해야 카운팅 된다. "
   ]
  },
  {
   "cell_type": "markdown",
   "metadata": {},
   "source": [
    "![2_65.png](../materials/2_66.png)"
   ]
  },
  {
   "cell_type": "markdown",
   "metadata": {},
   "source": [
    "#### 정의가 필요한 부분이 생김\n",
    "- 아래와 같은 데이터에서, `A -> C`는 출현했다고 해야 하는가 아니라고 해야 하는가?\n",
    "- 이 부분은 분석하는 사용자가 설정하는 부분임. \n",
    "- 이 개념을 일반화 시킨 부분이 `Window`라는 개념. 크기 L. \n",
    "- 예를 들어, `L=1`이라고 셋팅했다면, 곧바로 발생한 것만 카운팅 하겠다는 것. \n",
    "- 아래에서 `A->B`는 카운팅이 맞지만, `A->C`는 윈도우 내에 등장하지 않은 것. \n",
    "- `L=2`까지 둔다면, A->C도 카운팅 되는 것. \n",
    "- 윈도우라는 개념이 등장했기 때문에, 윈도우를 어떻게 셋팅하느냐에 따라 지지도와 신뢰도가 달라질 수 있다. "
   ]
  },
  {
   "cell_type": "markdown",
   "metadata": {},
   "source": [
    "![2_65.png](../materials/2_67.png)"
   ]
  },
  {
   "cell_type": "markdown",
   "metadata": {},
   "source": [
    "- 시퀀스 분석의 경우에는 `A->B`와 `B->A`가 서로 다른 지지도를 갖게 된다. \n",
    "- 단 신뢰도에 대한 apriori원리는 똑같이 성립한다. \n",
    "- 그리고, 시퀀스를 고려한 연관규칙탐색은 모듈도 없기 때문에 직접 찾아야 한다. "
   ]
  },
  {
   "cell_type": "markdown",
   "metadata": {},
   "source": [
    "![2_65.png](../materials/2_68.png)"
   ]
  },
  {
   "cell_type": "markdown",
   "metadata": {},
   "source": [
    "![2_65.png](../materials/2_69.png)"
   ]
  },
  {
   "cell_type": "markdown",
   "metadata": {},
   "source": [
    "![2_65.png](../materials/2_69.png)"
   ]
  },
  {
   "cell_type": "markdown",
   "metadata": {},
   "source": [
    "#### 1. 각 아이템에 대한 지지도를 계산한다. 보통은 비율로 계산하지만, 그냥 전체 등장횟수로만 써 놓기도 한다. "
   ]
  },
  {
   "cell_type": "markdown",
   "metadata": {},
   "source": [
    "![2_65.png](../materials/2_70.png)"
   ]
  },
  {
   "cell_type": "markdown",
   "metadata": {},
   "source": [
    "#### 2. 다음 순번에 나올 수 있는 모든 경우의수 고려해서 다시 카운팅. \n",
    "- 1, 4, 4 이렇게 써있는 부분은 당연히 {A->A}, {A->B}, {A->C}의 횟수이다. \n",
    "- 최소 지지도를 2로 셋팅해놨기 때문에, 2 미만인 애들은 싹다 x표 치면 된다. \n",
    "- C의 경우에는 다 지워져서 더 이상 탐색할 필요가 없다. 어차피 뒤로 더 뻗어 나가도 빈도가 더 높아질 방법이 없다. "
   ]
  },
  {
   "cell_type": "markdown",
   "metadata": {},
   "source": [
    "L은 카운팅이랑만 관련된다. 나는 순서대로 그려나가기만 하면서, 끊기는 부분만 찾으면 된다. "
   ]
  },
  {
   "cell_type": "markdown",
   "metadata": {},
   "source": [
    "![2_65.png](../materials/2_71.png)"
   ]
  },
  {
   "cell_type": "markdown",
   "metadata": {},
   "source": [
    "- 현재 L=2까지 고려하고 있는 것을 잊으면 안된다. \n",
    "- 다시 한번 경우의수로 펼친다. \n",
    "- 최대 빈발 아이템 집합에 들어가려면, 해당 친구들이 싹다 끊겨야 하는 것. "
   ]
  },
  {
   "cell_type": "markdown",
   "metadata": {},
   "source": [
    "### 최소 지지도는 계속 2인 상황인데, 오타인 것 같다. "
   ]
  },
  {
   "cell_type": "markdown",
   "metadata": {},
   "source": [
    "![2_65.png](../materials/2_72.png)"
   ]
  },
  {
   "cell_type": "markdown",
   "metadata": {},
   "source": [
    "C도 들어가 있긴 하지만, 크기 하나짜리 시퀀스는 크게 의미 없는 경우가 많으므로, 삭제하는게 일반적이다. "
   ]
  },
  {
   "cell_type": "markdown",
   "metadata": {},
   "source": [
    "![2_65.png](../materials/2_73.png)"
   ]
  },
  {
   "cell_type": "markdown",
   "metadata": {},
   "source": [
    "- A-B-A같이 길이 긴거 볼때는, 긴것 부터 보면 된다. \n",
    "- 신뢰도에 대한 priori 규칙이 적용되므로, A,B에서 이미 최소 신뢰도 이하이면, 그 작은 집합은 볼 필요가 없다. "
   ]
  },
  {
   "cell_type": "markdown",
   "metadata": {},
   "source": [
    "![2_65.png](../materials/2_74.png)"
   ]
  },
  {
   "cell_type": "markdown",
   "metadata": {},
   "source": [
    "### Practice 1"
   ]
  },
  {
   "cell_type": "code",
   "execution_count": 4,
   "metadata": {},
   "outputs": [],
   "source": [
    "import os\n",
    "import pandas as pd\n",
    "\n",
    "os.chdir(r\"/Users/sanghyuk/Documents/preprocessing_python/lecture_source/2. 탐색적 데이터 분석/데이터\")\n",
    "\n",
    "\n",
    "import pandas as pd\n",
    "df = pd.read_csv(\"페이지내_사용자_이동.csv\", engine = \"python\", encoding='CP949')"
   ]
  },
  {
   "cell_type": "code",
   "execution_count": 5,
   "metadata": {
    "scrolled": true
   },
   "outputs": [
    {
     "data": {
      "text/html": [
       "<div>\n",
       "<style scoped>\n",
       "    .dataframe tbody tr th:only-of-type {\n",
       "        vertical-align: middle;\n",
       "    }\n",
       "\n",
       "    .dataframe tbody tr th {\n",
       "        vertical-align: top;\n",
       "    }\n",
       "\n",
       "    .dataframe thead th {\n",
       "        text-align: right;\n",
       "    }\n",
       "</style>\n",
       "<table border=\"1\" class=\"dataframe\">\n",
       "  <thead>\n",
       "    <tr style=\"text-align: right;\">\n",
       "      <th></th>\n",
       "      <th>고객ID</th>\n",
       "      <th>방문 페이지</th>\n",
       "      <th>순서</th>\n",
       "    </tr>\n",
       "  </thead>\n",
       "  <tbody>\n",
       "    <tr>\n",
       "      <th>0</th>\n",
       "      <td>0</td>\n",
       "      <td>페이지C</td>\n",
       "      <td>1</td>\n",
       "    </tr>\n",
       "    <tr>\n",
       "      <th>1</th>\n",
       "      <td>0</td>\n",
       "      <td>페이지E</td>\n",
       "      <td>2</td>\n",
       "    </tr>\n",
       "    <tr>\n",
       "      <th>2</th>\n",
       "      <td>0</td>\n",
       "      <td>페이지B</td>\n",
       "      <td>3</td>\n",
       "    </tr>\n",
       "    <tr>\n",
       "      <th>3</th>\n",
       "      <td>0</td>\n",
       "      <td>페이지F</td>\n",
       "      <td>4</td>\n",
       "    </tr>\n",
       "    <tr>\n",
       "      <th>4</th>\n",
       "      <td>0</td>\n",
       "      <td>페이지C</td>\n",
       "      <td>5</td>\n",
       "    </tr>\n",
       "  </tbody>\n",
       "</table>\n",
       "</div>"
      ],
      "text/plain": [
       "   고객ID 방문 페이지  순서\n",
       "0     0   페이지C   1\n",
       "1     0   페이지E   2\n",
       "2     0   페이지B   3\n",
       "3     0   페이지F   4\n",
       "4     0   페이지C   5"
      ]
     },
     "execution_count": 5,
     "metadata": {},
     "output_type": "execute_result"
    }
   ],
   "source": [
    "df.head()"
   ]
  },
  {
   "cell_type": "code",
   "execution_count": 6,
   "metadata": {},
   "outputs": [],
   "source": [
    "# 주문별 카트에 추가한 순서를 고려하기 위해, 정렬이 필요\n",
    "df.sort_values(by = ['고객ID', '순서'], inplace = True) "
   ]
  },
  {
   "cell_type": "code",
   "execution_count": 7,
   "metadata": {
    "scrolled": true
   },
   "outputs": [
    {
     "data": {
      "text/html": [
       "<div>\n",
       "<style scoped>\n",
       "    .dataframe tbody tr th:only-of-type {\n",
       "        vertical-align: middle;\n",
       "    }\n",
       "\n",
       "    .dataframe tbody tr th {\n",
       "        vertical-align: top;\n",
       "    }\n",
       "\n",
       "    .dataframe thead th {\n",
       "        text-align: right;\n",
       "    }\n",
       "</style>\n",
       "<table border=\"1\" class=\"dataframe\">\n",
       "  <thead>\n",
       "    <tr style=\"text-align: right;\">\n",
       "      <th></th>\n",
       "      <th>고객ID</th>\n",
       "      <th>방문 페이지</th>\n",
       "      <th>순서</th>\n",
       "    </tr>\n",
       "  </thead>\n",
       "  <tbody>\n",
       "    <tr>\n",
       "      <th>0</th>\n",
       "      <td>0</td>\n",
       "      <td>페이지C</td>\n",
       "      <td>1</td>\n",
       "    </tr>\n",
       "    <tr>\n",
       "      <th>1</th>\n",
       "      <td>0</td>\n",
       "      <td>페이지E</td>\n",
       "      <td>2</td>\n",
       "    </tr>\n",
       "    <tr>\n",
       "      <th>2</th>\n",
       "      <td>0</td>\n",
       "      <td>페이지B</td>\n",
       "      <td>3</td>\n",
       "    </tr>\n",
       "    <tr>\n",
       "      <th>3</th>\n",
       "      <td>0</td>\n",
       "      <td>페이지F</td>\n",
       "      <td>4</td>\n",
       "    </tr>\n",
       "    <tr>\n",
       "      <th>4</th>\n",
       "      <td>0</td>\n",
       "      <td>페이지C</td>\n",
       "      <td>5</td>\n",
       "    </tr>\n",
       "    <tr>\n",
       "      <th>...</th>\n",
       "      <td>...</td>\n",
       "      <td>...</td>\n",
       "      <td>...</td>\n",
       "    </tr>\n",
       "    <tr>\n",
       "      <th>727</th>\n",
       "      <td>99</td>\n",
       "      <td>페이지B</td>\n",
       "      <td>5</td>\n",
       "    </tr>\n",
       "    <tr>\n",
       "      <th>728</th>\n",
       "      <td>99</td>\n",
       "      <td>페이지A</td>\n",
       "      <td>6</td>\n",
       "    </tr>\n",
       "    <tr>\n",
       "      <th>729</th>\n",
       "      <td>99</td>\n",
       "      <td>페이지I</td>\n",
       "      <td>7</td>\n",
       "    </tr>\n",
       "    <tr>\n",
       "      <th>730</th>\n",
       "      <td>99</td>\n",
       "      <td>페이지G</td>\n",
       "      <td>8</td>\n",
       "    </tr>\n",
       "    <tr>\n",
       "      <th>731</th>\n",
       "      <td>99</td>\n",
       "      <td>페이지C</td>\n",
       "      <td>9</td>\n",
       "    </tr>\n",
       "  </tbody>\n",
       "</table>\n",
       "<p>732 rows × 3 columns</p>\n",
       "</div>"
      ],
      "text/plain": [
       "     고객ID 방문 페이지  순서\n",
       "0       0   페이지C   1\n",
       "1       0   페이지E   2\n",
       "2       0   페이지B   3\n",
       "3       0   페이지F   4\n",
       "4       0   페이지C   5\n",
       "..    ...    ...  ..\n",
       "727    99   페이지B   5\n",
       "728    99   페이지A   6\n",
       "729    99   페이지I   7\n",
       "730    99   페이지G   8\n",
       "731    99   페이지C   9\n",
       "\n",
       "[732 rows x 3 columns]"
      ]
     },
     "execution_count": 7,
     "metadata": {},
     "output_type": "execute_result"
    }
   ],
   "source": [
    "df"
   ]
  },
  {
   "cell_type": "code",
   "execution_count": 8,
   "metadata": {},
   "outputs": [
    {
     "data": {
      "text/plain": [
       "array(['페이지C', '페이지E', '페이지B', '페이지F', '페이지D', '페이지J', '메인', '페이지G',\n",
       "       '페이지A', '페이지I'], dtype=object)"
      ]
     },
     "execution_count": 8,
     "metadata": {},
     "output_type": "execute_result"
    }
   ],
   "source": [
    "page_set = df['방문 페이지'].unique()\n",
    "page_set[:10]"
   ]
  },
  {
   "cell_type": "code",
   "execution_count": 9,
   "metadata": {},
   "outputs": [
    {
     "data": {
      "text/plain": [
       "고객ID\n",
       "0     [페이지C, 페이지E, 페이지B, 페이지F, 페이지C, 페이지D, 페이지J, 메인,...\n",
       "1     [페이지B, 메인, 메인, 페이지A, 페이지F, 페이지C, 페이지I, 페이지E, 페...\n",
       "2     [페이지F, 페이지J, 페이지D, 페이지G, 페이지C, 메인, 페이지I, 페이지J,...\n",
       "3     [페이지I, 페이지I, 페이지J, 페이지J, 페이지C, 페이지A, 페이지H, 페이지...\n",
       "4     [페이지J, 페이지H, 페이지G, 페이지G, 페이지E, 페이지C, 페이지A, 페이지...\n",
       "                            ...                        \n",
       "95    [페이지D, 페이지H, 페이지I, 메인, 페이지B, 페이지E, 페이지F, 페이지G,...\n",
       "96    [페이지E, 페이지I, 페이지E, 페이지G, 페이지A, 페이지E, 페이지D, 페이지...\n",
       "97    [페이지B, 페이지B, 메인, 메인, 페이지B, 페이지F, 페이지J, 페이지D, 페...\n",
       "98                               [메인, 페이지D, 페이지F, 페이지G]\n",
       "99    [페이지E, 페이지H, 페이지B, 페이지D, 페이지B, 페이지A, 페이지I, 페이지...\n",
       "Name: 방문 페이지, Length: 100, dtype: object"
      ]
     },
     "execution_count": 9,
     "metadata": {},
     "output_type": "execute_result"
    }
   ],
   "source": [
    "page_sequence_per_order = df.groupby('고객ID')['방문 페이지'].apply(np.array)\n",
    "page_sequence_per_order"
   ]
  },
  {
   "cell_type": "code",
   "execution_count": 10,
   "metadata": {},
   "outputs": [
    {
     "data": {
      "text/plain": [
       "array([ True, False, False, False,  True, False, False, False, False,\n",
       "       False, False])"
      ]
     },
     "execution_count": 10,
     "metadata": {},
     "output_type": "execute_result"
    }
   ],
   "source": [
    "page_sequence_per_order[0]==\"페이지C\""
   ]
  },
  {
   "cell_type": "code",
   "execution_count": 11,
   "metadata": {
    "scrolled": true
   },
   "outputs": [
    {
     "data": {
      "text/plain": [
       "array([0, 4])"
      ]
     },
     "execution_count": 11,
     "metadata": {},
     "output_type": "execute_result"
    }
   ],
   "source": [
    "np.where(page_sequence_per_order[0]==\"페이지C\")[0]"
   ]
  },
  {
   "cell_type": "code",
   "execution_count": 12,
   "metadata": {},
   "outputs": [],
   "source": [
    "# 가능한 모든 조합 출력해 주는 product\n",
    "from itertools import product\n",
    "\n",
    "# 특정 레코드에 특정 패턴이 발생했는지를 말해주는 함수\n",
    "def contain_pattern(record, pattern, L):\n",
    "    \n",
    "    output = False    \n",
    "    #pattern과 record 각각에 속하는 아이템들이 있는데, 그 교집합이 pattern과 같지 않다는 것은, \n",
    "    # 애초에 패턴의 요소들 중, 속하지 않는 아이템이 있는 것. \n",
    "    if set(record) & set(pattern) != set(pattern): # pattern에 포함된 모든 아이템 집합이 record에 포함된 아이템 집합에 속하지 않으면\n",
    "        return False    \n",
    "    else:\n",
    "        # 패턴에 속한 개별 아이템에 대한 위치를 미리 구하기\n",
    "        # lsit comprehension : 패턴에 있는 아이템들을 돌면서, 레코드에 해당 아이템이 어느 위치에 있는지를 본다. \n",
    "        pattern_index_list = [np.where(record == item)[0] for item in pattern]\n",
    "        \n",
    "        ## 가능한 모든 조합에서 위치 간 거리가 L이하면 True를 반환\n",
    "        # record = [A, B, C, A, C, C], pattern = [A, B], L = 1\n",
    "\n",
    "        # A의 위치: [0, 3], B의 위치: [1] => pattern index list \n",
    "        # 가능한 모든 조합: [0, 1], [3, 1]\n",
    "        # 가능한 모든 조합의 거리 차이: [1 - 0, 1 - 3] 중에 0번째 요소는 만족하므로 True\n",
    "        \n",
    "        for pattern_index in product(*pattern_index_list):\n",
    "            distance = np.array(pattern_index)[1:] - np.array(pattern_index)[:-1]\n",
    "            if sum((distance <= L) & (distance > 0)) == (len(pattern_index) - 1):\n",
    "                output = True\n",
    "                break\n",
    "        \n",
    "        return output"
   ]
  },
  {
   "cell_type": "code",
   "execution_count": 13,
   "metadata": {},
   "outputs": [
    {
     "data": {
      "text/plain": [
       "True"
      ]
     },
     "execution_count": 13,
     "metadata": {},
     "output_type": "execute_result"
    }
   ],
   "source": [
    "contain_pattern(page_sequence_per_order[0], [\"페이지B\", \"페이지F\", \"페이지C\"], 5)"
   ]
  },
  {
   "cell_type": "code",
   "execution_count": 14,
   "metadata": {},
   "outputs": [
    {
     "data": {
      "text/plain": [
       "2"
      ]
     },
     "execution_count": 14,
     "metadata": {},
     "output_type": "execute_result"
    }
   ],
   "source": [
    "sum((np.array([1, 1]) < 5) & (np.array([1, 1]) < 5))"
   ]
  },
  {
   "cell_type": "code",
   "execution_count": 15,
   "metadata": {},
   "outputs": [
    {
     "name": "stdout",
     "output_type": "stream",
     "text": [
      "1\n",
      "19\n"
     ]
    }
   ],
   "source": [
    "print(np.array([1, 2, 19])[0])\n",
    "print(np.array([1, 2, 19])[-1])"
   ]
  },
  {
   "cell_type": "code",
   "execution_count": 16,
   "metadata": {},
   "outputs": [
    {
     "data": {
      "text/plain": [
       "2"
      ]
     },
     "execution_count": 16,
     "metadata": {},
     "output_type": "execute_result"
    }
   ],
   "source": [
    "len([1, 2, 19])-1"
   ]
  },
  {
   "cell_type": "code",
   "execution_count": 17,
   "metadata": {},
   "outputs": [
    {
     "name": "stdout",
     "output_type": "stream",
     "text": [
      "(1, 3, 7)\n",
      "(1, 3, 8)\n",
      "(1, 4, 7)\n",
      "(1, 4, 8)\n",
      "(2, 3, 7)\n",
      "(2, 3, 8)\n",
      "(2, 4, 7)\n",
      "(2, 4, 8)\n"
     ]
    }
   ],
   "source": [
    "from itertools import product\n",
    "\n",
    "for i in product([1, 2], [3, 4], [7, 8]):\n",
    "    print(i)"
   ]
  },
  {
   "cell_type": "code",
   "execution_count": 18,
   "metadata": {},
   "outputs": [],
   "source": [
    "def find_maximum_frequent_sequence_item(item_set, sequence_data, min_support = 0.01, L = 1):\n",
    "    queue = []\n",
    "    maximum_frequent_sequence_item = []\n",
    "    \n",
    "    # 유니크한 아이템 집합에 대해, min_support가 넘는 아이템들만 queue에 추가시킴\n",
    "    for item in item_set:\n",
    "        occurence = sequence_data.apply(contain_pattern, pattern = [item], L = L).sum()\n",
    "        if occurence / len(sequence_data) >= min_support:\n",
    "            queue.append([item])\n",
    "\n",
    "    while queue:\n",
    "        current_pattern = queue.pop() # 맨 마지막 값 빼기\n",
    "        check_maximum_frequent = True # 모든 자식 집합이 min_support를 넘기지 않으면 True를 유지\n",
    "        for item in item_set:\n",
    "            occurence = sequence_data.apply(contain_pattern, pattern = current_pattern + [item], L = L).sum()\n",
    "            if occurence / len(sequence_data) >= min_support: # min_support를 넘는 패턴을 queue에 추가\n",
    "                check_maximum_frequent = False \n",
    "                queue.append(current_pattern + [item])\n",
    "        \n",
    "        if check_maximum_frequent and len(current_pattern) > 1:\n",
    "            maximum_frequent_sequence_item.append(current_pattern)        \n",
    "    \n",
    "    return maximum_frequent_sequence_item"
   ]
  },
  {
   "cell_type": "code",
   "execution_count": 19,
   "metadata": {},
   "outputs": [],
   "source": [
    "def generate_association_rules(maximum_frequent_sequence_item, sequence_data, min_support = 0.01, min_confidence = 0.5, L = 1):\n",
    "    # 결과 초기화\n",
    "    result = {\"부모\":[], \"자식\":[], \"지지도\":[], \"신뢰도\":[]}\n",
    "        \n",
    "    for sequence_item in maximum_frequent_sequence_item:\n",
    "        # A -> B에서 A, B를 모두 포함하는 가짓 수 co_occurence 계산\n",
    "        co_occurence = sequence_data.apply(contain_pattern, pattern = sequence_item, L = L).sum()\n",
    "        support = co_occurence / len(sequence_data)\n",
    "        if co_occurence > min_support:\n",
    "            for i in range(len(sequence_item)-1, 0, -1): # 한 아이템 집합에 대해, 부모의 크기를 1씩 줄여나가는 방식으로 부모와 자식 설정\n",
    "                antecedent = sequence_item[:i]\n",
    "                consequent = sequence_item[i:]\n",
    "                antecedent_occurence = sequence_data.apply(contain_pattern, pattern = antecedent, L = L).sum()\n",
    "                \n",
    "                confidence = co_occurence / antecedent_occurence\n",
    "                if confidence > min_confidence:\n",
    "                    result['부모'].append(antecedent)\n",
    "                    result['자식'].append(consequent)\n",
    "                    result['지지도'].append(support)\n",
    "                    result['신뢰도'].append(confidence)\n",
    "            \n",
    "    return pd.DataFrame(result)"
   ]
  },
  {
   "cell_type": "code",
   "execution_count": 20,
   "metadata": {},
   "outputs": [],
   "source": [
    "maximum_frequent_sequence_item = find_maximum_frequent_sequence_item(page_set, page_sequence_per_order, min_support = 0.02, L = 1)"
   ]
  },
  {
   "cell_type": "code",
   "execution_count": 21,
   "metadata": {},
   "outputs": [
    {
     "data": {
      "text/html": [
       "<div>\n",
       "<style scoped>\n",
       "    .dataframe tbody tr th:only-of-type {\n",
       "        vertical-align: middle;\n",
       "    }\n",
       "\n",
       "    .dataframe tbody tr th {\n",
       "        vertical-align: top;\n",
       "    }\n",
       "\n",
       "    .dataframe thead th {\n",
       "        text-align: right;\n",
       "    }\n",
       "</style>\n",
       "<table border=\"1\" class=\"dataframe\">\n",
       "  <thead>\n",
       "    <tr style=\"text-align: right;\">\n",
       "      <th></th>\n",
       "      <th>부모</th>\n",
       "      <th>자식</th>\n",
       "      <th>지지도</th>\n",
       "      <th>신뢰도</th>\n",
       "    </tr>\n",
       "  </thead>\n",
       "  <tbody>\n",
       "    <tr>\n",
       "      <th>160</th>\n",
       "      <td>[페이지B]</td>\n",
       "      <td>[페이지J]</td>\n",
       "      <td>0.07</td>\n",
       "      <td>0.155556</td>\n",
       "    </tr>\n",
       "    <tr>\n",
       "      <th>59</th>\n",
       "      <td>[페이지A]</td>\n",
       "      <td>[페이지C]</td>\n",
       "      <td>0.07</td>\n",
       "      <td>0.148936</td>\n",
       "    </tr>\n",
       "    <tr>\n",
       "      <th>109</th>\n",
       "      <td>[페이지J]</td>\n",
       "      <td>[페이지D]</td>\n",
       "      <td>0.07</td>\n",
       "      <td>0.142857</td>\n",
       "    </tr>\n",
       "    <tr>\n",
       "      <th>115</th>\n",
       "      <td>[페이지J]</td>\n",
       "      <td>[페이지C]</td>\n",
       "      <td>0.07</td>\n",
       "      <td>0.142857</td>\n",
       "    </tr>\n",
       "    <tr>\n",
       "      <th>75</th>\n",
       "      <td>[메인]</td>\n",
       "      <td>[페이지H]</td>\n",
       "      <td>0.06</td>\n",
       "      <td>0.150000</td>\n",
       "    </tr>\n",
       "    <tr>\n",
       "      <th>...</th>\n",
       "      <td>...</td>\n",
       "      <td>...</td>\n",
       "      <td>...</td>\n",
       "      <td>...</td>\n",
       "    </tr>\n",
       "    <tr>\n",
       "      <th>205</th>\n",
       "      <td>[페이지C]</td>\n",
       "      <td>[메인, 페이지A, 페이지J]</td>\n",
       "      <td>0.02</td>\n",
       "      <td>0.037037</td>\n",
       "    </tr>\n",
       "    <tr>\n",
       "      <th>207</th>\n",
       "      <td>[페이지C]</td>\n",
       "      <td>[메인, 페이지E]</td>\n",
       "      <td>0.02</td>\n",
       "      <td>0.037037</td>\n",
       "    </tr>\n",
       "    <tr>\n",
       "      <th>209</th>\n",
       "      <td>[페이지C]</td>\n",
       "      <td>[페이지J, 페이지I]</td>\n",
       "      <td>0.02</td>\n",
       "      <td>0.037037</td>\n",
       "    </tr>\n",
       "    <tr>\n",
       "      <th>214</th>\n",
       "      <td>[페이지C]</td>\n",
       "      <td>[페이지E, 메인]</td>\n",
       "      <td>0.02</td>\n",
       "      <td>0.037037</td>\n",
       "    </tr>\n",
       "    <tr>\n",
       "      <th>215</th>\n",
       "      <td>[페이지C]</td>\n",
       "      <td>[페이지C]</td>\n",
       "      <td>0.02</td>\n",
       "      <td>0.037037</td>\n",
       "    </tr>\n",
       "  </tbody>\n",
       "</table>\n",
       "<p>216 rows × 4 columns</p>\n",
       "</div>"
      ],
      "text/plain": [
       "         부모                자식   지지도       신뢰도\n",
       "160  [페이지B]            [페이지J]  0.07  0.155556\n",
       "59   [페이지A]            [페이지C]  0.07  0.148936\n",
       "109  [페이지J]            [페이지D]  0.07  0.142857\n",
       "115  [페이지J]            [페이지C]  0.07  0.142857\n",
       "75     [메인]            [페이지H]  0.06  0.150000\n",
       "..      ...               ...   ...       ...\n",
       "205  [페이지C]  [메인, 페이지A, 페이지J]  0.02  0.037037\n",
       "207  [페이지C]        [메인, 페이지E]  0.02  0.037037\n",
       "209  [페이지C]      [페이지J, 페이지I]  0.02  0.037037\n",
       "214  [페이지C]        [페이지E, 메인]  0.02  0.037037\n",
       "215  [페이지C]            [페이지C]  0.02  0.037037\n",
       "\n",
       "[216 rows x 4 columns]"
      ]
     },
     "execution_count": 21,
     "metadata": {},
     "output_type": "execute_result"
    }
   ],
   "source": [
    "result = generate_association_rules(maximum_frequent_sequence_item, page_sequence_per_order, min_support = 0.01, min_confidence = 0, L = 1)\n",
    "result.sort_values(by = ['지지도', '신뢰도'], ascending = False)"
   ]
  },
  {
   "cell_type": "code",
   "execution_count": null,
   "metadata": {},
   "outputs": [],
   "source": []
  },
  {
   "cell_type": "code",
   "execution_count": null,
   "metadata": {},
   "outputs": [],
   "source": []
  },
  {
   "cell_type": "markdown",
   "metadata": {},
   "source": [
    "### Practice 2"
   ]
  },
  {
   "cell_type": "markdown",
   "metadata": {},
   "source": [
    "![2_75.png](../materials/2_75.png)"
   ]
  },
  {
   "cell_type": "markdown",
   "metadata": {},
   "source": [
    "![2_75.png](../materials/2_76.png)"
   ]
  },
  {
   "cell_type": "markdown",
   "metadata": {},
   "source": [
    "![2_75.png](../materials/2_77.png)"
   ]
  },
  {
   "cell_type": "markdown",
   "metadata": {},
   "source": [
    "![2_75.png](../materials/2_78.png)"
   ]
  },
  {
   "cell_type": "markdown",
   "metadata": {},
   "source": [
    "![2_75.png](../materials/2_79.png)"
   ]
  },
  {
   "cell_type": "markdown",
   "metadata": {},
   "source": [
    "![2_75.png](../materials/2_80.png)"
   ]
  },
  {
   "cell_type": "code",
   "execution_count": 29,
   "metadata": {},
   "outputs": [],
   "source": [
    "import os\n",
    "import pandas as pd\n",
    "\n",
    "os.chdir(r\"/Users/sanghyuk/Documents/preprocessing_python/lecture_source/2. 탐색적 데이터 분석/데이터\")\n",
    "\n",
    "\n",
    "import pandas as pd\n",
    "import numpy as np\n",
    "df = pd.read_excel(\"2018-20_코스피지수.xlsx\", parse_dates = True)"
   ]
  },
  {
   "cell_type": "code",
   "execution_count": 30,
   "metadata": {},
   "outputs": [
    {
     "data": {
      "text/html": [
       "<div>\n",
       "<style scoped>\n",
       "    .dataframe tbody tr th:only-of-type {\n",
       "        vertical-align: middle;\n",
       "    }\n",
       "\n",
       "    .dataframe tbody tr th {\n",
       "        vertical-align: top;\n",
       "    }\n",
       "\n",
       "    .dataframe thead th {\n",
       "        text-align: right;\n",
       "    }\n",
       "</style>\n",
       "<table border=\"1\" class=\"dataframe\">\n",
       "  <thead>\n",
       "    <tr style=\"text-align: right;\">\n",
       "      <th></th>\n",
       "      <th>날짜</th>\n",
       "      <th>종가</th>\n",
       "    </tr>\n",
       "  </thead>\n",
       "  <tbody>\n",
       "    <tr>\n",
       "      <th>0</th>\n",
       "      <td>2020-07-17</td>\n",
       "      <td>2201.19</td>\n",
       "    </tr>\n",
       "    <tr>\n",
       "      <th>1</th>\n",
       "      <td>2020-07-16</td>\n",
       "      <td>2183.76</td>\n",
       "    </tr>\n",
       "    <tr>\n",
       "      <th>2</th>\n",
       "      <td>2020-07-15</td>\n",
       "      <td>2201.88</td>\n",
       "    </tr>\n",
       "    <tr>\n",
       "      <th>3</th>\n",
       "      <td>2020-07-14</td>\n",
       "      <td>2183.61</td>\n",
       "    </tr>\n",
       "    <tr>\n",
       "      <th>4</th>\n",
       "      <td>2020-07-13</td>\n",
       "      <td>2186.06</td>\n",
       "    </tr>\n",
       "  </tbody>\n",
       "</table>\n",
       "</div>"
      ],
      "text/plain": [
       "          날짜       종가\n",
       "0 2020-07-17  2201.19\n",
       "1 2020-07-16  2183.76\n",
       "2 2020-07-15  2201.88\n",
       "3 2020-07-14  2183.61\n",
       "4 2020-07-13  2186.06"
      ]
     },
     "execution_count": 30,
     "metadata": {},
     "output_type": "execute_result"
    }
   ],
   "source": [
    "df.head()"
   ]
  },
  {
   "cell_type": "code",
   "execution_count": 31,
   "metadata": {},
   "outputs": [],
   "source": [
    "# 순서를 고려하기 위해, 정렬이 필요\n",
    "df.sort_values(by = ['날짜'], inplace = True) "
   ]
  },
  {
   "cell_type": "markdown",
   "metadata": {},
   "source": [
    "#### SAX 적용"
   ]
  },
  {
   "cell_type": "code",
   "execution_count": 32,
   "metadata": {},
   "outputs": [],
   "source": [
    "def segmentation(x, w, a): # x: time series sample, w: window size, a: alphabet size\n",
    "    window_mean = x[:w*int(len(x)/w)].reshape(w, -1).mean(axis = 1)\n",
    "    if len(x) % w != 0:    \n",
    "        window_mean = np.hstack([window_mean, x[w*int(len(x)/w):].mean()]) # 남겨진 부분은 그 부분만 평균해서 window_mean에 추가\n",
    "    \n",
    "    return window_mean"
   ]
  },
  {
   "cell_type": "code",
   "execution_count": 33,
   "metadata": {},
   "outputs": [],
   "source": [
    "def find_break_points(wmv, a): # wmv:  window mean vector\n",
    "    break_points = [np.quantile(wmv, (i+1)/a) for i in range(a)]\n",
    "    return break_points"
   ]
  },
  {
   "cell_type": "code",
   "execution_count": 34,
   "metadata": {},
   "outputs": [],
   "source": [
    "def conversion_window(wv, break_points): # wv: window mean vector \n",
    "    alphabet_sequence = []\n",
    "    for e in wv:\n",
    "        alphabet = 65\n",
    "        for bp in break_points:\n",
    "            if e < bp:\n",
    "                alphabet_sequence.append(chr(alphabet))\n",
    "                break\n",
    "            else:\n",
    "                alphabet += 1   \n",
    "                \n",
    "    return alphabet_sequence"
   ]
  },
  {
   "cell_type": "code",
   "execution_count": 35,
   "metadata": {},
   "outputs": [],
   "source": [
    "KOSPI = df['종가'].values\n",
    "window_mean_vector = segmentation(x = KOSPI, w = 100, a = 5)"
   ]
  },
  {
   "cell_type": "code",
   "execution_count": 41,
   "metadata": {
    "scrolled": true
   },
   "outputs": [
    {
     "data": {
      "text/plain": [
       "array([2282.725     , 2284.32      , 2291.51      , 2293.9475    ,\n",
       "       2273.465     , 2251.4475    , 2287.11      , 2310.595     ,\n",
       "       2300.5325    , 2284.09      , 2304.1175    , 2331.6275    ,\n",
       "       2316.5025    , 2219.9075    , 2154.9       , 2143.095     ,\n",
       "       2046.02      , 2041.21      , 2084.465     , 2076.4525    ,\n",
       "       2090.9       , 2071.75      , 2104.65      , 2104.07      ,\n",
       "       2066.2725    , 2074.5325    , 2063.865     , 2026.8725    ,\n",
       "       2016.58      , 2067.02      , 2108.655     , 2128.7975    ,\n",
       "       2186.1475    , 2197.195     , 2199.6325    , 2210.5925    ,\n",
       "       2229.58      , 2200.03      , 2154.2325    , 2159.345     ,\n",
       "       2179.7725    , 2156.5575    , 2153.5575    , 2207.5025    ,\n",
       "       2223.96      , 2237.7925    , 2213.585     , 2197.4575    ,\n",
       "       2188.5175    , 2092.725     , 2067.995     , 2057.7525    ,\n",
       "       2038.79      , 2061.4175    , 2098.095     , 2097.        ,\n",
       "       2127.005     , 2127.1075    , 2114.1275    , 2071.3925    ,\n",
       "       2085.3975    , 2081.7925    , 2081.1225    , 2027.5125    ,\n",
       "       1943.08      , 1931.62      , 1941.4225    , 1945.0675    ,\n",
       "       1941.7225    , 1982.04      , 2027.49      , 2068.9075    ,\n",
       "       2089.4125    , 2064.98      , 2030.145     , 2052.0825    ,\n",
       "       2071.575     , 2085.7575    , 2087.51      , 2129.3075    ,\n",
       "       2136.6325    , 2146.1375    , 2119.28      , 2122.825     ,\n",
       "       2083.21      , 2082.31      , 2145.3425    , 2197.795     ,\n",
       "       2198.9825    , 2176.0925    , 2179.9225    , 2236.7925    ,\n",
       "       2255.0375    , 2189.0325    , 2140.355     , 2216.02      ,\n",
       "       2239.275     , 2194.39      , 2078.5775    , 2015.75      ,\n",
       "       1964.58021505])"
      ]
     },
     "execution_count": 41,
     "metadata": {},
     "output_type": "execute_result"
    }
   ],
   "source": [
    "window_mean_vector"
   ]
  },
  {
   "cell_type": "code",
   "execution_count": 42,
   "metadata": {},
   "outputs": [
    {
     "data": {
      "text/plain": [
       "[2064.98, 2090.9, 2154.2325, 2216.0199999999995, 2331.6275]"
      ]
     },
     "execution_count": 42,
     "metadata": {},
     "output_type": "execute_result"
    }
   ],
   "source": [
    "bps = find_break_points(window_mean_vector, 5)\n",
    "bps"
   ]
  },
  {
   "cell_type": "code",
   "execution_count": 43,
   "metadata": {
    "scrolled": true
   },
   "outputs": [
    {
     "data": {
      "text/plain": [
       "['E',\n",
       " 'E',\n",
       " 'E',\n",
       " 'E',\n",
       " 'E',\n",
       " 'E',\n",
       " 'E',\n",
       " 'E',\n",
       " 'E',\n",
       " 'E',\n",
       " 'E',\n",
       " 'E',\n",
       " 'E',\n",
       " 'D',\n",
       " 'C',\n",
       " 'A',\n",
       " 'A',\n",
       " 'B',\n",
       " 'B',\n",
       " 'C',\n",
       " 'B',\n",
       " 'C',\n",
       " 'C',\n",
       " 'B',\n",
       " 'B',\n",
       " 'A',\n",
       " 'A',\n",
       " 'A',\n",
       " 'B',\n",
       " 'C',\n",
       " 'C',\n",
       " 'D',\n",
       " 'D',\n",
       " 'D',\n",
       " 'D',\n",
       " 'E',\n",
       " 'D',\n",
       " 'D',\n",
       " 'D',\n",
       " 'D',\n",
       " 'D',\n",
       " 'C',\n",
       " 'D',\n",
       " 'E',\n",
       " 'E',\n",
       " 'D',\n",
       " 'D',\n",
       " 'D',\n",
       " 'C',\n",
       " 'B',\n",
       " 'A',\n",
       " 'A',\n",
       " 'A',\n",
       " 'C',\n",
       " 'C',\n",
       " 'C',\n",
       " 'C',\n",
       " 'C',\n",
       " 'B',\n",
       " 'B',\n",
       " 'B',\n",
       " 'B',\n",
       " 'A',\n",
       " 'A',\n",
       " 'A',\n",
       " 'A',\n",
       " 'A',\n",
       " 'A',\n",
       " 'A',\n",
       " 'A',\n",
       " 'B',\n",
       " 'B',\n",
       " 'B',\n",
       " 'A',\n",
       " 'A',\n",
       " 'B',\n",
       " 'B',\n",
       " 'B',\n",
       " 'C',\n",
       " 'C',\n",
       " 'C',\n",
       " 'C',\n",
       " 'C',\n",
       " 'B',\n",
       " 'B',\n",
       " 'C',\n",
       " 'D',\n",
       " 'D',\n",
       " 'D',\n",
       " 'D',\n",
       " 'E',\n",
       " 'E',\n",
       " 'D',\n",
       " 'C',\n",
       " 'E',\n",
       " 'E',\n",
       " 'D',\n",
       " 'B',\n",
       " 'A',\n",
       " 'A']"
      ]
     },
     "execution_count": 43,
     "metadata": {},
     "output_type": "execute_result"
    }
   ],
   "source": [
    "alphabet_sequence = conversion_window(window_mean_vector, bps)\n",
    "alphabet_sequence"
   ]
  },
  {
   "cell_type": "markdown",
   "metadata": {},
   "source": [
    "#### 패턴 찾기"
   ]
  },
  {
   "cell_type": "code",
   "execution_count": 44,
   "metadata": {},
   "outputs": [
    {
     "data": {
      "text/plain": [
       "'E-E-E-E-E-E-E-E-E-E-E-E-E-D-C-A-A-B-B-C-B-C-C-B-B-A-A-A-B-C-C-D-D-D-D-E-D-D-D-D-D-C-D-E-E-D-D-D-C-B-A-A-A-C-C-C-C-C-B-B-B-B-A-A-A-A-A-A-A-A-B-B-B-A-A-B-B-B-C-C-C-C-C-B-B-C-D-D-D-D-E-E-D-C-E-E-D-B-A-A'"
      ]
     },
     "execution_count": 44,
     "metadata": {},
     "output_type": "execute_result"
    }
   ],
   "source": [
    "# 문자열로 변환 (하나의 리스트만 대상으로 하기에, 이렇게 하는 것이 더 수월. 단, L = 1으로만 한정)\n",
    "alphabet_sequence = '-'.join(alphabet_sequence)\n",
    "alphabet_sequence"
   ]
  },
  {
   "cell_type": "code",
   "execution_count": 45,
   "metadata": {},
   "outputs": [],
   "source": [
    "def find_maximum_frequent_sequence_item(item_set, sequence_data, min_support = 0.01, L = 1):\n",
    "    queue = []\n",
    "    maximum_frequent_sequence_item = []\n",
    "    \n",
    "    # 유니크한 아이템 집합에 대해, min_support가 넘는 아이템들만 queue에 추가시킴\n",
    "    for item in item_set:\n",
    "        # 문자열이므로 단순히 count method로 구현 가능\n",
    "        occurence = sequence_data.count(item)\n",
    "        if occurence / (sequence_data.count('-') + 1) >= min_support:\n",
    "            queue.append(item)\n",
    "\n",
    "    while queue:\n",
    "        current_pattern = queue.pop() # 맨 마지막 값 빼기\n",
    "        check_maximum_frequent = True # 모든 자식 집합이 min_support를 넘기지 않으면 True를 유지\n",
    "        for item in item_set:\n",
    "            occurence = sequence_data.count(current_pattern + '-' + item)\n",
    "            if occurence / (sequence_data.count('-') + 1) >= min_support: # min_support를 넘는 패턴을 queue에 추가\n",
    "                check_maximum_frequent = False \n",
    "                queue.append(current_pattern + '-' + item)\n",
    "        \n",
    "        if check_maximum_frequent:\n",
    "            maximum_frequent_sequence_item.append(current_pattern)        \n",
    "    \n",
    "    return maximum_frequent_sequence_item"
   ]
  },
  {
   "cell_type": "code",
   "execution_count": 46,
   "metadata": {},
   "outputs": [],
   "source": [
    "def generate_association_rules(maximum_frequent_sequence_item, sequence_data, min_support = 0.01, min_confidence = 0.5, L = 1):\n",
    "    # 결과 초기화\n",
    "    result = {\"부모\":[], \"자식\":[], \"지지도\":[], \"신뢰도\":[]}\n",
    "        \n",
    "    for sequence_item in maximum_frequent_sequence_item:\n",
    "        # A -> B에서 A, B를 모두 포함하는 가짓 수 co_occurence 계산        \n",
    "        co_occurence = sequence_data.count(sequence_item)\n",
    "        support = co_occurence / (sequence_data.count('-') + 1)\n",
    "        if co_occurence > min_support:\n",
    "            for i in range(sequence_item.count('-') -1, 0, -1): # 한 아이템 집합에 대해, 부모의 크기를 1씩 줄여나가는 방식으로 부모와 자식 설정\n",
    "                antecedent = '-'.join(sequence_item.split('-')[:i])\n",
    "                consequent = '-'.join(sequence_item.split('-')[i:])\n",
    "                antecedent_occurence = sequence_data.count(antecedent)\n",
    "               \n",
    "                confidence = co_occurence / antecedent_occurence\n",
    "                if confidence > min_confidence:\n",
    "                    result['부모'].append(antecedent)\n",
    "                    result['자식'].append(consequent)\n",
    "                    result['지지도'].append(support)\n",
    "                    result['신뢰도'].append(confidence)\n",
    "            \n",
    "    return pd.DataFrame(result)"
   ]
  },
  {
   "cell_type": "code",
   "execution_count": 47,
   "metadata": {},
   "outputs": [],
   "source": [
    "maximum_frequent_sequence_item = find_maximum_frequent_sequence_item([chr(65 + i) for i in range(5)], alphabet_sequence, min_support = 0.02, L = 1)"
   ]
  },
  {
   "cell_type": "code",
   "execution_count": 48,
   "metadata": {
    "scrolled": true
   },
   "outputs": [
    {
     "data": {
      "text/html": [
       "<div>\n",
       "<style scoped>\n",
       "    .dataframe tbody tr th:only-of-type {\n",
       "        vertical-align: middle;\n",
       "    }\n",
       "\n",
       "    .dataframe tbody tr th {\n",
       "        vertical-align: top;\n",
       "    }\n",
       "\n",
       "    .dataframe thead th {\n",
       "        text-align: right;\n",
       "    }\n",
       "</style>\n",
       "<table border=\"1\" class=\"dataframe\">\n",
       "  <thead>\n",
       "    <tr style=\"text-align: right;\">\n",
       "      <th></th>\n",
       "      <th>부모</th>\n",
       "      <th>자식</th>\n",
       "      <th>지지도</th>\n",
       "      <th>신뢰도</th>\n",
       "    </tr>\n",
       "  </thead>\n",
       "  <tbody>\n",
       "    <tr>\n",
       "      <th>31</th>\n",
       "      <td>B-A</td>\n",
       "      <td>A-A</td>\n",
       "      <td>0.03</td>\n",
       "      <td>0.600000</td>\n",
       "    </tr>\n",
       "    <tr>\n",
       "      <th>22</th>\n",
       "      <td>C-C</td>\n",
       "      <td>B-B</td>\n",
       "      <td>0.03</td>\n",
       "      <td>0.500000</td>\n",
       "    </tr>\n",
       "    <tr>\n",
       "      <th>23</th>\n",
       "      <td>C</td>\n",
       "      <td>C-B-B</td>\n",
       "      <td>0.03</td>\n",
       "      <td>0.150000</td>\n",
       "    </tr>\n",
       "    <tr>\n",
       "      <th>24</th>\n",
       "      <td>C</td>\n",
       "      <td>B-B</td>\n",
       "      <td>0.03</td>\n",
       "      <td>0.150000</td>\n",
       "    </tr>\n",
       "    <tr>\n",
       "      <th>25</th>\n",
       "      <td>B</td>\n",
       "      <td>C-C</td>\n",
       "      <td>0.03</td>\n",
       "      <td>0.150000</td>\n",
       "    </tr>\n",
       "    <tr>\n",
       "      <th>26</th>\n",
       "      <td>B</td>\n",
       "      <td>B-C</td>\n",
       "      <td>0.03</td>\n",
       "      <td>0.150000</td>\n",
       "    </tr>\n",
       "    <tr>\n",
       "      <th>32</th>\n",
       "      <td>B</td>\n",
       "      <td>A-A-A</td>\n",
       "      <td>0.03</td>\n",
       "      <td>0.150000</td>\n",
       "    </tr>\n",
       "    <tr>\n",
       "      <th>10</th>\n",
       "      <td>C-D-D-D</td>\n",
       "      <td>D-E</td>\n",
       "      <td>0.02</td>\n",
       "      <td>1.000000</td>\n",
       "    </tr>\n",
       "    <tr>\n",
       "      <th>11</th>\n",
       "      <td>C-D-D</td>\n",
       "      <td>D-D-E</td>\n",
       "      <td>0.02</td>\n",
       "      <td>1.000000</td>\n",
       "    </tr>\n",
       "    <tr>\n",
       "      <th>13</th>\n",
       "      <td>C-C-C-C-C</td>\n",
       "      <td>B-B</td>\n",
       "      <td>0.02</td>\n",
       "      <td>1.000000</td>\n",
       "    </tr>\n",
       "    <tr>\n",
       "      <th>14</th>\n",
       "      <td>C-C-C-C</td>\n",
       "      <td>C-B-B</td>\n",
       "      <td>0.02</td>\n",
       "      <td>1.000000</td>\n",
       "    </tr>\n",
       "    <tr>\n",
       "      <th>15</th>\n",
       "      <td>C-C-C</td>\n",
       "      <td>C-C-B-B</td>\n",
       "      <td>0.02</td>\n",
       "      <td>1.000000</td>\n",
       "    </tr>\n",
       "    <tr>\n",
       "      <th>17</th>\n",
       "      <td>C-C-C-C</td>\n",
       "      <td>B-B</td>\n",
       "      <td>0.02</td>\n",
       "      <td>1.000000</td>\n",
       "    </tr>\n",
       "    <tr>\n",
       "      <th>18</th>\n",
       "      <td>C-C-C</td>\n",
       "      <td>C-B-B</td>\n",
       "      <td>0.02</td>\n",
       "      <td>1.000000</td>\n",
       "    </tr>\n",
       "    <tr>\n",
       "      <th>20</th>\n",
       "      <td>C-C-C</td>\n",
       "      <td>B-B</td>\n",
       "      <td>0.02</td>\n",
       "      <td>1.000000</td>\n",
       "    </tr>\n",
       "    <tr>\n",
       "      <th>0</th>\n",
       "      <td>E-E-E-E</td>\n",
       "      <td>E-E</td>\n",
       "      <td>0.02</td>\n",
       "      <td>0.666667</td>\n",
       "    </tr>\n",
       "    <tr>\n",
       "      <th>5</th>\n",
       "      <td>D-E</td>\n",
       "      <td>E-D</td>\n",
       "      <td>0.02</td>\n",
       "      <td>0.666667</td>\n",
       "    </tr>\n",
       "    <tr>\n",
       "      <th>12</th>\n",
       "      <td>C-D</td>\n",
       "      <td>D-D-D-E</td>\n",
       "      <td>0.02</td>\n",
       "      <td>0.666667</td>\n",
       "    </tr>\n",
       "    <tr>\n",
       "      <th>27</th>\n",
       "      <td>B-B-B</td>\n",
       "      <td>A-A</td>\n",
       "      <td>0.02</td>\n",
       "      <td>0.666667</td>\n",
       "    </tr>\n",
       "    <tr>\n",
       "      <th>29</th>\n",
       "      <td>B-B-A</td>\n",
       "      <td>A-A</td>\n",
       "      <td>0.02</td>\n",
       "      <td>0.666667</td>\n",
       "    </tr>\n",
       "    <tr>\n",
       "      <th>1</th>\n",
       "      <td>E-E-E</td>\n",
       "      <td>E-E-E</td>\n",
       "      <td>0.02</td>\n",
       "      <td>0.500000</td>\n",
       "    </tr>\n",
       "    <tr>\n",
       "      <th>7</th>\n",
       "      <td>D-D-D</td>\n",
       "      <td>D-E</td>\n",
       "      <td>0.02</td>\n",
       "      <td>0.500000</td>\n",
       "    </tr>\n",
       "    <tr>\n",
       "      <th>33</th>\n",
       "      <td>A-B</td>\n",
       "      <td>B-B</td>\n",
       "      <td>0.02</td>\n",
       "      <td>0.500000</td>\n",
       "    </tr>\n",
       "    <tr>\n",
       "      <th>34</th>\n",
       "      <td>A-A-B</td>\n",
       "      <td>B-B</td>\n",
       "      <td>0.02</td>\n",
       "      <td>0.500000</td>\n",
       "    </tr>\n",
       "    <tr>\n",
       "      <th>4</th>\n",
       "      <td>E-D</td>\n",
       "      <td>D-D</td>\n",
       "      <td>0.02</td>\n",
       "      <td>0.400000</td>\n",
       "    </tr>\n",
       "    <tr>\n",
       "      <th>16</th>\n",
       "      <td>C-C</td>\n",
       "      <td>C-C-C-B-B</td>\n",
       "      <td>0.02</td>\n",
       "      <td>0.333333</td>\n",
       "    </tr>\n",
       "    <tr>\n",
       "      <th>19</th>\n",
       "      <td>C-C</td>\n",
       "      <td>C-C-B-B</td>\n",
       "      <td>0.02</td>\n",
       "      <td>0.333333</td>\n",
       "    </tr>\n",
       "    <tr>\n",
       "      <th>21</th>\n",
       "      <td>C-C</td>\n",
       "      <td>C-B-B</td>\n",
       "      <td>0.02</td>\n",
       "      <td>0.333333</td>\n",
       "    </tr>\n",
       "    <tr>\n",
       "      <th>6</th>\n",
       "      <td>D-D</td>\n",
       "      <td>D-E</td>\n",
       "      <td>0.02</td>\n",
       "      <td>0.285714</td>\n",
       "    </tr>\n",
       "    <tr>\n",
       "      <th>8</th>\n",
       "      <td>D-D</td>\n",
       "      <td>D-D-E</td>\n",
       "      <td>0.02</td>\n",
       "      <td>0.285714</td>\n",
       "    </tr>\n",
       "    <tr>\n",
       "      <th>9</th>\n",
       "      <td>D-D</td>\n",
       "      <td>D-C</td>\n",
       "      <td>0.02</td>\n",
       "      <td>0.285714</td>\n",
       "    </tr>\n",
       "    <tr>\n",
       "      <th>28</th>\n",
       "      <td>B-B</td>\n",
       "      <td>B-A-A</td>\n",
       "      <td>0.02</td>\n",
       "      <td>0.285714</td>\n",
       "    </tr>\n",
       "    <tr>\n",
       "      <th>30</th>\n",
       "      <td>B-B</td>\n",
       "      <td>A-A-A</td>\n",
       "      <td>0.02</td>\n",
       "      <td>0.285714</td>\n",
       "    </tr>\n",
       "    <tr>\n",
       "      <th>2</th>\n",
       "      <td>E-E</td>\n",
       "      <td>E-E-E-E</td>\n",
       "      <td>0.02</td>\n",
       "      <td>0.222222</td>\n",
       "    </tr>\n",
       "    <tr>\n",
       "      <th>3</th>\n",
       "      <td>E-E</td>\n",
       "      <td>D-C</td>\n",
       "      <td>0.02</td>\n",
       "      <td>0.222222</td>\n",
       "    </tr>\n",
       "    <tr>\n",
       "      <th>35</th>\n",
       "      <td>A-A</td>\n",
       "      <td>B-B-B</td>\n",
       "      <td>0.02</td>\n",
       "      <td>0.222222</td>\n",
       "    </tr>\n",
       "    <tr>\n",
       "      <th>36</th>\n",
       "      <td>A-A</td>\n",
       "      <td>A-B</td>\n",
       "      <td>0.02</td>\n",
       "      <td>0.222222</td>\n",
       "    </tr>\n",
       "    <tr>\n",
       "      <th>37</th>\n",
       "      <td>A-A</td>\n",
       "      <td>A-A</td>\n",
       "      <td>0.02</td>\n",
       "      <td>0.222222</td>\n",
       "    </tr>\n",
       "  </tbody>\n",
       "</table>\n",
       "</div>"
      ],
      "text/plain": [
       "           부모         자식   지지도       신뢰도\n",
       "31        B-A        A-A  0.03  0.600000\n",
       "22        C-C        B-B  0.03  0.500000\n",
       "23          C      C-B-B  0.03  0.150000\n",
       "24          C        B-B  0.03  0.150000\n",
       "25          B        C-C  0.03  0.150000\n",
       "26          B        B-C  0.03  0.150000\n",
       "32          B      A-A-A  0.03  0.150000\n",
       "10    C-D-D-D        D-E  0.02  1.000000\n",
       "11      C-D-D      D-D-E  0.02  1.000000\n",
       "13  C-C-C-C-C        B-B  0.02  1.000000\n",
       "14    C-C-C-C      C-B-B  0.02  1.000000\n",
       "15      C-C-C    C-C-B-B  0.02  1.000000\n",
       "17    C-C-C-C        B-B  0.02  1.000000\n",
       "18      C-C-C      C-B-B  0.02  1.000000\n",
       "20      C-C-C        B-B  0.02  1.000000\n",
       "0     E-E-E-E        E-E  0.02  0.666667\n",
       "5         D-E        E-D  0.02  0.666667\n",
       "12        C-D    D-D-D-E  0.02  0.666667\n",
       "27      B-B-B        A-A  0.02  0.666667\n",
       "29      B-B-A        A-A  0.02  0.666667\n",
       "1       E-E-E      E-E-E  0.02  0.500000\n",
       "7       D-D-D        D-E  0.02  0.500000\n",
       "33        A-B        B-B  0.02  0.500000\n",
       "34      A-A-B        B-B  0.02  0.500000\n",
       "4         E-D        D-D  0.02  0.400000\n",
       "16        C-C  C-C-C-B-B  0.02  0.333333\n",
       "19        C-C    C-C-B-B  0.02  0.333333\n",
       "21        C-C      C-B-B  0.02  0.333333\n",
       "6         D-D        D-E  0.02  0.285714\n",
       "8         D-D      D-D-E  0.02  0.285714\n",
       "9         D-D        D-C  0.02  0.285714\n",
       "28        B-B      B-A-A  0.02  0.285714\n",
       "30        B-B      A-A-A  0.02  0.285714\n",
       "2         E-E    E-E-E-E  0.02  0.222222\n",
       "3         E-E        D-C  0.02  0.222222\n",
       "35        A-A      B-B-B  0.02  0.222222\n",
       "36        A-A        A-B  0.02  0.222222\n",
       "37        A-A        A-A  0.02  0.222222"
      ]
     },
     "execution_count": 48,
     "metadata": {},
     "output_type": "execute_result"
    }
   ],
   "source": [
    "result = generate_association_rules(maximum_frequent_sequence_item, alphabet_sequence, min_support = 0.02, min_confidence = 0.1, L = 1)\n",
    "result = result.sort_values(by = ['지지도', '신뢰도'], ascending = False)\n",
    "result"
   ]
  },
  {
   "cell_type": "code",
   "execution_count": null,
   "metadata": {},
   "outputs": [],
   "source": []
  },
  {
   "cell_type": "code",
   "execution_count": null,
   "metadata": {},
   "outputs": [],
   "source": []
  }
 ],
 "metadata": {
  "kernelspec": {
   "display_name": "Python 3",
   "language": "python",
   "name": "python3"
  },
  "language_info": {
   "codemirror_mode": {
    "name": "ipython",
    "version": 3
   },
   "file_extension": ".py",
   "mimetype": "text/x-python",
   "name": "python",
   "nbconvert_exporter": "python",
   "pygments_lexer": "ipython3",
   "version": "3.8.5"
  }
 },
 "nbformat": 4,
 "nbformat_minor": 4
}

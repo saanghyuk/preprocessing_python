{
 "cells": [
  {
   "cell_type": "code",
   "execution_count": 3,
   "metadata": {},
   "outputs": [],
   "source": [
    "import numpy as np\n",
    "from scipy.stats import *\n",
    "import pandas as pd"
   ]
  },
  {
   "cell_type": "markdown",
   "metadata": {},
   "source": [
    "#### 산술 평균 계산"
   ]
  },
  {
   "cell_type": "code",
   "execution_count": 4,
   "metadata": {
    "scrolled": true
   },
   "outputs": [
    {
     "name": "stdout",
     "output_type": "stream",
     "text": [
      "3.0\n",
      "3.0\n",
      "3.0\n"
     ]
    }
   ],
   "source": [
    "x = [1, 2, 3, 4, 5]\n",
    "print(np.mean(x))\n",
    "print(np.array(x).mean())\n",
    "print(pd.Series(x).mean())"
   ]
  },
  {
   "cell_type": "code",
   "execution_count": 6,
   "metadata": {},
   "outputs": [
    {
     "name": "stdout",
     "output_type": "stream",
     "text": [
      "0.4\n"
     ]
    }
   ],
   "source": [
    "# 이진 변수에 대한 평균\n",
    "# 이진 변수에 대한 평균은 1의 비율이 나옴. \n",
    "# 5개 중 1이 2개. 40%가 나온다. \n",
    "\n",
    "x = [1, 0, 0, 0, 1]\n",
    "print(np.mean(x))"
   ]
  },
  {
   "cell_type": "markdown",
   "metadata": {},
   "source": [
    "#### 조화 평균"
   ]
  },
  {
   "cell_type": "code",
   "execution_count": 4,
   "metadata": {},
   "outputs": [
    {
     "name": "stdout",
     "output_type": "stream",
     "text": [
      "0.21897810218978103\n",
      "0.21897810218978103\n"
     ]
    }
   ],
   "source": [
    "x = np.array([0.1, 0.2, 0.3, 0.4, 0.5])\n",
    "print(len(x) / np.sum(1/x))\n",
    "print(hmean(x))"
   ]
  },
  {
   "cell_type": "markdown",
   "metadata": {},
   "source": [
    "#### 절사 평균이 필요한 이유"
   ]
  },
  {
   "cell_type": "markdown",
   "metadata": {},
   "source": [
    "- 데이터 100개가 있으면, 순서대로 1등부터 100등까지 먹인다. 1등부터 10등, 90등부터 100등까지는 평균을 구할때 쓰지 않는 것. \n",
    "- 근데 몇 퍼센트를 뺄 것인가를 결정해야 하는 문제가 있음. "
   ]
  },
  {
   "cell_type": "code",
   "execution_count": 7,
   "metadata": {},
   "outputs": [
    {
     "name": "stdout",
     "output_type": "stream",
     "text": [
      "1980080.778591294\n"
     ]
    }
   ],
   "source": [
    "income = np.random.normal(2000000, 500000, 100) # 평균이 2백만원이고 표준편차가 50만원인 정규 분포를 따르는 소득을 갖는 100명 생성\n",
    "print(np.mean(income))"
   ]
  },
  {
   "cell_type": "code",
   "execution_count": 8,
   "metadata": {
    "scrolled": true
   },
   "outputs": [
    {
     "name": "stdout",
     "output_type": "stream",
     "text": [
      "11861466.117417123\n"
     ]
    }
   ],
   "source": [
    "income = np.append(income, 10**9) # 소득이 10억원인 사람의 등장\n",
    "print(np.mean(income)) # 100명의 소득이 200만원에 가까운데, 한 명 때문에 대표값인 평균이 1200만원에 달함"
   ]
  },
  {
   "cell_type": "markdown",
   "metadata": {},
   "source": [
    "#### 절사 평균 계산"
   ]
  },
  {
   "cell_type": "markdown",
   "metadata": {},
   "source": [
    "- 비율을 몇 퍼센트로 할 것인지가 항상 문제"
   ]
  },
  {
   "cell_type": "code",
   "execution_count": 10,
   "metadata": {},
   "outputs": [
    {
     "data": {
      "text/plain": [
       "2006868.6988346875"
      ]
     },
     "execution_count": 10,
     "metadata": {},
     "output_type": "execute_result"
    }
   ],
   "source": [
    "trim_mean(income, 0.2) # [20% ~ 80%]"
   ]
  },
  {
   "cell_type": "code",
   "execution_count": null,
   "metadata": {},
   "outputs": [],
   "source": []
  },
  {
   "cell_type": "markdown",
   "metadata": {},
   "source": [
    "#### 최빈값 계산"
   ]
  },
  {
   "cell_type": "markdown",
   "metadata": {},
   "source": [
    "- scipy.stats.mode(x)\n",
    "- Series.value_counts().index[0] # 단 이렇게 구하면, 최빈값이 둘 이상이면 사용 불가. "
   ]
  },
  {
   "cell_type": "code",
   "execution_count": 9,
   "metadata": {},
   "outputs": [
    {
     "data": {
      "text/plain": [
       "array(['B', 'C', 'C', 'C', 'A', 'A', 'A', 'A', 'C', 'C'], dtype='<U1')"
      ]
     },
     "execution_count": 9,
     "metadata": {},
     "output_type": "execute_result"
    }
   ],
   "source": [
    "x = np.random.choice(['A', 'B', 'C'], 1000) # A, B, C라는 요소로 구성\n",
    "x[:10]"
   ]
  },
  {
   "cell_type": "code",
   "execution_count": 10,
   "metadata": {},
   "outputs": [
    {
     "data": {
      "text/plain": [
       "ModeResult(mode=array(['C'], dtype='<U1'), count=array([351]))"
      ]
     },
     "execution_count": 10,
     "metadata": {},
     "output_type": "execute_result"
    }
   ],
   "source": [
    "mode(x) # [0]: 최빈값, [1]: 빈도"
   ]
  },
  {
   "cell_type": "code",
   "execution_count": 12,
   "metadata": {},
   "outputs": [
    {
     "data": {
      "text/plain": [
       "'C'"
      ]
     },
     "execution_count": 12,
     "metadata": {},
     "output_type": "execute_result"
    }
   ],
   "source": [
    "pd.Series(x).value_counts().index[0] # 맨 앞에 있는 것이 최빈 값"
   ]
  }
 ],
 "metadata": {
  "kernelspec": {
   "display_name": "Python 3",
   "language": "python",
   "name": "python3"
  },
  "language_info": {
   "codemirror_mode": {
    "name": "ipython",
    "version": 3
   },
   "file_extension": ".py",
   "mimetype": "text/x-python",
   "name": "python",
   "nbconvert_exporter": "python",
   "pygments_lexer": "ipython3",
   "version": "3.8.5"
  }
 },
 "nbformat": 4,
 "nbformat_minor": 2
}

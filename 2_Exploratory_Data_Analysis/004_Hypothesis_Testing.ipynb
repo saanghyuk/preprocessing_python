{
 "cells": [
  {
   "cell_type": "markdown",
   "metadata": {},
   "source": [
    "# Hypothesis Testing"
   ]
  },
  {
   "cell_type": "markdown",
   "metadata": {},
   "source": [
    "## 단일 표본 t 검정(1 Sample T-Test)"
   ]
  },
  {
   "cell_type": "markdown",
   "metadata": {},
   "source": [
    "![2_1.png](../materials/2_1.png)\n",
    "![2_1.png](../materials/2_2.png)\n",
    "\n",
    "샘플이 보통 30개 이상이면, 정규성 띈다고 가정해도 크게 무관한 경우가 대부분.\n",
    "![2_1.png](../materials/2_3.png)\n",
    "![2_1.png](../materials/2_4.png)\n",
    "![2_1.png](../materials/2_5.png)\n",
    "![2_1.png](../materials/2_6.png)\n",
    "\n",
    "윌콕슨-부호 순위검정은 단일표본 t-검정을 못하는 경우, 정규성을 띄지 않는 경우의 방법. 여기서는 popmean으로 기준값을 설정할 수가 없음. x의 median값으로 자동 설정됨."
   ]
  },
  {
   "cell_type": "code",
   "execution_count": 7,
   "metadata": {},
   "outputs": [],
   "source": [
    "# data 불러오기\n",
    "import os\n",
    "import pandas as pd\n",
    "\n",
    "os.chdir(r\"/Users/sanghyuk/Documents/preprocessing_python/lecture_source/2. 탐색적 데이터 분석/데이터\")\n",
    "\n",
    "with open(\"성인여성_키_데이터.txt\", \"r\") as f:\n",
    "    data = f.read().split('\\n')\n",
    "    data = list(map(float, data))"
   ]
  },
  {
   "cell_type": "code",
   "execution_count": 8,
   "metadata": {},
   "outputs": [
    {
     "data": {
      "text/plain": [
       "[150.27, 142.94, 160.99]"
      ]
     },
     "execution_count": 8,
     "metadata": {},
     "output_type": "execute_result"
    }
   ],
   "source": [
    "data[:3]"
   ]
  },
  {
   "cell_type": "code",
   "execution_count": 9,
   "metadata": {
    "scrolled": true
   },
   "outputs": [
    {
     "data": {
      "text/plain": [
       "KstestResult(statistic=1.0, pvalue=0.0)"
      ]
     },
     "execution_count": 9,
     "metadata": {},
     "output_type": "execute_result"
    }
   ],
   "source": [
    "# 정규성 검정\n",
    "from scipy.stats import *\n",
    "kstest(data, 'norm') # p-value가 0.0 < 0.05으로 정규성을 띈다고 볼 수 있음 "
   ]
  },
  {
   "cell_type": "code",
   "execution_count": 10,
   "metadata": {},
   "outputs": [
    {
     "name": "stdout",
     "output_type": "stream",
     "text": [
      "Ttest_1sampResult(statistic=-2.979804412662668, pvalue=0.006510445335847954)\n"
     ]
    }
   ],
   "source": [
    "# 단일 표본 t 검정 수행\n",
    "print(ttest_1samp(data, 163)) \n",
    "\n",
    "# pvalue가 0.05 미만이므로 영가설 (data의 평균 == 163) 기각\n",
    "# 통계량(-2.9798044)이 음수이므로 data이 평균 < 163임을 알 수 있음"
   ]
  },
  {
   "cell_type": "markdown",
   "metadata": {},
   "source": [
    "## 독립 표본 t 검정(Independent Two Sample T-test)\n",
    "\n",
    "- 서로 다른 두 그룹의 데이터 평균 비교\n",
    "- 단일 표본보다 훨씬 더 많이 쓰임. \n",
    "- 조건 \n",
    "    - 두 그룹은 독립적이여야 한다(한 그룹이 다른 그룹에 영향 미치면 안된다).\n",
    "    - 데이터는 정규분포를 따라야 한다(두 데이터에 대해 각각 정규성 검정 해주면 된다).\n",
    "    - 정규성을 따르지 않을 시 비모수검정 Mann-Whitney 검정을 수행한다. \n",
    "    - 두 그룹 데이터의 분산이 같아야 한다. \n",
    "        - **Levene의 등분산 검정** : p-value가 0.05미만이면 분산이 다르다고 판단. \n",
    "        - 분산이 같은지 다른지에 따라 사용하는 통계량이 달라지므로, 설정만 달리 해주면 된다. "
   ]
  },
  {
   "cell_type": "markdown",
   "metadata": {},
   "source": [
    "![2_7.png](../materials/2_7.png)\n",
    "![2_7.png](../materials/2_8.png)\n",
    "![2_7.png](../materials/2_9.png)\n",
    "![2_7.png](../materials/2_10.png)"
   ]
  },
  {
   "cell_type": "markdown",
   "metadata": {},
   "source": [
    "t-test에서, `euqal_var`은, 위 등분산성 검정에서 등분산성 만족했으면 `True` 아니면, `False`로 놓으면 된다. "
   ]
  },
  {
   "cell_type": "code",
   "execution_count": 12,
   "metadata": {},
   "outputs": [
    {
     "data": {
      "text/html": [
       "<div>\n",
       "<style scoped>\n",
       "    .dataframe tbody tr th:only-of-type {\n",
       "        vertical-align: middle;\n",
       "    }\n",
       "\n",
       "    .dataframe tbody tr th {\n",
       "        vertical-align: top;\n",
       "    }\n",
       "\n",
       "    .dataframe thead th {\n",
       "        text-align: right;\n",
       "    }\n",
       "</style>\n",
       "<table border=\"1\" class=\"dataframe\">\n",
       "  <thead>\n",
       "    <tr style=\"text-align: right;\">\n",
       "      <th></th>\n",
       "      <th>반</th>\n",
       "      <th>점수</th>\n",
       "    </tr>\n",
       "  </thead>\n",
       "  <tbody>\n",
       "    <tr>\n",
       "      <th>0</th>\n",
       "      <td>A</td>\n",
       "      <td>73</td>\n",
       "    </tr>\n",
       "    <tr>\n",
       "      <th>1</th>\n",
       "      <td>A</td>\n",
       "      <td>69</td>\n",
       "    </tr>\n",
       "    <tr>\n",
       "      <th>2</th>\n",
       "      <td>A</td>\n",
       "      <td>71</td>\n",
       "    </tr>\n",
       "    <tr>\n",
       "      <th>3</th>\n",
       "      <td>A</td>\n",
       "      <td>71</td>\n",
       "    </tr>\n",
       "    <tr>\n",
       "      <th>4</th>\n",
       "      <td>A</td>\n",
       "      <td>73</td>\n",
       "    </tr>\n",
       "  </tbody>\n",
       "</table>\n",
       "</div>"
      ],
      "text/plain": [
       "   반  점수\n",
       "0  A  73\n",
       "1  A  69\n",
       "2  A  71\n",
       "3  A  71\n",
       "4  A  73"
      ]
     },
     "execution_count": 12,
     "metadata": {},
     "output_type": "execute_result"
    }
   ],
   "source": [
    "df1 = pd.read_csv(\"반별_점수_type1.csv\", engine = \"python\", encoding='CP949')\n",
    "df1.head()"
   ]
  },
  {
   "cell_type": "code",
   "execution_count": 14,
   "metadata": {},
   "outputs": [
    {
     "name": "stdout",
     "output_type": "stream",
     "text": [
      "[73 69 71 71 73 67 73 69 62 74 68 66 70 82 70 65 76 73 58 81]\n",
      "[63 56 73 61 55 77 75 65 61 55]\n"
     ]
    }
   ],
   "source": [
    "group_A = df1['점수'].loc[df1['반'] == 'A'].values\n",
    "group_B = df1['점수'].loc[df1['반'] == 'B'].values\n",
    "\n",
    "print(group_A)\n",
    "print(group_B)"
   ]
  },
  {
   "cell_type": "code",
   "execution_count": 15,
   "metadata": {},
   "outputs": [
    {
     "name": "stdout",
     "output_type": "stream",
     "text": [
      "KstestResult(statistic=1.0, pvalue=0.0)\n",
      "KstestResult(statistic=1.0, pvalue=0.0)\n"
     ]
    }
   ],
   "source": [
    "# kstest를 이용한 정규성 검정: 모두 정규 분포를 띔을 확인\n",
    "print(kstest(group_A, 'norm'))\n",
    "print(kstest(group_B, 'norm'))"
   ]
  },
  {
   "cell_type": "code",
   "execution_count": 49,
   "metadata": {},
   "outputs": [
    {
     "data": {
      "text/plain": [
       "LeveneResult(statistic=2.033067087400979, pvalue=0.164964086222101)"
      ]
     },
     "execution_count": 49,
     "metadata": {},
     "output_type": "execute_result"
    }
   ],
   "source": [
    "# 등분산 검정\n",
    "levene(group_A, group_B) # pvalue가 0.05 미만이 아니므로, 등분산을 띈다고 볼 수 있음"
   ]
  },
  {
   "cell_type": "code",
   "execution_count": 55,
   "metadata": {
    "scrolled": true
   },
   "outputs": [
    {
     "data": {
      "text/plain": [
       "32.26052631578948"
      ]
     },
     "execution_count": 55,
     "metadata": {},
     "output_type": "execute_result"
    }
   ],
   "source": [
    "np.var(group_A, None, ddof=1)"
   ]
  },
  {
   "cell_type": "code",
   "execution_count": 64,
   "metadata": {
    "scrolled": true
   },
   "outputs": [
    {
     "name": "stdout",
     "output_type": "stream",
     "text": [
      "Ttest_indResult(statistic=2.5128526794964134, pvalue=0.01801095352893767)\n"
     ]
    }
   ],
   "source": [
    "# A와 B간에는 차이가 존재함을 확인 \n",
    "print(ttest_ind(group_A, group_B, equal_var = True)) "
   ]
  },
  {
   "cell_type": "markdown",
   "metadata": {},
   "source": [
    "#### Tip. 다른 포맷의 데이터 처리"
   ]
  },
  {
   "cell_type": "code",
   "execution_count": 16,
   "metadata": {},
   "outputs": [
    {
     "data": {
      "text/html": [
       "<div>\n",
       "<style scoped>\n",
       "    .dataframe tbody tr th:only-of-type {\n",
       "        vertical-align: middle;\n",
       "    }\n",
       "\n",
       "    .dataframe tbody tr th {\n",
       "        vertical-align: top;\n",
       "    }\n",
       "\n",
       "    .dataframe thead th {\n",
       "        text-align: right;\n",
       "    }\n",
       "</style>\n",
       "<table border=\"1\" class=\"dataframe\">\n",
       "  <thead>\n",
       "    <tr style=\"text-align: right;\">\n",
       "      <th></th>\n",
       "      <th>A반</th>\n",
       "      <th>B반</th>\n",
       "    </tr>\n",
       "  </thead>\n",
       "  <tbody>\n",
       "    <tr>\n",
       "      <th>0</th>\n",
       "      <td>73</td>\n",
       "      <td>63.0</td>\n",
       "    </tr>\n",
       "    <tr>\n",
       "      <th>1</th>\n",
       "      <td>69</td>\n",
       "      <td>56.0</td>\n",
       "    </tr>\n",
       "    <tr>\n",
       "      <th>2</th>\n",
       "      <td>71</td>\n",
       "      <td>73.0</td>\n",
       "    </tr>\n",
       "    <tr>\n",
       "      <th>3</th>\n",
       "      <td>71</td>\n",
       "      <td>61.0</td>\n",
       "    </tr>\n",
       "    <tr>\n",
       "      <th>4</th>\n",
       "      <td>73</td>\n",
       "      <td>55.0</td>\n",
       "    </tr>\n",
       "  </tbody>\n",
       "</table>\n",
       "</div>"
      ],
      "text/plain": [
       "   A반    B반\n",
       "0  73  63.0\n",
       "1  69  56.0\n",
       "2  71  73.0\n",
       "3  71  61.0\n",
       "4  73  55.0"
      ]
     },
     "execution_count": 16,
     "metadata": {},
     "output_type": "execute_result"
    }
   ],
   "source": [
    "df2 = pd.read_csv(\"반별_점수_type2.csv\", engine = \"python\", encoding='CP949')\n",
    "df2.head()"
   ]
  },
  {
   "cell_type": "code",
   "execution_count": 70,
   "metadata": {},
   "outputs": [],
   "source": [
    "# 길이가 달라서 결측이 발생할 수 있으므로, 결측을 제거한 뒤 각 컬럼을 group_A와 group_B에 저장\n",
    "group_A = df2['A반'].dropna().values\n",
    "group_B = df2['B반'].dropna().values"
   ]
  },
  {
   "cell_type": "code",
   "execution_count": null,
   "metadata": {},
   "outputs": [],
   "source": []
  },
  {
   "cell_type": "code",
   "execution_count": null,
   "metadata": {},
   "outputs": [],
   "source": []
  },
  {
   "cell_type": "markdown",
   "metadata": {},
   "source": [
    "## 쌍체표본 T검정(Paired t-Tests)"
   ]
  },
  {
   "cell_type": "markdown",
   "metadata": {},
   "source": [
    "- 실험 전후의 각 데이터는 정규분포 따르지 않아도 무방하다(물론 따라도 된다). \n",
    "- 단, 둘의 차이인 d는 정규분포를 따라야만 한다. "
   ]
  },
  {
   "cell_type": "markdown",
   "metadata": {},
   "source": [
    "![2_11.png](../materials/2_11.png)\n",
    "![2_11.png](../materials/2_12.png)\n",
    "![2_11.png](../materials/2_13.png)\n",
    "![2_11.png](../materials/2_14.png)"
   ]
  },
  {
   "cell_type": "code",
   "execution_count": 26,
   "metadata": {},
   "outputs": [],
   "source": [
    "import os\n",
    "import pandas as pd\n",
    "\n",
    "os.chdir(r\"/Users/sanghyuk/Documents/preprocessing_python/lecture_source/2. 탐색적 데이터 분석/데이터\")\n",
    "\n",
    "df = pd.read_csv(\"다이어트약_효과검증.csv\")"
   ]
  },
  {
   "cell_type": "code",
   "execution_count": 27,
   "metadata": {},
   "outputs": [
    {
     "data": {
      "text/plain": [
       "Index(['다이어트전(kg)', '다이어트후(kg)'], dtype='object')"
      ]
     },
     "execution_count": 27,
     "metadata": {},
     "output_type": "execute_result"
    }
   ],
   "source": [
    "df.columns"
   ]
  },
  {
   "cell_type": "code",
   "execution_count": 28,
   "metadata": {},
   "outputs": [],
   "source": [
    "before = df['다이어트전(kg)']\n",
    "after = df['다이어트후(kg)']"
   ]
  },
  {
   "cell_type": "code",
   "execution_count": 29,
   "metadata": {},
   "outputs": [
    {
     "data": {
      "text/plain": [
       "KstestResult(statistic=0.7424620196514834, pvalue=7.04108433205159e-29)"
      ]
     },
     "execution_count": 29,
     "metadata": {},
     "output_type": "execute_result"
    }
   ],
   "source": [
    "# 정규성 검정\n",
    "from scipy.stats import *\n",
    "kstest(after - before, 'norm')"
   ]
  },
  {
   "cell_type": "code",
   "execution_count": 30,
   "metadata": {},
   "outputs": [
    {
     "data": {
      "text/plain": [
       "Ttest_relResult(statistic=9.70596986565785, pvalue=5.370404098342324e-13)"
      ]
     },
     "execution_count": 30,
     "metadata": {},
     "output_type": "execute_result"
    }
   ],
   "source": [
    "ttest_rel(before, after) # 확실한 양의 효과가 있음을 확인 "
   ]
  },
  {
   "cell_type": "code",
   "execution_count": null,
   "metadata": {},
   "outputs": [],
   "source": []
  },
  {
   "cell_type": "markdown",
   "metadata": {},
   "source": [
    "## One-Way ANOVA"
   ]
  },
  {
   "cell_type": "markdown",
   "metadata": {},
   "source": [
    "- 두 그룹의 차이는 독립표본 t검정. 분산분석에서는 셋 이상의 그룹 간 차이를 본다. \n",
    "- 독립표본 t 검정을 여러번 사용하면 되지 않는가? \n",
    "    - t 검정을 여러번 하면 아무리 높은 p-value가 나오더라도 신뢰 문제가 생기기 때문. \n",
    "    - $(0.95)^k$. 0.95는 참일때 참이라고 할 확률. 그룹 갯수가 3개만 되어도, 확률이 0.857이 된다. \n",
    "    - 이 부분 school-note 참고. **family-wise error rate** $1 - (1-a)^k$.\n",
    "- 조건\n",
    "    - 독립성 : 모든 그룹을 서로 독립적\n",
    "    - 정규성 : 모든 그룹의 데이터는 정규분포 따른다. \n",
    "        - 그렇지 않으면 비모수적인 방법인 Krusal-Wallis H Test를 수행해야 한다. \n",
    "    - 등분산성 : 모든 그룹에 데이터에 대한 분산이 같아야 한다. \n",
    "       - 그렇지 않으면 비모수적인 방법인 Krusal-Wallis H Test를 수행해야 한다. "
   ]
  },
  {
   "cell_type": "markdown",
   "metadata": {},
   "source": [
    "![2_15.png](../materials/2_15.png)\n",
    "![2_15.png](../materials/2_16.png)\n",
    "![2_15.png](../materials/2_17.png)\n",
    "![2_15.png](../materials/2_18.png)\n",
    "![2_15.png](../materials/2_19.png)\n",
    "![2_15.png](../materials/2_20.png)\n",
    "\n",
    "분산분석의 결과가 기각이면 \"최소 한개는 다르다\"라는 결과가 나온다. <br>\n",
    "그걸 가지고 다시 어떤 그룹이 다른지를 볼때, 본페로니 혹은 Tukey HSD를 하는 것. "
   ]
  },
  {
   "cell_type": "code",
   "execution_count": 52,
   "metadata": {},
   "outputs": [],
   "source": [
    "from matplotlib import font_manager, rc\n",
    "\n",
    "\n",
    "rc('font', family='AppleGothic')\n",
    "#plt.rcParams['axes.unicode_minus'] = False"
   ]
  },
  {
   "cell_type": "code",
   "execution_count": 49,
   "metadata": {},
   "outputs": [
    {
     "data": {
      "text/html": [
       "<div>\n",
       "<style scoped>\n",
       "    .dataframe tbody tr th:only-of-type {\n",
       "        vertical-align: middle;\n",
       "    }\n",
       "\n",
       "    .dataframe tbody tr th {\n",
       "        vertical-align: top;\n",
       "    }\n",
       "\n",
       "    .dataframe thead th {\n",
       "        text-align: right;\n",
       "    }\n",
       "</style>\n",
       "<table border=\"1\" class=\"dataframe\">\n",
       "  <thead>\n",
       "    <tr style=\"text-align: right;\">\n",
       "      <th></th>\n",
       "      <th>일자</th>\n",
       "      <th>지점A</th>\n",
       "      <th>지점B</th>\n",
       "      <th>지점C</th>\n",
       "    </tr>\n",
       "  </thead>\n",
       "  <tbody>\n",
       "    <tr>\n",
       "      <th>0</th>\n",
       "      <td>1</td>\n",
       "      <td>124</td>\n",
       "      <td>118</td>\n",
       "      <td>216</td>\n",
       "    </tr>\n",
       "    <tr>\n",
       "      <th>1</th>\n",
       "      <td>2</td>\n",
       "      <td>147</td>\n",
       "      <td>141</td>\n",
       "      <td>214</td>\n",
       "    </tr>\n",
       "    <tr>\n",
       "      <th>2</th>\n",
       "      <td>3</td>\n",
       "      <td>129</td>\n",
       "      <td>130</td>\n",
       "      <td>212</td>\n",
       "    </tr>\n",
       "    <tr>\n",
       "      <th>3</th>\n",
       "      <td>4</td>\n",
       "      <td>123</td>\n",
       "      <td>127</td>\n",
       "      <td>179</td>\n",
       "    </tr>\n",
       "    <tr>\n",
       "      <th>4</th>\n",
       "      <td>5</td>\n",
       "      <td>147</td>\n",
       "      <td>107</td>\n",
       "      <td>222</td>\n",
       "    </tr>\n",
       "  </tbody>\n",
       "</table>\n",
       "</div>"
      ],
      "text/plain": [
       "   일자  지점A  지점B  지점C\n",
       "0   1  124  118  216\n",
       "1   2  147  141  214\n",
       "2   3  129  130  212\n",
       "3   4  123  127  179\n",
       "4   5  147  107  222"
      ]
     },
     "execution_count": 49,
     "metadata": {},
     "output_type": "execute_result"
    }
   ],
   "source": [
    "import os\n",
    "import pandas as pd\n",
    "\n",
    "os.chdir(r\"/Users/sanghyuk/Documents/preprocessing_python/lecture_source/2. 탐색적 데이터 분석/데이터\")\n",
    "\n",
    "# 데이터 불러오기 및 확인\n",
    "df = pd.read_csv(\"지점별_일별판매량.csv\", engine = \"python\", encoding='CP949')\n",
    "df.head()"
   ]
  },
  {
   "cell_type": "code",
   "execution_count": 50,
   "metadata": {},
   "outputs": [],
   "source": [
    "# 데이터 분할 (결측이 포함되어 있을 수 있으므로 dropna를 사용)\n",
    "A = df['지점A'].dropna().values\n",
    "B = df['지점B'].dropna().values\n",
    "C = df['지점C'].dropna().values"
   ]
  },
  {
   "cell_type": "code",
   "execution_count": 53,
   "metadata": {
    "scrolled": false
   },
   "outputs": [
    {
     "data": {
      "text/plain": [
       "([<matplotlib.axis.XTick at 0x7ff657e6fee0>,\n",
       "  <matplotlib.axis.XTick at 0x7ff657e6feb0>,\n",
       "  <matplotlib.axis.XTick at 0x7ff657e95160>],\n",
       " [Text(1, 0, '지점 A'), Text(2, 0, '지점 B'), Text(3, 0, '지점 C')])"
      ]
     },
     "execution_count": 53,
     "metadata": {},
     "output_type": "execute_result"
    },
    {
     "data": {
      "image/png": "[encoded data removed]",
      "text/plain": [
       "<Figure size 720x720 with 1 Axes>"
      ]
     },
     "metadata": {
      "image/png": {
       "height": 578,
       "width": 604
      },
      "needs_background": "light"
     },
     "output_type": "display_data"
    }
   ],
   "source": [
    "# 박스플롯으로 시각화\n",
    "%matplotlib inline\n",
    "from matplotlib import pyplot as plt\n",
    "#plt.rcParams[\"font.family\"] = 'Malgun Gothic'\n",
    "plt.rcParams[\"font.size\"] = 20\n",
    "plt.rcParams[\"figure.figsize\"] = (10, 10)\n",
    "plt.boxplot([A, B, C])\n",
    "plt.xticks([1, 2, 3], ['지점 A', '지점 B', '지점 C'])"
   ]
  },
  {
   "cell_type": "code",
   "execution_count": 37,
   "metadata": {},
   "outputs": [
    {
     "name": "stdout",
     "output_type": "stream",
     "text": [
      "KstestResult(statistic=1.0, pvalue=0.0)\n",
      "KstestResult(statistic=1.0, pvalue=0.0)\n",
      "KstestResult(statistic=1.0, pvalue=0.0)\n"
     ]
    }
   ],
   "source": [
    "# 정규성 검정: 세 변수 모두 정규 분포를 띔을 확인\n",
    "from scipy.stats import *\n",
    "print(kstest(A, 'norm'))\n",
    "print(kstest(B, 'norm'))\n",
    "print(kstest(C, 'norm'))"
   ]
  },
  {
   "cell_type": "code",
   "execution_count": 38,
   "metadata": {},
   "outputs": [
    {
     "name": "stdout",
     "output_type": "stream",
     "text": [
      "F_onewayResult(statistic=178.43825416847133, pvalue=1.6337420285664805e-31)\n"
     ]
    }
   ],
   "source": [
    "# 일원분산분석 수행: p-value가 거의 0에 수렴 => A, B, C의 평균은 유의한 차이가 존재\n",
    "print(f_oneway(A, B, C))"
   ]
  },
  {
   "cell_type": "code",
   "execution_count": 39,
   "metadata": {
    "scrolled": true
   },
   "outputs": [
    {
     "name": "stdout",
     "output_type": "stream",
     "text": [
      "Multiple Comparison of Means - Tukey HSD, FWER=0.05 \n",
      "====================================================\n",
      "group1 group2 meandiff p-adj  lower    upper  reject\n",
      "----------------------------------------------------\n",
      "     A      B     -1.4   0.9 -10.5745  7.7745  False\n",
      "     A      C  62.2333 0.001  53.0589 71.4078   True\n",
      "     B      C  63.6333 0.001  54.4589 72.8078   True\n",
      "----------------------------------------------------\n"
     ]
    }
   ],
   "source": [
    "# 사후 분석\n",
    "from statsmodels.stats.multicomp import pairwise_tukeyhsd\n",
    "Group = ['A'] * len(A) + ['B'] * len(B) + ['C'] * len(C)\n",
    "Data = A.tolist() + B.tolist() + C.tolist()\n",
    "\n",
    "print(pairwise_tukeyhsd(Data, Group))\n",
    "\n",
    "# 결론: [A, B] / [C]로 데이터가 구분됨\n",
    "# A ~ B는 유의한 차이가 존재하지 않음\n",
    "# A ~ C는 유의한 차이 존재\n",
    "# B ~ C는 유의한 차이 존재 "
   ]
  },
  {
   "cell_type": "code",
   "execution_count": null,
   "metadata": {},
   "outputs": [],
   "source": []
  },
  {
   "cell_type": "markdown",
   "metadata": {},
   "source": [
    "## Correlation"
   ]
  },
  {
   "cell_type": "markdown",
   "metadata": {},
   "source": [
    "![2_21.png](../materials/2_21.png)\n",
    "![2_21.png](../materials/2_22.png)\n",
    "![2_21.png](../materials/2_23.png)\n",
    "![2_21.png](../materials/2_24.png)\n",
    "![2_21.png](../materials/2_25.png)\n",
    "![2_21.png](../materials/2_26.png)\n",
    "\n",
    "- 스피어만 상관계수는 x와 y의 순위에 대한 상관계수를 구하는 것. \n",
    "- 피어슨은 직선으로만 볼 수 있기 때문에, 직선으로 측정하기 애매한 경우는 순위로 그려놓고 상관계수 볼 수 있다. \n",
    "- A와 B의 순위에 대한 상관계수를 측정하는 것. "
   ]
  },
  {
   "cell_type": "code",
   "execution_count": 71,
   "metadata": {},
   "outputs": [
    {
     "data": {
      "text/html": [
       "<div>\n",
       "<style scoped>\n",
       "    .dataframe tbody tr th:only-of-type {\n",
       "        vertical-align: middle;\n",
       "    }\n",
       "\n",
       "    .dataframe tbody tr th {\n",
       "        vertical-align: top;\n",
       "    }\n",
       "\n",
       "    .dataframe thead th {\n",
       "        text-align: right;\n",
       "    }\n",
       "</style>\n",
       "<table border=\"1\" class=\"dataframe\">\n",
       "  <thead>\n",
       "    <tr style=\"text-align: right;\">\n",
       "      <th></th>\n",
       "      <th>일자</th>\n",
       "      <th>금값</th>\n",
       "      <th>은값</th>\n",
       "      <th>달러 환율</th>\n",
       "    </tr>\n",
       "  </thead>\n",
       "  <tbody>\n",
       "    <tr>\n",
       "      <th>0</th>\n",
       "      <td>2020.08.07</td>\n",
       "      <td>78538.90</td>\n",
       "      <td>27.53</td>\n",
       "      <td>1188.5</td>\n",
       "    </tr>\n",
       "    <tr>\n",
       "      <th>1</th>\n",
       "      <td>2020.08.06</td>\n",
       "      <td>78009.22</td>\n",
       "      <td>28.39</td>\n",
       "      <td>1185.5</td>\n",
       "    </tr>\n",
       "    <tr>\n",
       "      <th>2</th>\n",
       "      <td>2020.08.05</td>\n",
       "      <td>77748.00</td>\n",
       "      <td>26.88</td>\n",
       "      <td>1188.0</td>\n",
       "    </tr>\n",
       "    <tr>\n",
       "      <th>3</th>\n",
       "      <td>2020.08.04</td>\n",
       "      <td>75873.57</td>\n",
       "      <td>26.01</td>\n",
       "      <td>1194.5</td>\n",
       "    </tr>\n",
       "    <tr>\n",
       "      <th>4</th>\n",
       "      <td>2020.08.03</td>\n",
       "      <td>75761.76</td>\n",
       "      <td>24.39</td>\n",
       "      <td>1195.7</td>\n",
       "    </tr>\n",
       "  </tbody>\n",
       "</table>\n",
       "</div>"
      ],
      "text/plain": [
       "           일자        금값     은값   달러 환율\n",
       "0  2020.08.07  78538.90  27.53  1188.5\n",
       "1  2020.08.06  78009.22  28.39  1185.5\n",
       "2  2020.08.05  77748.00  26.88  1188.0\n",
       "3  2020.08.04  75873.57  26.01  1194.5\n",
       "4  2020.08.03  75761.76  24.39  1195.7"
      ]
     },
     "execution_count": 71,
     "metadata": {},
     "output_type": "execute_result"
    }
   ],
   "source": [
    "import os\n",
    "import pandas as pd\n",
    "\n",
    "os.chdir(r\"/Users/sanghyuk/Documents/preprocessing_python/lecture_source/2. 탐색적 데이터 분석/데이터\")\n",
    "\n",
    "# 데이터 불러오기 및 확인\n",
    "df = pd.read_excel(\"일별_금은달러.xlsx\")\n",
    "df.head()"
   ]
  },
  {
   "cell_type": "code",
   "execution_count": 72,
   "metadata": {},
   "outputs": [
    {
     "data": {
      "text/html": [
       "<div>\n",
       "<style scoped>\n",
       "    .dataframe tbody tr th:only-of-type {\n",
       "        vertical-align: middle;\n",
       "    }\n",
       "\n",
       "    .dataframe tbody tr th {\n",
       "        vertical-align: top;\n",
       "    }\n",
       "\n",
       "    .dataframe thead th {\n",
       "        text-align: right;\n",
       "    }\n",
       "</style>\n",
       "<table border=\"1\" class=\"dataframe\">\n",
       "  <thead>\n",
       "    <tr style=\"text-align: right;\">\n",
       "      <th></th>\n",
       "      <th>일자</th>\n",
       "      <th>금값</th>\n",
       "      <th>은값</th>\n",
       "      <th>달러 환율</th>\n",
       "    </tr>\n",
       "  </thead>\n",
       "  <tbody>\n",
       "    <tr>\n",
       "      <th>0</th>\n",
       "      <td>2020.08.07</td>\n",
       "      <td>78538.90</td>\n",
       "      <td>27.53</td>\n",
       "      <td>1188.5</td>\n",
       "    </tr>\n",
       "    <tr>\n",
       "      <th>1</th>\n",
       "      <td>2020.08.06</td>\n",
       "      <td>78009.22</td>\n",
       "      <td>28.39</td>\n",
       "      <td>1185.5</td>\n",
       "    </tr>\n",
       "    <tr>\n",
       "      <th>2</th>\n",
       "      <td>2020.08.05</td>\n",
       "      <td>77748.00</td>\n",
       "      <td>26.88</td>\n",
       "      <td>1188.0</td>\n",
       "    </tr>\n",
       "    <tr>\n",
       "      <th>3</th>\n",
       "      <td>2020.08.04</td>\n",
       "      <td>75873.57</td>\n",
       "      <td>26.01</td>\n",
       "      <td>1194.5</td>\n",
       "    </tr>\n",
       "    <tr>\n",
       "      <th>4</th>\n",
       "      <td>2020.08.03</td>\n",
       "      <td>75761.76</td>\n",
       "      <td>24.39</td>\n",
       "      <td>1195.7</td>\n",
       "    </tr>\n",
       "  </tbody>\n",
       "</table>\n",
       "</div>"
      ],
      "text/plain": [
       "           일자        금값     은값   달러 환율\n",
       "0  2020.08.07  78538.90  27.53  1188.5\n",
       "1  2020.08.06  78009.22  28.39  1185.5\n",
       "2  2020.08.05  77748.00  26.88  1188.0\n",
       "3  2020.08.04  75873.57  26.01  1194.5\n",
       "4  2020.08.03  75761.76  24.39  1195.7"
      ]
     },
     "execution_count": 72,
     "metadata": {},
     "output_type": "execute_result"
    }
   ],
   "source": [
    "df.head()"
   ]
  },
  {
   "cell_type": "code",
   "execution_count": 73,
   "metadata": {},
   "outputs": [],
   "source": [
    "df.sort_values(by = '일자', inplace = True)"
   ]
  },
  {
   "cell_type": "code",
   "execution_count": 74,
   "metadata": {},
   "outputs": [],
   "source": [
    "# 그래프 기본 설정\n",
    "from matplotlib import pyplot as plt\n",
    "import numpy as np\n",
    "%matplotlib inline\n",
    "\n",
    "\n",
    "plt.rcParams[\"font.size\"] = 20\n",
    "plt.rcParams[\"figure.figsize\"] = (10, 8)"
   ]
  },
  {
   "cell_type": "code",
   "execution_count": 75,
   "metadata": {},
   "outputs": [
    {
     "data": {
      "text/plain": [
       "([<matplotlib.axis.XTick at 0x7ff63ad873a0>,\n",
       "  <matplotlib.axis.XTick at 0x7ff63b838b80>,\n",
       "  <matplotlib.axis.XTick at 0x7ff63b836df0>,\n",
       "  <matplotlib.axis.XTick at 0x7ff63ba4a130>],\n",
       " [Text(0, 0, ''), Text(0, 0, ''), Text(0, 0, ''), Text(0, 0, '')])"
      ]
     },
     "execution_count": 75,
     "metadata": {},
     "output_type": "execute_result"
    },
    {
     "data": {
      "image/png": "[encoded data removed]",
      "text/plain": [
       "<Figure size 720x576 with 1 Axes>"
      ]
     },
     "metadata": {
      "image/png": {
       "height": 469,
       "width": 619
      },
      "needs_background": "light"
     },
     "output_type": "display_data"
    }
   ],
   "source": [
    "plt.scatter(df['일자'], df['금값'])\n",
    "plt.scatter(df['일자'], df['은값'])\n",
    "plt.scatter(df['일자'], df['달러 환율'])\n",
    "plt.xticks(df['일자'].iloc[::8])"
   ]
  },
  {
   "cell_type": "code",
   "execution_count": 76,
   "metadata": {},
   "outputs": [
    {
     "data": {
      "text/plain": [
       "<matplotlib.collections.PathCollection at 0x7ff63afef3d0>"
      ]
     },
     "execution_count": 76,
     "metadata": {},
     "output_type": "execute_result"
    },
    {
     "data": {
      "image/png": "[encoded data removed]",
      "text/plain": [
       "<Figure size 720x576 with 1 Axes>"
      ]
     },
     "metadata": {
      "image/png": {
       "height": 469,
       "width": 596
      },
      "needs_background": "light"
     },
     "output_type": "display_data"
    }
   ],
   "source": [
    "plt.scatter(df['금값'], df['은값'])"
   ]
  },
  {
   "cell_type": "code",
   "execution_count": 77,
   "metadata": {},
   "outputs": [
    {
     "data": {
      "text/plain": [
       "array([[<AxesSubplot:xlabel='금값', ylabel='금값'>,\n",
       "        <AxesSubplot:xlabel='은값', ylabel='금값'>,\n",
       "        <AxesSubplot:xlabel='달러 환율', ylabel='금값'>],\n",
       "       [<AxesSubplot:xlabel='금값', ylabel='은값'>,\n",
       "        <AxesSubplot:xlabel='은값', ylabel='은값'>,\n",
       "        <AxesSubplot:xlabel='달러 환율', ylabel='은값'>],\n",
       "       [<AxesSubplot:xlabel='금값', ylabel='달러 환율'>,\n",
       "        <AxesSubplot:xlabel='은값', ylabel='달러 환율'>,\n",
       "        <AxesSubplot:xlabel='달러 환율', ylabel='달러 환율'>]], dtype=object)"
      ]
     },
     "execution_count": 77,
     "metadata": {},
     "output_type": "execute_result"
    },
    {
     "data": {
      "image/png": "[encoded data removed]",
      "text/plain": [
       "<Figure size 720x576 with 9 Axes>"
      ]
     },
     "metadata": {
      "image/png": {
       "height": 501,
       "width": 624
      },
      "needs_background": "light"
     },
     "output_type": "display_data"
    }
   ],
   "source": [
    "pd.plotting.scatter_matrix(df.drop('일자', axis = 1))"
   ]
  },
  {
   "cell_type": "code",
   "execution_count": 78,
   "metadata": {},
   "outputs": [
    {
     "name": "stdout",
     "output_type": "stream",
     "text": [
      "(0.9718640116033496, 7.508878356557318e-18)\n",
      "(-0.6793266264341937, 7.033325258452259e-05)\n",
      "(-0.6954569556203559, 3.989042061957972e-05)\n"
     ]
    }
   ],
   "source": [
    "from scipy.stats import *\n",
    "print(pearsonr(df['금값'], df['은값']))\n",
    "print(pearsonr(df['금값'], df['달러 환율']))\n",
    "print(pearsonr(df['은값'], df['달러 환율']))"
   ]
  },
  {
   "cell_type": "code",
   "execution_count": 79,
   "metadata": {},
   "outputs": [
    {
     "name": "stdout",
     "output_type": "stream",
     "text": [
      "금값 ~ 은값: coef:0.9718640116033496, p-value: 7.508878356557318e-18\n",
      "금값 ~ 달러 환율: coef:-0.6793266264341937, p-value: 7.033325258452259e-05\n",
      "은값 ~ 달러 환율: coef:-0.6954569556203559, p-value: 3.989042061957972e-05\n"
     ]
    }
   ],
   "source": [
    "import itertools\n",
    "target_columns = ['금값', '은값', '달러 환율']\n",
    "for col1, col2 in itertools.combinations(target_columns, 2):\n",
    "    result = pearsonr(df[col1], df[col2])\n",
    "    print(\"{} ~ {}: coef:{}, p-value: {}\".format(col1, col2, result[0], result[1]))"
   ]
  },
  {
   "cell_type": "markdown",
   "metadata": {},
   "source": [
    "##### Spearman Correlation Coefficient"
   ]
  },
  {
   "cell_type": "code",
   "execution_count": 80,
   "metadata": {},
   "outputs": [
    {
     "name": "stdout",
     "output_type": "stream",
     "text": [
      "금값 ~ 은값: coef:0.9711235892228813, p-value: 1.0481280432981455e-17\n",
      "금값 ~ 달러 환율: coef:-0.5039075855936102, p-value: 0.006257468267109453\n",
      "은값 ~ 달러 환율: coef:-0.528106006718531, p-value: 0.003869997604824081\n"
     ]
    }
   ],
   "source": [
    "import itertools\n",
    "target_columns = ['금값', '은값', '달러 환율']\n",
    "for col1, col2 in itertools.combinations(target_columns, 2):\n",
    "    result = spearmanr(df[col1], df[col2])\n",
    "    print(\"{} ~ {}: coef:{}, p-value: {}\".format(col1, col2, result[0], result[1]))"
   ]
  },
  {
   "cell_type": "code",
   "execution_count": 81,
   "metadata": {},
   "outputs": [
    {
     "data": {
      "text/html": [
       "<div>\n",
       "<style scoped>\n",
       "    .dataframe tbody tr th:only-of-type {\n",
       "        vertical-align: middle;\n",
       "    }\n",
       "\n",
       "    .dataframe tbody tr th {\n",
       "        vertical-align: top;\n",
       "    }\n",
       "\n",
       "    .dataframe thead th {\n",
       "        text-align: right;\n",
       "    }\n",
       "</style>\n",
       "<table border=\"1\" class=\"dataframe\">\n",
       "  <thead>\n",
       "    <tr style=\"text-align: right;\">\n",
       "      <th></th>\n",
       "      <th>금값</th>\n",
       "      <th>은값</th>\n",
       "      <th>달러 환율</th>\n",
       "    </tr>\n",
       "  </thead>\n",
       "  <tbody>\n",
       "    <tr>\n",
       "      <th>금값</th>\n",
       "      <td>1.000000</td>\n",
       "      <td>0.971864</td>\n",
       "      <td>-0.679327</td>\n",
       "    </tr>\n",
       "    <tr>\n",
       "      <th>은값</th>\n",
       "      <td>0.971864</td>\n",
       "      <td>1.000000</td>\n",
       "      <td>-0.695457</td>\n",
       "    </tr>\n",
       "    <tr>\n",
       "      <th>달러 환율</th>\n",
       "      <td>-0.679327</td>\n",
       "      <td>-0.695457</td>\n",
       "      <td>1.000000</td>\n",
       "    </tr>\n",
       "  </tbody>\n",
       "</table>\n",
       "</div>"
      ],
      "text/plain": [
       "             금값        은값     달러 환율\n",
       "금값     1.000000  0.971864 -0.679327\n",
       "은값     0.971864  1.000000 -0.695457\n",
       "달러 환율 -0.679327 -0.695457  1.000000"
      ]
     },
     "execution_count": 81,
     "metadata": {},
     "output_type": "execute_result"
    }
   ],
   "source": [
    "df.drop('일자', axis = 1).corr(method = 'pearson')"
   ]
  },
  {
   "cell_type": "code",
   "execution_count": 82,
   "metadata": {},
   "outputs": [
    {
     "data": {
      "text/html": [
       "<div>\n",
       "<style scoped>\n",
       "    .dataframe tbody tr th:only-of-type {\n",
       "        vertical-align: middle;\n",
       "    }\n",
       "\n",
       "    .dataframe tbody tr th {\n",
       "        vertical-align: top;\n",
       "    }\n",
       "\n",
       "    .dataframe thead th {\n",
       "        text-align: right;\n",
       "    }\n",
       "</style>\n",
       "<table border=\"1\" class=\"dataframe\">\n",
       "  <thead>\n",
       "    <tr style=\"text-align: right;\">\n",
       "      <th></th>\n",
       "      <th>금값</th>\n",
       "      <th>은값</th>\n",
       "      <th>달러 환율</th>\n",
       "    </tr>\n",
       "  </thead>\n",
       "  <tbody>\n",
       "    <tr>\n",
       "      <th>금값</th>\n",
       "      <td>1.000000</td>\n",
       "      <td>0.971124</td>\n",
       "      <td>-0.503908</td>\n",
       "    </tr>\n",
       "    <tr>\n",
       "      <th>은값</th>\n",
       "      <td>0.971124</td>\n",
       "      <td>1.000000</td>\n",
       "      <td>-0.528106</td>\n",
       "    </tr>\n",
       "    <tr>\n",
       "      <th>달러 환율</th>\n",
       "      <td>-0.503908</td>\n",
       "      <td>-0.528106</td>\n",
       "      <td>1.000000</td>\n",
       "    </tr>\n",
       "  </tbody>\n",
       "</table>\n",
       "</div>"
      ],
      "text/plain": [
       "             금값        은값     달러 환율\n",
       "금값     1.000000  0.971124 -0.503908\n",
       "은값     0.971124  1.000000 -0.528106\n",
       "달러 환율 -0.503908 -0.528106  1.000000"
      ]
     },
     "execution_count": 82,
     "metadata": {},
     "output_type": "execute_result"
    }
   ],
   "source": [
    "df.drop('일자', axis = 1).corr(method = 'spearman')"
   ]
  },
  {
   "cell_type": "code",
   "execution_count": null,
   "metadata": {},
   "outputs": [],
   "source": []
  },
  {
   "cell_type": "markdown",
   "metadata": {},
   "source": [
    "## 카이제곱검정(Chi-Squared Test)"
   ]
  },
  {
   "cell_type": "markdown",
   "metadata": {},
   "source": [
    "- 두 범주형 변수가 서로 독립적인지를 검정 \n",
    "- H0: 두 변수가 서로 독립니다. H1 : 두 변수가 서로 종속된다. \n",
    "- 교차테이블로 시각화"
   ]
  },
  {
   "cell_type": "markdown",
   "metadata": {},
   "source": [
    "![2_27.png](../materials/2_27.png)\n",
    "![2_27.png](../materials/2_28.png)\n",
    "**검정색 값은 실제값. 빨간색 괄호 속 값은 기댓값.** 여기서의 기댓값은 바로 위 써있는 공식 보자. (i의 확률xj의 확률xN )\n",
    "\n",
    "\n",
    "![2_27.png](../materials/2_29.png)\n",
    "![2_27.png](../materials/2_30.png)"
   ]
  },
  {
   "cell_type": "code",
   "execution_count": 88,
   "metadata": {
    "scrolled": true
   },
   "outputs": [
    {
     "data": {
      "text/html": [
       "<div>\n",
       "<style scoped>\n",
       "    .dataframe tbody tr th:only-of-type {\n",
       "        vertical-align: middle;\n",
       "    }\n",
       "\n",
       "    .dataframe tbody tr th {\n",
       "        vertical-align: top;\n",
       "    }\n",
       "\n",
       "    .dataframe thead th {\n",
       "        text-align: right;\n",
       "    }\n",
       "</style>\n",
       "<table border=\"1\" class=\"dataframe\">\n",
       "  <thead>\n",
       "    <tr style=\"text-align: right;\">\n",
       "      <th></th>\n",
       "      <th>만족도</th>\n",
       "      <th>성별</th>\n",
       "    </tr>\n",
       "  </thead>\n",
       "  <tbody>\n",
       "    <tr>\n",
       "      <th>0</th>\n",
       "      <td>불만족</td>\n",
       "      <td>남성</td>\n",
       "    </tr>\n",
       "    <tr>\n",
       "      <th>1</th>\n",
       "      <td>보통</td>\n",
       "      <td>여성</td>\n",
       "    </tr>\n",
       "    <tr>\n",
       "      <th>2</th>\n",
       "      <td>불만족</td>\n",
       "      <td>여성</td>\n",
       "    </tr>\n",
       "    <tr>\n",
       "      <th>3</th>\n",
       "      <td>보통</td>\n",
       "      <td>남성</td>\n",
       "    </tr>\n",
       "    <tr>\n",
       "      <th>4</th>\n",
       "      <td>만족</td>\n",
       "      <td>여성</td>\n",
       "    </tr>\n",
       "  </tbody>\n",
       "</table>\n",
       "</div>"
      ],
      "text/plain": [
       "   만족도  성별\n",
       "0  불만족  남성\n",
       "1   보통  여성\n",
       "2  불만족  여성\n",
       "3   보통  남성\n",
       "4   만족  여성"
      ]
     },
     "execution_count": 88,
     "metadata": {},
     "output_type": "execute_result"
    }
   ],
   "source": [
    "import os\n",
    "import pandas as pd\n",
    "\n",
    "os.chdir(r\"/Users/sanghyuk/Documents/preprocessing_python/lecture_source/2. 탐색적 데이터 분석/데이터\")\n",
    "\n",
    "df = pd.read_csv(\"성별에따른만족도.csv\", engine = \"python\", encoding='CP949')\n",
    "df.head()"
   ]
  },
  {
   "cell_type": "code",
   "execution_count": 90,
   "metadata": {},
   "outputs": [
    {
     "data": {
      "text/html": [
       "<div>\n",
       "<style scoped>\n",
       "    .dataframe tbody tr th:only-of-type {\n",
       "        vertical-align: middle;\n",
       "    }\n",
       "\n",
       "    .dataframe tbody tr th {\n",
       "        vertical-align: top;\n",
       "    }\n",
       "\n",
       "    .dataframe thead th {\n",
       "        text-align: right;\n",
       "    }\n",
       "</style>\n",
       "<table border=\"1\" class=\"dataframe\">\n",
       "  <thead>\n",
       "    <tr style=\"text-align: right;\">\n",
       "      <th>성별</th>\n",
       "      <th>남성</th>\n",
       "      <th>여성</th>\n",
       "    </tr>\n",
       "    <tr>\n",
       "      <th>만족도</th>\n",
       "      <th></th>\n",
       "      <th></th>\n",
       "    </tr>\n",
       "  </thead>\n",
       "  <tbody>\n",
       "    <tr>\n",
       "      <th>만족</th>\n",
       "      <td>50</td>\n",
       "      <td>40</td>\n",
       "    </tr>\n",
       "    <tr>\n",
       "      <th>보통</th>\n",
       "      <td>40</td>\n",
       "      <td>30</td>\n",
       "    </tr>\n",
       "    <tr>\n",
       "      <th>불만족</th>\n",
       "      <td>10</td>\n",
       "      <td>30</td>\n",
       "    </tr>\n",
       "  </tbody>\n",
       "</table>\n",
       "</div>"
      ],
      "text/plain": [
       "성별   남성  여성\n",
       "만족도        \n",
       "만족   50  40\n",
       "보통   40  30\n",
       "불만족  10  30"
      ]
     },
     "execution_count": 90,
     "metadata": {},
     "output_type": "execute_result"
    }
   ],
   "source": [
    "# 교차 테이블 생성\n",
    "cross_table = pd.crosstab(df['만족도'], df['성별'])\n",
    "cross_table"
   ]
  },
  {
   "cell_type": "code",
   "execution_count": 91,
   "metadata": {
    "scrolled": true
   },
   "outputs": [
    {
     "data": {
      "text/plain": [
       "array([[50, 40],\n",
       "       [40, 30],\n",
       "       [10, 30]])"
      ]
     },
     "execution_count": 91,
     "metadata": {},
     "output_type": "execute_result"
    }
   ],
   "source": [
    "obs = cross_table.values\n",
    "obs"
   ]
  },
  {
   "cell_type": "code",
   "execution_count": 86,
   "metadata": {},
   "outputs": [
    {
     "name": "stdout",
     "output_type": "stream",
     "text": [
      "0.001892528960792166\n"
     ]
    }
   ],
   "source": [
    "from scipy.stats import *\n",
    "statistics, pvalue, dof, expected = chi2_contingency(obs)\n",
    "print(pvalue) # pvalue가 0.0018로 두 변수 간 독립이 아님을 확인"
   ]
  },
  {
   "cell_type": "code",
   "execution_count": 93,
   "metadata": {},
   "outputs": [
    {
     "data": {
      "text/plain": [
       "2"
      ]
     },
     "execution_count": 93,
     "metadata": {},
     "output_type": "execute_result"
    }
   ],
   "source": [
    "dof"
   ]
  },
  {
   "cell_type": "code",
   "execution_count": 92,
   "metadata": {},
   "outputs": [
    {
     "data": {
      "text/html": [
       "<div>\n",
       "<style scoped>\n",
       "    .dataframe tbody tr th:only-of-type {\n",
       "        vertical-align: middle;\n",
       "    }\n",
       "\n",
       "    .dataframe tbody tr th {\n",
       "        vertical-align: top;\n",
       "    }\n",
       "\n",
       "    .dataframe thead th {\n",
       "        text-align: right;\n",
       "    }\n",
       "</style>\n",
       "<table border=\"1\" class=\"dataframe\">\n",
       "  <thead>\n",
       "    <tr style=\"text-align: right;\">\n",
       "      <th>성별</th>\n",
       "      <th>남성</th>\n",
       "      <th>여성</th>\n",
       "    </tr>\n",
       "    <tr>\n",
       "      <th>만족도</th>\n",
       "      <th></th>\n",
       "      <th></th>\n",
       "    </tr>\n",
       "  </thead>\n",
       "  <tbody>\n",
       "    <tr>\n",
       "      <th>만족</th>\n",
       "      <td>45.0</td>\n",
       "      <td>45.0</td>\n",
       "    </tr>\n",
       "    <tr>\n",
       "      <th>보통</th>\n",
       "      <td>35.0</td>\n",
       "      <td>35.0</td>\n",
       "    </tr>\n",
       "    <tr>\n",
       "      <th>불만족</th>\n",
       "      <td>20.0</td>\n",
       "      <td>20.0</td>\n",
       "    </tr>\n",
       "  </tbody>\n",
       "</table>\n",
       "</div>"
      ],
      "text/plain": [
       "성별     남성    여성\n",
       "만족도            \n",
       "만족   45.0  45.0\n",
       "보통   35.0  35.0\n",
       "불만족  20.0  20.0"
      ]
     },
     "execution_count": 92,
     "metadata": {},
     "output_type": "execute_result"
    }
   ],
   "source": [
    "# 기대값\n",
    "pd.DataFrame(expected, columns = cross_table.columns, index = cross_table.index)"
   ]
  },
  {
   "cell_type": "code",
   "execution_count": null,
   "metadata": {},
   "outputs": [],
   "source": []
  },
  {
   "cell_type": "code",
   "execution_count": null,
   "metadata": {},
   "outputs": [],
   "source": []
  }
 ],
 "metadata": {
  "kernelspec": {
   "display_name": "Python 3",
   "language": "python",
   "name": "python3"
  },
  "language_info": {
   "codemirror_mode": {
    "name": "ipython",
    "version": 3
   },
   "file_extension": ".py",
   "mimetype": "text/x-python",
   "name": "python",
   "nbconvert_exporter": "python",
   "pygments_lexer": "ipython3",
   "version": "3.8.5"
  }
 },
 "nbformat": 4,
 "nbformat_minor": 2
}

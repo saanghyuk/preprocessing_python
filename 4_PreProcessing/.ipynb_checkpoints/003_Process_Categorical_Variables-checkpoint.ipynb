{
 "cells": [
  {
   "cell_type": "markdown",
   "metadata": {},
   "source": [
    "# 범주형 변수 처리"
   ]
  },
  {
   "cell_type": "markdown",
   "metadata": {},
   "source": [
    "- str타입으로 범주형 타입이 들어가 있으면, 당연히 학습이 될 수가 없다. \n",
    "- 그나마 이렇게 들어가도 정상적으로 학습되는 것은 트리계열밖에 없다. \n",
    "- 학습이 된다고 해도, 결과를 신뢰할 수 있는가?\n",
    "- 숫자로 변환을 해도, 적절한 숫자가 아니면 또 잘못 학습된다. "
   ]
  },
  {
   "attachments": {},
   "cell_type": "markdown",
   "metadata": {},
   "source": [
    "\n",
    "![4_37.png](../materials/4_37.png)"
   ]
  },
  {
   "cell_type": "markdown",
   "metadata": {},
   "source": [
    "범주형 변수 판단을 위해서는 \n",
    "\n",
    "- discrete하거나, 표본공간이 finite한 경우 범주형 변수로 판별한다. \n",
    "- 도메인 지식 활용도 필요하다. \n",
    "- 데이터 타입 보고 판단하는 것은 절대 말이 안된다. "
   ]
  },
  {
   "cell_type": "markdown",
   "metadata": {},
   "source": [
    "![4_37.png](../materials/4_38.png)"
   ]
  },
  {
   "cell_type": "markdown",
   "metadata": {},
   "source": [
    "가장 일반적인 방법인 더미화. \n",
    "1. one-hot 인코딩 해놓으면, 나머지 하나는 추론이 가능하므로, 계산량 감소를 위해 보통 제거한다. \n",
    "2. 오히려 제거를 안하면, 특징 간의 상관성이 완벽히 있어서 제거한다. `상관성 제거, 다중공선성 제거를 위해 제거한다는 생각이 옳은 접근`\n",
    "\n",
    "단점\n",
    "1. 차원 자체가 너무 커질 수 있다. 차원의 저주 문제로 이어질 수 있다. \n",
    "2. 데이터가 굉장히 sparse해 질 수 있다. 희소한 데이터와 연속형 변수가 섞여있는 matrix. 모델링이 쉽지 않을 수 있다. "
   ]
  },
  {
   "cell_type": "markdown",
   "metadata": {},
   "source": [
    "![4_37.png](../materials/4_39.png)"
   ]
  },
  {
   "cell_type": "markdown",
   "metadata": {},
   "source": [
    "- 연속형으로 바뀌면, 정보는 일부 손실되더라도, 차원의 저주 문제는 피할 수 있다. \n",
    "- 표본공간이 너무 크면 이 방법 고려해 봐야 한다. "
   ]
  },
  {
   "cell_type": "markdown",
   "metadata": {},
   "source": [
    "![4_37.png](../materials/4_40.png)"
   ]
  },
  {
   "cell_type": "markdown",
   "metadata": {},
   "source": [
    "![4_37.png](../materials/4_41.png)"
   ]
  },
  {
   "cell_type": "markdown",
   "metadata": {},
   "source": [
    "- variables에 들어간 컬럼은 반드시 str이여야 한다. \n",
    "- 마지막 변수 제거 여부. \n",
    "- top_categories : 한 범주 변수에 있는 카테고리가 100개면, 100개를 다 쓰기가 어려울 수도 있지. 그 중에 빈도 높은 상위 몇개만 쓰겠다 이런식으로 설정하는 것. \n",
    "    - docs : top_categories (int, default=None) – If None, a dummy variable will be created for each category of the variable. Alternatively, top_categories indicates the number of most frequent categories to encode. Dummy variables will be created only for those popular categories and the rest will be ignored. Note that this is equivalent to grouping all the remaining categories in one group. 상위 N개 제외하고, 나머지는 다 한 그룹으로 묶는다. \n",
    "\n"
   ]
  },
  {
   "cell_type": "markdown",
   "metadata": {},
   "source": [
    "![4_37.png](../materials/4_42.png)"
   ]
  },
  {
   "cell_type": "code",
   "execution_count": null,
   "metadata": {},
   "outputs": [],
   "source": []
  },
  {
   "cell_type": "code",
   "execution_count": null,
   "metadata": {},
   "outputs": [],
   "source": []
  },
  {
   "attachments": {},
   "cell_type": "markdown",
   "metadata": {},
   "source": [
    "[reference: curse of dimension](https://www.mygreatlearning.com/blog/understanding-curse-of-dimensionality/)\n",
    "\n",
    "Another facet of curse of dimensionality is ‘Distance Concentration’. Distance concentration refers to the problem of all the pairwise distances between different samples/points in the space converging to the same value as the dimensionality of the data increases. Several machine learning models such as clustering or nearest neighbours’ methods use distance-based metrics to identify similar or proximity of the samples. Due to distance concentration, the concept of proximity or similarity of the samples may not be qualitatively relevant in higher dimensions. Figure 3 shows this aspect graphically [1]. A fixed number of random points are generated from a uniform distribution on a ‘d’ dimensional torus. The ‘d’ here corresponds to the number of dimensions considered at a time.\n",
    "\n",
    "![4_43.png](../materials/4_43.png)\n",
    "![4_43.png](../materials/4_44.png)"
   ]
  },
  {
   "cell_type": "code",
   "execution_count": 2,
   "metadata": {},
   "outputs": [],
   "source": [
    "import pandas as pd\n",
    "import os\n",
    "os.chdir(r\"/Users/sanghyuk/Documents/preprocessing_python/lecture_source/Part 4. 머신러닝을 위한 필수 전처리/데이터/\")"
   ]
  },
  {
   "cell_type": "code",
   "execution_count": 3,
   "metadata": {},
   "outputs": [],
   "source": [
    "df = pd.read_csv(\"car-good.csv\")"
   ]
  },
  {
   "cell_type": "code",
   "execution_count": 4,
   "metadata": {},
   "outputs": [],
   "source": [
    "# 특징과 라벨 분리\n",
    "X = df.drop('Class', axis = 1)\n",
    "Y = df['Class']"
   ]
  },
  {
   "cell_type": "code",
   "execution_count": 5,
   "metadata": {},
   "outputs": [],
   "source": [
    "# 학습 데이터와 평가 데이터 분리\n",
    "from sklearn.model_selection import train_test_split\n",
    "Train_X, Test_X, Train_Y, Test_Y = train_test_split(X, Y)"
   ]
  },
  {
   "cell_type": "code",
   "execution_count": 6,
   "metadata": {
    "scrolled": true
   },
   "outputs": [
    {
     "data": {
      "text/plain": [
       "negative    630\n",
       "positive     18\n",
       "Name: Class, dtype: int64"
      ]
     },
     "execution_count": 6,
     "metadata": {},
     "output_type": "execute_result"
    }
   ],
   "source": [
    "Train_Y.value_counts()"
   ]
  },
  {
   "cell_type": "code",
   "execution_count": 7,
   "metadata": {},
   "outputs": [],
   "source": [
    "# 문자 라벨을 숫자로 치환 \n",
    "Train_Y.replace({\"negative\":-1, \"positive\":1}, inplace = True)\n",
    "Test_Y.replace({\"negative\":-1, \"positive\":1}, inplace = True)"
   ]
  },
  {
   "cell_type": "code",
   "execution_count": 8,
   "metadata": {
    "scrolled": true
   },
   "outputs": [
    {
     "data": {
      "text/html": [
       "<div>\n",
       "<style scoped>\n",
       "    .dataframe tbody tr th:only-of-type {\n",
       "        vertical-align: middle;\n",
       "    }\n",
       "\n",
       "    .dataframe tbody tr th {\n",
       "        vertical-align: top;\n",
       "    }\n",
       "\n",
       "    .dataframe thead th {\n",
       "        text-align: right;\n",
       "    }\n",
       "</style>\n",
       "<table border=\"1\" class=\"dataframe\">\n",
       "  <thead>\n",
       "    <tr style=\"text-align: right;\">\n",
       "      <th></th>\n",
       "      <th>Buying</th>\n",
       "      <th>Maint</th>\n",
       "      <th>Doors</th>\n",
       "      <th>Persons</th>\n",
       "      <th>Lug_boot</th>\n",
       "      <th>Safety</th>\n",
       "    </tr>\n",
       "  </thead>\n",
       "  <tbody>\n",
       "    <tr>\n",
       "      <th>533</th>\n",
       "      <td>med</td>\n",
       "      <td>high</td>\n",
       "      <td>4</td>\n",
       "      <td>4</td>\n",
       "      <td>small</td>\n",
       "      <td>high</td>\n",
       "    </tr>\n",
       "    <tr>\n",
       "      <th>114</th>\n",
       "      <td>vhigh</td>\n",
       "      <td>med</td>\n",
       "      <td>2</td>\n",
       "      <td>2</td>\n",
       "      <td>big</td>\n",
       "      <td>low</td>\n",
       "    </tr>\n",
       "    <tr>\n",
       "      <th>747</th>\n",
       "      <td>low</td>\n",
       "      <td>high</td>\n",
       "      <td>4</td>\n",
       "      <td>4</td>\n",
       "      <td>small</td>\n",
       "      <td>low</td>\n",
       "    </tr>\n",
       "    <tr>\n",
       "      <th>279</th>\n",
       "      <td>high</td>\n",
       "      <td>high</td>\n",
       "      <td>2</td>\n",
       "      <td>4</td>\n",
       "      <td>small</td>\n",
       "      <td>low</td>\n",
       "    </tr>\n",
       "    <tr>\n",
       "      <th>550</th>\n",
       "      <td>med</td>\n",
       "      <td>med</td>\n",
       "      <td>2</td>\n",
       "      <td>4</td>\n",
       "      <td>small</td>\n",
       "      <td>med</td>\n",
       "    </tr>\n",
       "  </tbody>\n",
       "</table>\n",
       "</div>"
      ],
      "text/plain": [
       "    Buying Maint  Doors  Persons Lug_boot Safety\n",
       "533    med  high      4        4    small   high\n",
       "114  vhigh   med      2        2      big    low\n",
       "747    low  high      4        4    small    low\n",
       "279   high  high      2        4    small    low\n",
       "550    med   med      2        4    small    med"
      ]
     },
     "execution_count": 8,
     "metadata": {},
     "output_type": "execute_result"
    }
   ],
   "source": [
    "Train_X.head() # Buying, Maint, Lug_boot, safety 변수가 범주형 변수로 판단됨"
   ]
  },
  {
   "cell_type": "code",
   "execution_count": 9,
   "metadata": {},
   "outputs": [
    {
     "name": "stdout",
     "output_type": "stream",
     "text": [
      "Buying 4\n",
      "Maint 4\n",
      "Doors 3\n",
      "Persons 2\n",
      "Lug_boot 3\n",
      "Safety 3\n"
     ]
    }
   ],
   "source": [
    "# 자세한 범주형 변수 판별 => 모든 변수가 범주형임을 확인\n",
    "# Doors, Persons같은 것을 조심해야 함. \n",
    "\n",
    "for col in Train_X.columns:\n",
    "    print(col, len(Train_X[col].unique()))"
   ]
  },
  {
   "cell_type": "markdown",
   "metadata": {},
   "source": [
    "#### 더미화를 이용한 범주 변수 처리"
   ]
  },
  {
   "cell_type": "code",
   "execution_count": 10,
   "metadata": {},
   "outputs": [],
   "source": [
    "Train_X = Train_X.astype(str) # 모든 변수가 범주이므로, 더미화를 위해 전부 string 타입으로 변환"
   ]
  },
  {
   "cell_type": "code",
   "execution_count": 17,
   "metadata": {},
   "outputs": [
    {
     "name": "stdout",
     "output_type": "stream",
     "text": [
      "Requirement already satisfied: feature-engine in /Users/sanghyuk/anaconda/envs/py38/lib/python3.8/site-packages (1.1.2)\n",
      "Requirement already satisfied: statsmodels>=0.11.1 in /Users/sanghyuk/anaconda/envs/py38/lib/python3.8/site-packages (from feature-engine) (0.12.0)\n",
      "Requirement already satisfied: scipy>=1.4.1 in /Users/sanghyuk/anaconda/envs/py38/lib/python3.8/site-packages (from feature-engine) (1.5.2)\n",
      "Requirement already satisfied: scikit-learn>=0.22.2 in /Users/sanghyuk/anaconda/envs/py38/lib/python3.8/site-packages (from feature-engine) (0.24.2)\n",
      "Requirement already satisfied: pandas>=1.0.3 in /Users/sanghyuk/anaconda/envs/py38/lib/python3.8/site-packages (from feature-engine) (1.1.3)\n",
      "Requirement already satisfied: numpy>=1.18.2 in /Users/sanghyuk/anaconda/envs/py38/lib/python3.8/site-packages (from feature-engine) (1.19.2)\n",
      "Requirement already satisfied: patsy>=0.5 in /Users/sanghyuk/anaconda/envs/py38/lib/python3.8/site-packages (from statsmodels>=0.11.1->feature-engine) (0.5.1)\n",
      "Requirement already satisfied: joblib>=0.11 in /Users/sanghyuk/anaconda/envs/py38/lib/python3.8/site-packages (from scikit-learn>=0.22.2->feature-engine) (0.17.0)\n",
      "Requirement already satisfied: threadpoolctl>=2.0.0 in /Users/sanghyuk/anaconda/envs/py38/lib/python3.8/site-packages (from scikit-learn>=0.22.2->feature-engine) (2.1.0)\n",
      "Requirement already satisfied: pytz>=2017.2 in /Users/sanghyuk/anaconda/envs/py38/lib/python3.8/site-packages (from pandas>=1.0.3->feature-engine) (2020.1)\n",
      "Requirement already satisfied: python-dateutil>=2.7.3 in /Users/sanghyuk/anaconda/envs/py38/lib/python3.8/site-packages (from pandas>=1.0.3->feature-engine) (2.8.1)\n",
      "Requirement already satisfied: six in /Users/sanghyuk/anaconda/envs/py38/lib/python3.8/site-packages (from patsy>=0.5->statsmodels>=0.11.1->feature-engine) (1.15.0)\n"
     ]
    }
   ],
   "source": [
    "# !pip3 install feature-engine\n",
    "!pip3 install feature-engine"
   ]
  },
  {
   "cell_type": "code",
   "execution_count": 21,
   "metadata": {
    "scrolled": true
   },
   "outputs": [],
   "source": [
    "from feature_engine.encoding import OneHotEncoder as OHE\n",
    "dummy_model = OHE(variables = Train_X.columns.tolist(),\n",
    "                 drop_last = True)\n",
    "\n",
    "dummy_model.fit(Train_X)\n",
    "\n",
    "d_Train_X = dummy_model.transform(Train_X)\n",
    "d_Test_X = dummy_model.transform(Test_X)"
   ]
  },
  {
   "cell_type": "code",
   "execution_count": 23,
   "metadata": {},
   "outputs": [
    {
     "data": {
      "text/html": [
       "<div>\n",
       "<style scoped>\n",
       "    .dataframe tbody tr th:only-of-type {\n",
       "        vertical-align: middle;\n",
       "    }\n",
       "\n",
       "    .dataframe tbody tr th {\n",
       "        vertical-align: top;\n",
       "    }\n",
       "\n",
       "    .dataframe thead th {\n",
       "        text-align: right;\n",
       "    }\n",
       "</style>\n",
       "<table border=\"1\" class=\"dataframe\">\n",
       "  <thead>\n",
       "    <tr style=\"text-align: right;\">\n",
       "      <th></th>\n",
       "      <th>Buying_med</th>\n",
       "      <th>Buying_vhigh</th>\n",
       "      <th>Buying_low</th>\n",
       "      <th>Maint_high</th>\n",
       "      <th>Maint_med</th>\n",
       "      <th>Maint_low</th>\n",
       "      <th>Doors_4</th>\n",
       "      <th>Doors_2</th>\n",
       "      <th>Persons_4</th>\n",
       "      <th>Lug_boot_small</th>\n",
       "      <th>Lug_boot_big</th>\n",
       "      <th>Safety_high</th>\n",
       "      <th>Safety_low</th>\n",
       "    </tr>\n",
       "  </thead>\n",
       "  <tbody>\n",
       "    <tr>\n",
       "      <th>533</th>\n",
       "      <td>1</td>\n",
       "      <td>0</td>\n",
       "      <td>0</td>\n",
       "      <td>1</td>\n",
       "      <td>0</td>\n",
       "      <td>0</td>\n",
       "      <td>1</td>\n",
       "      <td>0</td>\n",
       "      <td>1</td>\n",
       "      <td>1</td>\n",
       "      <td>0</td>\n",
       "      <td>1</td>\n",
       "      <td>0</td>\n",
       "    </tr>\n",
       "    <tr>\n",
       "      <th>114</th>\n",
       "      <td>0</td>\n",
       "      <td>1</td>\n",
       "      <td>0</td>\n",
       "      <td>0</td>\n",
       "      <td>1</td>\n",
       "      <td>0</td>\n",
       "      <td>0</td>\n",
       "      <td>1</td>\n",
       "      <td>0</td>\n",
       "      <td>0</td>\n",
       "      <td>1</td>\n",
       "      <td>0</td>\n",
       "      <td>1</td>\n",
       "    </tr>\n",
       "    <tr>\n",
       "      <th>747</th>\n",
       "      <td>0</td>\n",
       "      <td>0</td>\n",
       "      <td>1</td>\n",
       "      <td>1</td>\n",
       "      <td>0</td>\n",
       "      <td>0</td>\n",
       "      <td>1</td>\n",
       "      <td>0</td>\n",
       "      <td>1</td>\n",
       "      <td>1</td>\n",
       "      <td>0</td>\n",
       "      <td>0</td>\n",
       "      <td>1</td>\n",
       "    </tr>\n",
       "    <tr>\n",
       "      <th>279</th>\n",
       "      <td>0</td>\n",
       "      <td>0</td>\n",
       "      <td>0</td>\n",
       "      <td>1</td>\n",
       "      <td>0</td>\n",
       "      <td>0</td>\n",
       "      <td>0</td>\n",
       "      <td>1</td>\n",
       "      <td>1</td>\n",
       "      <td>1</td>\n",
       "      <td>0</td>\n",
       "      <td>0</td>\n",
       "      <td>1</td>\n",
       "    </tr>\n",
       "    <tr>\n",
       "      <th>550</th>\n",
       "      <td>1</td>\n",
       "      <td>0</td>\n",
       "      <td>0</td>\n",
       "      <td>0</td>\n",
       "      <td>1</td>\n",
       "      <td>0</td>\n",
       "      <td>0</td>\n",
       "      <td>1</td>\n",
       "      <td>1</td>\n",
       "      <td>1</td>\n",
       "      <td>0</td>\n",
       "      <td>0</td>\n",
       "      <td>0</td>\n",
       "    </tr>\n",
       "  </tbody>\n",
       "</table>\n",
       "</div>"
      ],
      "text/plain": [
       "     Buying_med  Buying_vhigh  Buying_low  Maint_high  Maint_med  Maint_low  \\\n",
       "533           1             0           0           1          0          0   \n",
       "114           0             1           0           0          1          0   \n",
       "747           0             0           1           1          0          0   \n",
       "279           0             0           0           1          0          0   \n",
       "550           1             0           0           0          1          0   \n",
       "\n",
       "     Doors_4  Doors_2  Persons_4  Lug_boot_small  Lug_boot_big  Safety_high  \\\n",
       "533        1        0          1               1             0            1   \n",
       "114        0        1          0               0             1            0   \n",
       "747        1        0          1               1             0            0   \n",
       "279        0        1          1               1             0            0   \n",
       "550        0        1          1               1             0            0   \n",
       "\n",
       "     Safety_low  \n",
       "533           0  \n",
       "114           1  \n",
       "747           1  \n",
       "279           1  \n",
       "550           0  "
      ]
     },
     "execution_count": 23,
     "metadata": {},
     "output_type": "execute_result"
    }
   ],
   "source": [
    "d_Train_X.head()"
   ]
  },
  {
   "cell_type": "code",
   "execution_count": 24,
   "metadata": {},
   "outputs": [
    {
     "data": {
      "text/plain": [
       "0.0"
      ]
     },
     "execution_count": 24,
     "metadata": {},
     "output_type": "execute_result"
    }
   ],
   "source": [
    "# 더미화를 한 뒤의 모델 테스트\n",
    "from sklearn.neighbors import KNeighborsClassifier as KNN\n",
    "model = KNN().fit(d_Train_X, Train_Y)\n",
    "pred_Y = model.predict(d_Test_X)\n",
    "\n",
    "from sklearn.metrics import f1_score\n",
    "f1_score(Test_Y, pred_Y)"
   ]
  },
  {
   "cell_type": "markdown",
   "metadata": {},
   "source": [
    "#### 연속형 변수로 치환"
   ]
  },
  {
   "cell_type": "code",
   "execution_count": 35,
   "metadata": {
    "scrolled": true
   },
   "outputs": [
    {
     "data": {
      "text/html": [
       "<div>\n",
       "<style scoped>\n",
       "    .dataframe tbody tr th:only-of-type {\n",
       "        vertical-align: middle;\n",
       "    }\n",
       "\n",
       "    .dataframe tbody tr th {\n",
       "        vertical-align: top;\n",
       "    }\n",
       "\n",
       "    .dataframe thead th {\n",
       "        text-align: right;\n",
       "    }\n",
       "</style>\n",
       "<table border=\"1\" class=\"dataframe\">\n",
       "  <thead>\n",
       "    <tr style=\"text-align: right;\">\n",
       "      <th></th>\n",
       "      <th>Buying</th>\n",
       "      <th>Maint</th>\n",
       "      <th>Doors</th>\n",
       "      <th>Persons</th>\n",
       "      <th>Lug_boot</th>\n",
       "      <th>Safety</th>\n",
       "      <th>Class</th>\n",
       "    </tr>\n",
       "  </thead>\n",
       "  <tbody>\n",
       "    <tr>\n",
       "      <th>533</th>\n",
       "      <td>med</td>\n",
       "      <td>high</td>\n",
       "      <td>4</td>\n",
       "      <td>4</td>\n",
       "      <td>small</td>\n",
       "      <td>high</td>\n",
       "      <td>-1</td>\n",
       "    </tr>\n",
       "    <tr>\n",
       "      <th>114</th>\n",
       "      <td>vhigh</td>\n",
       "      <td>med</td>\n",
       "      <td>2</td>\n",
       "      <td>2</td>\n",
       "      <td>big</td>\n",
       "      <td>low</td>\n",
       "      <td>-1</td>\n",
       "    </tr>\n",
       "    <tr>\n",
       "      <th>747</th>\n",
       "      <td>low</td>\n",
       "      <td>high</td>\n",
       "      <td>4</td>\n",
       "      <td>4</td>\n",
       "      <td>small</td>\n",
       "      <td>low</td>\n",
       "      <td>-1</td>\n",
       "    </tr>\n",
       "    <tr>\n",
       "      <th>279</th>\n",
       "      <td>high</td>\n",
       "      <td>high</td>\n",
       "      <td>2</td>\n",
       "      <td>4</td>\n",
       "      <td>small</td>\n",
       "      <td>low</td>\n",
       "      <td>-1</td>\n",
       "    </tr>\n",
       "    <tr>\n",
       "      <th>550</th>\n",
       "      <td>med</td>\n",
       "      <td>med</td>\n",
       "      <td>2</td>\n",
       "      <td>4</td>\n",
       "      <td>small</td>\n",
       "      <td>med</td>\n",
       "      <td>-1</td>\n",
       "    </tr>\n",
       "  </tbody>\n",
       "</table>\n",
       "</div>"
      ],
      "text/plain": [
       "    Buying Maint Doors Persons Lug_boot Safety  Class\n",
       "533    med  high     4       4    small   high     -1\n",
       "114  vhigh   med     2       2      big    low     -1\n",
       "747    low  high     4       4    small    low     -1\n",
       "279   high  high     2       4    small    low     -1\n",
       "550    med   med     2       4    small    med     -1"
      ]
     },
     "execution_count": 35,
     "metadata": {},
     "output_type": "execute_result"
    }
   ],
   "source": [
    "Train_df = pd.concat([Train_X, Train_Y], axis = 1)\n",
    "Train_df.head()"
   ]
  },
  {
   "cell_type": "code",
   "execution_count": 37,
   "metadata": {},
   "outputs": [
    {
     "name": "stdout",
     "output_type": "stream",
     "text": [
      "{'high': -1.0, 'low': -0.8571428571428571, 'med': -0.9141104294478528, 'vhigh': -1.0}\n",
      "{'high': -1.0, 'low': -0.8481012658227848, 'med': -0.927710843373494, 'vhigh': -1.0}\n",
      "{'2': -0.9380530973451328, '3': -0.9516908212560387, '4': -0.9441860465116279}\n",
      "{'2': -1.0, '4': -0.8905775075987842}\n",
      "{'big': -0.9509803921568627, 'med': -0.9317073170731708, 'small': -0.9497907949790795}\n",
      "{'high': -0.9033816425120773, 'low': -1.0, 'med': -0.9295154185022027}\n"
     ]
    },
    {
     "name": "stderr",
     "output_type": "stream",
     "text": [
      "<ipython-input-37-2ba417895d4f>:6: SettingWithCopyWarning: \n",
      "A value is trying to be set on a copy of a slice from a DataFrame.\n",
      "Try using .loc[row_indexer,col_indexer] = value instead\n",
      "\n",
      "See the caveats in the documentation: https://pandas.pydata.org/pandas-docs/stable/user_guide/indexing.html#returning-a-view-versus-a-copy\n",
      "  Test_X[col] = Test_X[col].astype(str).replace(temp_dict) # 테스트 데이터도 같이 치환해줘야 함 (나중에 활용하기 위해서는 저장도 필요)\n"
     ]
    }
   ],
   "source": [
    "Train_df = pd.concat([Train_X, Train_Y], axis = 1)\n",
    "for col in Train_X.columns: # 보통은 범주 변수만 순회\n",
    "    temp_dict = Train_df.groupby(col)['Class'].mean().to_dict() # col에 따른 Class의 평균을 나타내는 사전 (replace를 쓰기 위해, 사전으로 만듦)\n",
    "    print(temp_dict)\n",
    "    Train_df[col] = Train_df[col].replace(temp_dict) # 변수 치환    \n",
    "    Test_X[col] = Test_X[col].astype(str).replace(temp_dict) # 테스트 데이터도 같이 치환해줘야 함 (나중에 활용하기 위해서는 저장도 필요)"
   ]
  },
  {
   "cell_type": "code",
   "execution_count": 38,
   "metadata": {},
   "outputs": [
    {
     "data": {
      "text/html": [
       "<div>\n",
       "<style scoped>\n",
       "    .dataframe tbody tr th:only-of-type {\n",
       "        vertical-align: middle;\n",
       "    }\n",
       "\n",
       "    .dataframe tbody tr th {\n",
       "        vertical-align: top;\n",
       "    }\n",
       "\n",
       "    .dataframe thead th {\n",
       "        text-align: right;\n",
       "    }\n",
       "</style>\n",
       "<table border=\"1\" class=\"dataframe\">\n",
       "  <thead>\n",
       "    <tr style=\"text-align: right;\">\n",
       "      <th></th>\n",
       "      <th>Buying</th>\n",
       "      <th>Maint</th>\n",
       "      <th>Doors</th>\n",
       "      <th>Persons</th>\n",
       "      <th>Lug_boot</th>\n",
       "      <th>Safety</th>\n",
       "      <th>Class</th>\n",
       "    </tr>\n",
       "  </thead>\n",
       "  <tbody>\n",
       "    <tr>\n",
       "      <th>533</th>\n",
       "      <td>-0.914110</td>\n",
       "      <td>-1.000000</td>\n",
       "      <td>-0.944186</td>\n",
       "      <td>-0.890578</td>\n",
       "      <td>-0.949791</td>\n",
       "      <td>-0.903382</td>\n",
       "      <td>-1</td>\n",
       "    </tr>\n",
       "    <tr>\n",
       "      <th>114</th>\n",
       "      <td>-1.000000</td>\n",
       "      <td>-0.927711</td>\n",
       "      <td>-0.938053</td>\n",
       "      <td>-1.000000</td>\n",
       "      <td>-0.950980</td>\n",
       "      <td>-1.000000</td>\n",
       "      <td>-1</td>\n",
       "    </tr>\n",
       "    <tr>\n",
       "      <th>747</th>\n",
       "      <td>-0.857143</td>\n",
       "      <td>-1.000000</td>\n",
       "      <td>-0.944186</td>\n",
       "      <td>-0.890578</td>\n",
       "      <td>-0.949791</td>\n",
       "      <td>-1.000000</td>\n",
       "      <td>-1</td>\n",
       "    </tr>\n",
       "    <tr>\n",
       "      <th>279</th>\n",
       "      <td>-1.000000</td>\n",
       "      <td>-1.000000</td>\n",
       "      <td>-0.938053</td>\n",
       "      <td>-0.890578</td>\n",
       "      <td>-0.949791</td>\n",
       "      <td>-1.000000</td>\n",
       "      <td>-1</td>\n",
       "    </tr>\n",
       "    <tr>\n",
       "      <th>550</th>\n",
       "      <td>-0.914110</td>\n",
       "      <td>-0.927711</td>\n",
       "      <td>-0.938053</td>\n",
       "      <td>-0.890578</td>\n",
       "      <td>-0.949791</td>\n",
       "      <td>-0.929515</td>\n",
       "      <td>-1</td>\n",
       "    </tr>\n",
       "  </tbody>\n",
       "</table>\n",
       "</div>"
      ],
      "text/plain": [
       "       Buying     Maint     Doors   Persons  Lug_boot    Safety  Class\n",
       "533 -0.914110 -1.000000 -0.944186 -0.890578 -0.949791 -0.903382     -1\n",
       "114 -1.000000 -0.927711 -0.938053 -1.000000 -0.950980 -1.000000     -1\n",
       "747 -0.857143 -1.000000 -0.944186 -0.890578 -0.949791 -1.000000     -1\n",
       "279 -1.000000 -1.000000 -0.938053 -0.890578 -0.949791 -1.000000     -1\n",
       "550 -0.914110 -0.927711 -0.938053 -0.890578 -0.949791 -0.929515     -1"
      ]
     },
     "execution_count": 38,
     "metadata": {},
     "output_type": "execute_result"
    }
   ],
   "source": [
    "Train_df.head()"
   ]
  },
  {
   "cell_type": "code",
   "execution_count": 39,
   "metadata": {},
   "outputs": [],
   "source": [
    "Train_X = Train_df.drop('Class', axis = 1)\n",
    "Train_Y = Train_df['Class']"
   ]
  },
  {
   "cell_type": "code",
   "execution_count": 43,
   "metadata": {},
   "outputs": [
    {
     "data": {
      "text/html": [
       "<div>\n",
       "<style scoped>\n",
       "    .dataframe tbody tr th:only-of-type {\n",
       "        vertical-align: middle;\n",
       "    }\n",
       "\n",
       "    .dataframe tbody tr th {\n",
       "        vertical-align: top;\n",
       "    }\n",
       "\n",
       "    .dataframe thead th {\n",
       "        text-align: right;\n",
       "    }\n",
       "</style>\n",
       "<table border=\"1\" class=\"dataframe\">\n",
       "  <thead>\n",
       "    <tr style=\"text-align: right;\">\n",
       "      <th></th>\n",
       "      <th>Buying</th>\n",
       "      <th>Maint</th>\n",
       "      <th>Doors</th>\n",
       "      <th>Persons</th>\n",
       "      <th>Lug_boot</th>\n",
       "      <th>Safety</th>\n",
       "    </tr>\n",
       "  </thead>\n",
       "  <tbody>\n",
       "    <tr>\n",
       "      <th>533</th>\n",
       "      <td>-0.914110</td>\n",
       "      <td>-1.000000</td>\n",
       "      <td>-0.944186</td>\n",
       "      <td>-0.890578</td>\n",
       "      <td>-0.949791</td>\n",
       "      <td>-0.903382</td>\n",
       "    </tr>\n",
       "    <tr>\n",
       "      <th>114</th>\n",
       "      <td>-1.000000</td>\n",
       "      <td>-0.927711</td>\n",
       "      <td>-0.938053</td>\n",
       "      <td>-1.000000</td>\n",
       "      <td>-0.950980</td>\n",
       "      <td>-1.000000</td>\n",
       "    </tr>\n",
       "    <tr>\n",
       "      <th>747</th>\n",
       "      <td>-0.857143</td>\n",
       "      <td>-1.000000</td>\n",
       "      <td>-0.944186</td>\n",
       "      <td>-0.890578</td>\n",
       "      <td>-0.949791</td>\n",
       "      <td>-1.000000</td>\n",
       "    </tr>\n",
       "    <tr>\n",
       "      <th>279</th>\n",
       "      <td>-1.000000</td>\n",
       "      <td>-1.000000</td>\n",
       "      <td>-0.938053</td>\n",
       "      <td>-0.890578</td>\n",
       "      <td>-0.949791</td>\n",
       "      <td>-1.000000</td>\n",
       "    </tr>\n",
       "    <tr>\n",
       "      <th>550</th>\n",
       "      <td>-0.914110</td>\n",
       "      <td>-0.927711</td>\n",
       "      <td>-0.938053</td>\n",
       "      <td>-0.890578</td>\n",
       "      <td>-0.949791</td>\n",
       "      <td>-0.929515</td>\n",
       "    </tr>\n",
       "  </tbody>\n",
       "</table>\n",
       "</div>"
      ],
      "text/plain": [
       "       Buying     Maint     Doors   Persons  Lug_boot    Safety\n",
       "533 -0.914110 -1.000000 -0.944186 -0.890578 -0.949791 -0.903382\n",
       "114 -1.000000 -0.927711 -0.938053 -1.000000 -0.950980 -1.000000\n",
       "747 -0.857143 -1.000000 -0.944186 -0.890578 -0.949791 -1.000000\n",
       "279 -1.000000 -1.000000 -0.938053 -0.890578 -0.949791 -1.000000\n",
       "550 -0.914110 -0.927711 -0.938053 -0.890578 -0.949791 -0.929515"
      ]
     },
     "execution_count": 43,
     "metadata": {},
     "output_type": "execute_result"
    }
   ],
   "source": [
    "Train_X.head()"
   ]
  },
  {
   "cell_type": "code",
   "execution_count": 45,
   "metadata": {},
   "outputs": [
    {
     "data": {
      "text/html": [
       "<div>\n",
       "<style scoped>\n",
       "    .dataframe tbody tr th:only-of-type {\n",
       "        vertical-align: middle;\n",
       "    }\n",
       "\n",
       "    .dataframe tbody tr th {\n",
       "        vertical-align: top;\n",
       "    }\n",
       "\n",
       "    .dataframe thead th {\n",
       "        text-align: right;\n",
       "    }\n",
       "</style>\n",
       "<table border=\"1\" class=\"dataframe\">\n",
       "  <thead>\n",
       "    <tr style=\"text-align: right;\">\n",
       "      <th></th>\n",
       "      <th>Buying</th>\n",
       "      <th>Maint</th>\n",
       "      <th>Doors</th>\n",
       "      <th>Persons</th>\n",
       "      <th>Lug_boot</th>\n",
       "      <th>Safety</th>\n",
       "    </tr>\n",
       "  </thead>\n",
       "  <tbody>\n",
       "    <tr>\n",
       "      <th>842</th>\n",
       "      <td>-0.8571428571428571</td>\n",
       "      <td>-0.8481012658227848</td>\n",
       "      <td>-0.9516908212560387</td>\n",
       "      <td>-0.8905775075987842</td>\n",
       "      <td>-0.9317073170731708</td>\n",
       "      <td>-0.9033816425120773</td>\n",
       "    </tr>\n",
       "    <tr>\n",
       "      <th>651</th>\n",
       "      <td>-0.8571428571428571</td>\n",
       "      <td>-1.0</td>\n",
       "      <td>-0.9380530973451328</td>\n",
       "      <td>-1.0</td>\n",
       "      <td>-0.9317073170731708</td>\n",
       "      <td>-1.0</td>\n",
       "    </tr>\n",
       "    <tr>\n",
       "      <th>615</th>\n",
       "      <td>-0.9141104294478528</td>\n",
       "      <td>-0.8481012658227848</td>\n",
       "      <td>-0.9516908212560387</td>\n",
       "      <td>-1.0</td>\n",
       "      <td>-0.9317073170731708</td>\n",
       "      <td>-1.0</td>\n",
       "    </tr>\n",
       "    <tr>\n",
       "      <th>775</th>\n",
       "      <td>-0.8571428571428571</td>\n",
       "      <td>-0.927710843373494</td>\n",
       "      <td>-0.9516908212560387</td>\n",
       "      <td>-1.0</td>\n",
       "      <td>-0.9497907949790795</td>\n",
       "      <td>-0.9295154185022027</td>\n",
       "    </tr>\n",
       "    <tr>\n",
       "      <th>196</th>\n",
       "      <td>-1.0</td>\n",
       "      <td>-0.8481012658227848</td>\n",
       "      <td>-0.9516908212560387</td>\n",
       "      <td>-0.8905775075987842</td>\n",
       "      <td>-0.9509803921568627</td>\n",
       "      <td>-0.9295154185022027</td>\n",
       "    </tr>\n",
       "  </tbody>\n",
       "</table>\n",
       "</div>"
      ],
      "text/plain": [
       "                  Buying                Maint                Doors  \\\n",
       "842  -0.8571428571428571  -0.8481012658227848  -0.9516908212560387   \n",
       "651  -0.8571428571428571                 -1.0  -0.9380530973451328   \n",
       "615  -0.9141104294478528  -0.8481012658227848  -0.9516908212560387   \n",
       "775  -0.8571428571428571   -0.927710843373494  -0.9516908212560387   \n",
       "196                 -1.0  -0.8481012658227848  -0.9516908212560387   \n",
       "\n",
       "                 Persons             Lug_boot               Safety  \n",
       "842  -0.8905775075987842  -0.9317073170731708  -0.9033816425120773  \n",
       "651                 -1.0  -0.9317073170731708                 -1.0  \n",
       "615                 -1.0  -0.9317073170731708                 -1.0  \n",
       "775                 -1.0  -0.9497907949790795  -0.9295154185022027  \n",
       "196  -0.8905775075987842  -0.9509803921568627  -0.9295154185022027  "
      ]
     },
     "execution_count": 45,
     "metadata": {},
     "output_type": "execute_result"
    }
   ],
   "source": [
    "Test_X.head()"
   ]
  },
  {
   "cell_type": "code",
   "execution_count": 42,
   "metadata": {},
   "outputs": [
    {
     "data": {
      "text/plain": [
       "0.4761904761904762"
      ]
     },
     "execution_count": 42,
     "metadata": {},
     "output_type": "execute_result"
    }
   ],
   "source": [
    "# 치환한 뒤의 모델 테스트\n",
    "model = KNN().fit(Train_X, Train_Y)\n",
    "pred_Y = model.predict(Test_X)\n",
    "\n",
    "f1_score(Test_Y, pred_Y)\n",
    "\n",
    "\n",
    "# 라벨을 고려한 전처리이므로 더미화보다 좋은 결과가 나왔음 => 차원도 줄고 성능 상에 이점이 있으나, "
   ]
  },
  {
   "cell_type": "code",
   "execution_count": null,
   "metadata": {},
   "outputs": [],
   "source": []
  }
 ],
 "metadata": {
  "kernelspec": {
   "display_name": "Python 3",
   "language": "python",
   "name": "python3"
  },
  "language_info": {
   "codemirror_mode": {
    "name": "ipython",
    "version": 3
   },
   "file_extension": ".py",
   "mimetype": "text/x-python",
   "name": "python",
   "nbconvert_exporter": "python",
   "pygments_lexer": "ipython3",
   "version": "3.8.5"
  }
 },
 "nbformat": 4,
 "nbformat_minor": 2
}

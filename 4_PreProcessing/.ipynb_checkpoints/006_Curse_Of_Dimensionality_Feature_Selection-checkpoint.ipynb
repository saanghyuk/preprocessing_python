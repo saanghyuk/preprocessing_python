{
 "cells": [
  {
   "cell_type": "markdown",
   "metadata": {},
   "source": [
    "# 문제 정의"
   ]
  },
  {
   "cell_type": "markdown",
   "metadata": {},
   "source": [
    "- 차원 = 특징 수 \n",
    "- 차원이 커질수록, 시간복잡도가 기하급수적으로 증가한다.\n",
    "\n",
    "[Reference](https://oi.readthedocs.io/en/latest/ml/curse_of_dimensionality.html)\n",
    "\n",
    "\n",
    "\n",
    "그럼 차원의 저주가 어떤 문제를 일으키는 걸까? 예를 들어 데이터가 차원은 높은데 개수가 적고, 이 데이터를 학습하여 분류하는 모델이 있다고 해보자. 이런 경우에 이 모델은 주어진 데이터에 과대적합한 모델이 된다. 그 이유는 데이터의 차원이 높아 그만큼 데이터를 설명하는 변수의 수가 많은데 비해, 데이터의 개수가 적기 때문에 실제 데이터 차원에 해당하는 공간의 많은 경우를 확인할 수 없기 때문에 모델이 과도하게 학습 데이터에 적합된 학습을 할 수 밖에 없다."
   ]
  },
  {
   "cell_type": "markdown",
   "metadata": {},
   "source": [
    "![6_1.png](../materials/6_1.png)"
   ]
  },
  {
   "cell_type": "markdown",
   "metadata": {},
   "source": [
    "![6_1.png](../materials/6_2.png)"
   ]
  },
  {
   "cell_type": "code",
   "execution_count": null,
   "metadata": {},
   "outputs": [],
   "source": []
  },
  {
   "cell_type": "markdown",
   "metadata": {},
   "source": [
    "# 특징 선택"
   ]
  },
  {
   "cell_type": "markdown",
   "metadata": {},
   "source": [
    "![6_1.png](../materials/6_3.png)"
   ]
  },
  {
   "cell_type": "markdown",
   "metadata": {},
   "source": [
    "- 차원이 크지 않아도, 이 과정은 겪어야 한다. \n",
    "- 특징 선택을 했을때, 성능이 더 올라가는 경우도 매우 많다. \n",
    "- 하단 그래프, X축은 선택 특징 갯수"
   ]
  },
  {
   "cell_type": "markdown",
   "metadata": {},
   "source": [
    "![6_1.png](../materials/6_4.png)"
   ]
  },
  {
   "cell_type": "code",
   "execution_count": null,
   "metadata": {},
   "outputs": [],
   "source": []
  },
  {
   "cell_type": "markdown",
   "metadata": {},
   "source": [
    "### 주먹구구식 특징 선택\n",
    "\n",
    "특징이 매우 적은 경우에 쓸 수 있는 케이스"
   ]
  },
  {
   "cell_type": "markdown",
   "metadata": {},
   "source": [
    "![6_1.png](../materials/6_5.png)"
   ]
  },
  {
   "cell_type": "markdown",
   "metadata": {},
   "source": [
    "최적을 보장할 수 있지만, 400조년을 기다릴 순 없다. "
   ]
  },
  {
   "cell_type": "code",
   "execution_count": 1,
   "metadata": {},
   "outputs": [],
   "source": [
    "import os\n",
    "os.chdir(r\"/Users/sanghyuk/Documents/preprocessing_python/lecture_source/5. 머신러닝 모델의 성능 향상을 위한 전처리/데이터/\")"
   ]
  },
  {
   "cell_type": "code",
   "execution_count": 3,
   "metadata": {},
   "outputs": [],
   "source": [
    "import pandas as pd\n",
    "df = pd.read_csv(\"appendicitis.csv\")"
   ]
  },
  {
   "cell_type": "code",
   "execution_count": 4,
   "metadata": {},
   "outputs": [],
   "source": [
    "# 특징과 라벨 분리\n",
    "X = df.drop('Class', axis = 1)\n",
    "Y = df['Class']"
   ]
  },
  {
   "cell_type": "code",
   "execution_count": 5,
   "metadata": {},
   "outputs": [],
   "source": [
    "# 학습 데이터와 평가 데이터 분리\n",
    "from sklearn.model_selection import train_test_split\n",
    "Train_X, Test_X, Train_Y, Test_Y = train_test_split(X, Y)"
   ]
  },
  {
   "cell_type": "code",
   "execution_count": 6,
   "metadata": {},
   "outputs": [
    {
     "name": "stdout",
     "output_type": "stream",
     "text": [
      "0.5\n"
     ]
    }
   ],
   "source": [
    "# 특징에 따른 SVM 모델 테스트 함수 작성\n",
    "from sklearn.svm import SVC\n",
    "from sklearn.metrics import f1_score\n",
    "\n",
    "def feature_test(Train_X, Test_X, Train_Y, Test_Y, features):\n",
    "    s_Train_X = Train_X[features]\n",
    "    s_Test_X = Test_X[features]\n",
    "    \n",
    "    model = SVC().fit(s_Train_X, Train_Y)\n",
    "    pred_Y = model.predict(s_Test_X)    \n",
    "    return f1_score(Test_Y, pred_Y)\n",
    "\n",
    "base_score = feature_test(Train_X, Test_X, Train_Y, Test_Y, Train_X.columns) # 모든 특징을 썼을 때의 점수\n",
    "print(base_score)"
   ]
  },
  {
   "cell_type": "markdown",
   "metadata": {},
   "source": [
    "총 $2^7-1$개의 케이스가 가능함. "
   ]
  },
  {
   "cell_type": "code",
   "execution_count": 8,
   "metadata": {},
   "outputs": [
    {
     "data": {
      "text/plain": [
       "[1, 2, 3, 4, 5, 6]"
      ]
     },
     "execution_count": 8,
     "metadata": {},
     "output_type": "execute_result"
    }
   ],
   "source": [
    "list(range(1, len(Train_X.columns)))"
   ]
  },
  {
   "cell_type": "code",
   "execution_count": 7,
   "metadata": {},
   "outputs": [
    {
     "name": "stdout",
     "output_type": "stream",
     "text": [
      "1\n",
      "2\n",
      "3\n",
      "4\n",
      "5\n",
      "6\n"
     ]
    }
   ],
   "source": [
    "import itertools\n",
    "c_list = list(range(1, len(Train_X.columns)))\n",
    "outperform_ratio_list = []\n",
    "best_score = 0\n",
    "\n",
    "for c in range(1, len(Train_X.columns)): # c = 선택한 특징 개수\n",
    "    print(c)\n",
    "    c_num = 0 # 특징을 c개 뽑았을 때, 원본보다 성능이 좋은 경우\n",
    "    c_dem = 0 # 특징을 c개 뽑는 경우의 수\n",
    "    \n",
    "    for features in itertools.combinations(Train_X.columns, c):\n",
    "        score = feature_test(Train_X, Test_X, Train_Y, Test_Y, list(features)) # itertools은 tuple 형태로 값을 반환해서 형변환을 해준 것\n",
    "        if score > best_score:\n",
    "            best_score = score\n",
    "            best_feature = list(features)\n",
    "        \n",
    "        if score > base_score:\n",
    "            c_num += 1\n",
    "        c_dem += 1\n",
    "    \n",
    "    outperform_ratio_list.append(c_num / c_dem)"
   ]
  },
  {
   "cell_type": "code",
   "execution_count": 13,
   "metadata": {
    "scrolled": true
   },
   "outputs": [
    {
     "data": {
      "text/plain": [
       "[0.0, 0.23809523809523808, 0.2, 0.11428571428571428, 0.047619047619047616, 0.0]"
      ]
     },
     "execution_count": 13,
     "metadata": {},
     "output_type": "execute_result"
    }
   ],
   "source": [
    "outperform_ratio_list"
   ]
  },
  {
   "cell_type": "code",
   "execution_count": 11,
   "metadata": {
    "scrolled": true
   },
   "outputs": [
    {
     "data": {
      "text/plain": [
       "<BarContainer object of 6 artists>"
      ]
     },
     "execution_count": 11,
     "metadata": {},
     "output_type": "execute_result"
    },
    {
     "data": {
      "image/png": "[encoded data removed]",
      "text/plain": [
       "<Figure size 432x288 with 1 Axes>"
      ]
     },
     "metadata": {
      "image/png": {
       "height": 255,
       "width": 380
      },
      "needs_background": "light"
     },
     "output_type": "display_data"
    }
   ],
   "source": [
    "%matplotlib inline\n",
    "from matplotlib import pyplot as plt\n",
    "plt.bar(c_list, outperform_ratio_list)"
   ]
  },
  {
   "cell_type": "code",
   "execution_count": 17,
   "metadata": {},
   "outputs": [
    {
     "data": {
      "text/plain": [
       "(['At1', 'At6'], 0.5714285714285715)"
      ]
     },
     "execution_count": 17,
     "metadata": {},
     "output_type": "execute_result"
    }
   ],
   "source": [
    "best_feature, best_score"
   ]
  },
  {
   "cell_type": "code",
   "execution_count": null,
   "metadata": {},
   "outputs": [],
   "source": []
  },
  {
   "cell_type": "markdown",
   "metadata": {},
   "source": [
    "## 필터링 기반 특징 선택"
   ]
  },
  {
   "cell_type": "markdown",
   "metadata": {},
   "source": [
    "- 클래스 관련성 : feature와 label이 얼마나 관련있는지를 나타내는 통계량"
   ]
  },
  {
   "cell_type": "markdown",
   "metadata": {},
   "source": [
    "![6_1.png](../materials/6_6.png)"
   ]
  },
  {
   "cell_type": "markdown",
   "metadata": {},
   "source": [
    "특징과 라벨이 독립적이면 아예 라벨 예측에 도움이 안되겠지. \n",
    "- 수학에서 배운, **Conditional Entropy**도 동일한 개념. \n",
    "- Mutual Information도 가능. "
   ]
  },
  {
   "cell_type": "markdown",
   "metadata": {},
   "source": [
    "![6_1.png](../materials/6_7.png)"
   ]
  },
  {
   "cell_type": "markdown",
   "metadata": {},
   "source": [
    "### F 통계량 사용"
   ]
  },
  {
   "cell_type": "markdown",
   "metadata": {},
   "source": [
    "- F통계량은 3개 이상의 집단간 평균 차이를 확인하기 위한 ANOVA에서 쓰던 통계량. \n",
    "- 이거 아이디어 **신박하다**. \n",
    "- 지금 아래가 무슨 말이냐면, 같은 x1이라는 값을 labeld별로 다 묶은 것. 그리고 걔네 사이에서 평균 차이가 있는지 ANOVA를 해보는 거야. 근데 x1이 y의 class별로 묶어도 각 클래스에 따라서 y값이 별로 차이가 안나(즉, F통계량이 별로 안높아)? 그럼 도움이 안된다는 소리지. \n",
    "\n",
    "\n",
    "- 근데 신기한게, F통계량은 feature가 continuous일때만 쓸 수 있네? 왜 그럴까? 애초에 F통계량이라는 것 자체가, 평균과 분산을 구하는 것(집단 간 분산, 집단 내 분산 등)이라서 계산을 하려면 연속형이여야 함. "
   ]
  },
  {
   "cell_type": "markdown",
   "metadata": {},
   "source": [
    "![6_1.png](../materials/6_8.png)"
   ]
  },
  {
   "cell_type": "markdown",
   "metadata": {},
   "source": [
    "- 위에서 F-통계량이라고 설명한 것은, label이 이진이고, feature가 continuous일때. \n",
    "- 그런데, label과 feature가 둘다, 연속형일때 쓰는 f_regression이라는게 있네. \n",
    "    - 어떻게 하는 걸까? 위의 논리 대로면 이해가 안되잖아. \n",
    "    - [reference](https://machinelearningmastery.com/feature-selection-for-regression-data/)\n",
    "    - 정확히는 모르겠지만, 그냥 각 변수별로, X와 Y사이의 correlation측정하는 것이라고 써 있음. \n",
    "    - The correlation between each regressor and the target is computed, that is, ((X[:, i] — mean(X[:, i])) * (y — mean_y)) / (std(X[:, i]) * std(y)).\n",
    "    - It is converted to an F score then to a p-value.\n"
   ]
  },
  {
   "cell_type": "code",
   "execution_count": 48,
   "metadata": {},
   "outputs": [
    {
     "name": "stderr",
     "output_type": "stream",
     "text": [
      "/Users/sanghyuk/anaconda/envs/py38/lib/python3.8/site-packages/sklearn/utils/validation.py:63: DataConversionWarning: A column-vector y was passed when a 1d array was expected. Please change the shape of y to (n_samples, ), for example using ravel().\n",
      "  return f(*args, **kwargs)\n"
     ]
    },
    {
     "data": {
      "text/plain": [
       "(array([319.87533957]), array([8.48185121e-44]))"
      ]
     },
     "execution_count": 48,
     "metadata": {},
     "output_type": "execute_result"
    }
   ],
   "source": [
    "from sklearn.feature_selection import f_regression\n",
    "f_regression(np.array(X.iloc[:, 1]).reshape(-1, 1), np.array(X.iloc[:, 2]).reshape(-1, 1))\n",
    "\n",
    "# 이거 그냥 회귀만들어놓고 회귀분석에서의 F검정 하는거네, 회귀계수 = 0 을 얼마나 빡쎄게 반박하는지로 찾는 것. "
   ]
  },
  {
   "cell_type": "markdown",
   "metadata": {},
   "source": [
    "![6_1.png](../materials/6_9.png)"
   ]
  },
  {
   "cell_type": "markdown",
   "metadata": {},
   "source": [
    "![6_1.png](../materials/6_10.png)"
   ]
  },
  {
   "cell_type": "code",
   "execution_count": null,
   "metadata": {},
   "outputs": [],
   "source": []
  },
  {
   "cell_type": "markdown",
   "metadata": {},
   "source": [
    "# 모든 특징 유형이 같은 경우의 특징 선택"
   ]
  },
  {
   "cell_type": "code",
   "execution_count": 49,
   "metadata": {},
   "outputs": [],
   "source": [
    "import os\n",
    "import pandas as pd\n",
    "\n",
    "os.chdir(r\"/Users/sanghyuk/Documents/preprocessing_python/lecture_source/5. 머신러닝 모델의 성능 향상을 위한 전처리/데이터/\")"
   ]
  },
  {
   "cell_type": "code",
   "execution_count": 50,
   "metadata": {},
   "outputs": [],
   "source": [
    "df = pd.read_csv(\"Sonar_Mines_Rocks.csv\")"
   ]
  },
  {
   "cell_type": "code",
   "execution_count": 51,
   "metadata": {},
   "outputs": [],
   "source": [
    "# 특징과 라벨 분리\n",
    "X = df.drop('Y', axis = 1)\n",
    "Y = df['Y']"
   ]
  },
  {
   "cell_type": "code",
   "execution_count": 52,
   "metadata": {},
   "outputs": [],
   "source": [
    "Y.replace({\"M\":-1, \"R\":1}, inplace = True)"
   ]
  },
  {
   "cell_type": "code",
   "execution_count": 53,
   "metadata": {},
   "outputs": [],
   "source": [
    "# 학습 데이터와 평가 데이터 분리\n",
    "from sklearn.model_selection import train_test_split\n",
    "Train_X, Test_X, Train_Y, Test_Y = train_test_split(X, Y)"
   ]
  },
  {
   "cell_type": "code",
   "execution_count": 55,
   "metadata": {},
   "outputs": [
    {
     "data": {
      "text/plain": [
       "(156, 60)"
      ]
     },
     "execution_count": 55,
     "metadata": {},
     "output_type": "execute_result"
    }
   ],
   "source": [
    "Train_X.shape # 샘플 대비 특징이 매우 많음 => 특징 선택 필요"
   ]
  },
  {
   "cell_type": "code",
   "execution_count": 56,
   "metadata": {},
   "outputs": [
    {
     "name": "stdout",
     "output_type": "stream",
     "text": [
      "0.8749999999999999\n"
     ]
    }
   ],
   "source": [
    "# 특징 선택 전 성능 확인\n",
    "from sklearn.neighbors import KNeighborsClassifier as KNN\n",
    "model = KNN().fit(Train_X, Train_Y)\n",
    "pred_Y = model.predict(Test_X)\n",
    "\n",
    "from sklearn.metrics import f1_score\n",
    "print(f1_score(Test_Y, pred_Y))"
   ]
  },
  {
   "cell_type": "code",
   "execution_count": 23,
   "metadata": {
    "scrolled": true
   },
   "outputs": [
    {
     "name": "stdout",
     "output_type": "stream",
     "text": [
      "<class 'pandas.core.frame.DataFrame'>\n",
      "RangeIndex: 208 entries, 0 to 207\n",
      "Data columns (total 60 columns):\n",
      " #   Column  Non-Null Count  Dtype  \n",
      "---  ------  --------------  -----  \n",
      " 0   Band1   208 non-null    float64\n",
      " 1   Band2   208 non-null    float64\n",
      " 2   Band3   208 non-null    float64\n",
      " 3   Band4   208 non-null    float64\n",
      " 4   Band5   208 non-null    float64\n",
      " 5   Band6   208 non-null    float64\n",
      " 6   Band7   208 non-null    float64\n",
      " 7   Band8   208 non-null    float64\n",
      " 8   Band9   208 non-null    float64\n",
      " 9   Band10  208 non-null    float64\n",
      " 10  Band11  208 non-null    float64\n",
      " 11  Band12  208 non-null    float64\n",
      " 12  Band13  208 non-null    float64\n",
      " 13  Band14  208 non-null    float64\n",
      " 14  Band15  208 non-null    float64\n",
      " 15  Band16  208 non-null    float64\n",
      " 16  Band17  208 non-null    float64\n",
      " 17  Band18  208 non-null    float64\n",
      " 18  Band19  208 non-null    float64\n",
      " 19  Band20  208 non-null    float64\n",
      " 20  Band21  208 non-null    float64\n",
      " 21  Band22  208 non-null    float64\n",
      " 22  Band23  208 non-null    float64\n",
      " 23  Band24  208 non-null    float64\n",
      " 24  Band25  208 non-null    float64\n",
      " 25  Band26  208 non-null    float64\n",
      " 26  Band27  208 non-null    float64\n",
      " 27  Band28  208 non-null    float64\n",
      " 28  Band29  208 non-null    float64\n",
      " 29  Band30  208 non-null    float64\n",
      " 30  Band31  208 non-null    float64\n",
      " 31  Band32  208 non-null    float64\n",
      " 32  Band33  208 non-null    float64\n",
      " 33  Band34  208 non-null    float64\n",
      " 34  Band35  208 non-null    float64\n",
      " 35  Band36  208 non-null    float64\n",
      " 36  Band37  208 non-null    float64\n",
      " 37  Band38  208 non-null    float64\n",
      " 38  Band39  208 non-null    float64\n",
      " 39  Band40  208 non-null    float64\n",
      " 40  Band41  208 non-null    float64\n",
      " 41  Band42  208 non-null    float64\n",
      " 42  Band43  208 non-null    float64\n",
      " 43  Band44  208 non-null    float64\n",
      " 44  Band45  208 non-null    float64\n",
      " 45  Band46  208 non-null    float64\n",
      " 46  Band47  208 non-null    float64\n",
      " 47  Band48  208 non-null    float64\n",
      " 48  Band49  208 non-null    float64\n",
      " 49  Band50  208 non-null    float64\n",
      " 50  Band51  208 non-null    float64\n",
      " 51  Band52  208 non-null    float64\n",
      " 52  Band53  208 non-null    float64\n",
      " 53  Band54  208 non-null    float64\n",
      " 54  Band55  208 non-null    float64\n",
      " 55  Band56  208 non-null    float64\n",
      " 56  Band57  208 non-null    float64\n",
      " 57  Band58  208 non-null    float64\n",
      " 58  Band59  208 non-null    float64\n",
      " 59  Band60  208 non-null    float64\n",
      "dtypes: float64(60)\n",
      "memory usage: 97.6 KB\n"
     ]
    }
   ],
   "source": [
    "X.info()"
   ]
  },
  {
   "cell_type": "code",
   "execution_count": 57,
   "metadata": {},
   "outputs": [],
   "source": [
    "# 특징 선택 수행\n",
    "from sklearn.feature_selection import *\n",
    "selector = SelectKBest(f_classif, k = 30)\n",
    "selector.fit(Train_X, Train_Y)\n",
    "selected_features = Train_X.columns[selector.get_support()]\n",
    "\n",
    "s_Train_X = pd.DataFrame(selector.transform(Train_X), columns = selected_features)\n",
    "s_Test_X = pd.DataFrame(selector.transform(Test_X), columns = selected_features)\n",
    "\n",
    "# s_Train_X = Train_X[selected_features]\n",
    "# s_Test_X = Test_X[selected_features]"
   ]
  },
  {
   "cell_type": "code",
   "execution_count": 59,
   "metadata": {
    "scrolled": true
   },
   "outputs": [
    {
     "data": {
      "text/plain": [
       "array([1.15191327e-03, 2.59310380e-02, 2.58931038e-02, 2.10616838e-04,\n",
       "       1.74566806e-04, 1.07538894e-01, 2.76858874e-01, 1.84320915e-02,\n",
       "       7.06464381e-05, 7.91787273e-06, 4.50594942e-09, 2.51153948e-08,\n",
       "       2.31319958e-05, 2.83109034e-02, 2.72740453e-01, 4.01461186e-01,\n",
       "       6.23772230e-01, 5.02411109e-01, 5.22516808e-02, 2.93018146e-03,\n",
       "       2.95325610e-03, 2.30646670e-02, 2.00125877e-01, 6.60341298e-01,\n",
       "       7.11094685e-01, 7.45460860e-01, 6.89304875e-01, 4.84666689e-01,\n",
       "       7.06509164e-01, 9.09971400e-01, 1.18357265e-01, 3.51580702e-01,\n",
       "       1.34375378e-01, 2.96132904e-02, 2.08825611e-03, 1.10025416e-04,\n",
       "       1.51123064e-03, 2.82370602e-01, 7.03086618e-01, 6.44261867e-01,\n",
       "       7.35160153e-01, 3.25820034e-02, 8.61680804e-03, 1.09637411e-02,\n",
       "       4.97223620e-04, 7.83112882e-04, 5.74903951e-04, 4.13852494e-05,\n",
       "       5.94545805e-05, 1.19666982e-01, 5.93946313e-05, 4.05419984e-04,\n",
       "       1.69869701e-01, 1.15339518e-01, 2.96252611e-01, 1.47941329e-01,\n",
       "       8.52645860e-01, 8.24580278e-03, 7.66270702e-02, 1.16979806e-01])"
      ]
     },
     "execution_count": 59,
     "metadata": {},
     "output_type": "execute_result"
    }
   ],
   "source": [
    "selector.pvalues_"
   ]
  },
  {
   "cell_type": "code",
   "execution_count": 58,
   "metadata": {},
   "outputs": [
    {
     "name": "stdout",
     "output_type": "stream",
     "text": [
      "0.8444444444444444\n"
     ]
    }
   ],
   "source": [
    "# 특징 선택 후 성능 확인\n",
    "from sklearn.neighbors import KNeighborsClassifier as KNN\n",
    "model = KNN().fit(s_Train_X, Train_Y)\n",
    "pred_Y = model.predict(s_Test_X)\n",
    "\n",
    "from sklearn.metrics import f1_score\n",
    "print(f1_score(Test_Y, pred_Y))"
   ]
  },
  {
   "cell_type": "markdown",
   "metadata": {},
   "source": [
    "score는 줄었어도, 계산량은 엄청나게 줄어든 거야. "
   ]
  },
  {
   "cell_type": "code",
   "execution_count": null,
   "metadata": {},
   "outputs": [],
   "source": []
  },
  {
   "cell_type": "code",
   "execution_count": null,
   "metadata": {},
   "outputs": [],
   "source": []
  },
  {
   "cell_type": "code",
   "execution_count": 61,
   "metadata": {},
   "outputs": [
    {
     "name": "stdout",
     "output_type": "stream",
     "text": [
      "0.8636363636363636 20\n"
     ]
    }
   ],
   "source": [
    "# 특징 개수 튜닝\n",
    "best_score = 0\n",
    "for k in range(5, 50, 5):    \n",
    "    selector = SelectKBest(f_classif, k = k)\n",
    "    selector.fit(Train_X, Train_Y)\n",
    "    selected_features = Train_X.columns[selector.get_support()]\n",
    "\n",
    "    s_Train_X = pd.DataFrame(selector.transform(Train_X), columns = selected_features)\n",
    "    s_Test_X = pd.DataFrame(selector.transform(Test_X), columns = selected_features)   \n",
    "    \n",
    "    model = KNN().fit(s_Train_X, Train_Y)\n",
    "    pred_Y = model.predict(s_Test_X)\n",
    "    score = f1_score(Test_Y, pred_Y)\n",
    "    if score > best_score:\n",
    "        best_score = score\n",
    "        best_k = k \n",
    "\n",
    "print(best_score, best_k)"
   ]
  },
  {
   "cell_type": "code",
   "execution_count": null,
   "metadata": {},
   "outputs": [],
   "source": []
  },
  {
   "cell_type": "code",
   "execution_count": null,
   "metadata": {},
   "outputs": [],
   "source": []
  },
  {
   "cell_type": "markdown",
   "metadata": {},
   "source": [
    "# 특징 유형이 다른 경우의 특징 선택"
   ]
  },
  {
   "cell_type": "code",
   "execution_count": 62,
   "metadata": {},
   "outputs": [],
   "source": [
    "import os\n",
    "import pandas as pd\n",
    "\n",
    "os.chdir(r\"/Users/sanghyuk/Documents/preprocessing_python/lecture_source/5. 머신러닝 모델의 성능 향상을 위한 전처리/데이터/\")"
   ]
  },
  {
   "cell_type": "code",
   "execution_count": 63,
   "metadata": {},
   "outputs": [],
   "source": [
    "df = pd.read_csv(\"australian.csv\")"
   ]
  },
  {
   "cell_type": "code",
   "execution_count": 64,
   "metadata": {},
   "outputs": [],
   "source": [
    "# 특징과 라벨 분리\n",
    "X = df.drop('Class', axis = 1)\n",
    "Y = df['Class']"
   ]
  },
  {
   "cell_type": "code",
   "execution_count": 65,
   "metadata": {},
   "outputs": [],
   "source": [
    "# 학습 데이터와 평가 데이터 분리\n",
    "from sklearn.model_selection import train_test_split\n",
    "Train_X, Test_X, Train_Y, Test_Y = train_test_split(X, Y)"
   ]
  },
  {
   "cell_type": "code",
   "execution_count": 66,
   "metadata": {},
   "outputs": [
    {
     "data": {
      "text/plain": [
       "(517, 14)"
      ]
     },
     "execution_count": 66,
     "metadata": {},
     "output_type": "execute_result"
    }
   ],
   "source": [
    "Train_X.shape # 샘플 대비 특징이 약간 더 많은 정도"
   ]
  },
  {
   "cell_type": "code",
   "execution_count": 67,
   "metadata": {},
   "outputs": [
    {
     "name": "stdout",
     "output_type": "stream",
     "text": [
      "0.5777777777777778\n"
     ]
    }
   ],
   "source": [
    "# 특징 선택 전 성능 확인\n",
    "from sklearn.neighbors import KNeighborsClassifier as KNN\n",
    "model = KNN().fit(Train_X, Train_Y)\n",
    "pred_Y = model.predict(Test_X)\n",
    "\n",
    "from sklearn.metrics import f1_score\n",
    "print(f1_score(Test_Y, pred_Y))"
   ]
  },
  {
   "cell_type": "code",
   "execution_count": 68,
   "metadata": {},
   "outputs": [],
   "source": [
    "# 유니크한 값의 개수를 바탕으로 연속형과 이진형 변수 구분\n",
    "continuous_cols = [col for col in Train_X.columns if len(Train_X[col].unique()) > 3]\n",
    "binary_cols = [col for col in Train_X.columns if len(Train_X[col].unique()) <= 3]"
   ]
  },
  {
   "cell_type": "code",
   "execution_count": 70,
   "metadata": {},
   "outputs": [
    {
     "data": {
      "text/plain": [
       "array([7.49036943e-03, 4.98877043e-01, 1.72548338e-21, 7.01514252e-11,\n",
       "       7.05331588e-05, 1.55604753e-19, 2.31709194e-02, 6.16410605e-05])"
      ]
     },
     "execution_count": 70,
     "metadata": {},
     "output_type": "execute_result"
    }
   ],
   "source": [
    "# 연속형 변수에 대해서는 f_classif을, 이진형 변수에 대해서는 chi2를 적용\n",
    "from sklearn.feature_selection import *\n",
    "\n",
    "# f_regression(X, Y) => (statistics, p-value)\n",
    "# 통계량과 p-value가 나오니깐, 그 중에 p-value를 뽑는 과정\n",
    "continous_cols_pvals = f_classif(Train_X[continuous_cols], Train_Y)[1]\n",
    "binary_cols_pvals = chi2(Train_X[binary_cols], Train_Y)[1]\n",
    "\n",
    "continous_cols_pvals"
   ]
  },
  {
   "cell_type": "code",
   "execution_count": 71,
   "metadata": {},
   "outputs": [
    {
     "data": {
      "text/plain": [
       " A2     7.490369e-03\n",
       " A3     4.988770e-01\n",
       " A5     1.725483e-21\n",
       " A6     7.015143e-11\n",
       " A7     7.053316e-05\n",
       " A10    1.556048e-19\n",
       " A13    2.317092e-02\n",
       " A14    6.164106e-05\n",
       "dtype: float64"
      ]
     },
     "execution_count": 71,
     "metadata": {},
     "output_type": "execute_result"
    }
   ],
   "source": [
    "# 각각을 Series로 변환 (value: pvalue, index: colum name)\n",
    "cont_pvals = pd.Series(continous_cols_pvals, index = continuous_cols)\n",
    "binary_pvals = pd.Series(binary_cols_pvals, index = binary_cols)\n",
    "\n",
    "cont_pvals"
   ]
  },
  {
   "cell_type": "code",
   "execution_count": 72,
   "metadata": {},
   "outputs": [],
   "source": [
    "# cont_pvals과 binary_pvals을 합친 뒤, 오름차순으로 정렬 (앞에 나오는 특징부터 좋은 특징)\n",
    "pvals = pd.concat([cont_pvals, binary_pvals])\n",
    "pvals.sort_values(ascending = True, inplace = True)"
   ]
  },
  {
   "cell_type": "code",
   "execution_count": 73,
   "metadata": {},
   "outputs": [
    {
     "data": {
      "text/plain": [
       " A8     6.735940e-29\n",
       " A5     1.725483e-21\n",
       " A10    1.556048e-19\n",
       " A9     5.997887e-15\n",
       " A6     7.015143e-11\n",
       " A14    6.164106e-05\n",
       " A7     7.053316e-05\n",
       " A2     7.490369e-03\n",
       " A13    2.317092e-02\n",
       " A4     1.503726e-01\n",
       " A11    3.636740e-01\n",
       " A3     4.988770e-01\n",
       " A12    5.207947e-01\n",
       "A1      7.346752e-01\n",
       "dtype: float64"
      ]
     },
     "execution_count": 73,
     "metadata": {},
     "output_type": "execute_result"
    }
   ],
   "source": [
    "pvals"
   ]
  },
  {
   "cell_type": "code",
   "execution_count": 74,
   "metadata": {},
   "outputs": [],
   "source": [
    "# 특징 선택 \n",
    "k = 10\n",
    "\n",
    "s_Train_X = Train_X[pvals.iloc[:k].index]\n",
    "s_Test_X = Test_X[pvals.iloc[:k].index]"
   ]
  },
  {
   "cell_type": "code",
   "execution_count": 75,
   "metadata": {},
   "outputs": [
    {
     "name": "stdout",
     "output_type": "stream",
     "text": [
      "0.573529411764706\n"
     ]
    }
   ],
   "source": [
    "# 특징 선택 후 성능 확인\n",
    "from sklearn.neighbors import KNeighborsClassifier as KNN\n",
    "model = KNN().fit(s_Train_X, Train_Y)\n",
    "pred_Y = model.predict(s_Test_X)\n",
    "\n",
    "from sklearn.metrics import f1_score\n",
    "print(f1_score(Test_Y, pred_Y))"
   ]
  },
  {
   "cell_type": "markdown",
   "metadata": {},
   "source": [
    "$L(b_0, b_1)=\\sum_{i=1}^{n}(log{\\phi(x_i)^{y_i}+log(1 - \\phi(x_i)^{1-y_i}}))$\n",
    "\n",
    "\n",
    "$\\phi(x_i)=F(b_0 + b_1Age_i)$"
   ]
  },
  {
   "cell_type": "code",
   "execution_count": null,
   "metadata": {},
   "outputs": [],
   "source": []
  },
  {
   "cell_type": "code",
   "execution_count": null,
   "metadata": {},
   "outputs": [],
   "source": []
  }
 ],
 "metadata": {
  "kernelspec": {
   "display_name": "Python 3",
   "language": "python",
   "name": "python3"
  },
  "language_info": {
   "codemirror_mode": {
    "name": "ipython",
    "version": 3
   },
   "file_extension": ".py",
   "mimetype": "text/x-python",
   "name": "python",
   "nbconvert_exporter": "python",
   "pygments_lexer": "ipython3",
   "version": "3.8.5"
  }
 },
 "nbformat": 4,
 "nbformat_minor": 2
}

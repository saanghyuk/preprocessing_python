{
 "cells": [
  {
   "cell_type": "code",
   "execution_count": 1,
   "metadata": {},
   "outputs": [],
   "source": [
    "import os\n",
    "import pandas as pd\n",
    "\n",
    "os.chdir(r\"D:\\강의 자료\\2008_온라인 강의 머신러닝 성능 향상을 위한 데이터 탐색과 전처리 심화\\데이터\\실습 데이터\")"
   ]
  },
  {
   "cell_type": "code",
   "execution_count": 2,
   "metadata": {},
   "outputs": [],
   "source": [
    "df = pd.read_csv(\"Sonar_Mines_Rocks.csv\")"
   ]
  },
  {
   "cell_type": "code",
   "execution_count": 3,
   "metadata": {},
   "outputs": [],
   "source": [
    "# 특징과 라벨 분리\n",
    "X = df.drop('Y', axis = 1)\n",
    "Y = df['Y']"
   ]
  },
  {
   "cell_type": "code",
   "execution_count": 4,
   "metadata": {},
   "outputs": [],
   "source": [
    "Y.replace({\"M\":-1, \"R\":1}, inplace = True)"
   ]
  },
  {
   "cell_type": "code",
   "execution_count": 5,
   "metadata": {},
   "outputs": [],
   "source": [
    "# 학습 데이터와 평가 데이터 분리\n",
    "from sklearn.model_selection import train_test_split\n",
    "Train_X, Test_X, Train_Y, Test_Y = train_test_split(X, Y)"
   ]
  },
  {
   "cell_type": "code",
   "execution_count": 6,
   "metadata": {},
   "outputs": [
    {
     "data": {
      "text/plain": [
       "(156, 60)"
      ]
     },
     "execution_count": 6,
     "metadata": {},
     "output_type": "execute_result"
    }
   ],
   "source": [
    "Train_X.shape # 샘플 대비 특징이 매우 많음 => 특징 선택 필요"
   ]
  },
  {
   "cell_type": "code",
   "execution_count": 7,
   "metadata": {},
   "outputs": [
    {
     "name": "stdout",
     "output_type": "stream",
     "text": [
      "0.761904761904762\n"
     ]
    }
   ],
   "source": [
    "# 특징 선택 전 성능 확인\n",
    "from sklearn.neighbors import KNeighborsClassifier as KNN\n",
    "model = KNN().fit(Train_X, Train_Y)\n",
    "pred_Y = model.predict(Test_X)\n",
    "\n",
    "from sklearn.metrics import f1_score\n",
    "print(f1_score(Test_Y, pred_Y))"
   ]
  },
  {
   "cell_type": "code",
   "execution_count": 8,
   "metadata": {},
   "outputs": [],
   "source": [
    "# 특징 선택 수행\n",
    "from sklearn.feature_selection import *\n",
    "selector = SelectKBest(f_classif, k = 30)\n",
    "selector.fit(Train_X, Train_Y)\n",
    "selected_features = Train_X.columns[selector.get_support()]\n",
    "\n",
    "s_Train_X = pd.DataFrame(selector.transform(Train_X), columns = selected_features)\n",
    "s_Test_X = pd.DataFrame(selector.transform(Test_X), columns = selected_features)\n",
    "\n",
    "# s_Train_X = Train_X[selected_features]\n",
    "# s_Test_X = Test_X[selected_features]"
   ]
  },
  {
   "cell_type": "code",
   "execution_count": 9,
   "metadata": {},
   "outputs": [
    {
     "name": "stdout",
     "output_type": "stream",
     "text": [
      "0.761904761904762\n"
     ]
    }
   ],
   "source": [
    "# 특징 선택 후 성능 확인\n",
    "from sklearn.neighbors import KNeighborsClassifier as KNN\n",
    "model = KNN().fit(s_Train_X, Train_Y)\n",
    "pred_Y = model.predict(s_Test_X)\n",
    "\n",
    "from sklearn.metrics import f1_score\n",
    "print(f1_score(Test_Y, pred_Y))"
   ]
  },
  {
   "cell_type": "code",
   "execution_count": 10,
   "metadata": {},
   "outputs": [
    {
     "name": "stdout",
     "output_type": "stream",
     "text": [
      "0.8095238095238095 35\n"
     ]
    }
   ],
   "source": [
    "# 특징 개수 튜닝\n",
    "best_score = 0\n",
    "for k in range(5, 50, 5):    \n",
    "    selector = SelectKBest(f_classif, k = k)\n",
    "    selector.fit(Train_X, Train_Y)\n",
    "    selected_features = Train_X.columns[selector.get_support()]\n",
    "\n",
    "    s_Train_X = pd.DataFrame(selector.transform(Train_X), columns = selected_features)\n",
    "    s_Test_X = pd.DataFrame(selector.transform(Test_X), columns = selected_features)   \n",
    "    \n",
    "    model = KNN().fit(s_Train_X, Train_Y)\n",
    "    pred_Y = model.predict(s_Test_X)\n",
    "    score = f1_score(Test_Y, pred_Y)\n",
    "    if score > best_score:\n",
    "        best_score = score\n",
    "        best_k = k \n",
    "\n",
    "print(best_score, best_k)"
   ]
  }
 ],
 "metadata": {
  "kernelspec": {
   "display_name": "Python 3",
   "language": "python",
   "name": "python3"
  },
  "language_info": {
   "codemirror_mode": {
    "name": "ipython",
    "version": 3
   },
   "file_extension": ".py",
   "mimetype": "text/x-python",
   "name": "python",
   "nbconvert_exporter": "python",
   "pygments_lexer": "ipython3",
   "version": "3.6.4"
  }
 },
 "nbformat": 4,
 "nbformat_minor": 2
}

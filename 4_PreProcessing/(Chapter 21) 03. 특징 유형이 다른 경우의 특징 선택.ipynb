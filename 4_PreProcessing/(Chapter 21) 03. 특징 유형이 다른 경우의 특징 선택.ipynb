{
 "cells": [
  {
   "cell_type": "code",
   "execution_count": 16,
   "metadata": {},
   "outputs": [],
   "source": [
    "import os\n",
    "import pandas as pd\n",
    "\n",
    "os.chdir(r\"C:\\Users\\GilseungAhn\\Google 드라이브\\작업\\온라인 강의 머신러닝 성능 향상을 위한 데이터 탐색과 전처리 심화\\데이터\\실습 데이터 - #3 ~ #5\")"
   ]
  },
  {
   "cell_type": "code",
   "execution_count": 17,
   "metadata": {},
   "outputs": [],
   "source": [
    "df = pd.read_csv(\"australian.csv\")"
   ]
  },
  {
   "cell_type": "code",
   "execution_count": 18,
   "metadata": {},
   "outputs": [],
   "source": [
    "# 특징과 라벨 분리\n",
    "X = df.drop('Class', axis = 1)\n",
    "Y = df['Class']"
   ]
  },
  {
   "cell_type": "code",
   "execution_count": 19,
   "metadata": {},
   "outputs": [],
   "source": [
    "# 학습 데이터와 평가 데이터 분리\n",
    "from sklearn.model_selection import train_test_split\n",
    "Train_X, Test_X, Train_Y, Test_Y = train_test_split(X, Y)"
   ]
  },
  {
   "cell_type": "code",
   "execution_count": 20,
   "metadata": {},
   "outputs": [
    {
     "data": {
      "text/plain": [
       "(517, 14)"
      ]
     },
     "execution_count": 20,
     "metadata": {},
     "output_type": "execute_result"
    }
   ],
   "source": [
    "Train_X.shape # 샘플 대비 특징이 약간 더 많은 정도"
   ]
  },
  {
   "cell_type": "code",
   "execution_count": 21,
   "metadata": {},
   "outputs": [
    {
     "name": "stdout",
     "output_type": "stream",
     "text": [
      "0.5714285714285713\n"
     ]
    }
   ],
   "source": [
    "# 특징 선택 전 성능 확인\n",
    "from sklearn.neighbors import KNeighborsClassifier as KNN\n",
    "model = KNN().fit(Train_X, Train_Y)\n",
    "pred_Y = model.predict(Test_X)\n",
    "\n",
    "from sklearn.metrics import f1_score\n",
    "print(f1_score(Test_Y, pred_Y))"
   ]
  },
  {
   "cell_type": "code",
   "execution_count": 22,
   "metadata": {},
   "outputs": [],
   "source": [
    "# 유니크한 값의 개수를 바탕으로 연속형과 이진형 변수 구분\n",
    "continuous_cols = [col for col in Train_X.columns if len(Train_X[col].unique()) > 3]\n",
    "binary_cols = [col for col in Train_X.columns if len(Train_X[col].unique()) <= 3]"
   ]
  },
  {
   "cell_type": "code",
   "execution_count": 23,
   "metadata": {},
   "outputs": [],
   "source": [
    "# 연속형 변수에 대해서는 f_classif을, 이진형 변수에 대해서는 chi2를 적용\n",
    "from sklearn.feature_selection import *\n",
    "\n",
    "# f_regression(X, Y) => (statistics, p-value)\n",
    "continous_cols_pvals = f_classif(Train_X[continuous_cols], Train_Y)[1]\n",
    "binary_cols_pvals = chi2(Train_X[binary_cols], Train_Y)[1]"
   ]
  },
  {
   "cell_type": "code",
   "execution_count": 24,
   "metadata": {},
   "outputs": [],
   "source": [
    "# 각각을 Series로 변환 (value: pvalue, index: colum name)\n",
    "cont_pvals = pd.Series(continous_cols_pvals, index = continuous_cols)\n",
    "binary_pvals = pd.Series(binary_cols_pvals, index = binary_cols)"
   ]
  },
  {
   "cell_type": "code",
   "execution_count": 25,
   "metadata": {},
   "outputs": [],
   "source": [
    "# cont_pvals과 binary_pvals을 합친 뒤, 오름차순으로 정렬 (앞에 나오는 특징부터 좋은 특징)\n",
    "pvals = pd.concat([cont_pvals, binary_pvals])\n",
    "pvals.sort_values(ascending = True, inplace = True)"
   ]
  },
  {
   "cell_type": "code",
   "execution_count": 26,
   "metadata": {},
   "outputs": [],
   "source": [
    "# 특징 선택 \n",
    "k = 10\n",
    "\n",
    "s_Train_X = Train_X[pvals.iloc[:k].index]\n",
    "s_Test_X = Test_X[pvals.iloc[:k].index]"
   ]
  },
  {
   "cell_type": "code",
   "execution_count": 27,
   "metadata": {},
   "outputs": [
    {
     "name": "stdout",
     "output_type": "stream",
     "text": [
      "0.6225165562913907\n"
     ]
    }
   ],
   "source": [
    "# 특징 선택 후 성능 확인\n",
    "from sklearn.neighbors import KNeighborsClassifier as KNN\n",
    "model = KNN().fit(s_Train_X, Train_Y)\n",
    "pred_Y = model.predict(s_Test_X)\n",
    "\n",
    "from sklearn.metrics import f1_score\n",
    "print(f1_score(Test_Y, pred_Y))"
   ]
  }
 ],
 "metadata": {
  "kernelspec": {
   "display_name": "Python 3",
   "language": "python",
   "name": "python3"
  },
  "language_info": {
   "codemirror_mode": {
    "name": "ipython",
    "version": 3
   },
   "file_extension": ".py",
   "mimetype": "text/x-python",
   "name": "python",
   "nbconvert_exporter": "python",
   "pygments_lexer": "ipython3",
   "version": "3.6.4"
  }
 },
 "nbformat": 4,
 "nbformat_minor": 2
}

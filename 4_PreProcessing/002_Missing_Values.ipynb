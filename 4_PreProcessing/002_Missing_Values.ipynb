{
 "cells": [
  {
   "cell_type": "markdown",
   "metadata": {},
   "source": [
    "# 결측치 다루기"
   ]
  },
  {
   "cell_type": "markdown",
   "metadata": {},
   "source": [
    "- NaN : 결측치라고 하면 보통 이것을 의미. \n",
    "- None : 서베이 해서, 직업이 없다고 답했음. 그래서 그 직업이없는게 답이였던 것. 값이 없는게 값인 결측. 그래서 직업 란에 못 써 놓은 것. 이런 경우는 삭제하지 않고, `직업 - 백수` 로 바꿔 놓는 방식으로 처리함. "
   ]
  },
  {
   "cell_type": "markdown",
   "metadata": {},
   "source": [
    "![4_18.png](../materials/4_18.png)"
   ]
  },
  {
   "cell_type": "markdown",
   "metadata": {},
   "source": [
    "- 결측 레코드 : 하나의 컬럼이라도 결측치를 포함하고 있는 레코드(행)\n",
    "    - 아래 1, 3, 5, 8이 결측레코드\n",
    "- 결측 비율 : `결측 레코드 수`/ `전체 행 갯수`\n",
    "    - 전체 10개 중 4개가 결측 레코드 : 40%\n",
    "- 변수별 결측치 비율\n",
    "    - 컬럼 별로 살펴보는 것. \n",
    "    - V1 컬럼은 10개 중 결측치 1개. 10%"
   ]
  },
  {
   "cell_type": "markdown",
   "metadata": {},
   "source": [
    "![4_18.png](../materials/4_19.png)"
   ]
  },
  {
   "cell_type": "code",
   "execution_count": null,
   "metadata": {},
   "outputs": [],
   "source": []
  },
  {
   "cell_type": "code",
   "execution_count": null,
   "metadata": {},
   "outputs": [],
   "source": []
  },
  {
   "cell_type": "markdown",
   "metadata": {},
   "source": [
    "# 결측치 삭제"
   ]
  },
  {
   "cell_type": "markdown",
   "metadata": {},
   "source": [
    "- 지우고 난 다음에, 데이터가 충분히 안남으면 그게 문제인 것. \n",
    "    - 근데 그 충분한 데이터라는 말 자체도 애매함. \n",
    "    - 수렴 여부를 확인. \n",
    "    - 지워가면서 수렴 하는지 계속 봐야 하는 것. \n",
    "- 새로운 데이터가 들어와서 예측하려고 하는데 거기에 결측이 있으면 또 문제. \n",
    "    - 새로 들어온 데이터에도 충분히 결측이 있을 것 같다고 생각하면 행단위로 지워버리면 안된다. \n",
    "    - 새로 들어온 데이터에 결측이 있으면 그 다음 해결방법이 없음. \n",
    "    - 근데 새로운 데이터를 지금 어떻게 알아. 도메인 지식 기반으로 판단해야 함. "
   ]
  },
  {
   "cell_type": "markdown",
   "metadata": {},
   "source": [
    "![4_20.png](../materials/4_20.png)"
   ]
  },
  {
   "cell_type": "markdown",
   "metadata": {},
   "source": [
    "- 결측이 있는 열을 지우면, 어차피 새로 들어오는 데이터의 해당 컬럼에 결측이 있더라도 어차피 지워지는 거라 큰 문제가 없음. \n",
    "- 다만, 근데 이거는 feature를 지워버리는건데, 당연히 해당 변수가 중요하면 지우면 안되지. 너무 당연하잖아. \n",
    "    - 중요한 변수인데 지워버리고 속편하면 예측이 제대로 될 리가 없다. "
   ]
  },
  {
   "cell_type": "markdown",
   "metadata": {},
   "source": [
    "![4_20.png](../materials/4_21.png)"
   ]
  },
  {
   "cell_type": "markdown",
   "metadata": {},
   "source": [
    "- isnull과 notnull은 완벽히 반대로 작동한다. \n",
    "    - 허나 대부분은 `isnull` 혹은 `~isnull`을 쓴다. "
   ]
  },
  {
   "cell_type": "markdown",
   "metadata": {},
   "source": [
    "![4_20.png](../materials/4_22.png)"
   ]
  },
  {
   "cell_type": "markdown",
   "metadata": {},
   "source": [
    "- 결측치 제거. \n",
    "- default `axis=0`\n",
    "- how는 보통 `any`로 설정하는 경우가 많다. "
   ]
  },
  {
   "cell_type": "markdown",
   "metadata": {},
   "source": [
    "![4_20.png](../materials/4_23.png)"
   ]
  },
  {
   "cell_type": "code",
   "execution_count": 1,
   "metadata": {},
   "outputs": [],
   "source": [
    "import pandas as pd\n",
    "import os\n",
    "\n",
    "os.chdir(r\"/Users/sanghyuk/Documents/preprocessing_python/lecture_source/Part 4. 머신러닝을 위한 필수 전처리/데이터/\")"
   ]
  },
  {
   "cell_type": "markdown",
   "metadata": {},
   "source": [
    "#### 행 단위 삭제"
   ]
  },
  {
   "cell_type": "code",
   "execution_count": 2,
   "metadata": {},
   "outputs": [],
   "source": [
    "# 데이터 불러오기\n",
    "df = pd.read_csv(\"mammographic.csv\")"
   ]
  },
  {
   "cell_type": "code",
   "execution_count": 3,
   "metadata": {},
   "outputs": [],
   "source": [
    "# 특징과 라벨 분리\n",
    "X = df.drop('Output', axis = 1)\n",
    "Y = df['Output']"
   ]
  },
  {
   "cell_type": "code",
   "execution_count": 5,
   "metadata": {},
   "outputs": [
    {
     "data": {
      "text/html": [
       "<div>\n",
       "<style scoped>\n",
       "    .dataframe tbody tr th:only-of-type {\n",
       "        vertical-align: middle;\n",
       "    }\n",
       "\n",
       "    .dataframe tbody tr th {\n",
       "        vertical-align: top;\n",
       "    }\n",
       "\n",
       "    .dataframe thead th {\n",
       "        text-align: right;\n",
       "    }\n",
       "</style>\n",
       "<table border=\"1\" class=\"dataframe\">\n",
       "  <thead>\n",
       "    <tr style=\"text-align: right;\">\n",
       "      <th></th>\n",
       "      <th>BI-RADS</th>\n",
       "      <th>Age</th>\n",
       "      <th>Shape</th>\n",
       "      <th>Margin</th>\n",
       "      <th>Density</th>\n",
       "    </tr>\n",
       "  </thead>\n",
       "  <tbody>\n",
       "    <tr>\n",
       "      <th>0</th>\n",
       "      <td>5.0</td>\n",
       "      <td>67.0</td>\n",
       "      <td>3.0</td>\n",
       "      <td>5.0</td>\n",
       "      <td>3.0</td>\n",
       "    </tr>\n",
       "    <tr>\n",
       "      <th>1</th>\n",
       "      <td>4.0</td>\n",
       "      <td>43.0</td>\n",
       "      <td>1.0</td>\n",
       "      <td>1.0</td>\n",
       "      <td>NaN</td>\n",
       "    </tr>\n",
       "    <tr>\n",
       "      <th>2</th>\n",
       "      <td>5.0</td>\n",
       "      <td>58.0</td>\n",
       "      <td>4.0</td>\n",
       "      <td>5.0</td>\n",
       "      <td>3.0</td>\n",
       "    </tr>\n",
       "    <tr>\n",
       "      <th>3</th>\n",
       "      <td>4.0</td>\n",
       "      <td>28.0</td>\n",
       "      <td>1.0</td>\n",
       "      <td>1.0</td>\n",
       "      <td>3.0</td>\n",
       "    </tr>\n",
       "    <tr>\n",
       "      <th>4</th>\n",
       "      <td>5.0</td>\n",
       "      <td>74.0</td>\n",
       "      <td>1.0</td>\n",
       "      <td>5.0</td>\n",
       "      <td>NaN</td>\n",
       "    </tr>\n",
       "  </tbody>\n",
       "</table>\n",
       "</div>"
      ],
      "text/plain": [
       "   BI-RADS   Age  Shape  Margin  Density\n",
       "0      5.0  67.0    3.0     5.0      3.0\n",
       "1      4.0  43.0    1.0     1.0      NaN\n",
       "2      5.0  58.0    4.0     5.0      3.0\n",
       "3      4.0  28.0    1.0     1.0      3.0\n",
       "4      5.0  74.0    1.0     5.0      NaN"
      ]
     },
     "execution_count": 5,
     "metadata": {},
     "output_type": "execute_result"
    }
   ],
   "source": [
    "X.head()"
   ]
  },
  {
   "cell_type": "code",
   "execution_count": 6,
   "metadata": {},
   "outputs": [],
   "source": [
    "# 학습 데이터와 평가 데이터 분할\n",
    "from sklearn.model_selection import train_test_split\n",
    "Train_X, Test_X, Train_Y, Test_Y = train_test_split(X, Y)"
   ]
  },
  {
   "cell_type": "code",
   "execution_count": 7,
   "metadata": {
    "scrolled": true
   },
   "outputs": [
    {
     "data": {
      "text/plain": [
       "BI-RADS     1\n",
       "Age         4\n",
       "Shape      26\n",
       "Margin     39\n",
       "Density    58\n",
       "dtype: int64"
      ]
     },
     "execution_count": 7,
     "metadata": {},
     "output_type": "execute_result"
    }
   ],
   "source": [
    "Train_X.isnull().sum(axis = 0) # 열별 결측치 개수 확인"
   ]
  },
  {
   "cell_type": "code",
   "execution_count": 11,
   "metadata": {},
   "outputs": [
    {
     "data": {
      "text/plain": [
       "(720, 5)"
      ]
     },
     "execution_count": 11,
     "metadata": {},
     "output_type": "execute_result"
    }
   ],
   "source": [
    "len(Train_X)\n",
    "Train_X.shape"
   ]
  },
  {
   "cell_type": "code",
   "execution_count": 12,
   "metadata": {},
   "outputs": [
    {
     "data": {
      "text/plain": [
       "BI-RADS    0.001389\n",
       "Age        0.005556\n",
       "Shape      0.036111\n",
       "Margin     0.054167\n",
       "Density    0.080556\n",
       "dtype: float64"
      ]
     },
     "execution_count": 12,
     "metadata": {},
     "output_type": "execute_result"
    }
   ],
   "source": [
    "Train_X.isnull().sum(axis = 0) / len(Train_X) # 열별 결측치 비율 확인\n",
    "# 결측이 전체적으로 많은 편이 아니나, 모든 컬럼에 결측이 1회 이상 발생 => 열 삭제 불가"
   ]
  },
  {
   "cell_type": "code",
   "execution_count": 13,
   "metadata": {
    "scrolled": true
   },
   "outputs": [
    {
     "name": "stderr",
     "output_type": "stream",
     "text": [
      "<ipython-input-13-1caf2a7e696e>:1: SettingWithCopyWarning: \n",
      "A value is trying to be set on a copy of a slice from a DataFrame\n",
      "\n",
      "See the caveats in the documentation: https://pandas.pydata.org/pandas-docs/stable/user_guide/indexing.html#returning-a-view-versus-a-copy\n",
      "  Train_X.dropna(inplace = True) # 결측이 포함된 레코드 제거\n"
     ]
    }
   ],
   "source": [
    "Train_X.dropna(inplace = True) # 결측이 포함된 레코드 제거\n",
    "# Train_X = Train_X.dropna()"
   ]
  },
  {
   "cell_type": "code",
   "execution_count": 14,
   "metadata": {},
   "outputs": [
    {
     "name": "stderr",
     "output_type": "stream",
     "text": [
      "<ipython-input-14-1289f033856d>:1: SettingWithCopyWarning: \n",
      "A value is trying to be set on a copy of a slice from a DataFrame\n",
      "\n",
      "See the caveats in the documentation: https://pandas.pydata.org/pandas-docs/stable/user_guide/indexing.html#returning-a-view-versus-a-copy\n",
      "  Test_X.dropna(inplace = True) # 결측이 포함된 레코드 제거 (주의: 새로 들어온 레코드의 결측이 있으면 처리하지 못함을 의미)\n"
     ]
    }
   ],
   "source": [
    "Test_X.dropna(inplace = True) # 결측이 포함된 레코드 제거 (주의: 새로 들어온 레코드의 결측이 있으면 처리하지 못함을 의미)"
   ]
  },
  {
   "cell_type": "code",
   "execution_count": 15,
   "metadata": {},
   "outputs": [
    {
     "data": {
      "text/html": [
       "<div>\n",
       "<style scoped>\n",
       "    .dataframe tbody tr th:only-of-type {\n",
       "        vertical-align: middle;\n",
       "    }\n",
       "\n",
       "    .dataframe tbody tr th {\n",
       "        vertical-align: top;\n",
       "    }\n",
       "\n",
       "    .dataframe thead th {\n",
       "        text-align: right;\n",
       "    }\n",
       "</style>\n",
       "<table border=\"1\" class=\"dataframe\">\n",
       "  <thead>\n",
       "    <tr style=\"text-align: right;\">\n",
       "      <th></th>\n",
       "      <th>BI-RADS</th>\n",
       "      <th>Age</th>\n",
       "      <th>Shape</th>\n",
       "      <th>Margin</th>\n",
       "      <th>Density</th>\n",
       "    </tr>\n",
       "  </thead>\n",
       "  <tbody>\n",
       "    <tr>\n",
       "      <th>768</th>\n",
       "      <td>4.0</td>\n",
       "      <td>67.0</td>\n",
       "      <td>4.0</td>\n",
       "      <td>5.0</td>\n",
       "      <td>3.0</td>\n",
       "    </tr>\n",
       "    <tr>\n",
       "      <th>513</th>\n",
       "      <td>4.0</td>\n",
       "      <td>70.0</td>\n",
       "      <td>4.0</td>\n",
       "      <td>4.0</td>\n",
       "      <td>3.0</td>\n",
       "    </tr>\n",
       "    <tr>\n",
       "      <th>267</th>\n",
       "      <td>3.0</td>\n",
       "      <td>53.0</td>\n",
       "      <td>4.0</td>\n",
       "      <td>3.0</td>\n",
       "      <td>3.0</td>\n",
       "    </tr>\n",
       "    <tr>\n",
       "      <th>485</th>\n",
       "      <td>4.0</td>\n",
       "      <td>28.0</td>\n",
       "      <td>2.0</td>\n",
       "      <td>1.0</td>\n",
       "      <td>3.0</td>\n",
       "    </tr>\n",
       "    <tr>\n",
       "      <th>338</th>\n",
       "      <td>4.0</td>\n",
       "      <td>46.0</td>\n",
       "      <td>4.0</td>\n",
       "      <td>4.0</td>\n",
       "      <td>3.0</td>\n",
       "    </tr>\n",
       "  </tbody>\n",
       "</table>\n",
       "</div>"
      ],
      "text/plain": [
       "     BI-RADS   Age  Shape  Margin  Density\n",
       "768      4.0  67.0    4.0     5.0      3.0\n",
       "513      4.0  70.0    4.0     4.0      3.0\n",
       "267      3.0  53.0    4.0     3.0      3.0\n",
       "485      4.0  28.0    2.0     1.0      3.0\n",
       "338      4.0  46.0    4.0     4.0      3.0"
      ]
     },
     "execution_count": 15,
     "metadata": {},
     "output_type": "execute_result"
    }
   ],
   "source": [
    "Test_X.head()"
   ]
  },
  {
   "cell_type": "markdown",
   "metadata": {},
   "source": [
    "#### 열 단위 삭제"
   ]
  },
  {
   "cell_type": "code",
   "execution_count": 16,
   "metadata": {},
   "outputs": [],
   "source": [
    "# 데이터 불러오기\n",
    "df = pd.read_csv(\"post_operative.csv\")"
   ]
  },
  {
   "cell_type": "code",
   "execution_count": 17,
   "metadata": {},
   "outputs": [],
   "source": [
    "# 특징과 라벨 분리\n",
    "X = df.drop('Decision', axis = 1)\n",
    "Y = df['Decision']"
   ]
  },
  {
   "cell_type": "code",
   "execution_count": 18,
   "metadata": {},
   "outputs": [],
   "source": [
    "# 학습 데이터와 평가 데이터 분할\n",
    "from sklearn.model_selection import train_test_split\n",
    "Train_X, Test_X, Train_Y, Test_Y = train_test_split(X, Y)"
   ]
  },
  {
   "cell_type": "code",
   "execution_count": 19,
   "metadata": {},
   "outputs": [
    {
     "data": {
      "text/html": [
       "<div>\n",
       "<style scoped>\n",
       "    .dataframe tbody tr th:only-of-type {\n",
       "        vertical-align: middle;\n",
       "    }\n",
       "\n",
       "    .dataframe tbody tr th {\n",
       "        vertical-align: top;\n",
       "    }\n",
       "\n",
       "    .dataframe thead th {\n",
       "        text-align: right;\n",
       "    }\n",
       "</style>\n",
       "<table border=\"1\" class=\"dataframe\">\n",
       "  <thead>\n",
       "    <tr style=\"text-align: right;\">\n",
       "      <th></th>\n",
       "      <th>L-CORE</th>\n",
       "      <th>L-SURF</th>\n",
       "      <th>L-O2</th>\n",
       "      <th>L-BP</th>\n",
       "      <th>SURF-STBL</th>\n",
       "      <th>CORE-STBL</th>\n",
       "      <th>BP-STBL</th>\n",
       "      <th>COMFORT</th>\n",
       "    </tr>\n",
       "  </thead>\n",
       "  <tbody>\n",
       "    <tr>\n",
       "      <th>56</th>\n",
       "      <td>high</td>\n",
       "      <td>mid</td>\n",
       "      <td>good</td>\n",
       "      <td>high</td>\n",
       "      <td>stable</td>\n",
       "      <td>stable</td>\n",
       "      <td>unstable</td>\n",
       "      <td>?</td>\n",
       "    </tr>\n",
       "    <tr>\n",
       "      <th>19</th>\n",
       "      <td>mid</td>\n",
       "      <td>mid</td>\n",
       "      <td>good</td>\n",
       "      <td>mid</td>\n",
       "      <td>stable</td>\n",
       "      <td>stable</td>\n",
       "      <td>stable</td>\n",
       "      <td>?</td>\n",
       "    </tr>\n",
       "    <tr>\n",
       "      <th>25</th>\n",
       "      <td>low</td>\n",
       "      <td>mid</td>\n",
       "      <td>good</td>\n",
       "      <td>mid</td>\n",
       "      <td>unstable</td>\n",
       "      <td>stable</td>\n",
       "      <td>stable</td>\n",
       "      <td>10</td>\n",
       "    </tr>\n",
       "    <tr>\n",
       "      <th>2</th>\n",
       "      <td>high</td>\n",
       "      <td>low</td>\n",
       "      <td>excellent</td>\n",
       "      <td>high</td>\n",
       "      <td>stable</td>\n",
       "      <td>stable</td>\n",
       "      <td>mod-stable</td>\n",
       "      <td>?</td>\n",
       "    </tr>\n",
       "    <tr>\n",
       "      <th>65</th>\n",
       "      <td>mid</td>\n",
       "      <td>mid</td>\n",
       "      <td>good</td>\n",
       "      <td>high</td>\n",
       "      <td>stable</td>\n",
       "      <td>stable</td>\n",
       "      <td>stable</td>\n",
       "      <td>?</td>\n",
       "    </tr>\n",
       "  </tbody>\n",
       "</table>\n",
       "</div>"
      ],
      "text/plain": [
       "   L-CORE L-SURF       L-O2  L-BP SURF-STBL CORE-STBL     BP-STBL COMFORT\n",
       "56   high    mid       good  high    stable    stable    unstable       ?\n",
       "19    mid    mid       good   mid    stable    stable      stable       ?\n",
       "25    low    mid       good   mid  unstable    stable      stable      10\n",
       "2    high    low  excellent  high    stable    stable  mod-stable       ?\n",
       "65    mid    mid       good  high    stable    stable      stable       ?"
      ]
     },
     "execution_count": 19,
     "metadata": {},
     "output_type": "execute_result"
    }
   ],
   "source": [
    "Train_X.head() # COMFORT 변수에 '?'로 결측이 표시되어 있음을 확인"
   ]
  },
  {
   "cell_type": "code",
   "execution_count": 21,
   "metadata": {},
   "outputs": [
    {
     "data": {
      "text/plain": [
       "L-CORE       0.000000\n",
       "L-SURF       0.000000\n",
       "L-O2         0.000000\n",
       "L-BP         0.000000\n",
       "SURF-STBL    0.000000\n",
       "CORE-STBL    0.000000\n",
       "BP-STBL      0.000000\n",
       "COMFORT      0.298507\n",
       "dtype: float64"
      ]
     },
     "execution_count": 21,
     "metadata": {},
     "output_type": "execute_result"
    }
   ],
   "source": [
    "import numpy as np\n",
    "# 결측이 '?'로 표시되어 있음 => 데이터에 대한 이해가 없으면 적절히 처리가 안될 수 있음\n",
    "\n",
    "# 이런 작업 안해주면, 그냥 결측 없다고 나와버림. \n",
    "Train_X.replace('?', np.nan).isnull().sum() / len(Train_X)"
   ]
  },
  {
   "cell_type": "code",
   "execution_count": 14,
   "metadata": {},
   "outputs": [
    {
     "name": "stderr",
     "output_type": "stream",
     "text": [
      "C:\\Users\\GilseungAhn\\Anaconda3\\lib\\site-packages\\ipykernel_launcher.py:2: SettingWithCopyWarning: \n",
      "A value is trying to be set on a copy of a slice from a DataFrame\n",
      "\n",
      "See the caveats in the documentation: https://pandas.pydata.org/pandas-docs/stable/user_guide/indexing.html#returning-a-view-versus-a-copy\n",
      "  \n",
      "C:\\Users\\GilseungAhn\\AppData\\Roaming\\Python\\Python36\\site-packages\\pandas\\core\\frame.py:3997: SettingWithCopyWarning: \n",
      "A value is trying to be set on a copy of a slice from a DataFrame\n",
      "\n",
      "See the caveats in the documentation: https://pandas.pydata.org/pandas-docs/stable/user_guide/indexing.html#returning-a-view-versus-a-copy\n",
      "  errors=errors,\n"
     ]
    }
   ],
   "source": [
    "# 모든 결측이 COMFORT에 쏠렸으며, 해당 변수가 중요하지 않다는 도메인 지식 기반 하에 삭제\n",
    "Train_X.dropna(axis = 1, inplace = True)\n",
    "\n",
    "\n",
    "# Test_X = Test_X[Train_X.columns]\n",
    "# Test에서는 그 컬럼에 결측이 없을 수도 있어서, Drop으로 안전하게 한 것. \n",
    "\n",
    "Test_X.drop('COMFORT', axis = 1, inplace = True) # Test_X에는 COMFORT가 결측이 없었을 수도 있으므로, drop을 이용하여 삭제"
   ]
  },
  {
   "cell_type": "code",
   "execution_count": 22,
   "metadata": {},
   "outputs": [
    {
     "data": {
      "text/plain": [
       "L-CORE       0\n",
       "L-SURF       0\n",
       "L-O2         0\n",
       "L-BP         0\n",
       "SURF-STBL    0\n",
       "CORE-STBL    0\n",
       "BP-STBL      0\n",
       "COMFORT      0\n",
       "dtype: int64"
      ]
     },
     "execution_count": 22,
     "metadata": {},
     "output_type": "execute_result"
    }
   ],
   "source": [
    "Train_X.isnull().sum(axis = 0)"
   ]
  },
  {
   "cell_type": "code",
   "execution_count": null,
   "metadata": {},
   "outputs": [],
   "source": []
  },
  {
   "cell_type": "markdown",
   "metadata": {},
   "source": [
    "# 대표값을 활용한 결측치 대체"
   ]
  },
  {
   "cell_type": "markdown",
   "metadata": {},
   "source": [
    "- V1에 결측이 쏠려 있고, V2에는 결측값이 없음. \n",
    "    - 아래 표에서 V1을 대푯값이랍시고 1로 대체해버리면? 위험하지. \n",
    "    - 그리고, 1로 대체하는 순간 모든 V1이 다 같은 값을 갖게 됨. 변수로서 기능이 없음. \n",
    "    - 때문에, 소수의 특징에 결측이 쏠린 경우는 잘 쓰지 않는다. \n",
    "- 또한 컬럼끼리 상관성이 큰 경우    \n",
    "    - 이런 경우도, V1과 V2사이 관계가 명확한데, V1만 보고 결정해 버리기가 어려움. \n"
   ]
  },
  {
   "cell_type": "markdown",
   "metadata": {},
   "source": [
    "![4_24.png](../materials/4_24.png)"
   ]
  },
  {
   "cell_type": "markdown",
   "metadata": {},
   "source": [
    "- 사이킷런의 모든 전처리에 포함되는 내용\n",
    "    - .fit은 데이터를 기억만 하고 있을 뿐이지, 실제로 아무것도 한게 아님. \n",
    "    - .transform을 해야 트레이닝이 되고, 결측치도 대체가 되고 하는 것. \n",
    "    - 이제 이 preprocessing model을 가지고, test데이터에도 적용시킴. \n",
    "    - 단 중요한 것은 test data에 대해서는 fit이 적용되지 않는다. "
   ]
  },
  {
   "cell_type": "markdown",
   "metadata": {},
   "source": [
    "![4_24.png](../materials/4_25.png)"
   ]
  },
  {
   "cell_type": "markdown",
   "metadata": {},
   "source": [
    "- fit을 하면, 이 대푯값을 기억하고, \n",
    "- transform에서 실제로 대체하는 것. "
   ]
  },
  {
   "cell_type": "markdown",
   "metadata": {},
   "source": [
    "![4_24.png](../materials/4_26.png)"
   ]
  },
  {
   "cell_type": "markdown",
   "metadata": {},
   "source": [
    "![4_24.png](../materials/4_27.png)"
   ]
  },
  {
   "cell_type": "markdown",
   "metadata": {},
   "source": [
    "![4_24.png](../materials/4_28.png)"
   ]
  },
  {
   "cell_type": "code",
   "execution_count": null,
   "metadata": {},
   "outputs": [],
   "source": []
  },
  {
   "cell_type": "markdown",
   "metadata": {},
   "source": [
    "#### 단순한 케이스: 모든 특징의 타입이 같은 경우"
   ]
  },
  {
   "cell_type": "code",
   "execution_count": 23,
   "metadata": {},
   "outputs": [],
   "source": [
    "import pandas as pd\n",
    "import os\n",
    "\n",
    "os.chdir(r\"/Users/sanghyuk/Documents/preprocessing_python/lecture_source/Part 4. 머신러닝을 위한 필수 전처리/데이터/\")"
   ]
  },
  {
   "cell_type": "code",
   "execution_count": 24,
   "metadata": {},
   "outputs": [],
   "source": [
    "df = pd.read_csv(\"cleveland.csv\")"
   ]
  },
  {
   "cell_type": "code",
   "execution_count": 25,
   "metadata": {},
   "outputs": [],
   "source": [
    "# 특징과 라벨 분리\n",
    "X = df.drop('Output', axis = 1)\n",
    "Y = df['Output']"
   ]
  },
  {
   "cell_type": "code",
   "execution_count": 28,
   "metadata": {},
   "outputs": [
    {
     "data": {
      "text/html": [
       "<div>\n",
       "<style scoped>\n",
       "    .dataframe tbody tr th:only-of-type {\n",
       "        vertical-align: middle;\n",
       "    }\n",
       "\n",
       "    .dataframe tbody tr th {\n",
       "        vertical-align: top;\n",
       "    }\n",
       "\n",
       "    .dataframe thead th {\n",
       "        text-align: right;\n",
       "    }\n",
       "</style>\n",
       "<table border=\"1\" class=\"dataframe\">\n",
       "  <thead>\n",
       "    <tr style=\"text-align: right;\">\n",
       "      <th></th>\n",
       "      <th>Age</th>\n",
       "      <th>Sex</th>\n",
       "      <th>Cp</th>\n",
       "      <th>Trestbps</th>\n",
       "      <th>Chol</th>\n",
       "      <th>Fbs</th>\n",
       "      <th>Restecg</th>\n",
       "      <th>Thalach</th>\n",
       "      <th>Exang</th>\n",
       "      <th>Oldpeak</th>\n",
       "      <th>Slope</th>\n",
       "      <th>Ca</th>\n",
       "      <th>Thal</th>\n",
       "    </tr>\n",
       "  </thead>\n",
       "  <tbody>\n",
       "    <tr>\n",
       "      <th>0</th>\n",
       "      <td>63</td>\n",
       "      <td>1</td>\n",
       "      <td>1</td>\n",
       "      <td>145</td>\n",
       "      <td>233</td>\n",
       "      <td>1</td>\n",
       "      <td>2</td>\n",
       "      <td>150</td>\n",
       "      <td>0</td>\n",
       "      <td>2.3</td>\n",
       "      <td>3</td>\n",
       "      <td>0.0</td>\n",
       "      <td>6.0</td>\n",
       "    </tr>\n",
       "    <tr>\n",
       "      <th>1</th>\n",
       "      <td>37</td>\n",
       "      <td>1</td>\n",
       "      <td>3</td>\n",
       "      <td>130</td>\n",
       "      <td>250</td>\n",
       "      <td>0</td>\n",
       "      <td>0</td>\n",
       "      <td>187</td>\n",
       "      <td>0</td>\n",
       "      <td>3.5</td>\n",
       "      <td>3</td>\n",
       "      <td>0.0</td>\n",
       "      <td>3.0</td>\n",
       "    </tr>\n",
       "    <tr>\n",
       "      <th>2</th>\n",
       "      <td>41</td>\n",
       "      <td>0</td>\n",
       "      <td>2</td>\n",
       "      <td>130</td>\n",
       "      <td>204</td>\n",
       "      <td>0</td>\n",
       "      <td>2</td>\n",
       "      <td>172</td>\n",
       "      <td>0</td>\n",
       "      <td>1.4</td>\n",
       "      <td>1</td>\n",
       "      <td>0.0</td>\n",
       "      <td>3.0</td>\n",
       "    </tr>\n",
       "    <tr>\n",
       "      <th>3</th>\n",
       "      <td>56</td>\n",
       "      <td>1</td>\n",
       "      <td>2</td>\n",
       "      <td>120</td>\n",
       "      <td>236</td>\n",
       "      <td>0</td>\n",
       "      <td>0</td>\n",
       "      <td>178</td>\n",
       "      <td>0</td>\n",
       "      <td>0.8</td>\n",
       "      <td>1</td>\n",
       "      <td>0.0</td>\n",
       "      <td>3.0</td>\n",
       "    </tr>\n",
       "    <tr>\n",
       "      <th>4</th>\n",
       "      <td>57</td>\n",
       "      <td>0</td>\n",
       "      <td>4</td>\n",
       "      <td>120</td>\n",
       "      <td>354</td>\n",
       "      <td>0</td>\n",
       "      <td>0</td>\n",
       "      <td>163</td>\n",
       "      <td>1</td>\n",
       "      <td>0.6</td>\n",
       "      <td>1</td>\n",
       "      <td>0.0</td>\n",
       "      <td>3.0</td>\n",
       "    </tr>\n",
       "  </tbody>\n",
       "</table>\n",
       "</div>"
      ],
      "text/plain": [
       "   Age  Sex  Cp  Trestbps  Chol  Fbs  Restecg  Thalach  Exang  Oldpeak  Slope  \\\n",
       "0   63    1   1       145   233    1        2      150      0      2.3      3   \n",
       "1   37    1   3       130   250    0        0      187      0      3.5      3   \n",
       "2   41    0   2       130   204    0        2      172      0      1.4      1   \n",
       "3   56    1   2       120   236    0        0      178      0      0.8      1   \n",
       "4   57    0   4       120   354    0        0      163      1      0.6      1   \n",
       "\n",
       "    Ca  Thal  \n",
       "0  0.0   6.0  \n",
       "1  0.0   3.0  \n",
       "2  0.0   3.0  \n",
       "3  0.0   3.0  \n",
       "4  0.0   3.0  "
      ]
     },
     "execution_count": 28,
     "metadata": {},
     "output_type": "execute_result"
    }
   ],
   "source": [
    "X.head()"
   ]
  },
  {
   "cell_type": "code",
   "execution_count": 29,
   "metadata": {},
   "outputs": [
    {
     "data": {
      "text/plain": [
       "0    0\n",
       "1    0\n",
       "2    0\n",
       "3    0\n",
       "4    0\n",
       "Name: Output, dtype: int64"
      ]
     },
     "execution_count": 29,
     "metadata": {},
     "output_type": "execute_result"
    }
   ],
   "source": [
    "Y.head()"
   ]
  },
  {
   "cell_type": "code",
   "execution_count": 30,
   "metadata": {},
   "outputs": [],
   "source": [
    "# 학습 데이터와 평가 데이터로 분리\n",
    "from sklearn.model_selection import train_test_split\n",
    "Train_X, Test_X, Train_Y, Test_Y = train_test_split(X, Y)"
   ]
  },
  {
   "cell_type": "code",
   "execution_count": 31,
   "metadata": {},
   "outputs": [
    {
     "data": {
      "text/plain": [
       "Age         0\n",
       "Sex         0\n",
       "Cp          0\n",
       "Trestbps    0\n",
       "Chol        0\n",
       "Fbs         0\n",
       "Restecg     0\n",
       "Thalach     0\n",
       "Exang       0\n",
       "Oldpeak     0\n",
       "Slope       0\n",
       "Ca          3\n",
       "Thal        1\n",
       "dtype: int64"
      ]
     },
     "execution_count": 31,
     "metadata": {},
     "output_type": "execute_result"
    }
   ],
   "source": [
    "# 결측치 확인\n",
    "Train_X.isnull().sum()\n",
    "# 결측치가 많지 않음\n",
    "# 지워도 무방한 수치이지만, 새로 들어온 데이터에 결측이 있을 수도 있다는 도메인 지식이 있다고 가정"
   ]
  },
  {
   "cell_type": "code",
   "execution_count": null,
   "metadata": {},
   "outputs": [],
   "source": [
    "# 상관계수 높으면, Simpleimputer쓰기 전에 다시 생각해 봐야함. "
   ]
  },
  {
   "cell_type": "code",
   "execution_count": 36,
   "metadata": {},
   "outputs": [
    {
     "data": {
      "text/html": [
       "<div>\n",
       "<style scoped>\n",
       "    .dataframe tbody tr th:only-of-type {\n",
       "        vertical-align: middle;\n",
       "    }\n",
       "\n",
       "    .dataframe tbody tr th {\n",
       "        vertical-align: top;\n",
       "    }\n",
       "\n",
       "    .dataframe thead th {\n",
       "        text-align: right;\n",
       "    }\n",
       "</style>\n",
       "<table border=\"1\" class=\"dataframe\">\n",
       "  <thead>\n",
       "    <tr style=\"text-align: right;\">\n",
       "      <th></th>\n",
       "      <th>Age</th>\n",
       "      <th>Sex</th>\n",
       "      <th>Cp</th>\n",
       "      <th>Trestbps</th>\n",
       "      <th>Chol</th>\n",
       "      <th>Fbs</th>\n",
       "      <th>Restecg</th>\n",
       "      <th>Thalach</th>\n",
       "      <th>Exang</th>\n",
       "      <th>Oldpeak</th>\n",
       "      <th>Slope</th>\n",
       "      <th>Ca</th>\n",
       "      <th>Thal</th>\n",
       "    </tr>\n",
       "  </thead>\n",
       "  <tbody>\n",
       "    <tr>\n",
       "      <th>Age</th>\n",
       "      <td>1.000000</td>\n",
       "      <td>-0.200992</td>\n",
       "      <td>0.081034</td>\n",
       "      <td>2.358022e-01</td>\n",
       "      <td>0.268100</td>\n",
       "      <td>0.136374</td>\n",
       "      <td>0.161876</td>\n",
       "      <td>-4.733389e-01</td>\n",
       "      <td>0.055372</td>\n",
       "      <td>0.189158</td>\n",
       "      <td>0.133727</td>\n",
       "      <td>0.252447</td>\n",
       "      <td>0.121502</td>\n",
       "    </tr>\n",
       "    <tr>\n",
       "      <th>Sex</th>\n",
       "      <td>-0.200992</td>\n",
       "      <td>1.000000</td>\n",
       "      <td>-0.134247</td>\n",
       "      <td>7.734126e-02</td>\n",
       "      <td>-0.184299</td>\n",
       "      <td>0.107057</td>\n",
       "      <td>-0.091255</td>\n",
       "      <td>9.910778e-02</td>\n",
       "      <td>0.040302</td>\n",
       "      <td>0.104824</td>\n",
       "      <td>-0.019709</td>\n",
       "      <td>0.080483</td>\n",
       "      <td>0.422075</td>\n",
       "    </tr>\n",
       "    <tr>\n",
       "      <th>Cp</th>\n",
       "      <td>0.081034</td>\n",
       "      <td>-0.134247</td>\n",
       "      <td>1.000000</td>\n",
       "      <td>-1.688649e-01</td>\n",
       "      <td>0.067232</td>\n",
       "      <td>-0.107129</td>\n",
       "      <td>-0.066803</td>\n",
       "      <td>-1.991036e-01</td>\n",
       "      <td>0.299046</td>\n",
       "      <td>0.012214</td>\n",
       "      <td>-0.033181</td>\n",
       "      <td>0.054824</td>\n",
       "      <td>0.060322</td>\n",
       "    </tr>\n",
       "    <tr>\n",
       "      <th>Trestbps</th>\n",
       "      <td>0.235802</td>\n",
       "      <td>0.077341</td>\n",
       "      <td>-0.168865</td>\n",
       "      <td>1.000000e+00</td>\n",
       "      <td>0.075812</td>\n",
       "      <td>0.137208</td>\n",
       "      <td>0.179282</td>\n",
       "      <td>7.791398e-07</td>\n",
       "      <td>-0.033123</td>\n",
       "      <td>0.192599</td>\n",
       "      <td>0.080783</td>\n",
       "      <td>-0.064322</td>\n",
       "      <td>0.159719</td>\n",
       "    </tr>\n",
       "    <tr>\n",
       "      <th>Chol</th>\n",
       "      <td>0.268100</td>\n",
       "      <td>-0.184299</td>\n",
       "      <td>0.067232</td>\n",
       "      <td>7.581215e-02</td>\n",
       "      <td>1.000000</td>\n",
       "      <td>0.011681</td>\n",
       "      <td>0.219068</td>\n",
       "      <td>3.228679e-02</td>\n",
       "      <td>0.004037</td>\n",
       "      <td>-0.008832</td>\n",
       "      <td>-0.032735</td>\n",
       "      <td>0.006632</td>\n",
       "      <td>0.048694</td>\n",
       "    </tr>\n",
       "    <tr>\n",
       "      <th>Fbs</th>\n",
       "      <td>0.136374</td>\n",
       "      <td>0.107057</td>\n",
       "      <td>-0.107129</td>\n",
       "      <td>1.372079e-01</td>\n",
       "      <td>0.011681</td>\n",
       "      <td>1.000000</td>\n",
       "      <td>0.124728</td>\n",
       "      <td>-1.883215e-02</td>\n",
       "      <td>0.075122</td>\n",
       "      <td>0.077063</td>\n",
       "      <td>0.101679</td>\n",
       "      <td>0.120008</td>\n",
       "      <td>-0.016509</td>\n",
       "    </tr>\n",
       "    <tr>\n",
       "      <th>Restecg</th>\n",
       "      <td>0.161876</td>\n",
       "      <td>-0.091255</td>\n",
       "      <td>-0.066803</td>\n",
       "      <td>1.792816e-01</td>\n",
       "      <td>0.219068</td>\n",
       "      <td>0.124728</td>\n",
       "      <td>1.000000</td>\n",
       "      <td>-4.183578e-02</td>\n",
       "      <td>0.037741</td>\n",
       "      <td>0.067388</td>\n",
       "      <td>0.133482</td>\n",
       "      <td>0.014075</td>\n",
       "      <td>-0.052387</td>\n",
       "    </tr>\n",
       "    <tr>\n",
       "      <th>Thalach</th>\n",
       "      <td>-0.473339</td>\n",
       "      <td>0.099108</td>\n",
       "      <td>-0.199104</td>\n",
       "      <td>7.791398e-07</td>\n",
       "      <td>0.032287</td>\n",
       "      <td>-0.018832</td>\n",
       "      <td>-0.041836</td>\n",
       "      <td>1.000000e+00</td>\n",
       "      <td>-0.266268</td>\n",
       "      <td>-0.233896</td>\n",
       "      <td>-0.220070</td>\n",
       "      <td>-0.171389</td>\n",
       "      <td>-0.173791</td>\n",
       "    </tr>\n",
       "    <tr>\n",
       "      <th>Exang</th>\n",
       "      <td>0.055372</td>\n",
       "      <td>0.040302</td>\n",
       "      <td>0.299046</td>\n",
       "      <td>-3.312278e-02</td>\n",
       "      <td>0.004037</td>\n",
       "      <td>0.075122</td>\n",
       "      <td>0.037741</td>\n",
       "      <td>-2.662679e-01</td>\n",
       "      <td>1.000000</td>\n",
       "      <td>0.142140</td>\n",
       "      <td>0.134293</td>\n",
       "      <td>0.118001</td>\n",
       "      <td>0.212970</td>\n",
       "    </tr>\n",
       "    <tr>\n",
       "      <th>Oldpeak</th>\n",
       "      <td>0.189158</td>\n",
       "      <td>0.104824</td>\n",
       "      <td>0.012214</td>\n",
       "      <td>1.925988e-01</td>\n",
       "      <td>-0.008832</td>\n",
       "      <td>0.077063</td>\n",
       "      <td>0.067388</td>\n",
       "      <td>-2.338964e-01</td>\n",
       "      <td>0.142140</td>\n",
       "      <td>1.000000</td>\n",
       "      <td>0.523991</td>\n",
       "      <td>0.023849</td>\n",
       "      <td>0.132789</td>\n",
       "    </tr>\n",
       "    <tr>\n",
       "      <th>Slope</th>\n",
       "      <td>0.133727</td>\n",
       "      <td>-0.019709</td>\n",
       "      <td>-0.033181</td>\n",
       "      <td>8.078293e-02</td>\n",
       "      <td>-0.032735</td>\n",
       "      <td>0.101679</td>\n",
       "      <td>0.133482</td>\n",
       "      <td>-2.200701e-01</td>\n",
       "      <td>0.134293</td>\n",
       "      <td>0.523991</td>\n",
       "      <td>1.000000</td>\n",
       "      <td>-0.045786</td>\n",
       "      <td>0.174614</td>\n",
       "    </tr>\n",
       "    <tr>\n",
       "      <th>Ca</th>\n",
       "      <td>0.252447</td>\n",
       "      <td>0.080483</td>\n",
       "      <td>0.054824</td>\n",
       "      <td>-6.432217e-02</td>\n",
       "      <td>0.006632</td>\n",
       "      <td>0.120008</td>\n",
       "      <td>0.014075</td>\n",
       "      <td>-1.713892e-01</td>\n",
       "      <td>0.118001</td>\n",
       "      <td>0.023849</td>\n",
       "      <td>-0.045786</td>\n",
       "      <td>1.000000</td>\n",
       "      <td>0.062438</td>\n",
       "    </tr>\n",
       "    <tr>\n",
       "      <th>Thal</th>\n",
       "      <td>0.121502</td>\n",
       "      <td>0.422075</td>\n",
       "      <td>0.060322</td>\n",
       "      <td>1.597193e-01</td>\n",
       "      <td>0.048694</td>\n",
       "      <td>-0.016509</td>\n",
       "      <td>-0.052387</td>\n",
       "      <td>-1.737913e-01</td>\n",
       "      <td>0.212970</td>\n",
       "      <td>0.132789</td>\n",
       "      <td>0.174614</td>\n",
       "      <td>0.062438</td>\n",
       "      <td>1.000000</td>\n",
       "    </tr>\n",
       "  </tbody>\n",
       "</table>\n",
       "</div>"
      ],
      "text/plain": [
       "               Age       Sex        Cp      Trestbps      Chol       Fbs  \\\n",
       "Age       1.000000 -0.200992  0.081034  2.358022e-01  0.268100  0.136374   \n",
       "Sex      -0.200992  1.000000 -0.134247  7.734126e-02 -0.184299  0.107057   \n",
       "Cp        0.081034 -0.134247  1.000000 -1.688649e-01  0.067232 -0.107129   \n",
       "Trestbps  0.235802  0.077341 -0.168865  1.000000e+00  0.075812  0.137208   \n",
       "Chol      0.268100 -0.184299  0.067232  7.581215e-02  1.000000  0.011681   \n",
       "Fbs       0.136374  0.107057 -0.107129  1.372079e-01  0.011681  1.000000   \n",
       "Restecg   0.161876 -0.091255 -0.066803  1.792816e-01  0.219068  0.124728   \n",
       "Thalach  -0.473339  0.099108 -0.199104  7.791398e-07  0.032287 -0.018832   \n",
       "Exang     0.055372  0.040302  0.299046 -3.312278e-02  0.004037  0.075122   \n",
       "Oldpeak   0.189158  0.104824  0.012214  1.925988e-01 -0.008832  0.077063   \n",
       "Slope     0.133727 -0.019709 -0.033181  8.078293e-02 -0.032735  0.101679   \n",
       "Ca        0.252447  0.080483  0.054824 -6.432217e-02  0.006632  0.120008   \n",
       "Thal      0.121502  0.422075  0.060322  1.597193e-01  0.048694 -0.016509   \n",
       "\n",
       "           Restecg       Thalach     Exang   Oldpeak     Slope        Ca  \\\n",
       "Age       0.161876 -4.733389e-01  0.055372  0.189158  0.133727  0.252447   \n",
       "Sex      -0.091255  9.910778e-02  0.040302  0.104824 -0.019709  0.080483   \n",
       "Cp       -0.066803 -1.991036e-01  0.299046  0.012214 -0.033181  0.054824   \n",
       "Trestbps  0.179282  7.791398e-07 -0.033123  0.192599  0.080783 -0.064322   \n",
       "Chol      0.219068  3.228679e-02  0.004037 -0.008832 -0.032735  0.006632   \n",
       "Fbs       0.124728 -1.883215e-02  0.075122  0.077063  0.101679  0.120008   \n",
       "Restecg   1.000000 -4.183578e-02  0.037741  0.067388  0.133482  0.014075   \n",
       "Thalach  -0.041836  1.000000e+00 -0.266268 -0.233896 -0.220070 -0.171389   \n",
       "Exang     0.037741 -2.662679e-01  1.000000  0.142140  0.134293  0.118001   \n",
       "Oldpeak   0.067388 -2.338964e-01  0.142140  1.000000  0.523991  0.023849   \n",
       "Slope     0.133482 -2.200701e-01  0.134293  0.523991  1.000000 -0.045786   \n",
       "Ca        0.014075 -1.713892e-01  0.118001  0.023849 -0.045786  1.000000   \n",
       "Thal     -0.052387 -1.737913e-01  0.212970  0.132789  0.174614  0.062438   \n",
       "\n",
       "              Thal  \n",
       "Age       0.121502  \n",
       "Sex       0.422075  \n",
       "Cp        0.060322  \n",
       "Trestbps  0.159719  \n",
       "Chol      0.048694  \n",
       "Fbs      -0.016509  \n",
       "Restecg  -0.052387  \n",
       "Thalach  -0.173791  \n",
       "Exang     0.212970  \n",
       "Oldpeak   0.132789  \n",
       "Slope     0.174614  \n",
       "Ca        0.062438  \n",
       "Thal      1.000000  "
      ]
     },
     "execution_count": 36,
     "metadata": {},
     "output_type": "execute_result"
    }
   ],
   "source": [
    "Train_X.corr()"
   ]
  },
  {
   "cell_type": "code",
   "execution_count": 35,
   "metadata": {},
   "outputs": [
    {
     "data": {
      "text/plain": [
       "Age         1.961062\n",
       "Sex         1.300687\n",
       "Cp          0.865344\n",
       "Trestbps    1.872237\n",
       "Chol        1.507677\n",
       "Fbs         1.748450\n",
       "Restecg     1.685358\n",
       "Thalach    -0.667130\n",
       "Exang       1.819636\n",
       "Oldpeak     2.223286\n",
       "Slope       1.931090\n",
       "Ca          1.451261\n",
       "Thal        2.152437\n",
       "dtype: float64"
      ]
     },
     "execution_count": 35,
     "metadata": {},
     "output_type": "execute_result"
    }
   ],
   "source": [
    "# corr찍으면 복잡하게 나오니깐, 그냥 열별로 합해버린 것. \n",
    "Train_X.corr().sum()"
   ]
  },
  {
   "cell_type": "code",
   "execution_count": 32,
   "metadata": {},
   "outputs": [
    {
     "data": {
      "text/plain": [
       "Age         0.163422\n",
       "Sex         0.108391\n",
       "Cp          0.072112\n",
       "Trestbps    0.156020\n",
       "Chol        0.125640\n",
       "Fbs         0.145704\n",
       "Restecg     0.140447\n",
       "Thalach    -0.055594\n",
       "Exang       0.151636\n",
       "Oldpeak     0.185274\n",
       "Slope       0.160924\n",
       "Ca          0.120938\n",
       "Thal        0.179370\n",
       "dtype: float64"
      ]
     },
     "execution_count": 32,
     "metadata": {},
     "output_type": "execute_result"
    }
   ],
   "source": [
    "# 평균 상관 계수 확인 (주의: 모든 변수가 연속형이므로 가능한 접근)\n",
    "# 분모에서는 대각 행렬인 1을 빼준 것. \n",
    "Train_X.corr().sum() / (len(Train_X.columns) - 1)\n",
    "\n",
    "# 수치가 높지 않다고 판단 => 특징 간 관계가 크지 않음 => 대표값 대체 활용 가능 판단"
   ]
  },
  {
   "cell_type": "code",
   "execution_count": 37,
   "metadata": {},
   "outputs": [],
   "source": [
    "# 대표값을 활용한 결측치 대체\n",
    "from sklearn.impute import SimpleImputer\n",
    "\n",
    "# SimpleImputer 인스턴스화\n",
    "SI = SimpleImputer(strategy = 'mean')\n",
    "\n",
    "# 학습, 실제 대푯값 등을 학습\n",
    "SI.fit(Train_X)\n",
    "\n",
    "# sklearn instance의 출력은 ndarray이므로 다시 DataFrame으로 바꿔줌\n",
    "Train_X = pd.DataFrame(SI.transform(Train_X), columns = Train_X.columns)\n",
    "Test_X = pd.DataFrame(SI.transform(Test_X), columns = Test_X.columns)"
   ]
  },
  {
   "cell_type": "code",
   "execution_count": 38,
   "metadata": {},
   "outputs": [
    {
     "data": {
      "text/plain": [
       "Age         0\n",
       "Sex         0\n",
       "Cp          0\n",
       "Trestbps    0\n",
       "Chol        0\n",
       "Fbs         0\n",
       "Restecg     0\n",
       "Thalach     0\n",
       "Exang       0\n",
       "Oldpeak     0\n",
       "Slope       0\n",
       "Ca          0\n",
       "Thal        0\n",
       "dtype: int64"
      ]
     },
     "execution_count": 38,
     "metadata": {},
     "output_type": "execute_result"
    }
   ],
   "source": [
    "Train_X.isnull().sum()"
   ]
  },
  {
   "cell_type": "code",
   "execution_count": 39,
   "metadata": {},
   "outputs": [
    {
     "data": {
      "text/html": [
       "<div>\n",
       "<style scoped>\n",
       "    .dataframe tbody tr th:only-of-type {\n",
       "        vertical-align: middle;\n",
       "    }\n",
       "\n",
       "    .dataframe tbody tr th {\n",
       "        vertical-align: top;\n",
       "    }\n",
       "\n",
       "    .dataframe thead th {\n",
       "        text-align: right;\n",
       "    }\n",
       "</style>\n",
       "<table border=\"1\" class=\"dataframe\">\n",
       "  <thead>\n",
       "    <tr style=\"text-align: right;\">\n",
       "      <th></th>\n",
       "      <th>Age</th>\n",
       "      <th>Sex</th>\n",
       "      <th>Cp</th>\n",
       "      <th>Trestbps</th>\n",
       "      <th>Chol</th>\n",
       "      <th>Fbs</th>\n",
       "      <th>Restecg</th>\n",
       "      <th>Thalach</th>\n",
       "      <th>Exang</th>\n",
       "      <th>Oldpeak</th>\n",
       "      <th>Slope</th>\n",
       "      <th>Ca</th>\n",
       "      <th>Thal</th>\n",
       "    </tr>\n",
       "  </thead>\n",
       "  <tbody>\n",
       "    <tr>\n",
       "      <th>0</th>\n",
       "      <td>60.0</td>\n",
       "      <td>1.0</td>\n",
       "      <td>4.0</td>\n",
       "      <td>130.0</td>\n",
       "      <td>253.0</td>\n",
       "      <td>0.0</td>\n",
       "      <td>0.0</td>\n",
       "      <td>144.0</td>\n",
       "      <td>1.0</td>\n",
       "      <td>1.4</td>\n",
       "      <td>1.0</td>\n",
       "      <td>1.0</td>\n",
       "      <td>7.0</td>\n",
       "    </tr>\n",
       "    <tr>\n",
       "      <th>1</th>\n",
       "      <td>58.0</td>\n",
       "      <td>1.0</td>\n",
       "      <td>4.0</td>\n",
       "      <td>146.0</td>\n",
       "      <td>218.0</td>\n",
       "      <td>0.0</td>\n",
       "      <td>0.0</td>\n",
       "      <td>105.0</td>\n",
       "      <td>0.0</td>\n",
       "      <td>2.0</td>\n",
       "      <td>2.0</td>\n",
       "      <td>1.0</td>\n",
       "      <td>7.0</td>\n",
       "    </tr>\n",
       "    <tr>\n",
       "      <th>2</th>\n",
       "      <td>53.0</td>\n",
       "      <td>1.0</td>\n",
       "      <td>4.0</td>\n",
       "      <td>140.0</td>\n",
       "      <td>203.0</td>\n",
       "      <td>1.0</td>\n",
       "      <td>2.0</td>\n",
       "      <td>155.0</td>\n",
       "      <td>1.0</td>\n",
       "      <td>3.1</td>\n",
       "      <td>3.0</td>\n",
       "      <td>0.0</td>\n",
       "      <td>7.0</td>\n",
       "    </tr>\n",
       "    <tr>\n",
       "      <th>3</th>\n",
       "      <td>58.0</td>\n",
       "      <td>1.0</td>\n",
       "      <td>2.0</td>\n",
       "      <td>120.0</td>\n",
       "      <td>284.0</td>\n",
       "      <td>0.0</td>\n",
       "      <td>2.0</td>\n",
       "      <td>160.0</td>\n",
       "      <td>0.0</td>\n",
       "      <td>1.8</td>\n",
       "      <td>2.0</td>\n",
       "      <td>0.0</td>\n",
       "      <td>3.0</td>\n",
       "    </tr>\n",
       "    <tr>\n",
       "      <th>4</th>\n",
       "      <td>42.0</td>\n",
       "      <td>1.0</td>\n",
       "      <td>1.0</td>\n",
       "      <td>148.0</td>\n",
       "      <td>244.0</td>\n",
       "      <td>0.0</td>\n",
       "      <td>2.0</td>\n",
       "      <td>178.0</td>\n",
       "      <td>0.0</td>\n",
       "      <td>0.8</td>\n",
       "      <td>1.0</td>\n",
       "      <td>2.0</td>\n",
       "      <td>3.0</td>\n",
       "    </tr>\n",
       "  </tbody>\n",
       "</table>\n",
       "</div>"
      ],
      "text/plain": [
       "    Age  Sex   Cp  Trestbps   Chol  Fbs  Restecg  Thalach  Exang  Oldpeak  \\\n",
       "0  60.0  1.0  4.0     130.0  253.0  0.0      0.0    144.0    1.0      1.4   \n",
       "1  58.0  1.0  4.0     146.0  218.0  0.0      0.0    105.0    0.0      2.0   \n",
       "2  53.0  1.0  4.0     140.0  203.0  1.0      2.0    155.0    1.0      3.1   \n",
       "3  58.0  1.0  2.0     120.0  284.0  0.0      2.0    160.0    0.0      1.8   \n",
       "4  42.0  1.0  1.0     148.0  244.0  0.0      2.0    178.0    0.0      0.8   \n",
       "\n",
       "   Slope   Ca  Thal  \n",
       "0    1.0  1.0   7.0  \n",
       "1    2.0  1.0   7.0  \n",
       "2    3.0  0.0   7.0  \n",
       "3    2.0  0.0   3.0  \n",
       "4    1.0  2.0   3.0  "
      ]
     },
     "execution_count": 39,
     "metadata": {},
     "output_type": "execute_result"
    }
   ],
   "source": [
    "Train_X.head()"
   ]
  },
  {
   "cell_type": "markdown",
   "metadata": {},
   "source": [
    "#### 복잡한 케이스: 다른 타입의 특징이 있는 경우"
   ]
  },
  {
   "cell_type": "code",
   "execution_count": 41,
   "metadata": {},
   "outputs": [],
   "source": [
    "df = pd.read_csv(\"saheart.csv\")"
   ]
  },
  {
   "cell_type": "code",
   "execution_count": 42,
   "metadata": {},
   "outputs": [],
   "source": [
    "# 특징과 라벨 분리\n",
    "X = df.drop('Chd', axis = 1)\n",
    "Y = df['Chd']"
   ]
  },
  {
   "cell_type": "code",
   "execution_count": 43,
   "metadata": {},
   "outputs": [],
   "source": [
    "# 학습 데이터와 평가 데이터로 분리\n",
    "from sklearn.model_selection import train_test_split\n",
    "Train_X, Test_X, Train_Y, Test_Y = train_test_split(X, Y)"
   ]
  },
  {
   "cell_type": "code",
   "execution_count": 44,
   "metadata": {
    "scrolled": false
   },
   "outputs": [
    {
     "data": {
      "text/plain": [
       "Sbp          0\n",
       "Tobacco      0\n",
       "Ldl          0\n",
       "Adiposity    0\n",
       "Typea        0\n",
       "Obesity      7\n",
       "Alcohol      4\n",
       "Age          0\n",
       "Famhist      4\n",
       "dtype: int64"
      ]
     },
     "execution_count": 44,
     "metadata": {},
     "output_type": "execute_result"
    }
   ],
   "source": [
    "# 결측치 확인\n",
    "Train_X.isnull().sum()\n",
    "# 결측치가 많지 않음\n",
    "# 지워도 무방한 수치이지만, 새로 들어온 데이터에 결측이 있을 수도 있다는 도메인 지식이 있다고 가정"
   ]
  },
  {
   "cell_type": "code",
   "execution_count": 45,
   "metadata": {},
   "outputs": [
    {
     "data": {
      "text/plain": [
       "Sbp          0.307972\n",
       "Tobacco      0.229889\n",
       "Ldl          0.296297\n",
       "Adiposity    0.429504\n",
       "Typea        0.107424\n",
       "Obesity      0.340740\n",
       "Alcohol      0.206673\n",
       "Age          0.363220\n",
       "Famhist      0.244280\n",
       "dtype: float64"
      ]
     },
     "execution_count": 45,
     "metadata": {},
     "output_type": "execute_result"
    }
   ],
   "source": [
    "# 평균 상관 계수 확인 (주의: 모든 변수가 연속형이므로 가능한 접근)\n",
    "Train_X.corr().sum() / (len(Train_X.columns) - 1)\n",
    "\n",
    "# 수치가 높지 않다고 판단 => 특징 간 관계가 크지 않음 => 대표값 대체 활용 가능 판단"
   ]
  },
  {
   "cell_type": "code",
   "execution_count": 46,
   "metadata": {},
   "outputs": [],
   "source": [
    "# Famhist: 범주형 변수\n",
    "# 그 외 변수: 연속형 변수\n",
    "\n",
    "# 대표값을 평균을 사용할지, 최빈값을 사용할지 결정이 어려움 => 둘 다 사용해야 함\n",
    "# 따라서 데이터를 분할해야 함\n",
    "\n",
    "Train_X_cate = Train_X[['Famhist']]\n",
    "Train_X_cont = Train_X.drop('Famhist', axis = 1)\n",
    "\n",
    "Test_X_cate = Test_X[['Famhist']]\n",
    "Test_X_cont = Test_X.drop('Famhist', axis = 1)"
   ]
  },
  {
   "cell_type": "code",
   "execution_count": 47,
   "metadata": {},
   "outputs": [],
   "source": [
    "# 대표값을 활용한 결측치 대체\n",
    "from sklearn.impute import SimpleImputer\n",
    "\n",
    "# SimpleImputer 인스턴스화\n",
    "SI_mode = SimpleImputer(strategy = 'most_frequent')\n",
    "SI_mean = SimpleImputer(strategy = 'mean')\n",
    "\n",
    "# 학습\n",
    "SI_mode.fit(Train_X_cate)\n",
    "SI_mean.fit(Train_X_cont)\n",
    "\n",
    "# sklearn instance의 출력은 ndarray이므로 다시 DataFrame으로 바꿔줌\n",
    "Train_X_cate = pd.DataFrame(SI_mode.transform(Train_X_cate),\n",
    "                            columns = Train_X_cate.columns)\n",
    "\n",
    "Test_X_cate = pd.DataFrame(SI_mode.transform(Test_X_cate),\n",
    "                           columns = Test_X_cate.columns)\n",
    "\n",
    "Train_X_cont = pd.DataFrame(SI_mean.transform(Train_X_cont),\n",
    "                            columns = Train_X_cont.columns)\n",
    "\n",
    "Test_X_cont = pd.DataFrame(SI_mean.transform(Test_X_cont),\n",
    "                           columns = Test_X_cont.columns)\n",
    "\n",
    "# 다시 두 데이터를 이어붙여야 함\n",
    "Train_X = pd.concat([Train_X_cate, Train_X_cont], axis = 1)\n",
    "Test_X = pd.concat([Test_X_cate, Test_X_cont], axis = 1)"
   ]
  },
  {
   "cell_type": "code",
   "execution_count": 49,
   "metadata": {},
   "outputs": [
    {
     "data": {
      "text/html": [
       "<div>\n",
       "<style scoped>\n",
       "    .dataframe tbody tr th:only-of-type {\n",
       "        vertical-align: middle;\n",
       "    }\n",
       "\n",
       "    .dataframe tbody tr th {\n",
       "        vertical-align: top;\n",
       "    }\n",
       "\n",
       "    .dataframe thead th {\n",
       "        text-align: right;\n",
       "    }\n",
       "</style>\n",
       "<table border=\"1\" class=\"dataframe\">\n",
       "  <thead>\n",
       "    <tr style=\"text-align: right;\">\n",
       "      <th></th>\n",
       "      <th>Sbp</th>\n",
       "      <th>Tobacco</th>\n",
       "      <th>Ldl</th>\n",
       "      <th>Adiposity</th>\n",
       "      <th>Typea</th>\n",
       "      <th>Obesity</th>\n",
       "      <th>Alcohol</th>\n",
       "      <th>Age</th>\n",
       "    </tr>\n",
       "  </thead>\n",
       "  <tbody>\n",
       "    <tr>\n",
       "      <th>0</th>\n",
       "      <td>132.0</td>\n",
       "      <td>0.0</td>\n",
       "      <td>4.63</td>\n",
       "      <td>27.86</td>\n",
       "      <td>46.0</td>\n",
       "      <td>23.39</td>\n",
       "      <td>0.510000</td>\n",
       "      <td>52.0</td>\n",
       "    </tr>\n",
       "    <tr>\n",
       "      <th>1</th>\n",
       "      <td>144.0</td>\n",
       "      <td>0.0</td>\n",
       "      <td>8.13</td>\n",
       "      <td>35.61</td>\n",
       "      <td>46.0</td>\n",
       "      <td>27.38</td>\n",
       "      <td>13.370000</td>\n",
       "      <td>60.0</td>\n",
       "    </tr>\n",
       "    <tr>\n",
       "      <th>2</th>\n",
       "      <td>128.0</td>\n",
       "      <td>0.0</td>\n",
       "      <td>3.58</td>\n",
       "      <td>20.71</td>\n",
       "      <td>55.0</td>\n",
       "      <td>24.15</td>\n",
       "      <td>0.000000</td>\n",
       "      <td>52.0</td>\n",
       "    </tr>\n",
       "    <tr>\n",
       "      <th>3</th>\n",
       "      <td>194.0</td>\n",
       "      <td>0.0</td>\n",
       "      <td>6.89</td>\n",
       "      <td>33.88</td>\n",
       "      <td>69.0</td>\n",
       "      <td>29.33</td>\n",
       "      <td>0.000000</td>\n",
       "      <td>41.0</td>\n",
       "    </tr>\n",
       "    <tr>\n",
       "      <th>4</th>\n",
       "      <td>182.0</td>\n",
       "      <td>0.0</td>\n",
       "      <td>4.41</td>\n",
       "      <td>32.10</td>\n",
       "      <td>52.0</td>\n",
       "      <td>28.61</td>\n",
       "      <td>16.400965</td>\n",
       "      <td>52.0</td>\n",
       "    </tr>\n",
       "    <tr>\n",
       "      <th>...</th>\n",
       "      <td>...</td>\n",
       "      <td>...</td>\n",
       "      <td>...</td>\n",
       "      <td>...</td>\n",
       "      <td>...</td>\n",
       "      <td>...</td>\n",
       "      <td>...</td>\n",
       "      <td>...</td>\n",
       "    </tr>\n",
       "    <tr>\n",
       "      <th>341</th>\n",
       "      <td>160.0</td>\n",
       "      <td>0.0</td>\n",
       "      <td>8.12</td>\n",
       "      <td>29.30</td>\n",
       "      <td>54.0</td>\n",
       "      <td>25.87</td>\n",
       "      <td>12.860000</td>\n",
       "      <td>43.0</td>\n",
       "    </tr>\n",
       "    <tr>\n",
       "      <th>342</th>\n",
       "      <td>128.0</td>\n",
       "      <td>0.0</td>\n",
       "      <td>4.90</td>\n",
       "      <td>31.35</td>\n",
       "      <td>57.0</td>\n",
       "      <td>26.42</td>\n",
       "      <td>0.000000</td>\n",
       "      <td>64.0</td>\n",
       "    </tr>\n",
       "    <tr>\n",
       "      <th>343</th>\n",
       "      <td>120.0</td>\n",
       "      <td>0.0</td>\n",
       "      <td>15.33</td>\n",
       "      <td>22.00</td>\n",
       "      <td>60.0</td>\n",
       "      <td>25.31</td>\n",
       "      <td>34.490000</td>\n",
       "      <td>49.0</td>\n",
       "    </tr>\n",
       "    <tr>\n",
       "      <th>344</th>\n",
       "      <td>162.0</td>\n",
       "      <td>5.6</td>\n",
       "      <td>4.24</td>\n",
       "      <td>22.53</td>\n",
       "      <td>29.0</td>\n",
       "      <td>22.91</td>\n",
       "      <td>5.660000</td>\n",
       "      <td>60.0</td>\n",
       "    </tr>\n",
       "    <tr>\n",
       "      <th>345</th>\n",
       "      <td>124.0</td>\n",
       "      <td>0.0</td>\n",
       "      <td>2.44</td>\n",
       "      <td>16.67</td>\n",
       "      <td>65.0</td>\n",
       "      <td>24.58</td>\n",
       "      <td>74.910000</td>\n",
       "      <td>23.0</td>\n",
       "    </tr>\n",
       "  </tbody>\n",
       "</table>\n",
       "<p>346 rows × 8 columns</p>\n",
       "</div>"
      ],
      "text/plain": [
       "       Sbp  Tobacco    Ldl  Adiposity  Typea  Obesity    Alcohol   Age\n",
       "0    132.0      0.0   4.63      27.86   46.0    23.39   0.510000  52.0\n",
       "1    144.0      0.0   8.13      35.61   46.0    27.38  13.370000  60.0\n",
       "2    128.0      0.0   3.58      20.71   55.0    24.15   0.000000  52.0\n",
       "3    194.0      0.0   6.89      33.88   69.0    29.33   0.000000  41.0\n",
       "4    182.0      0.0   4.41      32.10   52.0    28.61  16.400965  52.0\n",
       "..     ...      ...    ...        ...    ...      ...        ...   ...\n",
       "341  160.0      0.0   8.12      29.30   54.0    25.87  12.860000  43.0\n",
       "342  128.0      0.0   4.90      31.35   57.0    26.42   0.000000  64.0\n",
       "343  120.0      0.0  15.33      22.00   60.0    25.31  34.490000  49.0\n",
       "344  162.0      5.6   4.24      22.53   29.0    22.91   5.660000  60.0\n",
       "345  124.0      0.0   2.44      16.67   65.0    24.58  74.910000  23.0\n",
       "\n",
       "[346 rows x 8 columns]"
      ]
     },
     "execution_count": 49,
     "metadata": {},
     "output_type": "execute_result"
    }
   ],
   "source": [
    "Train_X_cont"
   ]
  },
  {
   "cell_type": "code",
   "execution_count": 50,
   "metadata": {},
   "outputs": [
    {
     "data": {
      "text/plain": [
       "Famhist      0\n",
       "Sbp          0\n",
       "Tobacco      0\n",
       "Ldl          0\n",
       "Adiposity    0\n",
       "Typea        0\n",
       "Obesity      0\n",
       "Alcohol      0\n",
       "Age          0\n",
       "dtype: int64"
      ]
     },
     "execution_count": 50,
     "metadata": {},
     "output_type": "execute_result"
    }
   ],
   "source": [
    "Train_X.isnull().sum()"
   ]
  },
  {
   "cell_type": "code",
   "execution_count": null,
   "metadata": {},
   "outputs": [],
   "source": [
    "# Tip. 이진형 변수와 연속형 변수만 포함된 경우에는 SI_mean만 사용하여 결측치를 평균으로 대체한 뒤에, \n",
    "# 이진형 변수에 대해서만 round 처리를 하면 하나의 인스턴스만 활용할 수 있음"
   ]
  },
  {
   "cell_type": "code",
   "execution_count": null,
   "metadata": {},
   "outputs": [],
   "source": []
  },
  {
   "cell_type": "code",
   "execution_count": null,
   "metadata": {},
   "outputs": [],
   "source": []
  },
  {
   "cell_type": "markdown",
   "metadata": {},
   "source": [
    "# 시계열 결측치 대체"
   ]
  },
  {
   "cell_type": "markdown",
   "metadata": {},
   "source": [
    "- 시계열 변수 한정, 근처값으로 대체.\n",
    "- 바로 이전값과 굉장히 비슷하게 나오기 때문에 쓰는 방법. "
   ]
  },
  {
   "cell_type": "markdown",
   "metadata": {},
   "source": [
    "![4_29.png](../materials/4_31_1.png)"
   ]
  },
  {
   "cell_type": "markdown",
   "metadata": {},
   "source": [
    "![4_29.png](../materials/4_33.png)"
   ]
  },
  {
   "cell_type": "markdown",
   "metadata": {},
   "source": [
    "- 시간에 따른 정렬이 되어 있다고 전제된 상태. \n",
    "- 맨 앞이나 뒤는 보통 남게 되니깐, 한 방법으로 먼저 채우고, 다른 방법 한번 더 쓰는 방식을 자주 씀. "
   ]
  },
  {
   "cell_type": "code",
   "execution_count": 51,
   "metadata": {},
   "outputs": [],
   "source": [
    "# 데이터를 train_test_split을 이용하여 임의로 분할한 경우에는 적용이 불가능\n",
    "# 분할하기 전에 결측치 대체가 가능한 유일한 케이스"
   ]
  },
  {
   "cell_type": "code",
   "execution_count": 52,
   "metadata": {},
   "outputs": [],
   "source": [
    "import pandas as pd\n",
    "import os\n",
    "\n",
    "os.chdir(r\"/Users/sanghyuk/Documents/preprocessing_python/lecture_source/Part 4. 머신러닝을 위한 필수 전처리/데이터/\")"
   ]
  },
  {
   "cell_type": "code",
   "execution_count": 53,
   "metadata": {},
   "outputs": [],
   "source": [
    "df = pd.read_excel(\"AirQuality.xlsx\")"
   ]
  },
  {
   "cell_type": "code",
   "execution_count": 54,
   "metadata": {},
   "outputs": [
    {
     "data": {
      "text/plain": [
       "Date              0\n",
       "Time              0\n",
       "CO(GT)            1\n",
       "PT08.S1(CO)       2\n",
       "NMHC(GT)          2\n",
       "C6H6(GT)         10\n",
       "PT08.S2(NMHC)     4\n",
       "NOx(GT)           6\n",
       "PT08.S3(NOx)      7\n",
       "NO2(GT)           6\n",
       "PT08.S4(NO2)      6\n",
       "PT08.S5(O3)       1\n",
       "T                 0\n",
       "RH                0\n",
       "AH                0\n",
       "dtype: int64"
      ]
     },
     "execution_count": 54,
     "metadata": {},
     "output_type": "execute_result"
    }
   ],
   "source": [
    "df.isnull().sum()"
   ]
  },
  {
   "cell_type": "code",
   "execution_count": 55,
   "metadata": {
    "scrolled": true
   },
   "outputs": [
    {
     "data": {
      "text/html": [
       "<div>\n",
       "<style scoped>\n",
       "    .dataframe tbody tr th:only-of-type {\n",
       "        vertical-align: middle;\n",
       "    }\n",
       "\n",
       "    .dataframe tbody tr th {\n",
       "        vertical-align: top;\n",
       "    }\n",
       "\n",
       "    .dataframe thead th {\n",
       "        text-align: right;\n",
       "    }\n",
       "</style>\n",
       "<table border=\"1\" class=\"dataframe\">\n",
       "  <thead>\n",
       "    <tr style=\"text-align: right;\">\n",
       "      <th></th>\n",
       "      <th>Date</th>\n",
       "      <th>Time</th>\n",
       "      <th>CO(GT)</th>\n",
       "      <th>PT08.S1(CO)</th>\n",
       "      <th>NMHC(GT)</th>\n",
       "      <th>C6H6(GT)</th>\n",
       "      <th>PT08.S2(NMHC)</th>\n",
       "      <th>NOx(GT)</th>\n",
       "      <th>PT08.S3(NOx)</th>\n",
       "      <th>NO2(GT)</th>\n",
       "      <th>PT08.S4(NO2)</th>\n",
       "      <th>PT08.S5(O3)</th>\n",
       "      <th>T</th>\n",
       "      <th>RH</th>\n",
       "      <th>AH</th>\n",
       "    </tr>\n",
       "  </thead>\n",
       "  <tbody>\n",
       "    <tr>\n",
       "      <th>0</th>\n",
       "      <td>2004-03-10</td>\n",
       "      <td>18:00:00</td>\n",
       "      <td>2.6</td>\n",
       "      <td>1360.00</td>\n",
       "      <td>150.0</td>\n",
       "      <td>11.881723</td>\n",
       "      <td>1045.50</td>\n",
       "      <td>166.0</td>\n",
       "      <td>1056.25</td>\n",
       "      <td>113.0</td>\n",
       "      <td>1692.00</td>\n",
       "      <td>1267.50</td>\n",
       "      <td>13.60</td>\n",
       "      <td>48.875001</td>\n",
       "      <td>0.757754</td>\n",
       "    </tr>\n",
       "    <tr>\n",
       "      <th>1</th>\n",
       "      <td>2004-03-10</td>\n",
       "      <td>19:00:00</td>\n",
       "      <td>2.0</td>\n",
       "      <td>1292.25</td>\n",
       "      <td>112.0</td>\n",
       "      <td>9.397165</td>\n",
       "      <td>954.75</td>\n",
       "      <td>103.0</td>\n",
       "      <td>1173.75</td>\n",
       "      <td>92.0</td>\n",
       "      <td>1558.75</td>\n",
       "      <td>972.25</td>\n",
       "      <td>13.30</td>\n",
       "      <td>47.700000</td>\n",
       "      <td>0.725487</td>\n",
       "    </tr>\n",
       "    <tr>\n",
       "      <th>2</th>\n",
       "      <td>2004-03-10</td>\n",
       "      <td>20:00:00</td>\n",
       "      <td>2.2</td>\n",
       "      <td>1402.00</td>\n",
       "      <td>88.0</td>\n",
       "      <td>8.997817</td>\n",
       "      <td>939.25</td>\n",
       "      <td>131.0</td>\n",
       "      <td>1140.00</td>\n",
       "      <td>114.0</td>\n",
       "      <td>1554.50</td>\n",
       "      <td>1074.00</td>\n",
       "      <td>11.90</td>\n",
       "      <td>53.975000</td>\n",
       "      <td>0.750239</td>\n",
       "    </tr>\n",
       "    <tr>\n",
       "      <th>3</th>\n",
       "      <td>2004-03-10</td>\n",
       "      <td>21:00:00</td>\n",
       "      <td>2.2</td>\n",
       "      <td>1375.50</td>\n",
       "      <td>80.0</td>\n",
       "      <td>9.228796</td>\n",
       "      <td>948.25</td>\n",
       "      <td>172.0</td>\n",
       "      <td>1092.00</td>\n",
       "      <td>122.0</td>\n",
       "      <td>1583.75</td>\n",
       "      <td>1203.25</td>\n",
       "      <td>11.00</td>\n",
       "      <td>60.000000</td>\n",
       "      <td>0.786713</td>\n",
       "    </tr>\n",
       "    <tr>\n",
       "      <th>4</th>\n",
       "      <td>2004-03-10</td>\n",
       "      <td>22:00:00</td>\n",
       "      <td>1.6</td>\n",
       "      <td>1272.25</td>\n",
       "      <td>51.0</td>\n",
       "      <td>6.518224</td>\n",
       "      <td>835.50</td>\n",
       "      <td>131.0</td>\n",
       "      <td>1205.00</td>\n",
       "      <td>116.0</td>\n",
       "      <td>1490.00</td>\n",
       "      <td>1110.00</td>\n",
       "      <td>11.15</td>\n",
       "      <td>59.575001</td>\n",
       "      <td>0.788794</td>\n",
       "    </tr>\n",
       "  </tbody>\n",
       "</table>\n",
       "</div>"
      ],
      "text/plain": [
       "        Date      Time  CO(GT)  PT08.S1(CO)  NMHC(GT)   C6H6(GT)  \\\n",
       "0 2004-03-10  18:00:00     2.6      1360.00     150.0  11.881723   \n",
       "1 2004-03-10  19:00:00     2.0      1292.25     112.0   9.397165   \n",
       "2 2004-03-10  20:00:00     2.2      1402.00      88.0   8.997817   \n",
       "3 2004-03-10  21:00:00     2.2      1375.50      80.0   9.228796   \n",
       "4 2004-03-10  22:00:00     1.6      1272.25      51.0   6.518224   \n",
       "\n",
       "   PT08.S2(NMHC)  NOx(GT)  PT08.S3(NOx)  NO2(GT)  PT08.S4(NO2)  PT08.S5(O3)  \\\n",
       "0        1045.50    166.0       1056.25    113.0       1692.00      1267.50   \n",
       "1         954.75    103.0       1173.75     92.0       1558.75       972.25   \n",
       "2         939.25    131.0       1140.00    114.0       1554.50      1074.00   \n",
       "3         948.25    172.0       1092.00    122.0       1583.75      1203.25   \n",
       "4         835.50    131.0       1205.00    116.0       1490.00      1110.00   \n",
       "\n",
       "       T         RH        AH  \n",
       "0  13.60  48.875001  0.757754  \n",
       "1  13.30  47.700000  0.725487  \n",
       "2  11.90  53.975000  0.750239  \n",
       "3  11.00  60.000000  0.786713  \n",
       "4  11.15  59.575001  0.788794  "
      ]
     },
     "execution_count": 55,
     "metadata": {},
     "output_type": "execute_result"
    }
   ],
   "source": [
    "df.head()"
   ]
  },
  {
   "cell_type": "markdown",
   "metadata": {},
   "source": [
    "보통은 ffill을 먼저 쓰는게 더 바람직하다. 새로 들어온 데이터는 맨 뒤로 가니깐. "
   ]
  },
  {
   "cell_type": "code",
   "execution_count": 56,
   "metadata": {},
   "outputs": [],
   "source": [
    "df = df.fillna(method = 'ffill').fillna(method = 'bfill')"
   ]
  },
  {
   "cell_type": "code",
   "execution_count": 57,
   "metadata": {},
   "outputs": [
    {
     "data": {
      "text/plain": [
       "Date             0\n",
       "Time             0\n",
       "CO(GT)           0\n",
       "PT08.S1(CO)      0\n",
       "NMHC(GT)         0\n",
       "C6H6(GT)         0\n",
       "PT08.S2(NMHC)    0\n",
       "NOx(GT)          0\n",
       "PT08.S3(NOx)     0\n",
       "NO2(GT)          0\n",
       "PT08.S4(NO2)     0\n",
       "PT08.S5(O3)      0\n",
       "T                0\n",
       "RH               0\n",
       "AH               0\n",
       "dtype: int64"
      ]
     },
     "execution_count": 57,
     "metadata": {},
     "output_type": "execute_result"
    }
   ],
   "source": [
    "df.isnull().sum()"
   ]
  },
  {
   "cell_type": "code",
   "execution_count": null,
   "metadata": {},
   "outputs": [],
   "source": []
  },
  {
   "cell_type": "code",
   "execution_count": null,
   "metadata": {},
   "outputs": [],
   "source": []
  },
  {
   "cell_type": "markdown",
   "metadata": {},
   "source": [
    "# 결측치 예측 모델 활용"
   ]
  },
  {
   "cell_type": "markdown",
   "metadata": {},
   "source": [
    "- 결측이 있을 때, 그 값이 원래 어떤 값이였을지 예측해서 활용하는 것. \n",
    "- 결측치 컬럼 자체를 새로운 라벨로 보고, 나머지는 feature로 봐서 예측 모델을 만드는 것. "
   ]
  },
  {
   "cell_type": "markdown",
   "metadata": {},
   "source": [
    "![4_34.png](../materials/4_34.png)"
   ]
  },
  {
   "cell_type": "markdown",
   "metadata": {},
   "source": [
    "- 결측치가 특정 컬럼에서 비율이 너무 높으면, 그 컬럼이 label로 쓰여야 되는데 라벨값 자체가 적은 상황. 예측 모델이 잘 안돌아갈 수 있지. \n",
    "    - 근데 한 90%여도, 남은 레코드가 한 10만개 되면 상관 없지. \n",
    "- 특징간 관계가 있어야 한다. 그래야, 예측이 가능하지. 완벽하게 독립이면 쓸모가 없다. "
   ]
  },
  {
   "cell_type": "markdown",
   "metadata": {},
   "source": [
    "![4_34.png](../materials/4_35_1.png)"
   ]
  },
  {
   "cell_type": "markdown",
   "metadata": {},
   "source": [
    "- 현재 하단에서, a/c/d에 결측이 있고, b/e는 결측을 처리할 필요가 없다. \n",
    "- a, c, d에 대해서만 이웃을 찾는다. \n",
    "    - 그럼 d는 이웃이 c랑 b라는데 어떻게 계산된걸까?\n",
    "    - d와 c의 거리는 |7-5|, d와 b의 거리는 |7-4| 이렇게 해서 나왔겠지. \n",
    "- 되는 애들로만, 거리 계산해서 이웃을 찾는 것 같다.  \n",
    "- 공식문서 : `Two samples are close if the features that neither is missing are close.`"
   ]
  },
  {
   "cell_type": "markdown",
   "metadata": {},
   "source": [
    "![4_34.png](../materials/4_36.png)"
   ]
  },
  {
   "cell_type": "markdown",
   "metadata": {},
   "source": [
    "importance reference : [nan_euclidean_distance](https://www.analyticsvidhya.com/blog/2020/07/knnimputer-a-robust-way-to-impute-missing-values-using-scikit-learn/)"
   ]
  },
  {
   "cell_type": "code",
   "execution_count": 61,
   "metadata": {
    "scrolled": true
   },
   "outputs": [
    {
     "data": {
      "text/html": [
       "<div>\n",
       "<style scoped>\n",
       "    .dataframe tbody tr th:only-of-type {\n",
       "        vertical-align: middle;\n",
       "    }\n",
       "\n",
       "    .dataframe tbody tr th {\n",
       "        vertical-align: top;\n",
       "    }\n",
       "\n",
       "    .dataframe thead th {\n",
       "        text-align: right;\n",
       "    }\n",
       "</style>\n",
       "<table border=\"1\" class=\"dataframe\">\n",
       "  <thead>\n",
       "    <tr style=\"text-align: right;\">\n",
       "      <th></th>\n",
       "      <th>0</th>\n",
       "      <th>1</th>\n",
       "      <th>2</th>\n",
       "    </tr>\n",
       "  </thead>\n",
       "  <tbody>\n",
       "    <tr>\n",
       "      <th>0</th>\n",
       "      <td>1.0</td>\n",
       "      <td>2</td>\n",
       "      <td>NaN</td>\n",
       "    </tr>\n",
       "    <tr>\n",
       "      <th>1</th>\n",
       "      <td>3.0</td>\n",
       "      <td>4</td>\n",
       "      <td>3.0</td>\n",
       "    </tr>\n",
       "    <tr>\n",
       "      <th>2</th>\n",
       "      <td>NaN</td>\n",
       "      <td>6</td>\n",
       "      <td>5.0</td>\n",
       "    </tr>\n",
       "    <tr>\n",
       "      <th>3</th>\n",
       "      <td>8.0</td>\n",
       "      <td>8</td>\n",
       "      <td>7.0</td>\n",
       "    </tr>\n",
       "  </tbody>\n",
       "</table>\n",
       "</div>"
      ],
      "text/plain": [
       "     0  1    2\n",
       "0  1.0  2  NaN\n",
       "1  3.0  4  3.0\n",
       "2  NaN  6  5.0\n",
       "3  8.0  8  7.0"
      ]
     },
     "execution_count": 61,
     "metadata": {},
     "output_type": "execute_result"
    }
   ],
   "source": [
    "X = [[1, 2, np.nan], [3, 4, 3], [np.nan, 6, 5], [8, 8, 7]]\n",
    "pd.DataFrame(X)"
   ]
  },
  {
   "cell_type": "code",
   "execution_count": null,
   "metadata": {},
   "outputs": [],
   "source": []
  },
  {
   "cell_type": "code",
   "execution_count": 62,
   "metadata": {},
   "outputs": [],
   "source": [
    "import pandas as pd\n",
    "import os\n",
    "\n",
    "os.chdir(r\"/Users/sanghyuk/Documents/preprocessing_python/lecture_source/Part 4. 머신러닝을 위한 필수 전처리/데이터/\")"
   ]
  },
  {
   "cell_type": "code",
   "execution_count": 63,
   "metadata": {},
   "outputs": [],
   "source": [
    "df = pd.read_csv(\"mammographic.csv\")"
   ]
  },
  {
   "cell_type": "code",
   "execution_count": 64,
   "metadata": {},
   "outputs": [],
   "source": [
    "# 특징과 라벨 분리\n",
    "X = df.drop('Output', axis = 1)\n",
    "Y = df['Output']"
   ]
  },
  {
   "cell_type": "code",
   "execution_count": 65,
   "metadata": {},
   "outputs": [
    {
     "data": {
      "text/html": [
       "<div>\n",
       "<style scoped>\n",
       "    .dataframe tbody tr th:only-of-type {\n",
       "        vertical-align: middle;\n",
       "    }\n",
       "\n",
       "    .dataframe tbody tr th {\n",
       "        vertical-align: top;\n",
       "    }\n",
       "\n",
       "    .dataframe thead th {\n",
       "        text-align: right;\n",
       "    }\n",
       "</style>\n",
       "<table border=\"1\" class=\"dataframe\">\n",
       "  <thead>\n",
       "    <tr style=\"text-align: right;\">\n",
       "      <th></th>\n",
       "      <th>BI-RADS</th>\n",
       "      <th>Age</th>\n",
       "      <th>Shape</th>\n",
       "      <th>Margin</th>\n",
       "      <th>Density</th>\n",
       "    </tr>\n",
       "  </thead>\n",
       "  <tbody>\n",
       "    <tr>\n",
       "      <th>0</th>\n",
       "      <td>5.0</td>\n",
       "      <td>67.0</td>\n",
       "      <td>3.0</td>\n",
       "      <td>5.0</td>\n",
       "      <td>3.0</td>\n",
       "    </tr>\n",
       "    <tr>\n",
       "      <th>1</th>\n",
       "      <td>4.0</td>\n",
       "      <td>43.0</td>\n",
       "      <td>1.0</td>\n",
       "      <td>1.0</td>\n",
       "      <td>NaN</td>\n",
       "    </tr>\n",
       "    <tr>\n",
       "      <th>2</th>\n",
       "      <td>5.0</td>\n",
       "      <td>58.0</td>\n",
       "      <td>4.0</td>\n",
       "      <td>5.0</td>\n",
       "      <td>3.0</td>\n",
       "    </tr>\n",
       "    <tr>\n",
       "      <th>3</th>\n",
       "      <td>4.0</td>\n",
       "      <td>28.0</td>\n",
       "      <td>1.0</td>\n",
       "      <td>1.0</td>\n",
       "      <td>3.0</td>\n",
       "    </tr>\n",
       "    <tr>\n",
       "      <th>4</th>\n",
       "      <td>5.0</td>\n",
       "      <td>74.0</td>\n",
       "      <td>1.0</td>\n",
       "      <td>5.0</td>\n",
       "      <td>NaN</td>\n",
       "    </tr>\n",
       "  </tbody>\n",
       "</table>\n",
       "</div>"
      ],
      "text/plain": [
       "   BI-RADS   Age  Shape  Margin  Density\n",
       "0      5.0  67.0    3.0     5.0      3.0\n",
       "1      4.0  43.0    1.0     1.0      NaN\n",
       "2      5.0  58.0    4.0     5.0      3.0\n",
       "3      4.0  28.0    1.0     1.0      3.0\n",
       "4      5.0  74.0    1.0     5.0      NaN"
      ]
     },
     "execution_count": 65,
     "metadata": {},
     "output_type": "execute_result"
    }
   ],
   "source": [
    "X.head()"
   ]
  },
  {
   "cell_type": "code",
   "execution_count": 66,
   "metadata": {},
   "outputs": [
    {
     "data": {
      "text/plain": [
       "0    1\n",
       "1    1\n",
       "2    1\n",
       "3    0\n",
       "4    1\n",
       "Name: Output, dtype: int64"
      ]
     },
     "execution_count": 66,
     "metadata": {},
     "output_type": "execute_result"
    }
   ],
   "source": [
    "Y.head()"
   ]
  },
  {
   "cell_type": "code",
   "execution_count": 67,
   "metadata": {},
   "outputs": [],
   "source": [
    "# 학습 데이터와 평가 데이터 분리\n",
    "from sklearn.model_selection import train_test_split\n",
    "Train_X, Test_X, Train_Y, Test_Y = train_test_split(X, Y)"
   ]
  },
  {
   "cell_type": "code",
   "execution_count": 68,
   "metadata": {},
   "outputs": [
    {
     "data": {
      "text/plain": [
       "BI-RADS    0.001389\n",
       "Age        0.005556\n",
       "Shape      0.031944\n",
       "Margin     0.050000\n",
       "Density    0.084722\n",
       "dtype: float64"
      ]
     },
     "execution_count": 68,
     "metadata": {},
     "output_type": "execute_result"
    }
   ],
   "source": [
    "# 열별 결측치 비율 확인 => 그리 높지 않음을 확인\n",
    "Train_X.isnull().sum() / len(Train_X)"
   ]
  },
  {
   "cell_type": "code",
   "execution_count": 69,
   "metadata": {},
   "outputs": [
    {
     "data": {
      "text/plain": [
       "BI-RADS    0.450414\n",
       "Age        0.418170\n",
       "Shape      0.518559\n",
       "Margin     0.547298\n",
       "Density    0.265533\n",
       "dtype: float64"
      ]
     },
     "execution_count": 69,
     "metadata": {},
     "output_type": "execute_result"
    }
   ],
   "source": [
    "# 특징 간 상관 계수 확인 => 평균적으로 40 ~ 50%로 매우 높음을 확인\n",
    "Train_X.corr().sum() / len(Train_X.columns)"
   ]
  },
  {
   "cell_type": "code",
   "execution_count": 70,
   "metadata": {},
   "outputs": [],
   "source": [
    "# KNN Imputer 인스턴스화\n",
    "from sklearn.impute import KNNImputer\n",
    "KI = KNNImputer(n_neighbors = 5)\n",
    "\n",
    "# KNN Imputer 학습\n",
    "KI.fit(Train_X)\n",
    "\n",
    "# 결측 대체\n",
    "Train_X = pd.DataFrame(KI.transform(Train_X), columns = Train_X.columns)\n",
    "Test_X = pd.DataFrame(KI.transform(Test_X), columns = Test_X.columns)"
   ]
  },
  {
   "cell_type": "code",
   "execution_count": 71,
   "metadata": {},
   "outputs": [
    {
     "data": {
      "text/plain": [
       "BI-RADS    0.0\n",
       "Age        0.0\n",
       "Shape      0.0\n",
       "Margin     0.0\n",
       "Density    0.0\n",
       "dtype: float64"
      ]
     },
     "execution_count": 71,
     "metadata": {},
     "output_type": "execute_result"
    }
   ],
   "source": [
    "Train_X.isnull().sum() / len(Train_X)"
   ]
  },
  {
   "cell_type": "code",
   "execution_count": 72,
   "metadata": {},
   "outputs": [
    {
     "data": {
      "text/plain": [
       "BI-RADS    0.0\n",
       "Age        0.0\n",
       "Shape      0.0\n",
       "Margin     0.0\n",
       "Density    0.0\n",
       "dtype: float64"
      ]
     },
     "execution_count": 72,
     "metadata": {},
     "output_type": "execute_result"
    }
   ],
   "source": [
    "Test_X.isnull().sum() / len(Test_X)"
   ]
  },
  {
   "cell_type": "code",
   "execution_count": null,
   "metadata": {},
   "outputs": [],
   "source": []
  },
  {
   "cell_type": "code",
   "execution_count": null,
   "metadata": {},
   "outputs": [],
   "source": []
  }
 ],
 "metadata": {
  "kernelspec": {
   "display_name": "Python 3",
   "language": "python",
   "name": "python3"
  },
  "language_info": {
   "codemirror_mode": {
    "name": "ipython",
    "version": 3
   },
   "file_extension": ".py",
   "mimetype": "text/x-python",
   "name": "python",
   "nbconvert_exporter": "python",
   "pygments_lexer": "ipython3",
   "version": "3.8.5"
  }
 },
 "nbformat": 4,
 "nbformat_minor": 2
}

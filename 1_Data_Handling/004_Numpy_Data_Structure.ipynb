{
 "cells": [
  {
   "cell_type": "markdown",
   "metadata": {},
   "source": [
    "#### 배열 만들기"
   ]
  },
  {
   "cell_type": "markdown",
   "metadata": {},
   "source": [
    "ndarray는 내부 모든 자료형이 같아야 함. "
   ]
  },
  {
   "cell_type": "code",
   "execution_count": 1,
   "metadata": {},
   "outputs": [
    {
     "name": "stdout",
     "output_type": "stream",
     "text": [
      "[1 4 2 5 3] [3.14 4.   2.   3.  ] [1. 2. 3. 4.]\n"
     ]
    }
   ],
   "source": [
    "# 리스트에서 배열 만들기\n",
    "import numpy as np\n",
    "a = np.array([1, 4, 2, 5, 3])\n",
    "b = np.array([3.14, 4, 2, 3])\n",
    "c = np.array([1, 2, 3, 4], dtype = float)\n",
    "print(a, b, c)"
   ]
  },
  {
   "cell_type": "code",
   "execution_count": 2,
   "metadata": {
    "scrolled": false
   },
   "outputs": [
    {
     "data": {
      "text/plain": [
       "array([1, 4, 2, 5, 3])"
      ]
     },
     "execution_count": 2,
     "metadata": {},
     "output_type": "execute_result"
    }
   ],
   "source": [
    "a"
   ]
  },
  {
   "cell_type": "code",
   "execution_count": 3,
   "metadata": {},
   "outputs": [
    {
     "data": {
      "text/plain": [
       "array([3.14, 4.  , 2.  , 3.  ])"
      ]
     },
     "execution_count": 3,
     "metadata": {},
     "output_type": "execute_result"
    }
   ],
   "source": [
    "b"
   ]
  },
  {
   "cell_type": "code",
   "execution_count": 4,
   "metadata": {},
   "outputs": [
    {
     "data": {
      "text/plain": [
       "array([1., 2., 3., 4.])"
      ]
     },
     "execution_count": 4,
     "metadata": {},
     "output_type": "execute_result"
    }
   ],
   "source": [
    "c"
   ]
  },
  {
   "cell_type": "code",
   "execution_count": 2,
   "metadata": {
    "scrolled": false
   },
   "outputs": [
    {
     "name": "stdout",
     "output_type": "stream",
     "text": [
      "np.zeros(10, dtype = int):\n",
      " [0 0 0 0 0 0 0 0 0 0]\n",
      "\n",
      "np.ones((3, 5), dtype = float):\n",
      " [[1. 1. 1. 1. 1.]\n",
      " [1. 1. 1. 1. 1.]\n",
      " [1. 1. 1. 1. 1.]]\n",
      "\n",
      "np.full((3,5), 3.14):\n",
      " [[3.14 3.14 3.14 3.14 3.14]\n",
      " [3.14 3.14 3.14 3.14 3.14]\n",
      " [3.14 3.14 3.14 3.14 3.14]]\n",
      "\n",
      "np.arange(0, 20, 2):\n",
      " [ 0  2  4  6  8 10 12 14 16 18]\n",
      "\n",
      "np.linspace(0, 1, 5):\n",
      " [0.   0.25 0.5  0.75 1.  ]\n",
      "\n",
      "np.random.random((3,3)):\n",
      " [[0.18262827 0.27692481 0.69023281]\n",
      " [0.55079247 0.28145341 0.07734313]\n",
      " [0.63129821 0.39951056 0.36086524]]\n",
      "\n",
      "np.random.normal(0, 1, (3, 3)):\n",
      " [[ 2.00213728 -0.22744782  0.07246514]\n",
      " [-1.49533855  0.2893585   0.35447377]\n",
      " [ 0.52527444 -1.6999584  -0.22105502]]\n",
      "\n",
      "np.random.randint(0, 10, (3, 3)):\n",
      " [[4 1 8]\n",
      " [5 3 1]\n",
      " [0 1 9]]\n",
      "\n",
      "np.eye(3):\n",
      " [[1. 0. 0.]\n",
      " [0. 1. 0.]\n",
      " [0. 0. 1.]]\n"
     ]
    }
   ],
   "source": [
    "# 함수를 이용하여 배열 만들기\n",
    "a = np.zeros(10, dtype = int) # 0으로 채운 배열 생성\n",
    "b = np.ones((3, 5), dtype = float) #1로 채운 배열 생성\n",
    "c = np.full((3,5), 3.14) # 3.14로 채운 배열 만들기 \n",
    "d = np.arange(0, 20, 2) # 0에서 시작해 2씩 더해 20까지 채우는 배열 생성\n",
    "e = np.linspace(0, 1, 5) # 0과 1 사이에 일정한 간격을 가진 다섯 개의 값으로 채운 배열 만들기\n",
    "f = np.random.random((3,3)) # 3*3 크기의 난수 배열 생성\n",
    "g = np.random.normal(0, 1, (3, 3)) # 평균 0, 표준 편차 1의 정규 분포를 따르는 3*3 난수 배열\n",
    "h = np.random.randint(0, 10, (3, 3)) # [0, 10) 구간의 임의로 정수로 채운 3*3 배열 만들기\n",
    "i = np.eye(3) # 크기 3의 단위 행렬 만들기\n",
    "\n",
    "print(\"np.zeros(10, dtype = int):\\n\", a)\n",
    "print(\"\\nnp.ones((3, 5), dtype = float):\\n\", b)\n",
    "print(\"\\nnp.full((3,5), 3.14):\\n\", c)\n",
    "print(\"\\nnp.arange(0, 20, 2):\\n\", d)\n",
    "print(\"\\nnp.linspace(0, 1, 5):\\n\", e)\n",
    "print(\"\\nnp.random.random((3,3)):\\n\", f)\n",
    "print(\"\\nnp.random.normal(0, 1, (3, 3)):\\n\", g)\n",
    "print(\"\\nnp.random.randint(0, 10, (3, 3)):\\n\", h)\n",
    "print(\"\\nnp.eye(3):\\n\", i)"
   ]
  },
  {
   "cell_type": "markdown",
   "metadata": {},
   "source": [
    "#### 인덱싱과 슬라이싱"
   ]
  },
  {
   "cell_type": "code",
   "execution_count": 5,
   "metadata": {},
   "outputs": [
    {
     "name": "stdout",
     "output_type": "stream",
     "text": [
      "x1[0]: 1\n",
      "x1[3]: 7\n",
      "x1[-1]: 9\n",
      "x1[-2]: 7\n",
      "x1[1:3]: [3 5]\n"
     ]
    }
   ],
   "source": [
    "# 기본적인 인덱싱과 슬라이싱\n",
    "x1 = np.array([1, 3, 5, 7, 9])\n",
    "\n",
    "print(\"x1[0]:\", x1[0]) # 양수 인덱스 (맨 앞 요소)\n",
    "print(\"x1[3]:\", x1[3]) # 세 번째 요소 \n",
    "print(\"x1[-1]:\", x1[-1]) # 음수 인덱스 (맨 뒤 요소)\n",
    "print(\"x1[-2]:\", x1[-2]) # 뒤에서 네 번째 요소 \n",
    "\n",
    "print(\"x1[1:3]:\", x1[1:3]) # 1번째 요소부터 3번째 요소까지 슬라이싱"
   ]
  },
  {
   "cell_type": "code",
   "execution_count": 8,
   "metadata": {},
   "outputs": [
    {
     "data": {
      "text/plain": [
       "array([[0.95993715, 0.89384616, 0.86637042, 0.74422476, 0.2076551 ],\n",
       "       [0.90450119, 0.09896062, 0.5980032 , 0.72525142, 0.37142647],\n",
       "       [0.82978847, 0.40735121, 0.02646538, 0.64321665, 0.6424685 ],\n",
       "       [0.15657183, 0.89127111, 0.9024431 , 0.82924352, 0.50654717],\n",
       "       [0.91795215, 0.34967258, 0.44742199, 0.69074884, 0.54005106],\n",
       "       [0.57210752, 0.46614885, 0.94497135, 0.03666224, 0.15319774],\n",
       "       [0.44669552, 0.96712778, 0.33405666, 0.87628173, 0.59547695],\n",
       "       [0.9266934 , 0.67006163, 0.06378979, 0.79796435, 0.92641776],\n",
       "       [0.07485477, 0.14514047, 0.37148092, 0.36692883, 0.98838882],\n",
       "       [0.88598766, 0.14705731, 0.15832775, 0.20842547, 0.0775289 ]])"
      ]
     },
     "execution_count": 8,
     "metadata": {},
     "output_type": "execute_result"
    }
   ],
   "source": [
    "x2"
   ]
  },
  {
   "cell_type": "markdown",
   "metadata": {},
   "source": [
    "2차원 배열의 경우"
   ]
  },
  {
   "cell_type": "code",
   "execution_count": 6,
   "metadata": {},
   "outputs": [
    {
     "name": "stdout",
     "output_type": "stream",
     "text": [
      "x2[0, 1] 0.8855504039536837\n",
      "x2[1:4, 2]\n",
      " [0.09397457 0.56412707 0.49113127]\n",
      "x2[0, 2:4]\n",
      " [0.99694676 0.51587565]\n",
      "x2[0:3, 2:4]\n",
      " [[0.99694676 0.51587565]\n",
      " [0.09397457 0.01775805]\n",
      " [0.56412707 0.93719231]]\n"
     ]
    }
   ],
   "source": [
    "# 2차원 배열의 인덱싱 및 슬라이싱\n",
    "x2 = np.random.random(size = (10, 5))\n",
    "\n",
    "print(\"x2[0, 1]\", x2[0, 1])\n",
    "print(\"x2[1:4, 2]\\n\", x2[1:4, 2])\n",
    "print(\"x2[0, 2:4]\\n\", x2[0, 2:4])\n",
    "print(\"x2[0:3, 2:4]\\n\", x2[0:3, 2:4])"
   ]
  },
  {
   "cell_type": "code",
   "execution_count": 7,
   "metadata": {},
   "outputs": [
    {
     "data": {
      "text/plain": [
       "array([[0.51417385, 0.8855504 , 0.99694676, 0.51587565, 0.19817207],\n",
       "       [0.7143646 , 0.46613338, 0.09397457, 0.01775805, 0.87675945],\n",
       "       [0.24718937, 0.07283701, 0.56412707, 0.93719231, 0.60831518],\n",
       "       [0.62372684, 0.32507082, 0.49113127, 0.79532232, 0.66100076],\n",
       "       [0.5146838 , 0.01532614, 0.42684054, 0.20992595, 0.39574485],\n",
       "       [0.25466564, 0.11276444, 0.91494391, 0.66103976, 0.99502847],\n",
       "       [0.13028542, 0.23115483, 0.04976894, 0.03884503, 0.09163161],\n",
       "       [0.4388513 , 0.58283797, 0.40252042, 0.41742207, 0.20675863],\n",
       "       [0.68688807, 0.6148141 , 0.39462684, 0.75821128, 0.20419749],\n",
       "       [0.43792159, 0.34635797, 0.57973658, 0.39126604, 0.93333318]])"
      ]
     },
     "execution_count": 7,
     "metadata": {},
     "output_type": "execute_result"
    }
   ],
   "source": [
    "x2"
   ]
  },
  {
   "cell_type": "markdown",
   "metadata": {},
   "source": [
    "#### 유니버설 함수"
   ]
  },
  {
   "cell_type": "markdown",
   "metadata": {},
   "source": [
    "- 배열 간 이항 연산(대응되는 요소끼리)을 지원"
   ]
  },
  {
   "cell_type": "code",
   "execution_count": 21,
   "metadata": {},
   "outputs": [
    {
     "name": "stdout",
     "output_type": "stream",
     "text": [
      "x + y =  [5 5 5 5]\n",
      "x - y =  [-3 -1  1  3]\n",
      "x * y =  [4 6 6 4]\n",
      "x / y =  [0.25       0.66666667 1.5        4.        ]\n",
      "log x =  [0.         0.69314718 1.09861229 1.38629436]\n"
     ]
    }
   ],
   "source": [
    "# 사용 기초\n",
    "x = np.array([1, 2, 3, 4])\n",
    "y = np.array([4, 3, 2, 1])\n",
    "\n",
    "print(\"x + y = \", x + y)\n",
    "print(\"x - y = \", x - y)\n",
    "print(\"x * y = \", x * y)\n",
    "print(\"x / y = \", x / y)\n",
    "print(\"log x = \", np.log(x))"
   ]
  },
  {
   "cell_type": "code",
   "execution_count": 8,
   "metadata": {},
   "outputs": [
    {
     "name": "stdout",
     "output_type": "stream",
     "text": [
      "반복문을 사용한 경우: 43.4976\n",
      "유니버설 함수를 사용한 경우: 11.7772\n"
     ]
    }
   ],
   "source": [
    "# 루프와 유니버설 함수의 속도 비교\n",
    "arr_1 = np.random.randint(1, 10, size = 10 ** 8)\n",
    "arr_2 = np.random.randint(1, 10, size = 10 ** 8)\n",
    "import time\n",
    "### 리스트를 사용하여 벡터의 덧셈 구현\n",
    "t1 = time.time()\n",
    "output = []\n",
    "for val1, val2 in zip(arr_1, arr_2):\n",
    "    output.append(val1 + val2)\n",
    "t2 = time.time()\n",
    "print(\"반복문을 사용한 경우:\", round(t2 - t1, 4))\n",
    "\n",
    "### 유니버설 함수를 사용하여 벡터의 덧셈 구현\n",
    "t1 = time.time()\n",
    "output = arr_1 + arr_2\n",
    "t2 = time.time()\n",
    "print(\"유니버설 함수를 사용한 경우:\", round(t2 - t1, 4))"
   ]
  },
  {
   "cell_type": "markdown",
   "metadata": {},
   "source": [
    "##### Broadcasting\n",
    "- 서로 다른 dimension을 더하거나 곱할 때, 자동으로 크기를 맞춰주게 된다. "
   ]
  },
  {
   "cell_type": "code",
   "execution_count": 11,
   "metadata": {},
   "outputs": [
    {
     "name": "stdout",
     "output_type": "stream",
     "text": [
      "np.arange(3) + 5: [5 6 7] \n",
      "\n",
      "np.ones((3, 3)) + np.arange(3)\n",
      " [[1. 2. 3.]\n",
      " [1. 2. 3.]\n",
      " [1. 2. 3.]] \n",
      "\n",
      "np.arange(3).reshape(3, 1) + np.arange(3)\n",
      " [[0 1 2]\n",
      " [1 2 3]\n",
      " [2 3 4]]\n"
     ]
    }
   ],
   "source": [
    "# 브로드캐스팅\n",
    "print(\"np.arange(3) + 5:\", \n",
    "      np.arange(3) + 5, '\\n')\n",
    "\n",
    "print(\"np.ones((3, 3)) + np.arange(3)\\n\",\n",
    "      np.ones((3, 3)) + np.arange(3), '\\n')\n",
    "\n",
    "print(\"np.arange(3).reshape(3, 1) + np.arange(3)\\n\",\n",
    "      np.arange(3).reshape(3, 1) + np.arange(3))"
   ]
  },
  {
   "cell_type": "code",
   "execution_count": 11,
   "metadata": {},
   "outputs": [
    {
     "data": {
      "text/plain": [
       "array([[0],\n",
       "       [1],\n",
       "       [2]])"
      ]
     },
     "execution_count": 11,
     "metadata": {},
     "output_type": "execute_result"
    }
   ],
   "source": [
    "np.arange(3).reshape(3, 1)"
   ]
  },
  {
   "cell_type": "code",
   "execution_count": 12,
   "metadata": {},
   "outputs": [
    {
     "data": {
      "text/plain": [
       "array([0, 1, 2])"
      ]
     },
     "execution_count": 12,
     "metadata": {},
     "output_type": "execute_result"
    }
   ],
   "source": [
    "np.arange(3)"
   ]
  },
  {
   "cell_type": "code",
   "execution_count": 15,
   "metadata": {},
   "outputs": [
    {
     "data": {
      "text/plain": [
       "(array([[0.52437062, 0.0759482 , 0.50066266],\n",
       "        [0.74749053, 0.35280138, 0.68677287],\n",
       "        [0.43782544, 0.81798891, 0.73205706],\n",
       "        [0.61885066, 0.68476178, 0.30275527],\n",
       "        [0.96595183, 0.23111972, 0.86265464],\n",
       "        [0.81007147, 0.47939233, 0.48031116],\n",
       "        [0.85936317, 0.90875357, 0.66725766],\n",
       "        [0.57097249, 0.17859196, 0.8673559 ],\n",
       "        [0.90021587, 0.74039733, 0.92245405],\n",
       "        [0.30018004, 0.08395466, 0.81753292]]),\n",
       " array([0.67352921, 0.45537098, 0.68398142]),\n",
       " array([0.20645773, 0.29846478, 0.19059774]))"
      ]
     },
     "execution_count": 15,
     "metadata": {},
     "output_type": "execute_result"
    }
   ],
   "source": [
    "X, Xmean, Xstd"
   ]
  },
  {
   "cell_type": "code",
   "execution_count": 13,
   "metadata": {},
   "outputs": [
    {
     "name": "stdout",
     "output_type": "stream",
     "text": [
      "X: [[0.52437062 0.0759482  0.50066266]\n",
      " [0.74749053 0.35280138 0.68677287]\n",
      " [0.43782544 0.81798891 0.73205706]\n",
      " [0.61885066 0.68476178 0.30275527]\n",
      " [0.96595183 0.23111972 0.86265464]\n",
      " [0.81007147 0.47939233 0.48031116]\n",
      " [0.85936317 0.90875357 0.66725766]\n",
      " [0.57097249 0.17859196 0.8673559 ]\n",
      " [0.90021587 0.74039733 0.92245405]\n",
      " [0.30018004 0.08395466 0.81753292]]\n",
      "\n",
      "Xmean:\n",
      " [0.67352921 0.45537098 0.68398142]\n",
      "\n",
      "Xstd:\n",
      " [0.20645773 0.29846478 0.19059774]\n",
      "\n",
      "Z:\n",
      " [[-0.72246553 -1.27124812 -0.96180971]\n",
      " [ 0.35823952 -0.34365732  0.01464578]\n",
      " [-1.14165631  1.21494379  0.25223616]\n",
      " [-0.2648414   0.76856908 -2.00016093]\n",
      " [ 1.4163801  -0.75134917  0.93743618]\n",
      " [ 0.66135697  0.08048301 -1.06858697]\n",
      " [ 0.90010656  1.51904889 -0.08774372]\n",
      " [-0.4967444  -0.92734233  0.96210208]\n",
      " [ 1.09798099  0.95497482  1.2511829 ]\n",
      " [-1.80835649 -1.24442264  0.70069824]]\n"
     ]
    }
   ],
   "source": [
    "# 브로드캐스팅 예시: z - normalization\n",
    "X = np.random.random((10, 3))\n",
    "Xmean = X.mean(axis = 0) # 열별 평균 크기: (1, 3)\n",
    "Xstd = X.std(axis = 0) # 열별 표준편차 크기: (1, 3)\n",
    "\n",
    "Z = (X - Xmean) / Xstd\n",
    "\n",
    "print(\"X:\", X)\n",
    "print(\"\\nXmean:\\n\", Xmean)\n",
    "print(\"\\nXstd:\\n\", Xstd)\n",
    "print(\"\\nZ:\\n\", Z)"
   ]
  },
  {
   "cell_type": "markdown",
   "metadata": {},
   "source": [
    "#### 비교 연산자"
   ]
  },
  {
   "cell_type": "markdown",
   "metadata": {},
   "source": [
    "- 여기도 똑같이 내부적으로 broadcasting이 되어가고 있는 것. "
   ]
  },
  {
   "cell_type": "code",
   "execution_count": 16,
   "metadata": {},
   "outputs": [
    {
     "data": {
      "text/plain": [
       "array([False, False,  True,  True,  True])"
      ]
     },
     "execution_count": 16,
     "metadata": {},
     "output_type": "execute_result"
    }
   ],
   "source": [
    "L = np.array([1, 2, 3, 4, 5])\n",
    "L >= 3"
   ]
  },
  {
   "cell_type": "code",
   "execution_count": 17,
   "metadata": {},
   "outputs": [
    {
     "data": {
      "text/plain": [
       "3"
      ]
     },
     "execution_count": 17,
     "metadata": {},
     "output_type": "execute_result"
    }
   ],
   "source": [
    "# 비교 연산자\n",
    "L = np.array([1, 2, 3, 4, 5])\n",
    "cond = L >= 3\n",
    "sum(cond) # 조건을 만족하는 요소의 개수"
   ]
  },
  {
   "cell_type": "code",
   "execution_count": 18,
   "metadata": {},
   "outputs": [
    {
     "data": {
      "text/plain": [
       "array([3, 4, 5])"
      ]
     },
     "execution_count": 18,
     "metadata": {},
     "output_type": "execute_result"
    }
   ],
   "source": [
    "L[cond] # 조건을 만족하는 요소만 반환"
   ]
  }
 ],
 "metadata": {
  "kernelspec": {
   "display_name": "Python 3",
   "language": "python",
   "name": "python3"
  },
  "language_info": {
   "codemirror_mode": {
    "name": "ipython",
    "version": 3
   },
   "file_extension": ".py",
   "mimetype": "text/x-python",
   "name": "python",
   "nbconvert_exporter": "python",
   "pygments_lexer": "ipython3",
   "version": "3.8.5"
  }
 },
 "nbformat": 4,
 "nbformat_minor": 2
}

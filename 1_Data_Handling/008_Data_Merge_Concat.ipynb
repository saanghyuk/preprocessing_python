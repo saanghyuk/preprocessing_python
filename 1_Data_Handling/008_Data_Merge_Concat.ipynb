{
 "cells": [
  {
   "cell_type": "code",
   "execution_count": 1,
   "metadata": {},
   "outputs": [],
   "source": [
    "import os\n",
    "import pandas as pd\n",
    "os.chdir(r\"/Users/sanghyuk/Documents/preprocessing_python/lecture_source/1. 데이터 핸들링/데이터\")"
   ]
  },
  {
   "cell_type": "markdown",
   "metadata": {},
   "source": [
    "#### merge 기초"
   ]
  },
  {
   "cell_type": "code",
   "execution_count": 4,
   "metadata": {},
   "outputs": [],
   "source": [
    "# Tip. OSError: Initializing from file failed가 발생하면 engine = \"python\"을 설정하면 피할 수 있음 (단, 속도 저하 문제가 있음)\n",
    "\n",
    "df1 = pd.read_csv('merge_실습_employee_group.csv')\n",
    "df2 = pd.read_csv('merge_실습_employee_hire_date.csv')"
   ]
  },
  {
   "cell_type": "code",
   "execution_count": 5,
   "metadata": {
    "scrolled": true
   },
   "outputs": [
    {
     "data": {
      "text/html": [
       "<div>\n",
       "<style scoped>\n",
       "    .dataframe tbody tr th:only-of-type {\n",
       "        vertical-align: middle;\n",
       "    }\n",
       "\n",
       "    .dataframe tbody tr th {\n",
       "        vertical-align: top;\n",
       "    }\n",
       "\n",
       "    .dataframe thead th {\n",
       "        text-align: right;\n",
       "    }\n",
       "</style>\n",
       "<table border=\"1\" class=\"dataframe\">\n",
       "  <thead>\n",
       "    <tr style=\"text-align: right;\">\n",
       "      <th></th>\n",
       "      <th>employee</th>\n",
       "      <th>group</th>\n",
       "    </tr>\n",
       "  </thead>\n",
       "  <tbody>\n",
       "    <tr>\n",
       "      <th>0</th>\n",
       "      <td>Bob</td>\n",
       "      <td>Accounting</td>\n",
       "    </tr>\n",
       "    <tr>\n",
       "      <th>1</th>\n",
       "      <td>Jake</td>\n",
       "      <td>Engineering</td>\n",
       "    </tr>\n",
       "    <tr>\n",
       "      <th>2</th>\n",
       "      <td>Lisa</td>\n",
       "      <td>Engineering</td>\n",
       "    </tr>\n",
       "    <tr>\n",
       "      <th>3</th>\n",
       "      <td>Sue</td>\n",
       "      <td>HR</td>\n",
       "    </tr>\n",
       "  </tbody>\n",
       "</table>\n",
       "</div>"
      ],
      "text/plain": [
       "  employee        group\n",
       "0      Bob   Accounting\n",
       "1     Jake  Engineering\n",
       "2     Lisa  Engineering\n",
       "3      Sue           HR"
      ]
     },
     "execution_count": 5,
     "metadata": {},
     "output_type": "execute_result"
    }
   ],
   "source": [
    "df1.head()"
   ]
  },
  {
   "cell_type": "code",
   "execution_count": 6,
   "metadata": {},
   "outputs": [
    {
     "data": {
      "text/html": [
       "<div>\n",
       "<style scoped>\n",
       "    .dataframe tbody tr th:only-of-type {\n",
       "        vertical-align: middle;\n",
       "    }\n",
       "\n",
       "    .dataframe tbody tr th {\n",
       "        vertical-align: top;\n",
       "    }\n",
       "\n",
       "    .dataframe thead th {\n",
       "        text-align: right;\n",
       "    }\n",
       "</style>\n",
       "<table border=\"1\" class=\"dataframe\">\n",
       "  <thead>\n",
       "    <tr style=\"text-align: right;\">\n",
       "      <th></th>\n",
       "      <th>employee</th>\n",
       "      <th>hire_date</th>\n",
       "    </tr>\n",
       "  </thead>\n",
       "  <tbody>\n",
       "    <tr>\n",
       "      <th>0</th>\n",
       "      <td>Lisa</td>\n",
       "      <td>2004</td>\n",
       "    </tr>\n",
       "    <tr>\n",
       "      <th>1</th>\n",
       "      <td>Bob</td>\n",
       "      <td>2008</td>\n",
       "    </tr>\n",
       "    <tr>\n",
       "      <th>2</th>\n",
       "      <td>Jake</td>\n",
       "      <td>2012</td>\n",
       "    </tr>\n",
       "    <tr>\n",
       "      <th>3</th>\n",
       "      <td>Sue</td>\n",
       "      <td>2014</td>\n",
       "    </tr>\n",
       "  </tbody>\n",
       "</table>\n",
       "</div>"
      ],
      "text/plain": [
       "  employee  hire_date\n",
       "0     Lisa       2004\n",
       "1      Bob       2008\n",
       "2     Jake       2012\n",
       "3      Sue       2014"
      ]
     },
     "execution_count": 6,
     "metadata": {},
     "output_type": "execute_result"
    }
   ],
   "source": [
    "df2.head()"
   ]
  },
  {
   "cell_type": "code",
   "execution_count": 7,
   "metadata": {},
   "outputs": [
    {
     "data": {
      "text/html": [
       "<div>\n",
       "<style scoped>\n",
       "    .dataframe tbody tr th:only-of-type {\n",
       "        vertical-align: middle;\n",
       "    }\n",
       "\n",
       "    .dataframe tbody tr th {\n",
       "        vertical-align: top;\n",
       "    }\n",
       "\n",
       "    .dataframe thead th {\n",
       "        text-align: right;\n",
       "    }\n",
       "</style>\n",
       "<table border=\"1\" class=\"dataframe\">\n",
       "  <thead>\n",
       "    <tr style=\"text-align: right;\">\n",
       "      <th></th>\n",
       "      <th>employee</th>\n",
       "      <th>group</th>\n",
       "      <th>hire_date</th>\n",
       "    </tr>\n",
       "  </thead>\n",
       "  <tbody>\n",
       "    <tr>\n",
       "      <th>0</th>\n",
       "      <td>Bob</td>\n",
       "      <td>Accounting</td>\n",
       "      <td>2008</td>\n",
       "    </tr>\n",
       "    <tr>\n",
       "      <th>1</th>\n",
       "      <td>Jake</td>\n",
       "      <td>Engineering</td>\n",
       "      <td>2012</td>\n",
       "    </tr>\n",
       "    <tr>\n",
       "      <th>2</th>\n",
       "      <td>Lisa</td>\n",
       "      <td>Engineering</td>\n",
       "      <td>2004</td>\n",
       "    </tr>\n",
       "    <tr>\n",
       "      <th>3</th>\n",
       "      <td>Sue</td>\n",
       "      <td>HR</td>\n",
       "      <td>2014</td>\n",
       "    </tr>\n",
       "  </tbody>\n",
       "</table>\n",
       "</div>"
      ],
      "text/plain": [
       "  employee        group  hire_date\n",
       "0      Bob   Accounting       2008\n",
       "1     Jake  Engineering       2012\n",
       "2     Lisa  Engineering       2004\n",
       "3      Sue           HR       2014"
      ]
     },
     "execution_count": 7,
     "metadata": {},
     "output_type": "execute_result"
    }
   ],
   "source": [
    "merged_df = pd.merge(df1, df2) # 컬럼명이 같아서 키를 employee로 인식함\n",
    "merged_df.head()"
   ]
  },
  {
   "cell_type": "markdown",
   "metadata": {},
   "source": [
    "#### on을 사용하는 경우\n",
    "\n",
    "- 두 데이터에서 합치려는 column 이름이 같은 경우"
   ]
  },
  {
   "cell_type": "code",
   "execution_count": 8,
   "metadata": {},
   "outputs": [
    {
     "data": {
      "text/html": [
       "<div>\n",
       "<style scoped>\n",
       "    .dataframe tbody tr th:only-of-type {\n",
       "        vertical-align: middle;\n",
       "    }\n",
       "\n",
       "    .dataframe tbody tr th {\n",
       "        vertical-align: top;\n",
       "    }\n",
       "\n",
       "    .dataframe thead th {\n",
       "        text-align: right;\n",
       "    }\n",
       "</style>\n",
       "<table border=\"1\" class=\"dataframe\">\n",
       "  <thead>\n",
       "    <tr style=\"text-align: right;\">\n",
       "      <th></th>\n",
       "      <th>employee</th>\n",
       "      <th>group</th>\n",
       "      <th>hire_date</th>\n",
       "    </tr>\n",
       "  </thead>\n",
       "  <tbody>\n",
       "    <tr>\n",
       "      <th>0</th>\n",
       "      <td>Bob</td>\n",
       "      <td>Accounting</td>\n",
       "      <td>2008</td>\n",
       "    </tr>\n",
       "    <tr>\n",
       "      <th>1</th>\n",
       "      <td>Jake</td>\n",
       "      <td>Engineering</td>\n",
       "      <td>2012</td>\n",
       "    </tr>\n",
       "    <tr>\n",
       "      <th>2</th>\n",
       "      <td>Lisa</td>\n",
       "      <td>Engineering</td>\n",
       "      <td>2004</td>\n",
       "    </tr>\n",
       "    <tr>\n",
       "      <th>3</th>\n",
       "      <td>Sue</td>\n",
       "      <td>HR</td>\n",
       "      <td>2014</td>\n",
       "    </tr>\n",
       "  </tbody>\n",
       "</table>\n",
       "</div>"
      ],
      "text/plain": [
       "  employee        group  hire_date\n",
       "0      Bob   Accounting       2008\n",
       "1     Jake  Engineering       2012\n",
       "2     Lisa  Engineering       2004\n",
       "3      Sue           HR       2014"
      ]
     },
     "execution_count": 8,
     "metadata": {},
     "output_type": "execute_result"
    }
   ],
   "source": [
    "merged_df = pd.merge(df1, df2, on = [\"employee\"])\n",
    "merged_df.head()"
   ]
  },
  {
   "cell_type": "markdown",
   "metadata": {},
   "source": [
    "#### left_on, right_on을 사용한 데이터 통합\n",
    "\n",
    "- 두 데이터에서 합치려는 column 이름이 다른 경우"
   ]
  },
  {
   "cell_type": "code",
   "execution_count": 16,
   "metadata": {},
   "outputs": [],
   "source": [
    "# Tip. OSError: Initializing from file failed가 발생하면 engine = \"python\"을 설정하면 피할 수 있음 (단, 속도 저하 문제가 있음)\n",
    "\n",
    "df1 = pd.read_csv('merge_실습_employee_group.csv')\n",
    "df2 = pd.read_csv('merge_실습_name_hire_date.csv')"
   ]
  },
  {
   "cell_type": "code",
   "execution_count": 17,
   "metadata": {},
   "outputs": [
    {
     "data": {
      "text/html": [
       "<div>\n",
       "<style scoped>\n",
       "    .dataframe tbody tr th:only-of-type {\n",
       "        vertical-align: middle;\n",
       "    }\n",
       "\n",
       "    .dataframe tbody tr th {\n",
       "        vertical-align: top;\n",
       "    }\n",
       "\n",
       "    .dataframe thead th {\n",
       "        text-align: right;\n",
       "    }\n",
       "</style>\n",
       "<table border=\"1\" class=\"dataframe\">\n",
       "  <thead>\n",
       "    <tr style=\"text-align: right;\">\n",
       "      <th></th>\n",
       "      <th>employee</th>\n",
       "      <th>group</th>\n",
       "    </tr>\n",
       "  </thead>\n",
       "  <tbody>\n",
       "    <tr>\n",
       "      <th>0</th>\n",
       "      <td>Bob</td>\n",
       "      <td>Accounting</td>\n",
       "    </tr>\n",
       "    <tr>\n",
       "      <th>1</th>\n",
       "      <td>Jake</td>\n",
       "      <td>Engineering</td>\n",
       "    </tr>\n",
       "    <tr>\n",
       "      <th>2</th>\n",
       "      <td>Lisa</td>\n",
       "      <td>Engineering</td>\n",
       "    </tr>\n",
       "    <tr>\n",
       "      <th>3</th>\n",
       "      <td>Sue</td>\n",
       "      <td>HR</td>\n",
       "    </tr>\n",
       "  </tbody>\n",
       "</table>\n",
       "</div>"
      ],
      "text/plain": [
       "  employee        group\n",
       "0      Bob   Accounting\n",
       "1     Jake  Engineering\n",
       "2     Lisa  Engineering\n",
       "3      Sue           HR"
      ]
     },
     "execution_count": 17,
     "metadata": {},
     "output_type": "execute_result"
    }
   ],
   "source": [
    "df1.head()"
   ]
  },
  {
   "cell_type": "code",
   "execution_count": 18,
   "metadata": {},
   "outputs": [
    {
     "data": {
      "text/html": [
       "<div>\n",
       "<style scoped>\n",
       "    .dataframe tbody tr th:only-of-type {\n",
       "        vertical-align: middle;\n",
       "    }\n",
       "\n",
       "    .dataframe tbody tr th {\n",
       "        vertical-align: top;\n",
       "    }\n",
       "\n",
       "    .dataframe thead th {\n",
       "        text-align: right;\n",
       "    }\n",
       "</style>\n",
       "<table border=\"1\" class=\"dataframe\">\n",
       "  <thead>\n",
       "    <tr style=\"text-align: right;\">\n",
       "      <th></th>\n",
       "      <th>hire_date</th>\n",
       "      <th>name</th>\n",
       "    </tr>\n",
       "  </thead>\n",
       "  <tbody>\n",
       "    <tr>\n",
       "      <th>0</th>\n",
       "      <td>2004</td>\n",
       "      <td>Lisa</td>\n",
       "    </tr>\n",
       "    <tr>\n",
       "      <th>1</th>\n",
       "      <td>2008</td>\n",
       "      <td>Bob</td>\n",
       "    </tr>\n",
       "    <tr>\n",
       "      <th>2</th>\n",
       "      <td>2012</td>\n",
       "      <td>Jake</td>\n",
       "    </tr>\n",
       "    <tr>\n",
       "      <th>3</th>\n",
       "      <td>2014</td>\n",
       "      <td>Sue</td>\n",
       "    </tr>\n",
       "  </tbody>\n",
       "</table>\n",
       "</div>"
      ],
      "text/plain": [
       "   hire_date  name\n",
       "0       2004  Lisa\n",
       "1       2008   Bob\n",
       "2       2012  Jake\n",
       "3       2014   Sue"
      ]
     },
     "execution_count": 18,
     "metadata": {},
     "output_type": "execute_result"
    }
   ],
   "source": [
    "df2.head()"
   ]
  },
  {
   "cell_type": "code",
   "execution_count": 19,
   "metadata": {},
   "outputs": [
    {
     "data": {
      "text/html": [
       "<div>\n",
       "<style scoped>\n",
       "    .dataframe tbody tr th:only-of-type {\n",
       "        vertical-align: middle;\n",
       "    }\n",
       "\n",
       "    .dataframe tbody tr th {\n",
       "        vertical-align: top;\n",
       "    }\n",
       "\n",
       "    .dataframe thead th {\n",
       "        text-align: right;\n",
       "    }\n",
       "</style>\n",
       "<table border=\"1\" class=\"dataframe\">\n",
       "  <thead>\n",
       "    <tr style=\"text-align: right;\">\n",
       "      <th></th>\n",
       "      <th>employee</th>\n",
       "      <th>group</th>\n",
       "      <th>hire_date</th>\n",
       "      <th>name</th>\n",
       "    </tr>\n",
       "  </thead>\n",
       "  <tbody>\n",
       "    <tr>\n",
       "      <th>0</th>\n",
       "      <td>Bob</td>\n",
       "      <td>Accounting</td>\n",
       "      <td>2008</td>\n",
       "      <td>Bob</td>\n",
       "    </tr>\n",
       "    <tr>\n",
       "      <th>1</th>\n",
       "      <td>Jake</td>\n",
       "      <td>Engineering</td>\n",
       "      <td>2012</td>\n",
       "      <td>Jake</td>\n",
       "    </tr>\n",
       "    <tr>\n",
       "      <th>2</th>\n",
       "      <td>Lisa</td>\n",
       "      <td>Engineering</td>\n",
       "      <td>2004</td>\n",
       "      <td>Lisa</td>\n",
       "    </tr>\n",
       "    <tr>\n",
       "      <th>3</th>\n",
       "      <td>Sue</td>\n",
       "      <td>HR</td>\n",
       "      <td>2014</td>\n",
       "      <td>Sue</td>\n",
       "    </tr>\n",
       "  </tbody>\n",
       "</table>\n",
       "</div>"
      ],
      "text/plain": [
       "  employee        group  hire_date  name\n",
       "0      Bob   Accounting       2008   Bob\n",
       "1     Jake  Engineering       2012  Jake\n",
       "2     Lisa  Engineering       2004  Lisa\n",
       "3      Sue           HR       2014   Sue"
      ]
     },
     "execution_count": 19,
     "metadata": {},
     "output_type": "execute_result"
    }
   ],
   "source": [
    "# 컬럼명을 바꿔도 똑같이 작동함\n",
    "merged_df = pd.merge(df1, df2, left_on = \"employee\", right_on = \"name\")\n",
    "merged_df.head() # employee와 name 모두 살아 있어서, 하나를 제거해줘야 함"
   ]
  },
  {
   "cell_type": "code",
   "execution_count": 11,
   "metadata": {},
   "outputs": [
    {
     "data": {
      "text/html": [
       "<div>\n",
       "<style scoped>\n",
       "    .dataframe tbody tr th:only-of-type {\n",
       "        vertical-align: middle;\n",
       "    }\n",
       "\n",
       "    .dataframe tbody tr th {\n",
       "        vertical-align: top;\n",
       "    }\n",
       "\n",
       "    .dataframe thead th {\n",
       "        text-align: right;\n",
       "    }\n",
       "</style>\n",
       "<table border=\"1\" class=\"dataframe\">\n",
       "  <thead>\n",
       "    <tr style=\"text-align: right;\">\n",
       "      <th></th>\n",
       "      <th>employee</th>\n",
       "      <th>group</th>\n",
       "      <th>hire_date</th>\n",
       "    </tr>\n",
       "  </thead>\n",
       "  <tbody>\n",
       "    <tr>\n",
       "      <th>0</th>\n",
       "      <td>Bob</td>\n",
       "      <td>Accounting</td>\n",
       "      <td>2008</td>\n",
       "    </tr>\n",
       "    <tr>\n",
       "      <th>1</th>\n",
       "      <td>Jake</td>\n",
       "      <td>Engineering</td>\n",
       "      <td>2012</td>\n",
       "    </tr>\n",
       "    <tr>\n",
       "      <th>2</th>\n",
       "      <td>Lisa</td>\n",
       "      <td>Engineering</td>\n",
       "      <td>2004</td>\n",
       "    </tr>\n",
       "    <tr>\n",
       "      <th>3</th>\n",
       "      <td>Sue</td>\n",
       "      <td>HR</td>\n",
       "      <td>2014</td>\n",
       "    </tr>\n",
       "  </tbody>\n",
       "</table>\n",
       "</div>"
      ],
      "text/plain": [
       "  employee        group  hire_date\n",
       "0      Bob   Accounting       2008\n",
       "1     Jake  Engineering       2012\n",
       "2     Lisa  Engineering       2004\n",
       "3      Sue           HR       2014"
      ]
     },
     "execution_count": 11,
     "metadata": {},
     "output_type": "execute_result"
    }
   ],
   "source": [
    "merged_df.drop('name', axis = 1, inplace = True)\n",
    "merged_df.head()"
   ]
  },
  {
   "cell_type": "markdown",
   "metadata": {},
   "source": [
    "#### index를 사용한 데이터 통합"
   ]
  },
  {
   "cell_type": "code",
   "execution_count": 20,
   "metadata": {},
   "outputs": [],
   "source": [
    "# Tip. OSError: Initializing from file failed가 발생하면 engine = \"python\"을 설정하면 피할 수 있음 (단, 속도 저하 문제가 있음)\n",
    "\n",
    "df1 = pd.read_csv('merge_실습_employee_group.csv')\n",
    "df2 = pd.read_csv('merge_실습_name_hire_date.csv', index_col = \"name\")"
   ]
  },
  {
   "cell_type": "code",
   "execution_count": 22,
   "metadata": {},
   "outputs": [
    {
     "data": {
      "text/html": [
       "<div>\n",
       "<style scoped>\n",
       "    .dataframe tbody tr th:only-of-type {\n",
       "        vertical-align: middle;\n",
       "    }\n",
       "\n",
       "    .dataframe tbody tr th {\n",
       "        vertical-align: top;\n",
       "    }\n",
       "\n",
       "    .dataframe thead th {\n",
       "        text-align: right;\n",
       "    }\n",
       "</style>\n",
       "<table border=\"1\" class=\"dataframe\">\n",
       "  <thead>\n",
       "    <tr style=\"text-align: right;\">\n",
       "      <th></th>\n",
       "      <th>employee</th>\n",
       "      <th>group</th>\n",
       "    </tr>\n",
       "  </thead>\n",
       "  <tbody>\n",
       "    <tr>\n",
       "      <th>0</th>\n",
       "      <td>Bob</td>\n",
       "      <td>Accounting</td>\n",
       "    </tr>\n",
       "    <tr>\n",
       "      <th>1</th>\n",
       "      <td>Jake</td>\n",
       "      <td>Engineering</td>\n",
       "    </tr>\n",
       "    <tr>\n",
       "      <th>2</th>\n",
       "      <td>Lisa</td>\n",
       "      <td>Engineering</td>\n",
       "    </tr>\n",
       "    <tr>\n",
       "      <th>3</th>\n",
       "      <td>Sue</td>\n",
       "      <td>HR</td>\n",
       "    </tr>\n",
       "  </tbody>\n",
       "</table>\n",
       "</div>"
      ],
      "text/plain": [
       "  employee        group\n",
       "0      Bob   Accounting\n",
       "1     Jake  Engineering\n",
       "2     Lisa  Engineering\n",
       "3      Sue           HR"
      ]
     },
     "execution_count": 22,
     "metadata": {},
     "output_type": "execute_result"
    }
   ],
   "source": [
    "df1.head()"
   ]
  },
  {
   "cell_type": "code",
   "execution_count": 13,
   "metadata": {},
   "outputs": [
    {
     "data": {
      "text/html": [
       "<div>\n",
       "<style scoped>\n",
       "    .dataframe tbody tr th:only-of-type {\n",
       "        vertical-align: middle;\n",
       "    }\n",
       "\n",
       "    .dataframe tbody tr th {\n",
       "        vertical-align: top;\n",
       "    }\n",
       "\n",
       "    .dataframe thead th {\n",
       "        text-align: right;\n",
       "    }\n",
       "</style>\n",
       "<table border=\"1\" class=\"dataframe\">\n",
       "  <thead>\n",
       "    <tr style=\"text-align: right;\">\n",
       "      <th></th>\n",
       "      <th>hire_date</th>\n",
       "    </tr>\n",
       "    <tr>\n",
       "      <th>name</th>\n",
       "      <th></th>\n",
       "    </tr>\n",
       "  </thead>\n",
       "  <tbody>\n",
       "    <tr>\n",
       "      <th>Lisa</th>\n",
       "      <td>2004</td>\n",
       "    </tr>\n",
       "    <tr>\n",
       "      <th>Bob</th>\n",
       "      <td>2008</td>\n",
       "    </tr>\n",
       "    <tr>\n",
       "      <th>Jake</th>\n",
       "      <td>2012</td>\n",
       "    </tr>\n",
       "    <tr>\n",
       "      <th>Sue</th>\n",
       "      <td>2014</td>\n",
       "    </tr>\n",
       "  </tbody>\n",
       "</table>\n",
       "</div>"
      ],
      "text/plain": [
       "      hire_date\n",
       "name           \n",
       "Lisa       2004\n",
       "Bob        2008\n",
       "Jake       2012\n",
       "Sue        2014"
      ]
     },
     "execution_count": 13,
     "metadata": {},
     "output_type": "execute_result"
    }
   ],
   "source": [
    "df2.head()"
   ]
  },
  {
   "cell_type": "code",
   "execution_count": 23,
   "metadata": {},
   "outputs": [],
   "source": [
    "merged_df = pd.merge(df1, df2, left_on = \"employee\", right_index = True)"
   ]
  },
  {
   "cell_type": "code",
   "execution_count": 24,
   "metadata": {
    "scrolled": true
   },
   "outputs": [
    {
     "data": {
      "text/html": [
       "<div>\n",
       "<style scoped>\n",
       "    .dataframe tbody tr th:only-of-type {\n",
       "        vertical-align: middle;\n",
       "    }\n",
       "\n",
       "    .dataframe tbody tr th {\n",
       "        vertical-align: top;\n",
       "    }\n",
       "\n",
       "    .dataframe thead th {\n",
       "        text-align: right;\n",
       "    }\n",
       "</style>\n",
       "<table border=\"1\" class=\"dataframe\">\n",
       "  <thead>\n",
       "    <tr style=\"text-align: right;\">\n",
       "      <th></th>\n",
       "      <th>employee</th>\n",
       "      <th>group</th>\n",
       "      <th>hire_date</th>\n",
       "    </tr>\n",
       "  </thead>\n",
       "  <tbody>\n",
       "    <tr>\n",
       "      <th>0</th>\n",
       "      <td>Bob</td>\n",
       "      <td>Accounting</td>\n",
       "      <td>2008</td>\n",
       "    </tr>\n",
       "    <tr>\n",
       "      <th>1</th>\n",
       "      <td>Jake</td>\n",
       "      <td>Engineering</td>\n",
       "      <td>2012</td>\n",
       "    </tr>\n",
       "    <tr>\n",
       "      <th>2</th>\n",
       "      <td>Lisa</td>\n",
       "      <td>Engineering</td>\n",
       "      <td>2004</td>\n",
       "    </tr>\n",
       "    <tr>\n",
       "      <th>3</th>\n",
       "      <td>Sue</td>\n",
       "      <td>HR</td>\n",
       "      <td>2014</td>\n",
       "    </tr>\n",
       "  </tbody>\n",
       "</table>\n",
       "</div>"
      ],
      "text/plain": [
       "  employee        group  hire_date\n",
       "0      Bob   Accounting       2008\n",
       "1     Jake  Engineering       2012\n",
       "2     Lisa  Engineering       2004\n",
       "3      Sue           HR       2014"
      ]
     },
     "execution_count": 24,
     "metadata": {},
     "output_type": "execute_result"
    }
   ],
   "source": [
    "merged_df.head()"
   ]
  },
  {
   "cell_type": "code",
   "execution_count": null,
   "metadata": {},
   "outputs": [],
   "source": []
  },
  {
   "cell_type": "markdown",
   "metadata": {},
   "source": [
    "## concat을 이용한 데이터 통합"
   ]
  },
  {
   "cell_type": "code",
   "execution_count": 25,
   "metadata": {},
   "outputs": [],
   "source": [
    "import os\n",
    "import pandas as pd\n",
    "os.chdir(r\"/Users/sanghyuk/Documents/preprocessing_python/lecture_source/1. 데이터 핸들링/데이터\")"
   ]
  },
  {
   "cell_type": "markdown",
   "metadata": {},
   "source": [
    "#### concat 기초"
   ]
  },
  {
   "cell_type": "markdown",
   "metadata": {},
   "source": [
    "- concat은 동시에 여러개의 df를 리스트로 입력받을 수 있다. \n",
    "- ignore_index: True이면 기존 인덱스를 무시하고, 새로운 인덱스를 부여하며, False면 기존 인덱스를 사용 \n",
    "- `axis: 0`이면 행 단위로 병합을 수행하며, `axis=1`이면 열 단위로 병합을 수행한다."
   ]
  },
  {
   "cell_type": "code",
   "execution_count": 29,
   "metadata": {},
   "outputs": [
    {
     "data": {
      "text/html": [
       "<div>\n",
       "<style scoped>\n",
       "    .dataframe tbody tr th:only-of-type {\n",
       "        vertical-align: middle;\n",
       "    }\n",
       "\n",
       "    .dataframe tbody tr th {\n",
       "        vertical-align: top;\n",
       "    }\n",
       "\n",
       "    .dataframe thead th {\n",
       "        text-align: right;\n",
       "    }\n",
       "</style>\n",
       "<table border=\"1\" class=\"dataframe\">\n",
       "  <thead>\n",
       "    <tr style=\"text-align: right;\">\n",
       "      <th></th>\n",
       "      <th>A</th>\n",
       "      <th>B</th>\n",
       "    </tr>\n",
       "  </thead>\n",
       "  <tbody>\n",
       "    <tr>\n",
       "      <th>0</th>\n",
       "      <td>1</td>\n",
       "      <td>1</td>\n",
       "    </tr>\n",
       "    <tr>\n",
       "      <th>1</th>\n",
       "      <td>2</td>\n",
       "      <td>2</td>\n",
       "    </tr>\n",
       "    <tr>\n",
       "      <th>2</th>\n",
       "      <td>3</td>\n",
       "      <td>3</td>\n",
       "    </tr>\n",
       "    <tr>\n",
       "      <th>3</th>\n",
       "      <td>4</td>\n",
       "      <td>4</td>\n",
       "    </tr>\n",
       "    <tr>\n",
       "      <th>4</th>\n",
       "      <td>5</td>\n",
       "      <td>5</td>\n",
       "    </tr>\n",
       "    <tr>\n",
       "      <th>5</th>\n",
       "      <td>6</td>\n",
       "      <td>6</td>\n",
       "    </tr>\n",
       "    <tr>\n",
       "      <th>6</th>\n",
       "      <td>7</td>\n",
       "      <td>7</td>\n",
       "    </tr>\n",
       "    <tr>\n",
       "      <th>7</th>\n",
       "      <td>8</td>\n",
       "      <td>8</td>\n",
       "    </tr>\n",
       "  </tbody>\n",
       "</table>\n",
       "</div>"
      ],
      "text/plain": [
       "   A  B\n",
       "0  1  1\n",
       "1  2  2\n",
       "2  3  3\n",
       "3  4  4\n",
       "4  5  5\n",
       "5  6  6\n",
       "6  7  7\n",
       "7  8  8"
      ]
     },
     "execution_count": 29,
     "metadata": {},
     "output_type": "execute_result"
    }
   ],
   "source": [
    "df1 = pd.DataFrame({\"A\":[1,2,3,4], \"B\":[1,2,3,4]})\n",
    "df2 = pd.DataFrame({\"A\":[5,6,7,8], \"B\":[5,6,7,8]})\n",
    "\n",
    "merged_df = pd.concat([df1, df2], axis = 0, ignore_index = True)\n",
    "merged_df"
   ]
  },
  {
   "cell_type": "code",
   "execution_count": 30,
   "metadata": {},
   "outputs": [
    {
     "data": {
      "text/html": [
       "<div>\n",
       "<style scoped>\n",
       "    .dataframe tbody tr th:only-of-type {\n",
       "        vertical-align: middle;\n",
       "    }\n",
       "\n",
       "    .dataframe tbody tr th {\n",
       "        vertical-align: top;\n",
       "    }\n",
       "\n",
       "    .dataframe thead th {\n",
       "        text-align: right;\n",
       "    }\n",
       "</style>\n",
       "<table border=\"1\" class=\"dataframe\">\n",
       "  <thead>\n",
       "    <tr style=\"text-align: right;\">\n",
       "      <th></th>\n",
       "      <th>A</th>\n",
       "      <th>B</th>\n",
       "    </tr>\n",
       "  </thead>\n",
       "  <tbody>\n",
       "    <tr>\n",
       "      <th>0</th>\n",
       "      <td>1</td>\n",
       "      <td>1</td>\n",
       "    </tr>\n",
       "    <tr>\n",
       "      <th>1</th>\n",
       "      <td>2</td>\n",
       "      <td>2</td>\n",
       "    </tr>\n",
       "    <tr>\n",
       "      <th>2</th>\n",
       "      <td>3</td>\n",
       "      <td>3</td>\n",
       "    </tr>\n",
       "    <tr>\n",
       "      <th>3</th>\n",
       "      <td>4</td>\n",
       "      <td>4</td>\n",
       "    </tr>\n",
       "    <tr>\n",
       "      <th>0</th>\n",
       "      <td>5</td>\n",
       "      <td>5</td>\n",
       "    </tr>\n",
       "    <tr>\n",
       "      <th>1</th>\n",
       "      <td>6</td>\n",
       "      <td>6</td>\n",
       "    </tr>\n",
       "    <tr>\n",
       "      <th>2</th>\n",
       "      <td>7</td>\n",
       "      <td>7</td>\n",
       "    </tr>\n",
       "    <tr>\n",
       "      <th>3</th>\n",
       "      <td>8</td>\n",
       "      <td>8</td>\n",
       "    </tr>\n",
       "  </tbody>\n",
       "</table>\n",
       "</div>"
      ],
      "text/plain": [
       "   A  B\n",
       "0  1  1\n",
       "1  2  2\n",
       "2  3  3\n",
       "3  4  4\n",
       "0  5  5\n",
       "1  6  6\n",
       "2  7  7\n",
       "3  8  8"
      ]
     },
     "execution_count": 30,
     "metadata": {},
     "output_type": "execute_result"
    }
   ],
   "source": [
    "# ignore_index=True 안하니깐, 인덱스까지 그대로 들고 옴. \n",
    "pd.concat([df1, df2], axis = 0)"
   ]
  },
  {
   "cell_type": "code",
   "execution_count": 37,
   "metadata": {},
   "outputs": [
    {
     "data": {
      "text/html": [
       "<div>\n",
       "<style scoped>\n",
       "    .dataframe tbody tr th:only-of-type {\n",
       "        vertical-align: middle;\n",
       "    }\n",
       "\n",
       "    .dataframe tbody tr th {\n",
       "        vertical-align: top;\n",
       "    }\n",
       "\n",
       "    .dataframe thead th {\n",
       "        text-align: right;\n",
       "    }\n",
       "</style>\n",
       "<table border=\"1\" class=\"dataframe\">\n",
       "  <thead>\n",
       "    <tr style=\"text-align: right;\">\n",
       "      <th></th>\n",
       "      <th>A</th>\n",
       "      <th>B</th>\n",
       "      <th>C</th>\n",
       "      <th>D</th>\n",
       "    </tr>\n",
       "  </thead>\n",
       "  <tbody>\n",
       "    <tr>\n",
       "      <th>0</th>\n",
       "      <td>1</td>\n",
       "      <td>5</td>\n",
       "      <td>1</td>\n",
       "      <td>5</td>\n",
       "    </tr>\n",
       "    <tr>\n",
       "      <th>1</th>\n",
       "      <td>2</td>\n",
       "      <td>6</td>\n",
       "      <td>2</td>\n",
       "      <td>6</td>\n",
       "    </tr>\n",
       "    <tr>\n",
       "      <th>2</th>\n",
       "      <td>3</td>\n",
       "      <td>7</td>\n",
       "      <td>3</td>\n",
       "      <td>7</td>\n",
       "    </tr>\n",
       "    <tr>\n",
       "      <th>3</th>\n",
       "      <td>4</td>\n",
       "      <td>8</td>\n",
       "      <td>4</td>\n",
       "      <td>8</td>\n",
       "    </tr>\n",
       "  </tbody>\n",
       "</table>\n",
       "</div>"
      ],
      "text/plain": [
       "   A  B  C  D\n",
       "0  1  5  1  5\n",
       "1  2  6  2  6\n",
       "2  3  7  3  7\n",
       "3  4  8  4  8"
      ]
     },
     "execution_count": 37,
     "metadata": {},
     "output_type": "execute_result"
    }
   ],
   "source": [
    "df1 = pd.DataFrame({\"A\":[1,2,3,4], \"B\":[5,6,7,8]})\n",
    "df2 = pd.DataFrame({\"C\":[1,2,3,4], \"D\":[5,6,7,8]})\n",
    "\n",
    "\n",
    "# 열단위로 붙이는 경우에는 아래와 같이 ignore_index=False로 놓는 것이 일반적. \n",
    "merged_df = pd.concat([df1, df2], axis = 1, ignore_index = False)\n",
    "merged_df"
   ]
  },
  {
   "cell_type": "markdown",
   "metadata": {},
   "source": [
    "#### concat을 이용한 여러 csv 파일 합치기"
   ]
  },
  {
   "cell_type": "code",
   "execution_count": 42,
   "metadata": {},
   "outputs": [],
   "source": [
    "df1 = pd.read_csv(\"일별 오염 데이터/2004-03-14_오염_수준.txt\", sep = \"\\t\", engine = \"python\")\n",
    "df2 = pd.read_csv(\"일별 오염 데이터/2004-03-20_오염_수준.txt\", sep = \"\\t\", engine = \"python\")"
   ]
  },
  {
   "cell_type": "code",
   "execution_count": 43,
   "metadata": {},
   "outputs": [
    {
     "data": {
      "text/html": [
       "<div>\n",
       "<style scoped>\n",
       "    .dataframe tbody tr th:only-of-type {\n",
       "        vertical-align: middle;\n",
       "    }\n",
       "\n",
       "    .dataframe tbody tr th {\n",
       "        vertical-align: top;\n",
       "    }\n",
       "\n",
       "    .dataframe thead th {\n",
       "        text-align: right;\n",
       "    }\n",
       "</style>\n",
       "<table border=\"1\" class=\"dataframe\">\n",
       "  <thead>\n",
       "    <tr style=\"text-align: right;\">\n",
       "      <th></th>\n",
       "      <th>Date</th>\n",
       "      <th>Time</th>\n",
       "      <th>CO(GT)</th>\n",
       "      <th>PT08.S1(CO)</th>\n",
       "      <th>NMHC(GT)</th>\n",
       "      <th>C6H6(GT)</th>\n",
       "      <th>PT08.S2(NMHC)</th>\n",
       "      <th>NOx(GT)</th>\n",
       "      <th>PT08.S3(NOx)</th>\n",
       "      <th>NO2(GT)</th>\n",
       "      <th>PT08.S4(NO2)</th>\n",
       "      <th>PT08.S5(O3)</th>\n",
       "      <th>T</th>\n",
       "      <th>RH</th>\n",
       "      <th>AH</th>\n",
       "    </tr>\n",
       "  </thead>\n",
       "  <tbody>\n",
       "    <tr>\n",
       "      <th>0</th>\n",
       "      <td>2004-03-14</td>\n",
       "      <td>00:00:00</td>\n",
       "      <td>2.9</td>\n",
       "      <td>1533.50</td>\n",
       "      <td>93.0</td>\n",
       "      <td>10.963458</td>\n",
       "      <td>1013.00</td>\n",
       "      <td>190.0</td>\n",
       "      <td>888.50</td>\n",
       "      <td>129.0</td>\n",
       "      <td>1610.75</td>\n",
       "      <td>1534.75</td>\n",
       "      <td>13.95</td>\n",
       "      <td>53.600000</td>\n",
       "      <td>0.849772</td>\n",
       "    </tr>\n",
       "    <tr>\n",
       "      <th>1</th>\n",
       "      <td>2004-03-14</td>\n",
       "      <td>01:00:00</td>\n",
       "      <td>2.8</td>\n",
       "      <td>1483.50</td>\n",
       "      <td>131.0</td>\n",
       "      <td>11.860179</td>\n",
       "      <td>1044.75</td>\n",
       "      <td>174.0</td>\n",
       "      <td>879.75</td>\n",
       "      <td>119.0</td>\n",
       "      <td>1624.25</td>\n",
       "      <td>1529.75</td>\n",
       "      <td>14.65</td>\n",
       "      <td>51.500000</td>\n",
       "      <td>0.853623</td>\n",
       "    </tr>\n",
       "    <tr>\n",
       "      <th>2</th>\n",
       "      <td>2004-03-14</td>\n",
       "      <td>02:00:00</td>\n",
       "      <td>2.5</td>\n",
       "      <td>1366.75</td>\n",
       "      <td>92.0</td>\n",
       "      <td>8.624679</td>\n",
       "      <td>924.50</td>\n",
       "      <td>128.0</td>\n",
       "      <td>952.50</td>\n",
       "      <td>104.0</td>\n",
       "      <td>1543.00</td>\n",
       "      <td>1337.00</td>\n",
       "      <td>12.55</td>\n",
       "      <td>58.900001</td>\n",
       "      <td>0.853740</td>\n",
       "    </tr>\n",
       "    <tr>\n",
       "      <th>3</th>\n",
       "      <td>2004-03-14</td>\n",
       "      <td>03:00:00</td>\n",
       "      <td>2.4</td>\n",
       "      <td>1344.00</td>\n",
       "      <td>132.0</td>\n",
       "      <td>9.737786</td>\n",
       "      <td>967.75</td>\n",
       "      <td>-200.0</td>\n",
       "      <td>920.50</td>\n",
       "      <td>-200.0</td>\n",
       "      <td>1619.75</td>\n",
       "      <td>1278.25</td>\n",
       "      <td>11.65</td>\n",
       "      <td>63.425000</td>\n",
       "      <td>0.867449</td>\n",
       "    </tr>\n",
       "    <tr>\n",
       "      <th>4</th>\n",
       "      <td>2004-03-14</td>\n",
       "      <td>04:00:00</td>\n",
       "      <td>-200.0</td>\n",
       "      <td>1129.50</td>\n",
       "      <td>56.0</td>\n",
       "      <td>5.191654</td>\n",
       "      <td>773.00</td>\n",
       "      <td>70.0</td>\n",
       "      <td>1130.25</td>\n",
       "      <td>82.0</td>\n",
       "      <td>1451.75</td>\n",
       "      <td>1050.50</td>\n",
       "      <td>12.10</td>\n",
       "      <td>61.100001</td>\n",
       "      <td>0.860316</td>\n",
       "    </tr>\n",
       "  </tbody>\n",
       "</table>\n",
       "</div>"
      ],
      "text/plain": [
       "         Date      Time  CO(GT)  PT08.S1(CO)  NMHC(GT)   C6H6(GT)  \\\n",
       "0  2004-03-14  00:00:00     2.9      1533.50      93.0  10.963458   \n",
       "1  2004-03-14  01:00:00     2.8      1483.50     131.0  11.860179   \n",
       "2  2004-03-14  02:00:00     2.5      1366.75      92.0   8.624679   \n",
       "3  2004-03-14  03:00:00     2.4      1344.00     132.0   9.737786   \n",
       "4  2004-03-14  04:00:00  -200.0      1129.50      56.0   5.191654   \n",
       "\n",
       "   PT08.S2(NMHC)  NOx(GT)  PT08.S3(NOx)  NO2(GT)  PT08.S4(NO2)  PT08.S5(O3)  \\\n",
       "0        1013.00    190.0        888.50    129.0       1610.75      1534.75   \n",
       "1        1044.75    174.0        879.75    119.0       1624.25      1529.75   \n",
       "2         924.50    128.0        952.50    104.0       1543.00      1337.00   \n",
       "3         967.75   -200.0        920.50   -200.0       1619.75      1278.25   \n",
       "4         773.00     70.0       1130.25     82.0       1451.75      1050.50   \n",
       "\n",
       "       T         RH        AH  \n",
       "0  13.95  53.600000  0.849772  \n",
       "1  14.65  51.500000  0.853623  \n",
       "2  12.55  58.900001  0.853740  \n",
       "3  11.65  63.425000  0.867449  \n",
       "4  12.10  61.100001  0.860316  "
      ]
     },
     "execution_count": 43,
     "metadata": {},
     "output_type": "execute_result"
    }
   ],
   "source": [
    "df1.head() # 합쳐야 하는 데이터 구조"
   ]
  },
  {
   "cell_type": "code",
   "execution_count": 44,
   "metadata": {},
   "outputs": [
    {
     "data": {
      "text/html": [
       "<div>\n",
       "<style scoped>\n",
       "    .dataframe tbody tr th:only-of-type {\n",
       "        vertical-align: middle;\n",
       "    }\n",
       "\n",
       "    .dataframe tbody tr th {\n",
       "        vertical-align: top;\n",
       "    }\n",
       "\n",
       "    .dataframe thead th {\n",
       "        text-align: right;\n",
       "    }\n",
       "</style>\n",
       "<table border=\"1\" class=\"dataframe\">\n",
       "  <thead>\n",
       "    <tr style=\"text-align: right;\">\n",
       "      <th></th>\n",
       "      <th>Date</th>\n",
       "      <th>Time</th>\n",
       "      <th>CO(GT)</th>\n",
       "      <th>PT08.S1(CO)</th>\n",
       "      <th>NMHC(GT)</th>\n",
       "      <th>C6H6(GT)</th>\n",
       "      <th>PT08.S2(NMHC)</th>\n",
       "      <th>NOx(GT)</th>\n",
       "      <th>PT08.S3(NOx)</th>\n",
       "      <th>NO2(GT)</th>\n",
       "      <th>PT08.S4(NO2)</th>\n",
       "      <th>PT08.S5(O3)</th>\n",
       "      <th>T</th>\n",
       "      <th>RH</th>\n",
       "      <th>AH</th>\n",
       "    </tr>\n",
       "  </thead>\n",
       "  <tbody>\n",
       "    <tr>\n",
       "      <th>0</th>\n",
       "      <td>2004-03-20</td>\n",
       "      <td>00:00:00</td>\n",
       "      <td>1.7</td>\n",
       "      <td>1126.75</td>\n",
       "      <td>-200.0</td>\n",
       "      <td>5.791192</td>\n",
       "      <td>802.00</td>\n",
       "      <td>104.0</td>\n",
       "      <td>1064.00</td>\n",
       "      <td>92.0</td>\n",
       "      <td>1446.50</td>\n",
       "      <td>837.00</td>\n",
       "      <td>13.775</td>\n",
       "      <td>57.95</td>\n",
       "      <td>0.908544</td>\n",
       "    </tr>\n",
       "    <tr>\n",
       "      <th>1</th>\n",
       "      <td>2004-03-20</td>\n",
       "      <td>01:00:00</td>\n",
       "      <td>1.6</td>\n",
       "      <td>1090.25</td>\n",
       "      <td>-200.0</td>\n",
       "      <td>5.191654</td>\n",
       "      <td>773.00</td>\n",
       "      <td>NaN</td>\n",
       "      <td>1105.25</td>\n",
       "      <td>83.0</td>\n",
       "      <td>1428.50</td>\n",
       "      <td>761.00</td>\n",
       "      <td>13.900</td>\n",
       "      <td>55.95</td>\n",
       "      <td>0.884207</td>\n",
       "    </tr>\n",
       "    <tr>\n",
       "      <th>2</th>\n",
       "      <td>2004-03-20</td>\n",
       "      <td>02:00:00</td>\n",
       "      <td>1.3</td>\n",
       "      <td>1017.00</td>\n",
       "      <td>-200.0</td>\n",
       "      <td>4.123187</td>\n",
       "      <td>717.50</td>\n",
       "      <td>74.0</td>\n",
       "      <td>1181.75</td>\n",
       "      <td>81.0</td>\n",
       "      <td>1382.25</td>\n",
       "      <td>650.25</td>\n",
       "      <td>13.875</td>\n",
       "      <td>55.55</td>\n",
       "      <td>0.876488</td>\n",
       "    </tr>\n",
       "    <tr>\n",
       "      <th>3</th>\n",
       "      <td>2004-03-20</td>\n",
       "      <td>03:00:00</td>\n",
       "      <td>1.3</td>\n",
       "      <td>997.25</td>\n",
       "      <td>-200.0</td>\n",
       "      <td>3.410629</td>\n",
       "      <td>677.00</td>\n",
       "      <td>-200.0</td>\n",
       "      <td>1252.25</td>\n",
       "      <td>-200.0</td>\n",
       "      <td>1358.50</td>\n",
       "      <td>590.75</td>\n",
       "      <td>13.825</td>\n",
       "      <td>55.10</td>\n",
       "      <td>0.866620</td>\n",
       "    </tr>\n",
       "    <tr>\n",
       "      <th>4</th>\n",
       "      <td>2004-03-20</td>\n",
       "      <td>04:00:00</td>\n",
       "      <td>-200.0</td>\n",
       "      <td>944.75</td>\n",
       "      <td>-200.0</td>\n",
       "      <td>2.908548</td>\n",
       "      <td>646.25</td>\n",
       "      <td>44.0</td>\n",
       "      <td>1308.00</td>\n",
       "      <td>55.0</td>\n",
       "      <td>1331.50</td>\n",
       "      <td>505.00</td>\n",
       "      <td>13.800</td>\n",
       "      <td>54.60</td>\n",
       "      <td>0.857388</td>\n",
       "    </tr>\n",
       "  </tbody>\n",
       "</table>\n",
       "</div>"
      ],
      "text/plain": [
       "         Date      Time  CO(GT)  PT08.S1(CO)  NMHC(GT)  C6H6(GT)  \\\n",
       "0  2004-03-20  00:00:00     1.7      1126.75    -200.0  5.791192   \n",
       "1  2004-03-20  01:00:00     1.6      1090.25    -200.0  5.191654   \n",
       "2  2004-03-20  02:00:00     1.3      1017.00    -200.0  4.123187   \n",
       "3  2004-03-20  03:00:00     1.3       997.25    -200.0  3.410629   \n",
       "4  2004-03-20  04:00:00  -200.0       944.75    -200.0  2.908548   \n",
       "\n",
       "   PT08.S2(NMHC)  NOx(GT)  PT08.S3(NOx)  NO2(GT)  PT08.S4(NO2)  PT08.S5(O3)  \\\n",
       "0         802.00    104.0       1064.00     92.0       1446.50       837.00   \n",
       "1         773.00      NaN       1105.25     83.0       1428.50       761.00   \n",
       "2         717.50     74.0       1181.75     81.0       1382.25       650.25   \n",
       "3         677.00   -200.0       1252.25   -200.0       1358.50       590.75   \n",
       "4         646.25     44.0       1308.00     55.0       1331.50       505.00   \n",
       "\n",
       "        T     RH        AH  \n",
       "0  13.775  57.95  0.908544  \n",
       "1  13.900  55.95  0.884207  \n",
       "2  13.875  55.55  0.876488  \n",
       "3  13.825  55.10  0.866620  \n",
       "4  13.800  54.60  0.857388  "
      ]
     },
     "execution_count": 44,
     "metadata": {},
     "output_type": "execute_result"
    }
   ],
   "source": [
    "df2.head() # 합쳐야 하는 데이터 구조"
   ]
  },
  {
   "cell_type": "code",
   "execution_count": 45,
   "metadata": {},
   "outputs": [
    {
     "data": {
      "text/plain": [
       "(24, 15)"
      ]
     },
     "execution_count": 45,
     "metadata": {},
     "output_type": "execute_result"
    }
   ],
   "source": [
    "df1.shape"
   ]
  },
  {
   "cell_type": "code",
   "execution_count": 46,
   "metadata": {},
   "outputs": [
    {
     "data": {
      "text/plain": [
       "(24, 15)"
      ]
     },
     "execution_count": 46,
     "metadata": {},
     "output_type": "execute_result"
    }
   ],
   "source": [
    "df2.shape"
   ]
  },
  {
   "cell_type": "code",
   "execution_count": 50,
   "metadata": {},
   "outputs": [
    {
     "data": {
      "text/plain": [
       "['2004-03-22_오염_수준.txt',\n",
       " '2004-03-17_오염_수준.txt',\n",
       " '2004-03-25_오염_수준.txt',\n",
       " '2004-03-18_오염_수준.txt',\n",
       " '2004-03-16_오염_수준.txt',\n",
       " '2004-03-24_오염_수준.txt',\n",
       " '2004-03-19_오염_수준.txt',\n",
       " '2004-03-23_오염_수준.txt',\n",
       " '2004-03-11_오염_수준.txt',\n",
       " '2004-03-30_오염_수준.txt',\n",
       " '2004-03-29_오염_수준.txt',\n",
       " '2004-03-14_오염_수준.txt',\n",
       " '2004-03-26_오염_수준.txt',\n",
       " '2004-03-21_오염_수준.txt',\n",
       " '2004-03-13_오염_수준.txt',\n",
       " 'desktop.ini',\n",
       " '2004-03-20_오염_수준.txt',\n",
       " '2004-03-12_오염_수준.txt',\n",
       " '2004-03-31_오염_수준.txt',\n",
       " '2004-03-28_오염_수준.txt',\n",
       " '2004-03-15_오염_수준.txt',\n",
       " '2004-03-27_오염_수준.txt']"
      ]
     },
     "execution_count": 50,
     "metadata": {},
     "output_type": "execute_result"
    }
   ],
   "source": [
    "os.listdir(\"일별 오염 데이터\")"
   ]
  },
  {
   "cell_type": "code",
   "execution_count": 53,
   "metadata": {},
   "outputs": [
    {
     "data": {
      "text/html": [
       "<div>\n",
       "<style scoped>\n",
       "    .dataframe tbody tr th:only-of-type {\n",
       "        vertical-align: middle;\n",
       "    }\n",
       "\n",
       "    .dataframe tbody tr th {\n",
       "        vertical-align: top;\n",
       "    }\n",
       "\n",
       "    .dataframe thead th {\n",
       "        text-align: right;\n",
       "    }\n",
       "</style>\n",
       "<table border=\"1\" class=\"dataframe\">\n",
       "  <thead>\n",
       "    <tr style=\"text-align: right;\">\n",
       "      <th></th>\n",
       "      <th>Date</th>\n",
       "      <th>Time</th>\n",
       "      <th>CO(GT)</th>\n",
       "      <th>PT08.S1(CO)</th>\n",
       "      <th>NMHC(GT)</th>\n",
       "      <th>C6H6(GT)</th>\n",
       "      <th>PT08.S2(NMHC)</th>\n",
       "      <th>NOx(GT)</th>\n",
       "      <th>PT08.S3(NOx)</th>\n",
       "      <th>NO2(GT)</th>\n",
       "      <th>PT08.S4(NO2)</th>\n",
       "      <th>PT08.S5(O3)</th>\n",
       "      <th>T</th>\n",
       "      <th>RH</th>\n",
       "      <th>AH</th>\n",
       "    </tr>\n",
       "  </thead>\n",
       "  <tbody>\n",
       "    <tr>\n",
       "      <th>0</th>\n",
       "      <td>2004-03-22</td>\n",
       "      <td>00:00:00</td>\n",
       "      <td>1.7</td>\n",
       "      <td>1161.25</td>\n",
       "      <td>-200.0</td>\n",
       "      <td>6.074366</td>\n",
       "      <td>815.25</td>\n",
       "      <td>93.0</td>\n",
       "      <td>995.25</td>\n",
       "      <td>86.0</td>\n",
       "      <td>1582.25</td>\n",
       "      <td>909.00</td>\n",
       "      <td>16.125000</td>\n",
       "      <td>60.025001</td>\n",
       "      <td>1.091938</td>\n",
       "    </tr>\n",
       "    <tr>\n",
       "      <th>1</th>\n",
       "      <td>2004-03-22</td>\n",
       "      <td>01:00:00</td>\n",
       "      <td>1.5</td>\n",
       "      <td>1095.25</td>\n",
       "      <td>-200.0</td>\n",
       "      <td>5.071112</td>\n",
       "      <td>767.00</td>\n",
       "      <td>74.0</td>\n",
       "      <td>1050.25</td>\n",
       "      <td>76.0</td>\n",
       "      <td>1547.00</td>\n",
       "      <td>818.25</td>\n",
       "      <td>15.825000</td>\n",
       "      <td>60.525000</td>\n",
       "      <td>1.080477</td>\n",
       "    </tr>\n",
       "    <tr>\n",
       "      <th>2</th>\n",
       "      <td>2004-03-22</td>\n",
       "      <td>02:00:00</td>\n",
       "      <td>0.6</td>\n",
       "      <td>897.00</td>\n",
       "      <td>-200.0</td>\n",
       "      <td>1.718653</td>\n",
       "      <td>562.50</td>\n",
       "      <td>23.0</td>\n",
       "      <td>1416.50</td>\n",
       "      <td>33.0</td>\n",
       "      <td>1355.00</td>\n",
       "      <td>472.25</td>\n",
       "      <td>16.325001</td>\n",
       "      <td>56.950001</td>\n",
       "      <td>1.049075</td>\n",
       "    </tr>\n",
       "    <tr>\n",
       "      <th>3</th>\n",
       "      <td>2004-03-22</td>\n",
       "      <td>03:00:00</td>\n",
       "      <td>0.4</td>\n",
       "      <td>842.00</td>\n",
       "      <td>-200.0</td>\n",
       "      <td>0.710518</td>\n",
       "      <td>468.00</td>\n",
       "      <td>-200.0</td>\n",
       "      <td>1812.75</td>\n",
       "      <td>-200.0</td>\n",
       "      <td>1274.25</td>\n",
       "      <td>393.50</td>\n",
       "      <td>16.925000</td>\n",
       "      <td>53.900001</td>\n",
       "      <td>1.030856</td>\n",
       "    </tr>\n",
       "    <tr>\n",
       "      <th>4</th>\n",
       "      <td>2004-03-22</td>\n",
       "      <td>04:00:00</td>\n",
       "      <td>-200.0</td>\n",
       "      <td>853.75</td>\n",
       "      <td>-200.0</td>\n",
       "      <td>0.829014</td>\n",
       "      <td>481.25</td>\n",
       "      <td>17.0</td>\n",
       "      <td>1755.50</td>\n",
       "      <td>27.0</td>\n",
       "      <td>1304.00</td>\n",
       "      <td>396.25</td>\n",
       "      <td>16.100000</td>\n",
       "      <td>55.900001</td>\n",
       "      <td>1.015304</td>\n",
       "    </tr>\n",
       "  </tbody>\n",
       "</table>\n",
       "</div>"
      ],
      "text/plain": [
       "         Date      Time  CO(GT)  PT08.S1(CO)  NMHC(GT)  C6H6(GT)  \\\n",
       "0  2004-03-22  00:00:00     1.7      1161.25    -200.0  6.074366   \n",
       "1  2004-03-22  01:00:00     1.5      1095.25    -200.0  5.071112   \n",
       "2  2004-03-22  02:00:00     0.6       897.00    -200.0  1.718653   \n",
       "3  2004-03-22  03:00:00     0.4       842.00    -200.0  0.710518   \n",
       "4  2004-03-22  04:00:00  -200.0       853.75    -200.0  0.829014   \n",
       "\n",
       "   PT08.S2(NMHC)  NOx(GT)  PT08.S3(NOx)  NO2(GT)  PT08.S4(NO2)  PT08.S5(O3)  \\\n",
       "0         815.25     93.0        995.25     86.0       1582.25       909.00   \n",
       "1         767.00     74.0       1050.25     76.0       1547.00       818.25   \n",
       "2         562.50     23.0       1416.50     33.0       1355.00       472.25   \n",
       "3         468.00   -200.0       1812.75   -200.0       1274.25       393.50   \n",
       "4         481.25     17.0       1755.50     27.0       1304.00       396.25   \n",
       "\n",
       "           T         RH        AH  \n",
       "0  16.125000  60.025001  1.091938  \n",
       "1  15.825000  60.525000  1.080477  \n",
       "2  16.325001  56.950001  1.049075  \n",
       "3  16.925000  53.900001  1.030856  \n",
       "4  16.100000  55.900001  1.015304  "
      ]
     },
     "execution_count": 53,
     "metadata": {},
     "output_type": "execute_result"
    }
   ],
   "source": [
    "# for문을 이용한 데이터 병합 \n",
    "# (코드가 김, 상대적으로 비효율적임, 메모리 문제가 생길 가능성이 적음)\n",
    "merged_df = pd.DataFrame() # 빈 데이터 프레임 생성\n",
    "\n",
    "for file in os.listdir(\"일별 오염 데이터\"):\n",
    "    if '오염_수준.txt' in file:\n",
    "        df = pd.read_csv(\"일별 오염 데이터/\" + file, sep = \"\\t\", engine = \"python\")\n",
    "        merged_df = pd.concat([merged_df, df], axis = 0, ignore_index = True)\n",
    "\n",
    "merged_df.head()"
   ]
  },
  {
   "cell_type": "code",
   "execution_count": 54,
   "metadata": {
    "scrolled": true
   },
   "outputs": [
    {
     "data": {
      "text/plain": [
       "(504, 15)"
      ]
     },
     "execution_count": 54,
     "metadata": {},
     "output_type": "execute_result"
    }
   ],
   "source": [
    "merged_df.shape"
   ]
  },
  {
   "cell_type": "code",
   "execution_count": 63,
   "metadata": {},
   "outputs": [],
   "source": [
    "# list comprehension을 이용한 데이터 통합\n",
    "# (코드가 짧음, 효율적임, 메모리 문제가 생길 수 있음 - 메모리에 모든 파일이 한번에 존재하게 됨)\n",
    "merged_df = pd.concat([pd.read_csv(\"일별 오염 데이터/\" + file, sep = \"\\t\", engine = \"python\")\n",
    "                       for file in os.listdir(\"일별 오염 데이터\") if '오염_수준.txt' in file], axis=0, ignore_index=True)"
   ]
  },
  {
   "cell_type": "code",
   "execution_count": 64,
   "metadata": {},
   "outputs": [
    {
     "data": {
      "text/plain": [
       "(504, 15)"
      ]
     },
     "execution_count": 64,
     "metadata": {},
     "output_type": "execute_result"
    }
   ],
   "source": [
    "merged_df.shape"
   ]
  },
  {
   "cell_type": "code",
   "execution_count": null,
   "metadata": {},
   "outputs": [],
   "source": []
  },
  {
   "cell_type": "markdown",
   "metadata": {},
   "source": [
    "#### concat을 이용한 엑셀 시트 통합"
   ]
  },
  {
   "cell_type": "code",
   "execution_count": 68,
   "metadata": {},
   "outputs": [
    {
     "data": {
      "text/plain": [
       "['1월', '2월', '3월', '4월', '5월', '6월', '7월', '8월', '9월', '10월', '11월', '12월']"
      ]
     },
     "execution_count": 68,
     "metadata": {},
     "output_type": "execute_result"
    }
   ],
   "source": [
    "import xlrd\n",
    "wb = xlrd.open_workbook(\"월별매출데이터.xlsx\", on_demand = True)\n",
    "sheetnames = wb.sheet_names()\n",
    "sheetnames"
   ]
  },
  {
   "cell_type": "code",
   "execution_count": 69,
   "metadata": {
    "scrolled": true
   },
   "outputs": [
    {
     "data": {
      "text/html": [
       "<div>\n",
       "<style scoped>\n",
       "    .dataframe tbody tr th:only-of-type {\n",
       "        vertical-align: middle;\n",
       "    }\n",
       "\n",
       "    .dataframe tbody tr th {\n",
       "        vertical-align: top;\n",
       "    }\n",
       "\n",
       "    .dataframe thead th {\n",
       "        text-align: right;\n",
       "    }\n",
       "</style>\n",
       "<table border=\"1\" class=\"dataframe\">\n",
       "  <thead>\n",
       "    <tr style=\"text-align: right;\">\n",
       "      <th></th>\n",
       "      <th>일자</th>\n",
       "      <th>지점</th>\n",
       "      <th>품명</th>\n",
       "      <th>수량</th>\n",
       "      <th>주문인 ID</th>\n",
       "      <th>수령 주소</th>\n",
       "      <th>주문 상태</th>\n",
       "      <th>결제 수단</th>\n",
       "    </tr>\n",
       "  </thead>\n",
       "  <tbody>\n",
       "    <tr>\n",
       "      <th>0</th>\n",
       "      <td>2018.1.1</td>\n",
       "      <td>지점1</td>\n",
       "      <td>제품B</td>\n",
       "      <td>3</td>\n",
       "      <td>C-168</td>\n",
       "      <td>서울특별시 동작구 흑석동</td>\n",
       "      <td>주문완료</td>\n",
       "      <td>인터넷뱅킹</td>\n",
       "    </tr>\n",
       "    <tr>\n",
       "      <th>1</th>\n",
       "      <td>2018.1.1</td>\n",
       "      <td>지점2</td>\n",
       "      <td>제품F</td>\n",
       "      <td>8</td>\n",
       "      <td>C-87</td>\n",
       "      <td>서울특별시 서대문구 신촌동</td>\n",
       "      <td>배송완료</td>\n",
       "      <td>신용카드</td>\n",
       "    </tr>\n",
       "    <tr>\n",
       "      <th>2</th>\n",
       "      <td>2018.1.1</td>\n",
       "      <td>지점4</td>\n",
       "      <td>제품B</td>\n",
       "      <td>2</td>\n",
       "      <td>C-158</td>\n",
       "      <td>서울특별시 종로구 종로5가</td>\n",
       "      <td>배송완료</td>\n",
       "      <td>휴대폰결제</td>\n",
       "    </tr>\n",
       "    <tr>\n",
       "      <th>3</th>\n",
       "      <td>2018.1.1</td>\n",
       "      <td>지점3</td>\n",
       "      <td>제품D</td>\n",
       "      <td>7</td>\n",
       "      <td>C-307</td>\n",
       "      <td>서울특별시 서대문구 냉천동</td>\n",
       "      <td>주문완료</td>\n",
       "      <td>휴대폰결제</td>\n",
       "    </tr>\n",
       "    <tr>\n",
       "      <th>4</th>\n",
       "      <td>2018.1.1</td>\n",
       "      <td>지점2</td>\n",
       "      <td>제품E</td>\n",
       "      <td>9</td>\n",
       "      <td>C-342</td>\n",
       "      <td>서울특별시 종로구 묘동</td>\n",
       "      <td>배송완료</td>\n",
       "      <td>인터넷뱅킹</td>\n",
       "    </tr>\n",
       "    <tr>\n",
       "      <th>...</th>\n",
       "      <td>...</td>\n",
       "      <td>...</td>\n",
       "      <td>...</td>\n",
       "      <td>...</td>\n",
       "      <td>...</td>\n",
       "      <td>...</td>\n",
       "      <td>...</td>\n",
       "      <td>...</td>\n",
       "    </tr>\n",
       "    <tr>\n",
       "      <th>18224</th>\n",
       "      <td>2018-12-31</td>\n",
       "      <td>지점1</td>\n",
       "      <td>제품F</td>\n",
       "      <td>6</td>\n",
       "      <td>C-59</td>\n",
       "      <td>서울특별시 성북구 보문동3가</td>\n",
       "      <td>배송중</td>\n",
       "      <td>신용카드</td>\n",
       "    </tr>\n",
       "    <tr>\n",
       "      <th>18225</th>\n",
       "      <td>2018-12-31</td>\n",
       "      <td>지점2</td>\n",
       "      <td>제품D</td>\n",
       "      <td>9</td>\n",
       "      <td>C-287</td>\n",
       "      <td>서울특별시 중구 의주로1가</td>\n",
       "      <td>배송중</td>\n",
       "      <td>인터넷뱅킹</td>\n",
       "    </tr>\n",
       "    <tr>\n",
       "      <th>18226</th>\n",
       "      <td>2018-12-31</td>\n",
       "      <td>지점4</td>\n",
       "      <td>제품D</td>\n",
       "      <td>5</td>\n",
       "      <td>C-175</td>\n",
       "      <td>서울특별시 종로구 명륜1가</td>\n",
       "      <td>주문완료</td>\n",
       "      <td>인터넷뱅킹</td>\n",
       "    </tr>\n",
       "    <tr>\n",
       "      <th>18227</th>\n",
       "      <td>2018-12-31</td>\n",
       "      <td>지점1</td>\n",
       "      <td>제품B</td>\n",
       "      <td>4</td>\n",
       "      <td>C-17</td>\n",
       "      <td>서울특별시 영등포구 양평동3가</td>\n",
       "      <td>주문완료</td>\n",
       "      <td>인터넷뱅킹</td>\n",
       "    </tr>\n",
       "    <tr>\n",
       "      <th>18228</th>\n",
       "      <td>2018-12-31</td>\n",
       "      <td>지점2</td>\n",
       "      <td>제품D</td>\n",
       "      <td>4</td>\n",
       "      <td>C-156</td>\n",
       "      <td>서울특별시 중구 을지로2가</td>\n",
       "      <td>배송중</td>\n",
       "      <td>인터넷뱅킹</td>\n",
       "    </tr>\n",
       "  </tbody>\n",
       "</table>\n",
       "<p>18229 rows × 8 columns</p>\n",
       "</div>"
      ],
      "text/plain": [
       "               일자   지점   품명  수량 주문인 ID             수령 주소 주문 상태  결제 수단\n",
       "0        2018.1.1  지점1  제품B   3  C-168     서울특별시 동작구 흑석동  주문완료  인터넷뱅킹\n",
       "1        2018.1.1  지점2  제품F   8   C-87    서울특별시 서대문구 신촌동  배송완료   신용카드\n",
       "2        2018.1.1  지점4  제품B   2  C-158    서울특별시 종로구 종로5가  배송완료  휴대폰결제\n",
       "3        2018.1.1  지점3  제품D   7  C-307    서울특별시 서대문구 냉천동  주문완료  휴대폰결제\n",
       "4        2018.1.1  지점2  제품E   9  C-342      서울특별시 종로구 묘동  배송완료  인터넷뱅킹\n",
       "...           ...  ...  ...  ..    ...               ...   ...    ...\n",
       "18224  2018-12-31  지점1  제품F   6   C-59   서울특별시 성북구 보문동3가   배송중   신용카드\n",
       "18225  2018-12-31  지점2  제품D   9  C-287    서울특별시 중구 의주로1가   배송중  인터넷뱅킹\n",
       "18226  2018-12-31  지점4  제품D   5  C-175    서울특별시 종로구 명륜1가  주문완료  인터넷뱅킹\n",
       "18227  2018-12-31  지점1  제품B   4   C-17  서울특별시 영등포구 양평동3가  주문완료  인터넷뱅킹\n",
       "18228  2018-12-31  지점2  제품D   4  C-156    서울특별시 중구 을지로2가   배송중  인터넷뱅킹\n",
       "\n",
       "[18229 rows x 8 columns]"
      ]
     },
     "execution_count": 69,
     "metadata": {},
     "output_type": "execute_result"
    }
   ],
   "source": [
    "merged_df = pd.DataFrame()\n",
    "for sn in sheetnames:\n",
    "    df = pd.read_excel(\"월별매출데이터.xlsx\", sheet_name = sn, skiprows = range(6))\n",
    "    df = df.iloc[:, 1:] # 첫 번째 컬럼이 불필요하므로 제거\n",
    "    merged_df = pd.concat([merged_df, df], axis = 0, ignore_index = True)\n",
    "merged_df"
   ]
  },
  {
   "cell_type": "code",
   "execution_count": 70,
   "metadata": {},
   "outputs": [
    {
     "data": {
      "text/plain": [
       "(1509, 8)"
      ]
     },
     "execution_count": 70,
     "metadata": {},
     "output_type": "execute_result"
    }
   ],
   "source": [
    "df.shape"
   ]
  },
  {
   "cell_type": "code",
   "execution_count": 71,
   "metadata": {},
   "outputs": [
    {
     "data": {
      "text/plain": [
       "(18229, 8)"
      ]
     },
     "execution_count": 71,
     "metadata": {},
     "output_type": "execute_result"
    }
   ],
   "source": [
    "merged_df.shape"
   ]
  },
  {
   "cell_type": "code",
   "execution_count": 73,
   "metadata": {},
   "outputs": [
    {
     "data": {
      "text/plain": [
       "(18229, 8)"
      ]
     },
     "execution_count": 73,
     "metadata": {},
     "output_type": "execute_result"
    }
   ],
   "source": [
    "# list comprehension을 이용한 데이터 통합\n",
    "merged_df = pd.concat([pd.read_excel(\"월별매출데이터.xlsx\", sheet_name = sn, skiprows = range(6)).iloc[:, 1:] for sn in sheetnames])\n",
    "merged_df.shape"
   ]
  },
  {
   "cell_type": "code",
   "execution_count": null,
   "metadata": {},
   "outputs": [],
   "source": []
  }
 ],
 "metadata": {
  "kernelspec": {
   "display_name": "Python 3",
   "language": "python",
   "name": "python3"
  },
  "language_info": {
   "codemirror_mode": {
    "name": "ipython",
    "version": 3
   },
   "file_extension": ".py",
   "mimetype": "text/x-python",
   "name": "python",
   "nbconvert_exporter": "python",
   "pygments_lexer": "ipython3",
   "version": "3.8.5"
  }
 },
 "nbformat": 4,
 "nbformat_minor": 2
}

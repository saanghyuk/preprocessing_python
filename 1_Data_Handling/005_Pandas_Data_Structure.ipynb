{
 "cells": [
  {
   "cell_type": "code",
   "execution_count": 1,
   "metadata": {},
   "outputs": [],
   "source": [
    "import pandas as pd"
   ]
  },
  {
   "cell_type": "markdown",
   "metadata": {},
   "source": [
    "#### Series 기본\n",
    "- 인덱스와 값의 쌍으로 구성 \n",
    "- ndarray에 인덱스 붙인 것 \n",
    "- ndarray의 함수들 특징들 다 사용 가능"
   ]
  },
  {
   "cell_type": "markdown",
   "metadata": {},
   "source": [
    "dict 형태로 생성"
   ]
  },
  {
   "cell_type": "code",
   "execution_count": 2,
   "metadata": {
    "scrolled": true
   },
   "outputs": [
    {
     "data": {
      "text/plain": [
       "a    1\n",
       "b    2\n",
       "c    3\n",
       "d    4\n",
       "dtype: int64"
      ]
     },
     "execution_count": 2,
     "metadata": {},
     "output_type": "execute_result"
    }
   ],
   "source": [
    "S = pd.Series({\"a\": 1, \"b\": 2, \"c\":3, \"d\":4})\n",
    "S"
   ]
  },
  {
   "cell_type": "markdown",
   "metadata": {},
   "source": [
    "array, index를 넣고 생성"
   ]
  },
  {
   "cell_type": "code",
   "execution_count": 6,
   "metadata": {},
   "outputs": [
    {
     "data": {
      "text/plain": [
       "a    1\n",
       "b    2\n",
       "c    3\n",
       "d    4\n",
       "dtype: int64"
      ]
     },
     "execution_count": 6,
     "metadata": {},
     "output_type": "execute_result"
    }
   ],
   "source": [
    "S = pd.Series([1, 2, 3, 4], index = ['a', 'b', 'c', 'd'])\n",
    "S"
   ]
  },
  {
   "cell_type": "markdown",
   "metadata": {},
   "source": [
    "index를 반드시 넣을 필요는 없다. "
   ]
  },
  {
   "cell_type": "code",
   "execution_count": 1,
   "metadata": {},
   "outputs": [
    {
     "data": {
      "text/plain": [
       "0    1\n",
       "1    2\n",
       "2    3\n",
       "3    4\n",
       "dtype: int64"
      ]
     },
     "execution_count": 1,
     "metadata": {},
     "output_type": "execute_result"
    }
   ],
   "source": [
    "S = pd.Series([1, 2, 3, 4])\n",
    "S"
   ]
  },
  {
   "cell_type": "code",
   "execution_count": 2,
   "metadata": {},
   "outputs": [
    {
     "data": {
      "text/plain": [
       "array([1, 2, 3, 4])"
      ]
     },
     "execution_count": 2,
     "metadata": {},
     "output_type": "execute_result"
    }
   ],
   "source": [
    "S.values"
   ]
  },
  {
   "cell_type": "code",
   "execution_count": 3,
   "metadata": {
    "scrolled": false
   },
   "outputs": [
    {
     "data": {
      "text/plain": [
       "numpy.ndarray"
      ]
     },
     "execution_count": 3,
     "metadata": {},
     "output_type": "execute_result"
    }
   ],
   "source": [
    "type(S.values)"
   ]
  },
  {
   "cell_type": "code",
   "execution_count": 7,
   "metadata": {},
   "outputs": [
    {
     "data": {
      "text/plain": [
       "RangeIndex(start=0, stop=4, step=1)"
      ]
     },
     "execution_count": 7,
     "metadata": {},
     "output_type": "execute_result"
    }
   ],
   "source": [
    "S.index"
   ]
  },
  {
   "cell_type": "code",
   "execution_count": 8,
   "metadata": {},
   "outputs": [
    {
     "data": {
      "text/plain": [
       "0     1\n",
       "1     4\n",
       "2     9\n",
       "3    16\n",
       "dtype: int64"
      ]
     },
     "execution_count": 8,
     "metadata": {},
     "output_type": "execute_result"
    }
   ],
   "source": [
    "S ** 2 # 유니버설 함수와 브로드캐스팅이 적용됨"
   ]
  },
  {
   "cell_type": "markdown",
   "metadata": {},
   "source": [
    "#### DataFrame 기본\n",
    "- 2차원 배열 자료형. Series는 1차원. \n",
    "- Col(Col), Index(Row)\n",
    "- 하나 이상의 series의 집합"
   ]
  },
  {
   "cell_type": "markdown",
   "metadata": {},
   "source": [
    "dict를 이용한 dataframe 생성"
   ]
  },
  {
   "cell_type": "code",
   "execution_count": 10,
   "metadata": {},
   "outputs": [],
   "source": [
    "df = pd.DataFrame({\"col1\": [1, 2, 3, 4],\n",
    "                  \"col2\": [5, 6, 7, 8]}, \n",
    "                  index = ['a', 'b', 'c', 'd'])"
   ]
  },
  {
   "cell_type": "code",
   "execution_count": 11,
   "metadata": {},
   "outputs": [
    {
     "data": {
      "text/plain": [
       "array([[1, 5],\n",
       "       [2, 6],\n",
       "       [3, 7],\n",
       "       [4, 8]])"
      ]
     },
     "execution_count": 11,
     "metadata": {},
     "output_type": "execute_result"
    }
   ],
   "source": [
    "df.values"
   ]
  },
  {
   "cell_type": "code",
   "execution_count": 12,
   "metadata": {
    "scrolled": true
   },
   "outputs": [
    {
     "data": {
      "text/plain": [
       "numpy.ndarray"
      ]
     },
     "execution_count": 12,
     "metadata": {},
     "output_type": "execute_result"
    }
   ],
   "source": [
    "type(df.values)"
   ]
  },
  {
   "cell_type": "code",
   "execution_count": 11,
   "metadata": {},
   "outputs": [
    {
     "data": {
      "text/plain": [
       "Index(['a', 'b', 'c', 'd'], dtype='object')"
      ]
     },
     "execution_count": 11,
     "metadata": {},
     "output_type": "execute_result"
    }
   ],
   "source": [
    "df.index # 행 인덱스 출력"
   ]
  },
  {
   "cell_type": "code",
   "execution_count": 12,
   "metadata": {},
   "outputs": [
    {
     "data": {
      "text/plain": [
       "Index(['col1', 'col2'], dtype='object')"
      ]
     },
     "execution_count": 12,
     "metadata": {},
     "output_type": "execute_result"
    }
   ],
   "source": [
    "df.columns # 컬럼들을 출력"
   ]
  },
  {
   "cell_type": "code",
   "execution_count": 13,
   "metadata": {},
   "outputs": [
    {
     "data": {
      "text/plain": [
       "pandas.core.series.Series"
      ]
     },
     "execution_count": 13,
     "metadata": {},
     "output_type": "execute_result"
    }
   ],
   "source": [
    "type(df['col1']) # series"
   ]
  },
  {
   "cell_type": "markdown",
   "metadata": {},
   "source": [
    "#### 인덱싱과 슬라이싱"
   ]
  },
  {
   "cell_type": "markdown",
   "metadata": {},
   "source": [
    "- Pandas에는 내가 정의한 명시적 인덱스가 있고, 원래 정의되있던 암묵적 인덱스도 있음. \n",
    "- 그래서, loc와 iloc 두 종류가 있는 것. \n",
    "    - S.loc['a'] = 1 # 명시적 인덱스를 찾는다. \n",
    "    - S.iloc[2] = 3 # 암묵적 인덱스를 찾는다.\n",
    "    - S.loc[\"a\": \"c\"] = [1, 2, 3] # loc를 이용한 슬라이싱에서는 맨 뒤 값을 포함. \n",
    "    - S.iloc[1:3] = [2, 3] # iloc를 이용한 슬라이싱에서는 맨 뒤 값을 포함하지 않음.     "
   ]
  },
  {
   "cell_type": "code",
   "execution_count": 18,
   "metadata": {},
   "outputs": [
    {
     "data": {
      "text/plain": [
       "(a    1\n",
       " b    2\n",
       " c    3\n",
       " d    4\n",
       " dtype: int64,\n",
       " pandas.core.series.Series)"
      ]
     },
     "execution_count": 18,
     "metadata": {},
     "output_type": "execute_result"
    }
   ],
   "source": [
    "S = pd.Series([1, 2, 3, 4], index = ['a', 'b', 'c', 'd'])\n",
    "S, type(S)"
   ]
  },
  {
   "cell_type": "code",
   "execution_count": 19,
   "metadata": {},
   "outputs": [
    {
     "data": {
      "text/plain": [
       "1"
      ]
     },
     "execution_count": 19,
     "metadata": {},
     "output_type": "execute_result"
    }
   ],
   "source": [
    "S.loc['a'] # 사전에서 키를 가지고 값을 찾는 것과 완벽히 동일"
   ]
  },
  {
   "cell_type": "code",
   "execution_count": 20,
   "metadata": {},
   "outputs": [
    {
     "data": {
      "text/plain": [
       "3"
      ]
     },
     "execution_count": 20,
     "metadata": {},
     "output_type": "execute_result"
    }
   ],
   "source": [
    "S.iloc[2]"
   ]
  },
  {
   "cell_type": "markdown",
   "metadata": {},
   "source": [
    "loc는 a부터 c까지 다 포함"
   ]
  },
  {
   "cell_type": "code",
   "execution_count": 21,
   "metadata": {},
   "outputs": [
    {
     "data": {
      "text/plain": [
       "a    1\n",
       "b    2\n",
       "c    3\n",
       "dtype: int64"
      ]
     },
     "execution_count": 21,
     "metadata": {},
     "output_type": "execute_result"
    }
   ],
   "source": [
    "S.loc['a':'c']"
   ]
  },
  {
   "cell_type": "markdown",
   "metadata": {},
   "source": [
    "iloc에서는 마지막은 뺀다. "
   ]
  },
  {
   "cell_type": "code",
   "execution_count": 24,
   "metadata": {},
   "outputs": [
    {
     "data": {
      "text/plain": [
       "b    2\n",
       "c    3\n",
       "dtype: int64"
      ]
     },
     "execution_count": 24,
     "metadata": {},
     "output_type": "execute_result"
    }
   ],
   "source": [
    "S.iloc[1:3]"
   ]
  },
  {
   "cell_type": "code",
   "execution_count": 25,
   "metadata": {
    "scrolled": true
   },
   "outputs": [
    {
     "data": {
      "text/html": [
       "<div>\n",
       "<style scoped>\n",
       "    .dataframe tbody tr th:only-of-type {\n",
       "        vertical-align: middle;\n",
       "    }\n",
       "\n",
       "    .dataframe tbody tr th {\n",
       "        vertical-align: top;\n",
       "    }\n",
       "\n",
       "    .dataframe thead th {\n",
       "        text-align: right;\n",
       "    }\n",
       "</style>\n",
       "<table border=\"1\" class=\"dataframe\">\n",
       "  <thead>\n",
       "    <tr style=\"text-align: right;\">\n",
       "      <th></th>\n",
       "      <th>col1</th>\n",
       "      <th>col2</th>\n",
       "    </tr>\n",
       "  </thead>\n",
       "  <tbody>\n",
       "    <tr>\n",
       "      <th>a</th>\n",
       "      <td>1</td>\n",
       "      <td>5</td>\n",
       "    </tr>\n",
       "    <tr>\n",
       "      <th>b</th>\n",
       "      <td>2</td>\n",
       "      <td>6</td>\n",
       "    </tr>\n",
       "    <tr>\n",
       "      <th>c</th>\n",
       "      <td>3</td>\n",
       "      <td>7</td>\n",
       "    </tr>\n",
       "    <tr>\n",
       "      <th>d</th>\n",
       "      <td>4</td>\n",
       "      <td>8</td>\n",
       "    </tr>\n",
       "  </tbody>\n",
       "</table>\n",
       "</div>"
      ],
      "text/plain": [
       "   col1  col2\n",
       "a     1     5\n",
       "b     2     6\n",
       "c     3     7\n",
       "d     4     8"
      ]
     },
     "execution_count": 25,
     "metadata": {},
     "output_type": "execute_result"
    }
   ],
   "source": [
    "df"
   ]
  },
  {
   "cell_type": "code",
   "execution_count": 26,
   "metadata": {},
   "outputs": [
    {
     "data": {
      "text/html": [
       "<div>\n",
       "<style scoped>\n",
       "    .dataframe tbody tr th:only-of-type {\n",
       "        vertical-align: middle;\n",
       "    }\n",
       "\n",
       "    .dataframe tbody tr th {\n",
       "        vertical-align: top;\n",
       "    }\n",
       "\n",
       "    .dataframe thead th {\n",
       "        text-align: right;\n",
       "    }\n",
       "</style>\n",
       "<table border=\"1\" class=\"dataframe\">\n",
       "  <thead>\n",
       "    <tr style=\"text-align: right;\">\n",
       "      <th></th>\n",
       "      <th>col1</th>\n",
       "      <th>col2</th>\n",
       "    </tr>\n",
       "  </thead>\n",
       "  <tbody>\n",
       "    <tr>\n",
       "      <th>a</th>\n",
       "      <td>1</td>\n",
       "      <td>5</td>\n",
       "    </tr>\n",
       "    <tr>\n",
       "      <th>b</th>\n",
       "      <td>2</td>\n",
       "      <td>6</td>\n",
       "    </tr>\n",
       "    <tr>\n",
       "      <th>c</th>\n",
       "      <td>3</td>\n",
       "      <td>7</td>\n",
       "    </tr>\n",
       "    <tr>\n",
       "      <th>d</th>\n",
       "      <td>4</td>\n",
       "      <td>8</td>\n",
       "    </tr>\n",
       "  </tbody>\n",
       "</table>\n",
       "</div>"
      ],
      "text/plain": [
       "   col1  col2\n",
       "a     1     5\n",
       "b     2     6\n",
       "c     3     7\n",
       "d     4     8"
      ]
     },
     "execution_count": 26,
     "metadata": {},
     "output_type": "execute_result"
    }
   ],
   "source": [
    "df[['col1', 'col2']]"
   ]
  },
  {
   "cell_type": "code",
   "execution_count": 27,
   "metadata": {},
   "outputs": [
    {
     "data": {
      "text/plain": [
       "a    1\n",
       "b    2\n",
       "c    3\n",
       "d    4\n",
       "Name: col1, dtype: int64"
      ]
     },
     "execution_count": 27,
     "metadata": {},
     "output_type": "execute_result"
    }
   ],
   "source": [
    "df['col1'] # column name => Series"
   ]
  },
  {
   "cell_type": "code",
   "execution_count": 28,
   "metadata": {},
   "outputs": [
    {
     "data": {
      "text/html": [
       "<div>\n",
       "<style scoped>\n",
       "    .dataframe tbody tr th:only-of-type {\n",
       "        vertical-align: middle;\n",
       "    }\n",
       "\n",
       "    .dataframe tbody tr th {\n",
       "        vertical-align: top;\n",
       "    }\n",
       "\n",
       "    .dataframe thead th {\n",
       "        text-align: right;\n",
       "    }\n",
       "</style>\n",
       "<table border=\"1\" class=\"dataframe\">\n",
       "  <thead>\n",
       "    <tr style=\"text-align: right;\">\n",
       "      <th></th>\n",
       "      <th>col1</th>\n",
       "    </tr>\n",
       "  </thead>\n",
       "  <tbody>\n",
       "    <tr>\n",
       "      <th>a</th>\n",
       "      <td>1</td>\n",
       "    </tr>\n",
       "    <tr>\n",
       "      <th>b</th>\n",
       "      <td>2</td>\n",
       "    </tr>\n",
       "    <tr>\n",
       "      <th>c</th>\n",
       "      <td>3</td>\n",
       "    </tr>\n",
       "    <tr>\n",
       "      <th>d</th>\n",
       "      <td>4</td>\n",
       "    </tr>\n",
       "  </tbody>\n",
       "</table>\n",
       "</div>"
      ],
      "text/plain": [
       "   col1\n",
       "a     1\n",
       "b     2\n",
       "c     3\n",
       "d     4"
      ]
     },
     "execution_count": 28,
     "metadata": {},
     "output_type": "execute_result"
    }
   ],
   "source": [
    "df[['col1']] # column name list => Data Frame"
   ]
  },
  {
   "cell_type": "code",
   "execution_count": 29,
   "metadata": {},
   "outputs": [
    {
     "data": {
      "text/plain": [
       "5"
      ]
     },
     "execution_count": 29,
     "metadata": {},
     "output_type": "execute_result"
    }
   ],
   "source": [
    "df.loc['a', 'col2']"
   ]
  },
  {
   "cell_type": "code",
   "execution_count": 32,
   "metadata": {},
   "outputs": [
    {
     "data": {
      "text/plain": [
       "a    1\n",
       "b    2\n",
       "c    3\n",
       "Name: col1, dtype: int64"
      ]
     },
     "execution_count": 32,
     "metadata": {},
     "output_type": "execute_result"
    }
   ],
   "source": [
    "df.loc['a':'c', 'col1']"
   ]
  },
  {
   "cell_type": "code",
   "execution_count": 31,
   "metadata": {},
   "outputs": [
    {
     "data": {
      "text/plain": [
       "b    6\n",
       "c    7\n",
       "Name: col2, dtype: int64"
      ]
     },
     "execution_count": 31,
     "metadata": {},
     "output_type": "execute_result"
    }
   ],
   "source": [
    "df.iloc[1:3, 1]"
   ]
  },
  {
   "cell_type": "markdown",
   "metadata": {},
   "source": [
    "#### 값 조회하기"
   ]
  },
  {
   "cell_type": "code",
   "execution_count": 33,
   "metadata": {},
   "outputs": [],
   "source": [
    "# 모든 행과 모든 열을 보여주기\n",
    "pd.set_option('display.max_rows', None)\n",
    "pd.set_option('display.max_columns', None)"
   ]
  },
  {
   "cell_type": "code",
   "execution_count": 37,
   "metadata": {},
   "outputs": [],
   "source": [
    "# 최대 10개 행과 최대 10 열을 보여주기\n",
    "pd.set_option('display.max_rows', 10)\n",
    "pd.set_option('display.max_columns', 10)"
   ]
  },
  {
   "cell_type": "code",
   "execution_count": 36,
   "metadata": {},
   "outputs": [
    {
     "data": {
      "text/html": [
       "<div>\n",
       "<style scoped>\n",
       "    .dataframe tbody tr th:only-of-type {\n",
       "        vertical-align: middle;\n",
       "    }\n",
       "\n",
       "    .dataframe tbody tr th {\n",
       "        vertical-align: top;\n",
       "    }\n",
       "\n",
       "    .dataframe thead th {\n",
       "        text-align: right;\n",
       "    }\n",
       "</style>\n",
       "<table border=\"1\" class=\"dataframe\">\n",
       "  <thead>\n",
       "    <tr style=\"text-align: right;\">\n",
       "      <th></th>\n",
       "      <th>X1</th>\n",
       "      <th>X2</th>\n",
       "      <th>X3</th>\n",
       "      <th>X4</th>\n",
       "      <th>X5</th>\n",
       "    </tr>\n",
       "  </thead>\n",
       "  <tbody>\n",
       "    <tr>\n",
       "      <th>0</th>\n",
       "      <td>0.825130</td>\n",
       "      <td>0.153057</td>\n",
       "      <td>0.568997</td>\n",
       "      <td>0.124962</td>\n",
       "      <td>0.709438</td>\n",
       "    </tr>\n",
       "    <tr>\n",
       "      <th>1</th>\n",
       "      <td>0.374703</td>\n",
       "      <td>0.793732</td>\n",
       "      <td>0.797620</td>\n",
       "      <td>0.319817</td>\n",
       "      <td>0.359058</td>\n",
       "    </tr>\n",
       "    <tr>\n",
       "      <th>2</th>\n",
       "      <td>0.218627</td>\n",
       "      <td>0.369342</td>\n",
       "      <td>0.573366</td>\n",
       "      <td>0.707100</td>\n",
       "      <td>0.185524</td>\n",
       "    </tr>\n",
       "    <tr>\n",
       "      <th>3</th>\n",
       "      <td>0.750365</td>\n",
       "      <td>0.384759</td>\n",
       "      <td>0.188078</td>\n",
       "      <td>0.414661</td>\n",
       "      <td>0.059974</td>\n",
       "    </tr>\n",
       "    <tr>\n",
       "      <th>4</th>\n",
       "      <td>0.733913</td>\n",
       "      <td>0.458454</td>\n",
       "      <td>0.188973</td>\n",
       "      <td>0.200790</td>\n",
       "      <td>0.469428</td>\n",
       "    </tr>\n",
       "    <tr>\n",
       "      <th>...</th>\n",
       "      <td>...</td>\n",
       "      <td>...</td>\n",
       "      <td>...</td>\n",
       "      <td>...</td>\n",
       "      <td>...</td>\n",
       "    </tr>\n",
       "    <tr>\n",
       "      <th>495</th>\n",
       "      <td>0.451797</td>\n",
       "      <td>0.032363</td>\n",
       "      <td>0.989939</td>\n",
       "      <td>0.656679</td>\n",
       "      <td>0.456013</td>\n",
       "    </tr>\n",
       "    <tr>\n",
       "      <th>496</th>\n",
       "      <td>0.052197</td>\n",
       "      <td>0.947598</td>\n",
       "      <td>0.095592</td>\n",
       "      <td>0.920848</td>\n",
       "      <td>0.349987</td>\n",
       "    </tr>\n",
       "    <tr>\n",
       "      <th>497</th>\n",
       "      <td>0.982538</td>\n",
       "      <td>0.266727</td>\n",
       "      <td>0.261368</td>\n",
       "      <td>0.157445</td>\n",
       "      <td>0.435672</td>\n",
       "    </tr>\n",
       "    <tr>\n",
       "      <th>498</th>\n",
       "      <td>0.281466</td>\n",
       "      <td>0.431857</td>\n",
       "      <td>0.035410</td>\n",
       "      <td>0.661351</td>\n",
       "      <td>0.107385</td>\n",
       "    </tr>\n",
       "    <tr>\n",
       "      <th>499</th>\n",
       "      <td>0.418343</td>\n",
       "      <td>0.305514</td>\n",
       "      <td>0.831688</td>\n",
       "      <td>0.986047</td>\n",
       "      <td>0.679920</td>\n",
       "    </tr>\n",
       "  </tbody>\n",
       "</table>\n",
       "<p>500 rows × 5 columns</p>\n",
       "</div>"
      ],
      "text/plain": [
       "           X1        X2        X3        X4        X5\n",
       "0    0.825130  0.153057  0.568997  0.124962  0.709438\n",
       "1    0.374703  0.793732  0.797620  0.319817  0.359058\n",
       "2    0.218627  0.369342  0.573366  0.707100  0.185524\n",
       "3    0.750365  0.384759  0.188078  0.414661  0.059974\n",
       "4    0.733913  0.458454  0.188973  0.200790  0.469428\n",
       "..        ...       ...       ...       ...       ...\n",
       "495  0.451797  0.032363  0.989939  0.656679  0.456013\n",
       "496  0.052197  0.947598  0.095592  0.920848  0.349987\n",
       "497  0.982538  0.266727  0.261368  0.157445  0.435672\n",
       "498  0.281466  0.431857  0.035410  0.661351  0.107385\n",
       "499  0.418343  0.305514  0.831688  0.986047  0.679920\n",
       "\n",
       "[500 rows x 5 columns]"
      ]
     },
     "execution_count": 36,
     "metadata": {},
     "output_type": "execute_result"
    }
   ],
   "source": [
    "import numpy as np\n",
    "df = pd.DataFrame(np.random.random(size = (500, 5)),\n",
    "                 columns = ['X1', 'X2', 'X3', 'X4', 'X5'])\n",
    "df"
   ]
  },
  {
   "cell_type": "code",
   "execution_count": 38,
   "metadata": {},
   "outputs": [
    {
     "data": {
      "text/html": [
       "<div>\n",
       "<style scoped>\n",
       "    .dataframe tbody tr th:only-of-type {\n",
       "        vertical-align: middle;\n",
       "    }\n",
       "\n",
       "    .dataframe tbody tr th {\n",
       "        vertical-align: top;\n",
       "    }\n",
       "\n",
       "    .dataframe thead th {\n",
       "        text-align: right;\n",
       "    }\n",
       "</style>\n",
       "<table border=\"1\" class=\"dataframe\">\n",
       "  <thead>\n",
       "    <tr style=\"text-align: right;\">\n",
       "      <th></th>\n",
       "      <th>X1</th>\n",
       "      <th>X2</th>\n",
       "      <th>X3</th>\n",
       "      <th>X4</th>\n",
       "      <th>X5</th>\n",
       "    </tr>\n",
       "  </thead>\n",
       "  <tbody>\n",
       "    <tr>\n",
       "      <th>0</th>\n",
       "      <td>0.825130</td>\n",
       "      <td>0.153057</td>\n",
       "      <td>0.568997</td>\n",
       "      <td>0.124962</td>\n",
       "      <td>0.709438</td>\n",
       "    </tr>\n",
       "    <tr>\n",
       "      <th>1</th>\n",
       "      <td>0.374703</td>\n",
       "      <td>0.793732</td>\n",
       "      <td>0.797620</td>\n",
       "      <td>0.319817</td>\n",
       "      <td>0.359058</td>\n",
       "    </tr>\n",
       "    <tr>\n",
       "      <th>2</th>\n",
       "      <td>0.218627</td>\n",
       "      <td>0.369342</td>\n",
       "      <td>0.573366</td>\n",
       "      <td>0.707100</td>\n",
       "      <td>0.185524</td>\n",
       "    </tr>\n",
       "    <tr>\n",
       "      <th>3</th>\n",
       "      <td>0.750365</td>\n",
       "      <td>0.384759</td>\n",
       "      <td>0.188078</td>\n",
       "      <td>0.414661</td>\n",
       "      <td>0.059974</td>\n",
       "    </tr>\n",
       "    <tr>\n",
       "      <th>4</th>\n",
       "      <td>0.733913</td>\n",
       "      <td>0.458454</td>\n",
       "      <td>0.188973</td>\n",
       "      <td>0.200790</td>\n",
       "      <td>0.469428</td>\n",
       "    </tr>\n",
       "    <tr>\n",
       "      <th>...</th>\n",
       "      <td>...</td>\n",
       "      <td>...</td>\n",
       "      <td>...</td>\n",
       "      <td>...</td>\n",
       "      <td>...</td>\n",
       "    </tr>\n",
       "    <tr>\n",
       "      <th>495</th>\n",
       "      <td>0.451797</td>\n",
       "      <td>0.032363</td>\n",
       "      <td>0.989939</td>\n",
       "      <td>0.656679</td>\n",
       "      <td>0.456013</td>\n",
       "    </tr>\n",
       "    <tr>\n",
       "      <th>496</th>\n",
       "      <td>0.052197</td>\n",
       "      <td>0.947598</td>\n",
       "      <td>0.095592</td>\n",
       "      <td>0.920848</td>\n",
       "      <td>0.349987</td>\n",
       "    </tr>\n",
       "    <tr>\n",
       "      <th>497</th>\n",
       "      <td>0.982538</td>\n",
       "      <td>0.266727</td>\n",
       "      <td>0.261368</td>\n",
       "      <td>0.157445</td>\n",
       "      <td>0.435672</td>\n",
       "    </tr>\n",
       "    <tr>\n",
       "      <th>498</th>\n",
       "      <td>0.281466</td>\n",
       "      <td>0.431857</td>\n",
       "      <td>0.035410</td>\n",
       "      <td>0.661351</td>\n",
       "      <td>0.107385</td>\n",
       "    </tr>\n",
       "    <tr>\n",
       "      <th>499</th>\n",
       "      <td>0.418343</td>\n",
       "      <td>0.305514</td>\n",
       "      <td>0.831688</td>\n",
       "      <td>0.986047</td>\n",
       "      <td>0.679920</td>\n",
       "    </tr>\n",
       "  </tbody>\n",
       "</table>\n",
       "<p>500 rows × 5 columns</p>\n",
       "</div>"
      ],
      "text/plain": [
       "           X1        X2        X3        X4        X5\n",
       "0    0.825130  0.153057  0.568997  0.124962  0.709438\n",
       "1    0.374703  0.793732  0.797620  0.319817  0.359058\n",
       "2    0.218627  0.369342  0.573366  0.707100  0.185524\n",
       "3    0.750365  0.384759  0.188078  0.414661  0.059974\n",
       "4    0.733913  0.458454  0.188973  0.200790  0.469428\n",
       "..        ...       ...       ...       ...       ...\n",
       "495  0.451797  0.032363  0.989939  0.656679  0.456013\n",
       "496  0.052197  0.947598  0.095592  0.920848  0.349987\n",
       "497  0.982538  0.266727  0.261368  0.157445  0.435672\n",
       "498  0.281466  0.431857  0.035410  0.661351  0.107385\n",
       "499  0.418343  0.305514  0.831688  0.986047  0.679920\n",
       "\n",
       "[500 rows x 5 columns]"
      ]
     },
     "execution_count": 38,
     "metadata": {},
     "output_type": "execute_result"
    }
   ],
   "source": [
    "df"
   ]
  },
  {
   "cell_type": "code",
   "execution_count": 39,
   "metadata": {},
   "outputs": [
    {
     "data": {
      "text/html": [
       "<div>\n",
       "<style scoped>\n",
       "    .dataframe tbody tr th:only-of-type {\n",
       "        vertical-align: middle;\n",
       "    }\n",
       "\n",
       "    .dataframe tbody tr th {\n",
       "        vertical-align: top;\n",
       "    }\n",
       "\n",
       "    .dataframe thead th {\n",
       "        text-align: right;\n",
       "    }\n",
       "</style>\n",
       "<table border=\"1\" class=\"dataframe\">\n",
       "  <thead>\n",
       "    <tr style=\"text-align: right;\">\n",
       "      <th></th>\n",
       "      <th>X1</th>\n",
       "      <th>X2</th>\n",
       "      <th>X3</th>\n",
       "      <th>X4</th>\n",
       "      <th>X5</th>\n",
       "    </tr>\n",
       "  </thead>\n",
       "  <tbody>\n",
       "    <tr>\n",
       "      <th>0</th>\n",
       "      <td>0.825130</td>\n",
       "      <td>0.153057</td>\n",
       "      <td>0.568997</td>\n",
       "      <td>0.124962</td>\n",
       "      <td>0.709438</td>\n",
       "    </tr>\n",
       "    <tr>\n",
       "      <th>1</th>\n",
       "      <td>0.374703</td>\n",
       "      <td>0.793732</td>\n",
       "      <td>0.797620</td>\n",
       "      <td>0.319817</td>\n",
       "      <td>0.359058</td>\n",
       "    </tr>\n",
       "    <tr>\n",
       "      <th>2</th>\n",
       "      <td>0.218627</td>\n",
       "      <td>0.369342</td>\n",
       "      <td>0.573366</td>\n",
       "      <td>0.707100</td>\n",
       "      <td>0.185524</td>\n",
       "    </tr>\n",
       "    <tr>\n",
       "      <th>3</th>\n",
       "      <td>0.750365</td>\n",
       "      <td>0.384759</td>\n",
       "      <td>0.188078</td>\n",
       "      <td>0.414661</td>\n",
       "      <td>0.059974</td>\n",
       "    </tr>\n",
       "    <tr>\n",
       "      <th>4</th>\n",
       "      <td>0.733913</td>\n",
       "      <td>0.458454</td>\n",
       "      <td>0.188973</td>\n",
       "      <td>0.200790</td>\n",
       "      <td>0.469428</td>\n",
       "    </tr>\n",
       "  </tbody>\n",
       "</table>\n",
       "</div>"
      ],
      "text/plain": [
       "         X1        X2        X3        X4        X5\n",
       "0  0.825130  0.153057  0.568997  0.124962  0.709438\n",
       "1  0.374703  0.793732  0.797620  0.319817  0.359058\n",
       "2  0.218627  0.369342  0.573366  0.707100  0.185524\n",
       "3  0.750365  0.384759  0.188078  0.414661  0.059974\n",
       "4  0.733913  0.458454  0.188973  0.200790  0.469428"
      ]
     },
     "execution_count": 39,
     "metadata": {},
     "output_type": "execute_result"
    }
   ],
   "source": [
    "df.head()"
   ]
  },
  {
   "cell_type": "code",
   "execution_count": 40,
   "metadata": {},
   "outputs": [
    {
     "data": {
      "text/html": [
       "<div>\n",
       "<style scoped>\n",
       "    .dataframe tbody tr th:only-of-type {\n",
       "        vertical-align: middle;\n",
       "    }\n",
       "\n",
       "    .dataframe tbody tr th {\n",
       "        vertical-align: top;\n",
       "    }\n",
       "\n",
       "    .dataframe thead th {\n",
       "        text-align: right;\n",
       "    }\n",
       "</style>\n",
       "<table border=\"1\" class=\"dataframe\">\n",
       "  <thead>\n",
       "    <tr style=\"text-align: right;\">\n",
       "      <th></th>\n",
       "      <th>X1</th>\n",
       "      <th>X2</th>\n",
       "      <th>X3</th>\n",
       "      <th>X4</th>\n",
       "      <th>X5</th>\n",
       "    </tr>\n",
       "  </thead>\n",
       "  <tbody>\n",
       "    <tr>\n",
       "      <th>0</th>\n",
       "      <td>0.825130</td>\n",
       "      <td>0.153057</td>\n",
       "      <td>0.568997</td>\n",
       "      <td>0.124962</td>\n",
       "      <td>0.709438</td>\n",
       "    </tr>\n",
       "    <tr>\n",
       "      <th>1</th>\n",
       "      <td>0.374703</td>\n",
       "      <td>0.793732</td>\n",
       "      <td>0.797620</td>\n",
       "      <td>0.319817</td>\n",
       "      <td>0.359058</td>\n",
       "    </tr>\n",
       "    <tr>\n",
       "      <th>2</th>\n",
       "      <td>0.218627</td>\n",
       "      <td>0.369342</td>\n",
       "      <td>0.573366</td>\n",
       "      <td>0.707100</td>\n",
       "      <td>0.185524</td>\n",
       "    </tr>\n",
       "    <tr>\n",
       "      <th>3</th>\n",
       "      <td>0.750365</td>\n",
       "      <td>0.384759</td>\n",
       "      <td>0.188078</td>\n",
       "      <td>0.414661</td>\n",
       "      <td>0.059974</td>\n",
       "    </tr>\n",
       "    <tr>\n",
       "      <th>4</th>\n",
       "      <td>0.733913</td>\n",
       "      <td>0.458454</td>\n",
       "      <td>0.188973</td>\n",
       "      <td>0.200790</td>\n",
       "      <td>0.469428</td>\n",
       "    </tr>\n",
       "    <tr>\n",
       "      <th>5</th>\n",
       "      <td>0.463185</td>\n",
       "      <td>0.587585</td>\n",
       "      <td>0.616757</td>\n",
       "      <td>0.239256</td>\n",
       "      <td>0.258516</td>\n",
       "    </tr>\n",
       "    <tr>\n",
       "      <th>6</th>\n",
       "      <td>0.341866</td>\n",
       "      <td>0.942133</td>\n",
       "      <td>0.023651</td>\n",
       "      <td>0.788763</td>\n",
       "      <td>0.900153</td>\n",
       "    </tr>\n",
       "    <tr>\n",
       "      <th>7</th>\n",
       "      <td>0.731350</td>\n",
       "      <td>0.933751</td>\n",
       "      <td>0.678195</td>\n",
       "      <td>0.396870</td>\n",
       "      <td>0.022733</td>\n",
       "    </tr>\n",
       "    <tr>\n",
       "      <th>8</th>\n",
       "      <td>0.269565</td>\n",
       "      <td>0.311380</td>\n",
       "      <td>0.982371</td>\n",
       "      <td>0.093004</td>\n",
       "      <td>0.940345</td>\n",
       "    </tr>\n",
       "    <tr>\n",
       "      <th>9</th>\n",
       "      <td>0.897754</td>\n",
       "      <td>0.783831</td>\n",
       "      <td>0.220259</td>\n",
       "      <td>0.069539</td>\n",
       "      <td>0.739502</td>\n",
       "    </tr>\n",
       "  </tbody>\n",
       "</table>\n",
       "</div>"
      ],
      "text/plain": [
       "         X1        X2        X3        X4        X5\n",
       "0  0.825130  0.153057  0.568997  0.124962  0.709438\n",
       "1  0.374703  0.793732  0.797620  0.319817  0.359058\n",
       "2  0.218627  0.369342  0.573366  0.707100  0.185524\n",
       "3  0.750365  0.384759  0.188078  0.414661  0.059974\n",
       "4  0.733913  0.458454  0.188973  0.200790  0.469428\n",
       "5  0.463185  0.587585  0.616757  0.239256  0.258516\n",
       "6  0.341866  0.942133  0.023651  0.788763  0.900153\n",
       "7  0.731350  0.933751  0.678195  0.396870  0.022733\n",
       "8  0.269565  0.311380  0.982371  0.093004  0.940345\n",
       "9  0.897754  0.783831  0.220259  0.069539  0.739502"
      ]
     },
     "execution_count": 40,
     "metadata": {},
     "output_type": "execute_result"
    }
   ],
   "source": [
    "df.head(10)"
   ]
  },
  {
   "cell_type": "code",
   "execution_count": 41,
   "metadata": {
    "scrolled": false
   },
   "outputs": [
    {
     "data": {
      "text/html": [
       "<div>\n",
       "<style scoped>\n",
       "    .dataframe tbody tr th:only-of-type {\n",
       "        vertical-align: middle;\n",
       "    }\n",
       "\n",
       "    .dataframe tbody tr th {\n",
       "        vertical-align: top;\n",
       "    }\n",
       "\n",
       "    .dataframe thead th {\n",
       "        text-align: right;\n",
       "    }\n",
       "</style>\n",
       "<table border=\"1\" class=\"dataframe\">\n",
       "  <thead>\n",
       "    <tr style=\"text-align: right;\">\n",
       "      <th></th>\n",
       "      <th>X1</th>\n",
       "      <th>X2</th>\n",
       "      <th>X3</th>\n",
       "      <th>X4</th>\n",
       "      <th>X5</th>\n",
       "    </tr>\n",
       "  </thead>\n",
       "  <tbody>\n",
       "    <tr>\n",
       "      <th>495</th>\n",
       "      <td>0.451797</td>\n",
       "      <td>0.032363</td>\n",
       "      <td>0.989939</td>\n",
       "      <td>0.656679</td>\n",
       "      <td>0.456013</td>\n",
       "    </tr>\n",
       "    <tr>\n",
       "      <th>496</th>\n",
       "      <td>0.052197</td>\n",
       "      <td>0.947598</td>\n",
       "      <td>0.095592</td>\n",
       "      <td>0.920848</td>\n",
       "      <td>0.349987</td>\n",
       "    </tr>\n",
       "    <tr>\n",
       "      <th>497</th>\n",
       "      <td>0.982538</td>\n",
       "      <td>0.266727</td>\n",
       "      <td>0.261368</td>\n",
       "      <td>0.157445</td>\n",
       "      <td>0.435672</td>\n",
       "    </tr>\n",
       "    <tr>\n",
       "      <th>498</th>\n",
       "      <td>0.281466</td>\n",
       "      <td>0.431857</td>\n",
       "      <td>0.035410</td>\n",
       "      <td>0.661351</td>\n",
       "      <td>0.107385</td>\n",
       "    </tr>\n",
       "    <tr>\n",
       "      <th>499</th>\n",
       "      <td>0.418343</td>\n",
       "      <td>0.305514</td>\n",
       "      <td>0.831688</td>\n",
       "      <td>0.986047</td>\n",
       "      <td>0.679920</td>\n",
       "    </tr>\n",
       "  </tbody>\n",
       "</table>\n",
       "</div>"
      ],
      "text/plain": [
       "           X1        X2        X3        X4        X5\n",
       "495  0.451797  0.032363  0.989939  0.656679  0.456013\n",
       "496  0.052197  0.947598  0.095592  0.920848  0.349987\n",
       "497  0.982538  0.266727  0.261368  0.157445  0.435672\n",
       "498  0.281466  0.431857  0.035410  0.661351  0.107385\n",
       "499  0.418343  0.305514  0.831688  0.986047  0.679920"
      ]
     },
     "execution_count": 41,
     "metadata": {},
     "output_type": "execute_result"
    }
   ],
   "source": [
    "df.tail()"
   ]
  },
  {
   "cell_type": "code",
   "execution_count": 42,
   "metadata": {
    "scrolled": true
   },
   "outputs": [
    {
     "data": {
      "text/plain": [
       "Index(['X1', 'X2', 'X3', 'X4', 'X5'], dtype='object')"
      ]
     },
     "execution_count": 42,
     "metadata": {},
     "output_type": "execute_result"
    }
   ],
   "source": [
    "df.columns"
   ]
  },
  {
   "cell_type": "code",
   "execution_count": 43,
   "metadata": {},
   "outputs": [
    {
     "data": {
      "text/plain": [
       "X1    float64\n",
       "X2    float64\n",
       "X3    float64\n",
       "X4    float64\n",
       "X5    float64\n",
       "dtype: object"
      ]
     },
     "execution_count": 43,
     "metadata": {},
     "output_type": "execute_result"
    }
   ],
   "source": [
    "df.dtypes"
   ]
  },
  {
   "cell_type": "code",
   "execution_count": 44,
   "metadata": {
    "scrolled": true
   },
   "outputs": [
    {
     "data": {
      "text/html": [
       "<div>\n",
       "<style scoped>\n",
       "    .dataframe tbody tr th:only-of-type {\n",
       "        vertical-align: middle;\n",
       "    }\n",
       "\n",
       "    .dataframe tbody tr th {\n",
       "        vertical-align: top;\n",
       "    }\n",
       "\n",
       "    .dataframe thead th {\n",
       "        text-align: right;\n",
       "    }\n",
       "</style>\n",
       "<table border=\"1\" class=\"dataframe\">\n",
       "  <thead>\n",
       "    <tr style=\"text-align: right;\">\n",
       "      <th></th>\n",
       "      <th>X1</th>\n",
       "      <th>X2</th>\n",
       "      <th>X3</th>\n",
       "      <th>X4</th>\n",
       "      <th>X5</th>\n",
       "    </tr>\n",
       "  </thead>\n",
       "  <tbody>\n",
       "    <tr>\n",
       "      <th>0</th>\n",
       "      <td>0.825130</td>\n",
       "      <td>0.153057</td>\n",
       "      <td>0.568997</td>\n",
       "      <td>0.124962</td>\n",
       "      <td>0.709438</td>\n",
       "    </tr>\n",
       "    <tr>\n",
       "      <th>1</th>\n",
       "      <td>0.374703</td>\n",
       "      <td>0.793732</td>\n",
       "      <td>0.797620</td>\n",
       "      <td>0.319817</td>\n",
       "      <td>0.359058</td>\n",
       "    </tr>\n",
       "    <tr>\n",
       "      <th>2</th>\n",
       "      <td>0.218627</td>\n",
       "      <td>0.369342</td>\n",
       "      <td>0.573366</td>\n",
       "      <td>0.707100</td>\n",
       "      <td>0.185524</td>\n",
       "    </tr>\n",
       "    <tr>\n",
       "      <th>3</th>\n",
       "      <td>0.750365</td>\n",
       "      <td>0.384759</td>\n",
       "      <td>0.188078</td>\n",
       "      <td>0.414661</td>\n",
       "      <td>Changed</td>\n",
       "    </tr>\n",
       "    <tr>\n",
       "      <th>4</th>\n",
       "      <td>0.733913</td>\n",
       "      <td>0.458454</td>\n",
       "      <td>0.188973</td>\n",
       "      <td>0.200790</td>\n",
       "      <td>0.469428</td>\n",
       "    </tr>\n",
       "  </tbody>\n",
       "</table>\n",
       "</div>"
      ],
      "text/plain": [
       "         X1        X2        X3        X4        X5\n",
       "0  0.825130  0.153057  0.568997  0.124962  0.709438\n",
       "1  0.374703  0.793732  0.797620  0.319817  0.359058\n",
       "2  0.218627  0.369342  0.573366  0.707100  0.185524\n",
       "3  0.750365  0.384759  0.188078  0.414661   Changed\n",
       "4  0.733913  0.458454  0.188973  0.200790  0.469428"
      ]
     },
     "execution_count": 44,
     "metadata": {},
     "output_type": "execute_result"
    }
   ],
   "source": [
    "df.iloc[3, 4] = 'Changed'\n",
    "df.head()"
   ]
  },
  {
   "cell_type": "code",
   "execution_count": 46,
   "metadata": {},
   "outputs": [
    {
     "data": {
      "text/plain": [
       "0      0.709438\n",
       "1      0.359058\n",
       "2      0.185524\n",
       "3       Changed\n",
       "4      0.469428\n",
       "         ...   \n",
       "495    0.456013\n",
       "496    0.349987\n",
       "497    0.435672\n",
       "498    0.107385\n",
       "499     0.67992\n",
       "Name: X5, Length: 500, dtype: object"
      ]
     },
     "execution_count": 46,
     "metadata": {},
     "output_type": "execute_result"
    }
   ],
   "source": [
    "df['X5']"
   ]
  },
  {
   "cell_type": "code",
   "execution_count": 26,
   "metadata": {},
   "outputs": [
    {
     "data": {
      "text/html": [
       "<div>\n",
       "<style scoped>\n",
       "    .dataframe tbody tr th:only-of-type {\n",
       "        vertical-align: middle;\n",
       "    }\n",
       "\n",
       "    .dataframe tbody tr th {\n",
       "        vertical-align: top;\n",
       "    }\n",
       "\n",
       "    .dataframe thead th {\n",
       "        text-align: right;\n",
       "    }\n",
       "</style>\n",
       "<table border=\"1\" class=\"dataframe\">\n",
       "  <thead>\n",
       "    <tr style=\"text-align: right;\">\n",
       "      <th></th>\n",
       "      <th>X1</th>\n",
       "      <th>X2</th>\n",
       "      <th>X3</th>\n",
       "      <th>X4</th>\n",
       "      <th>X5</th>\n",
       "    </tr>\n",
       "  </thead>\n",
       "  <tbody>\n",
       "    <tr>\n",
       "      <th>0</th>\n",
       "      <td>0.360255</td>\n",
       "      <td>0.860208</td>\n",
       "      <td>0.310894</td>\n",
       "      <td>0.210855</td>\n",
       "      <td>0.366435</td>\n",
       "    </tr>\n",
       "    <tr>\n",
       "      <th>1</th>\n",
       "      <td>0.265531</td>\n",
       "      <td>0.592843</td>\n",
       "      <td>0.459606</td>\n",
       "      <td>0.610412</td>\n",
       "      <td>0.854391</td>\n",
       "    </tr>\n",
       "    <tr>\n",
       "      <th>2</th>\n",
       "      <td>0.862768</td>\n",
       "      <td>0.064806</td>\n",
       "      <td>0.94739</td>\n",
       "      <td>0.359989</td>\n",
       "      <td>0.103019</td>\n",
       "    </tr>\n",
       "    <tr>\n",
       "      <th>3</th>\n",
       "      <td>0.996828</td>\n",
       "      <td>0.405544</td>\n",
       "      <td>Changed2</td>\n",
       "      <td>Changed2</td>\n",
       "      <td>Changed</td>\n",
       "    </tr>\n",
       "    <tr>\n",
       "      <th>4</th>\n",
       "      <td>0.623951</td>\n",
       "      <td>0.643929</td>\n",
       "      <td>Changed2</td>\n",
       "      <td>Changed2</td>\n",
       "      <td>0.268549</td>\n",
       "    </tr>\n",
       "    <tr>\n",
       "      <th>5</th>\n",
       "      <td>0.283158</td>\n",
       "      <td>0.456452</td>\n",
       "      <td>Changed2</td>\n",
       "      <td>Changed2</td>\n",
       "      <td>0.502361</td>\n",
       "    </tr>\n",
       "    <tr>\n",
       "      <th>6</th>\n",
       "      <td>0.482873</td>\n",
       "      <td>0.218449</td>\n",
       "      <td>Changed2</td>\n",
       "      <td>Changed2</td>\n",
       "      <td>0.28079</td>\n",
       "    </tr>\n",
       "    <tr>\n",
       "      <th>7</th>\n",
       "      <td>0.252569</td>\n",
       "      <td>0.916347</td>\n",
       "      <td>Changed2</td>\n",
       "      <td>Changed2</td>\n",
       "      <td>0.634281</td>\n",
       "    </tr>\n",
       "    <tr>\n",
       "      <th>8</th>\n",
       "      <td>0.489403</td>\n",
       "      <td>0.754290</td>\n",
       "      <td>Changed2</td>\n",
       "      <td>Changed2</td>\n",
       "      <td>0.0578677</td>\n",
       "    </tr>\n",
       "    <tr>\n",
       "      <th>9</th>\n",
       "      <td>0.100635</td>\n",
       "      <td>0.258108</td>\n",
       "      <td>Changed2</td>\n",
       "      <td>Changed2</td>\n",
       "      <td>0.310467</td>\n",
       "    </tr>\n",
       "    <tr>\n",
       "      <th>10</th>\n",
       "      <td>0.235390</td>\n",
       "      <td>0.255265</td>\n",
       "      <td>Changed2</td>\n",
       "      <td>Changed2</td>\n",
       "      <td>0.409891</td>\n",
       "    </tr>\n",
       "    <tr>\n",
       "      <th>11</th>\n",
       "      <td>0.561042</td>\n",
       "      <td>0.616604</td>\n",
       "      <td>Changed2</td>\n",
       "      <td>Changed2</td>\n",
       "      <td>0.634554</td>\n",
       "    </tr>\n",
       "    <tr>\n",
       "      <th>12</th>\n",
       "      <td>0.177142</td>\n",
       "      <td>0.919144</td>\n",
       "      <td>Changed2</td>\n",
       "      <td>Changed2</td>\n",
       "      <td>0.0245229</td>\n",
       "    </tr>\n",
       "    <tr>\n",
       "      <th>13</th>\n",
       "      <td>0.704231</td>\n",
       "      <td>0.967177</td>\n",
       "      <td>Changed2</td>\n",
       "      <td>Changed2</td>\n",
       "      <td>0.774059</td>\n",
       "    </tr>\n",
       "    <tr>\n",
       "      <th>14</th>\n",
       "      <td>0.787606</td>\n",
       "      <td>0.698158</td>\n",
       "      <td>Changed2</td>\n",
       "      <td>Changed2</td>\n",
       "      <td>0.668186</td>\n",
       "    </tr>\n",
       "    <tr>\n",
       "      <th>15</th>\n",
       "      <td>0.811621</td>\n",
       "      <td>0.067987</td>\n",
       "      <td>Changed2</td>\n",
       "      <td>Changed2</td>\n",
       "      <td>0.193628</td>\n",
       "    </tr>\n",
       "    <tr>\n",
       "      <th>16</th>\n",
       "      <td>0.982644</td>\n",
       "      <td>0.078248</td>\n",
       "      <td>Changed2</td>\n",
       "      <td>Changed2</td>\n",
       "      <td>0.00627848</td>\n",
       "    </tr>\n",
       "    <tr>\n",
       "      <th>17</th>\n",
       "      <td>0.676206</td>\n",
       "      <td>0.066580</td>\n",
       "      <td>Changed2</td>\n",
       "      <td>Changed2</td>\n",
       "      <td>0.847597</td>\n",
       "    </tr>\n",
       "    <tr>\n",
       "      <th>18</th>\n",
       "      <td>0.453984</td>\n",
       "      <td>0.526409</td>\n",
       "      <td>Changed2</td>\n",
       "      <td>Changed2</td>\n",
       "      <td>0.000829548</td>\n",
       "    </tr>\n",
       "    <tr>\n",
       "      <th>19</th>\n",
       "      <td>0.836777</td>\n",
       "      <td>0.784102</td>\n",
       "      <td>Changed2</td>\n",
       "      <td>Changed2</td>\n",
       "      <td>0.0166729</td>\n",
       "    </tr>\n",
       "    <tr>\n",
       "      <th>20</th>\n",
       "      <td>0.214547</td>\n",
       "      <td>0.659345</td>\n",
       "      <td>0.290778</td>\n",
       "      <td>0.106439</td>\n",
       "      <td>0.891963</td>\n",
       "    </tr>\n",
       "    <tr>\n",
       "      <th>21</th>\n",
       "      <td>0.301196</td>\n",
       "      <td>0.770712</td>\n",
       "      <td>0.824133</td>\n",
       "      <td>0.798651</td>\n",
       "      <td>0.670684</td>\n",
       "    </tr>\n",
       "    <tr>\n",
       "      <th>22</th>\n",
       "      <td>0.630884</td>\n",
       "      <td>0.401983</td>\n",
       "      <td>0.671414</td>\n",
       "      <td>0.930884</td>\n",
       "      <td>0.521387</td>\n",
       "    </tr>\n",
       "    <tr>\n",
       "      <th>23</th>\n",
       "      <td>0.532108</td>\n",
       "      <td>0.313128</td>\n",
       "      <td>0.00639341</td>\n",
       "      <td>0.972539</td>\n",
       "      <td>0.251626</td>\n",
       "    </tr>\n",
       "    <tr>\n",
       "      <th>24</th>\n",
       "      <td>0.479023</td>\n",
       "      <td>0.300551</td>\n",
       "      <td>0.925729</td>\n",
       "      <td>0.605016</td>\n",
       "      <td>0.785845</td>\n",
       "    </tr>\n",
       "  </tbody>\n",
       "</table>\n",
       "</div>"
      ],
      "text/plain": [
       "          X1        X2          X3        X4           X5\n",
       "0   0.360255  0.860208    0.310894  0.210855     0.366435\n",
       "1   0.265531  0.592843    0.459606  0.610412     0.854391\n",
       "2   0.862768  0.064806     0.94739  0.359989     0.103019\n",
       "3   0.996828  0.405544    Changed2  Changed2      Changed\n",
       "4   0.623951  0.643929    Changed2  Changed2     0.268549\n",
       "5   0.283158  0.456452    Changed2  Changed2     0.502361\n",
       "6   0.482873  0.218449    Changed2  Changed2      0.28079\n",
       "7   0.252569  0.916347    Changed2  Changed2     0.634281\n",
       "8   0.489403  0.754290    Changed2  Changed2    0.0578677\n",
       "9   0.100635  0.258108    Changed2  Changed2     0.310467\n",
       "10  0.235390  0.255265    Changed2  Changed2     0.409891\n",
       "11  0.561042  0.616604    Changed2  Changed2     0.634554\n",
       "12  0.177142  0.919144    Changed2  Changed2    0.0245229\n",
       "13  0.704231  0.967177    Changed2  Changed2     0.774059\n",
       "14  0.787606  0.698158    Changed2  Changed2     0.668186\n",
       "15  0.811621  0.067987    Changed2  Changed2     0.193628\n",
       "16  0.982644  0.078248    Changed2  Changed2   0.00627848\n",
       "17  0.676206  0.066580    Changed2  Changed2     0.847597\n",
       "18  0.453984  0.526409    Changed2  Changed2  0.000829548\n",
       "19  0.836777  0.784102    Changed2  Changed2    0.0166729\n",
       "20  0.214547  0.659345    0.290778  0.106439     0.891963\n",
       "21  0.301196  0.770712    0.824133  0.798651     0.670684\n",
       "22  0.630884  0.401983    0.671414  0.930884     0.521387\n",
       "23  0.532108  0.313128  0.00639341  0.972539     0.251626\n",
       "24  0.479023  0.300551    0.925729  0.605016     0.785845"
      ]
     },
     "execution_count": 26,
     "metadata": {},
     "output_type": "execute_result"
    }
   ],
   "source": [
    "df.iloc[3:20, 2:4] = 'Changed2'\n",
    "df.iloc[:25]"
   ]
  },
  {
   "cell_type": "code",
   "execution_count": null,
   "metadata": {},
   "outputs": [],
   "source": []
  }
 ],
 "metadata": {
  "kernelspec": {
   "display_name": "Python 3",
   "language": "python",
   "name": "python3"
  },
  "language_info": {
   "codemirror_mode": {
    "name": "ipython",
    "version": 3
   },
   "file_extension": ".py",
   "mimetype": "text/x-python",
   "name": "python",
   "nbconvert_exporter": "python",
   "pygments_lexer": "ipython3",
   "version": "3.8.5"
  }
 },
 "nbformat": 4,
 "nbformat_minor": 2
}

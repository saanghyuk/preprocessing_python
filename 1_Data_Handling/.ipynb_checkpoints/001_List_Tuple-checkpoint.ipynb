{
 "cells": [
  {
   "cell_type": "markdown",
   "metadata": {},
   "source": [
    "#### 개요"
   ]
  },
  {
   "cell_type": "code",
   "execution_count": 1,
   "metadata": {},
   "outputs": [
    {
     "name": "stdout",
     "output_type": "stream",
     "text": [
      "[1, 2, 3, 4, 5] ['a', 'b', 'c', 1, 2] [1, 2, [3, 4]]\n"
     ]
    }
   ],
   "source": [
    "# 리스트의 정의\n",
    "L1 = [1, 2, 3, 4, 5]\n",
    "L2 = ['a', 'b', 'c', 1, 2]\n",
    "L3 = [1, 2, [3, 4]]\n",
    "print(L1, L2, L3)"
   ]
  },
  {
   "cell_type": "code",
   "execution_count": 2,
   "metadata": {},
   "outputs": [
    {
     "data": {
      "text/plain": [
       "list"
      ]
     },
     "execution_count": 2,
     "metadata": {},
     "output_type": "execute_result"
    }
   ],
   "source": [
    "type(L1)"
   ]
  },
  {
   "cell_type": "code",
   "execution_count": 3,
   "metadata": {},
   "outputs": [
    {
     "name": "stdout",
     "output_type": "stream",
     "text": [
      "(1, 2, 3, 4, 5) ('a', 'b', 'c', 1, 2) (1, 2, (3, 4))\n"
     ]
    }
   ],
   "source": [
    "# 튜플의 정의\n",
    "T1 = (1, 2, 3, 4, 5)\n",
    "T2 = ('a', 'b', 'c', 1, 2)\n",
    "T3 = (1, 2, (3, 4))\n",
    "print(T1, T2, T3)"
   ]
  },
  {
   "cell_type": "code",
   "execution_count": 4,
   "metadata": {},
   "outputs": [
    {
     "data": {
      "text/plain": [
       "tuple"
      ]
     },
     "execution_count": 4,
     "metadata": {},
     "output_type": "execute_result"
    }
   ],
   "source": [
    "type(T1)"
   ]
  },
  {
   "cell_type": "code",
   "execution_count": 5,
   "metadata": {
    "scrolled": true
   },
   "outputs": [
    {
     "data": {
      "text/plain": [
       "(1, 2, 3)"
      ]
     },
     "execution_count": 5,
     "metadata": {},
     "output_type": "execute_result"
    }
   ],
   "source": [
    "1, 2, 3"
   ]
  },
  {
   "cell_type": "markdown",
   "metadata": {},
   "source": [
    "#### 리스트와 튜플의 공통점\n",
    "\n",
    "- Indexing, Slicing"
   ]
  },
  {
   "cell_type": "code",
   "execution_count": 6,
   "metadata": {
    "scrolled": true
   },
   "outputs": [
    {
     "name": "stdout",
     "output_type": "stream",
     "text": [
      "L[2] = 1\n",
      "L[4] = 10\n",
      "L[-1] = 6\n",
      "L[0:3] = [4, 5, 1]\n",
      "L[:3] = [4, 5, 1]\n",
      "L[2:] = [1, 2, 10, 6]\n",
      "L[0:4:2] = [4, 1]\n",
      "~~~~2, 4\n"
     ]
    }
   ],
   "source": [
    "# 인덱싱과 슬라이싱\n",
    "L = [4, 5, 1, 2, 10, 6]\n",
    "print(\"L[2] = {}\".format(L[2]))\n",
    "print(\"L[4] = {}\".format(L[4]))\n",
    "print(\"L[-1] = {}\".format(L[-1]))\n",
    "print(\"L[0:3] = {}\".format(L[0:3]))\n",
    "print(\"L[:3] = {}\".format(L[:3])) \n",
    "print(\"L[2:] = {}\".format(L[2:]))\n",
    "print(\"L[0:4:2] = {}\".format(L[0:4:2]))\n",
    "\n",
    "print(\"~~~~{}, {}\".format(2, 4))"
   ]
  },
  {
   "cell_type": "markdown",
   "metadata": {},
   "source": [
    "iterable"
   ]
  },
  {
   "cell_type": "code",
   "execution_count": 7,
   "metadata": {},
   "outputs": [
    {
     "name": "stdout",
     "output_type": "stream",
     "text": [
      "List 순회\n",
      "1\n",
      "4\n",
      "9\n",
      "16\n",
      "25\n",
      "\n",
      "Tuple 순회\n",
      "1\n",
      "4\n",
      "9\n",
      "16\n",
      "25\n"
     ]
    }
   ],
   "source": [
    "# for문을 이용한 순회\n",
    "L = [1, 2, 3, 4, 5]\n",
    "T = (1, 2, 3, 4, 5)\n",
    "\n",
    "print(\"List 순회\")\n",
    "for val in L:\n",
    "    print(val ** 2)\n",
    "\n",
    "print(\"\\nTuple 순회\")\n",
    "for val in T:\n",
    "    print(val ** 2)"
   ]
  },
  {
   "cell_type": "markdown",
   "metadata": {},
   "source": [
    "#### 리스트와 튜플의 차이점"
   ]
  },
  {
   "cell_type": "markdown",
   "metadata": {},
   "source": [
    "- 불변의 자료형(int, float, str 등)만 dict의 key로 사용할 수 있다. \n",
    "- 따라서 리스트는 사전의 key로 사용할 수 없지만, 튜플은 사전의 key로 사용 가능하다. "
   ]
  },
  {
   "cell_type": "code",
   "execution_count": 6,
   "metadata": {},
   "outputs": [
    {
     "name": "stdout",
     "output_type": "stream",
     "text": [
      "[1, 2, 3, 4, 5]\n",
      "[10, 2, 3, 4, 5]\n"
     ]
    }
   ],
   "source": [
    "# 리스트의 요소 변경\n",
    "L = [1, 2, 3, 4, 5]\n",
    "print(L)\n",
    "L[0] = 10\n",
    "print(L)"
   ]
  },
  {
   "cell_type": "code",
   "execution_count": 9,
   "metadata": {},
   "outputs": [
    {
     "ename": "TypeError",
     "evalue": "'tuple' object does not support item assignment",
     "output_type": "error",
     "traceback": [
      "\u001b[1;31m---------------------------------------------------------------------------\u001b[0m",
      "\u001b[1;31mTypeError\u001b[0m                                 Traceback (most recent call last)",
      "\u001b[1;32m<ipython-input-9-4efb75ddfec7>\u001b[0m in \u001b[0;36m<module>\u001b[1;34m()\u001b[0m\n\u001b[0;32m      1\u001b[0m \u001b[0mT\u001b[0m \u001b[1;33m=\u001b[0m \u001b[1;33m(\u001b[0m\u001b[1;36m1\u001b[0m\u001b[1;33m,\u001b[0m \u001b[1;36m2\u001b[0m\u001b[1;33m,\u001b[0m \u001b[1;36m3\u001b[0m\u001b[1;33m,\u001b[0m \u001b[1;36m4\u001b[0m\u001b[1;33m,\u001b[0m \u001b[1;36m5\u001b[0m\u001b[1;33m)\u001b[0m\u001b[1;33m\u001b[0m\u001b[0m\n\u001b[1;32m----> 2\u001b[1;33m \u001b[0mT\u001b[0m\u001b[1;33m[\u001b[0m\u001b[1;36m0\u001b[0m\u001b[1;33m]\u001b[0m \u001b[1;33m=\u001b[0m \u001b[1;36m10\u001b[0m\u001b[1;33m\u001b[0m\u001b[0m\n\u001b[0m",
      "\u001b[1;31mTypeError\u001b[0m: 'tuple' object does not support item assignment"
     ]
    }
   ],
   "source": [
    "T = (1, 2, 3, 4, 5)\n",
    "T[0] = 10\n",
    "\n",
    "# TypeError: 'tuple' object does not support item assignment"
   ]
  },
  {
   "cell_type": "code",
   "execution_count": 11,
   "metadata": {},
   "outputs": [],
   "source": [
    "# 순회 속도 비교하기\n",
    "large_L = list(range(100000))\n",
    "large_T = tuple(range(100000))"
   ]
  },
  {
   "cell_type": "code",
   "execution_count": 12,
   "metadata": {},
   "outputs": [
    {
     "data": {
      "text/plain": [
       "1632464929.936449"
      ]
     },
     "execution_count": 12,
     "metadata": {},
     "output_type": "execute_result"
    }
   ],
   "source": [
    "import time\n",
    "time.time()"
   ]
  },
  {
   "cell_type": "code",
   "execution_count": 13,
   "metadata": {},
   "outputs": [
    {
     "name": "stdout",
     "output_type": "stream",
     "text": [
      "0.0033478736877441406\n"
     ]
    }
   ],
   "source": [
    "# 리스트 순회 속도 측정\n",
    "import time\n",
    "start_time = time.time()\n",
    "for val1 in large_L:\n",
    "    pass\n",
    "end_time = time.time()\n",
    "print(end_time - start_time)"
   ]
  },
  {
   "cell_type": "code",
   "execution_count": 14,
   "metadata": {},
   "outputs": [
    {
     "name": "stdout",
     "output_type": "stream",
     "text": [
      "0.0057070255279541016\n"
     ]
    }
   ],
   "source": [
    "# 튜플 순회 속도 측정\n",
    "start_time = time.time()\n",
    "for val2 in large_T:\n",
    "    pass\n",
    "end_time = time.time()\n",
    "print(end_time - start_time)    "
   ]
  },
  {
   "cell_type": "markdown",
   "metadata": {},
   "source": [
    "#### 리스트 관련 함수"
   ]
  },
  {
   "cell_type": "markdown",
   "metadata": {},
   "source": [
    "- append : 새로운 요소를 맨 뒤에 추가 \n",
    "- insert : 특정 위치에 요소를 추가 insert(1, 7) 1 위치에 7 추가"
   ]
  },
  {
   "cell_type": "code",
   "execution_count": 40,
   "metadata": {},
   "outputs": [
    {
     "name": "stdout",
     "output_type": "stream",
     "text": [
      "[4, 5, 1, 2, 10, 15]\n"
     ]
    }
   ],
   "source": [
    "# 요소 추가 함수: append\n",
    "L1 = [4, 5, 1, 2, 10]\n",
    "L1.append(15)\n",
    "print(L1)"
   ]
  },
  {
   "cell_type": "code",
   "execution_count": 41,
   "metadata": {},
   "outputs": [
    {
     "name": "stdout",
     "output_type": "stream",
     "text": [
      "[4, 7, 5, 1, 2, 10]\n"
     ]
    }
   ],
   "source": [
    "# 요소 추가 함수: insert\n",
    "L2 = [4, 5, 1, 2, 10]\n",
    "L2.insert(1, 7)\n",
    "print(L2)"
   ]
  },
  {
   "cell_type": "markdown",
   "metadata": {},
   "source": [
    "- remove : 처음 만나는 요소 삭제\n",
    "- pop : 맨 마지막 요소 출력하면서 삭제. "
   ]
  },
  {
   "cell_type": "code",
   "execution_count": 42,
   "metadata": {},
   "outputs": [
    {
     "name": "stdout",
     "output_type": "stream",
     "text": [
      "[3, 2, 1, 4]\n"
     ]
    }
   ],
   "source": [
    "# 요소 제거 함수: remove\n",
    "L3 = [1, 3, 2, 1, 4]\n",
    "L3.remove(1)\n",
    "print(L3)"
   ]
  },
  {
   "cell_type": "code",
   "execution_count": 43,
   "metadata": {},
   "outputs": [
    {
     "ename": "ValueError",
     "evalue": "list.remove(x): x not in list",
     "output_type": "error",
     "traceback": [
      "\u001b[1;31m---------------------------------------------------------------------------\u001b[0m",
      "\u001b[1;31mValueError\u001b[0m                                Traceback (most recent call last)",
      "\u001b[1;32m<ipython-input-43-245dab4990d6>\u001b[0m in \u001b[0;36m<module>\u001b[1;34m()\u001b[0m\n\u001b[1;32m----> 1\u001b[1;33m \u001b[0mL3\u001b[0m\u001b[1;33m.\u001b[0m\u001b[0mremove\u001b[0m\u001b[1;33m(\u001b[0m\u001b[1;36m10\u001b[0m\u001b[1;33m)\u001b[0m\u001b[1;33m\u001b[0m\u001b[0m\n\u001b[0m",
      "\u001b[1;31mValueError\u001b[0m: list.remove(x): x not in list"
     ]
    }
   ],
   "source": [
    "L3.remove(10)"
   ]
  },
  {
   "cell_type": "code",
   "execution_count": 44,
   "metadata": {},
   "outputs": [
    {
     "name": "stdout",
     "output_type": "stream",
     "text": [
      "10\n",
      "[4, 5, 1, 2]\n"
     ]
    }
   ],
   "source": [
    "# 요소 제거 함수: pop\n",
    "L4 = [4, 5, 1, 2, 10]\n",
    "print(L4.pop())\n",
    "print(L4)"
   ]
  },
  {
   "cell_type": "markdown",
   "metadata": {},
   "source": [
    "- index : 위치 반환, 여러개 있으면 맨 앞에서 만나는 요소의 인덱스 반환"
   ]
  },
  {
   "cell_type": "code",
   "execution_count": 45,
   "metadata": {},
   "outputs": [
    {
     "name": "stdout",
     "output_type": "stream",
     "text": [
      "1의 위치:0\n",
      "3의 위치:1\n"
     ]
    },
    {
     "ename": "ValueError",
     "evalue": "5 is not in list",
     "output_type": "error",
     "traceback": [
      "\u001b[1;31m---------------------------------------------------------------------------\u001b[0m",
      "\u001b[1;31mValueError\u001b[0m                                Traceback (most recent call last)",
      "\u001b[1;32m<ipython-input-45-4287d93f8f68>\u001b[0m in \u001b[0;36m<module>\u001b[1;34m()\u001b[0m\n\u001b[0;32m      4\u001b[0m \u001b[0mprint\u001b[0m\u001b[1;33m(\u001b[0m\u001b[1;34m\"3의 위치:{}\"\u001b[0m\u001b[1;33m.\u001b[0m\u001b[0mformat\u001b[0m\u001b[1;33m(\u001b[0m\u001b[0mL5\u001b[0m\u001b[1;33m.\u001b[0m\u001b[0mindex\u001b[0m\u001b[1;33m(\u001b[0m\u001b[1;36m3\u001b[0m\u001b[1;33m)\u001b[0m\u001b[1;33m)\u001b[0m\u001b[1;33m)\u001b[0m\u001b[1;33m\u001b[0m\u001b[0m\n\u001b[0;32m      5\u001b[0m \u001b[1;33m\u001b[0m\u001b[0m\n\u001b[1;32m----> 6\u001b[1;33m \u001b[0mL5\u001b[0m\u001b[1;33m.\u001b[0m\u001b[0mindex\u001b[0m\u001b[1;33m(\u001b[0m\u001b[1;36m5\u001b[0m\u001b[1;33m)\u001b[0m \u001b[1;31m# 5의 위치: 없으므로 Error 발생 (5 is not in list)\u001b[0m\u001b[1;33m\u001b[0m\u001b[0m\n\u001b[0m",
      "\u001b[1;31mValueError\u001b[0m: 5 is not in list"
     ]
    }
   ],
   "source": [
    "# 위치 찾기 함수: index\n",
    "L5 = [1, 3, 2, 1, 4]\n",
    "print(\"1의 위치:{}\".format(L5.index(1)))\n",
    "print(\"3의 위치:{}\".format(L5.index(3)))\n",
    "\n",
    "L5.index(5) # 5의 위치: 없으므로 Error 발생 (5 is not in list)"
   ]
  },
  {
   "cell_type": "code",
   "execution_count": null,
   "metadata": {},
   "outputs": [],
   "source": []
  },
  {
   "cell_type": "markdown",
   "metadata": {},
   "source": [
    "- Extend List and Tuple"
   ]
  },
  {
   "cell_type": "code",
   "execution_count": 46,
   "metadata": {},
   "outputs": [
    {
     "name": "stdout",
     "output_type": "stream",
     "text": [
      "[1, 2, 3, 4, 5, 6]\n"
     ]
    }
   ],
   "source": [
    "L1 = [1, 2, 3]\n",
    "L2 = [4, 5, 6]\n",
    "print(L1 + L2)"
   ]
  },
  {
   "cell_type": "code",
   "execution_count": 47,
   "metadata": {},
   "outputs": [
    {
     "name": "stdout",
     "output_type": "stream",
     "text": [
      "(1, 2, 3, 4, 5, 6)\n"
     ]
    }
   ],
   "source": [
    "T1 = (1, 2, 3)\n",
    "T2 = (4, 5, 6)\n",
    "print(T1 + T2)"
   ]
  },
  {
   "cell_type": "markdown",
   "metadata": {},
   "source": [
    "#### 튜플 관련 함수"
   ]
  },
  {
   "cell_type": "code",
   "execution_count": 48,
   "metadata": {
    "scrolled": true
   },
   "outputs": [
    {
     "name": "stdout",
     "output_type": "stream",
     "text": [
      "(1, 2, 3, 4)\n"
     ]
    }
   ],
   "source": [
    "# 소괄호없이 튜플 만들기\n",
    "T = 1, 2, 3, 4\n",
    "print(T)"
   ]
  },
  {
   "cell_type": "code",
   "execution_count": 49,
   "metadata": {},
   "outputs": [
    {
     "name": "stdout",
     "output_type": "stream",
     "text": [
      "<class 'tuple'>\n"
     ]
    }
   ],
   "source": [
    "# 원소가 하나인 튜플은 반드시 원소 뒤에 쉼표를 붙여야 함\n",
    "T = 1, \n",
    "print(type(T))"
   ]
  },
  {
   "cell_type": "code",
   "execution_count": 50,
   "metadata": {},
   "outputs": [
    {
     "data": {
      "text/plain": [
       "(1,)"
      ]
     },
     "execution_count": 50,
     "metadata": {},
     "output_type": "execute_result"
    }
   ],
   "source": [
    "T"
   ]
  },
  {
   "cell_type": "code",
   "execution_count": 51,
   "metadata": {},
   "outputs": [
    {
     "name": "stdout",
     "output_type": "stream",
     "text": [
      "1 2\n",
      "2 1\n"
     ]
    }
   ],
   "source": [
    "# 튜플을 이용한 여러 값 동시에 입력받기 및 Swap\n",
    "a, b = 1, 2 # a = 1; b = 2\n",
    "print(a, b)\n",
    "b, a = a, b # Swap\n",
    "print(a, b)"
   ]
  },
  {
   "cell_type": "code",
   "execution_count": 52,
   "metadata": {},
   "outputs": [
    {
     "name": "stdout",
     "output_type": "stream",
     "text": [
      "입력된 데이터의 타입:<class 'tuple'>\n",
      "15 120\n"
     ]
    }
   ],
   "source": [
    "# 함수의 가변 인자로 사용\n",
    "def f(*x): # *: 인자수가 정해지지 않았음을 의미\n",
    "    print(\"입력된 데이터의 타입:{}\".format(type(x)))\n",
    "    sum_x = 0\n",
    "    product_x = 1\n",
    "    for val in x:\n",
    "        sum_x += val\n",
    "        product_x *= val\n",
    "    return sum_x, product_x\n",
    "        \n",
    "S, P = f(1, 2, 3, 4, 5) # 출력을 각각 S와 P로 받음\n",
    "print(S, P)"
   ]
  }
 ],
 "metadata": {
  "kernelspec": {
   "display_name": "Python 3",
   "language": "python",
   "name": "python3"
  },
  "language_info": {
   "codemirror_mode": {
    "name": "ipython",
    "version": 3
   },
   "file_extension": ".py",
   "mimetype": "text/x-python",
   "name": "python",
   "nbconvert_exporter": "python",
   "pygments_lexer": "ipython3",
   "version": "3.8.5"
  }
 },
 "nbformat": 4,
 "nbformat_minor": 2
}
